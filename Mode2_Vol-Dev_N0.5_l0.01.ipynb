{
 "cells": [
  {
   "cell_type": "code",
   "execution_count": 1,
   "id": "ab7198fc",
   "metadata": {},
   "outputs": [],
   "source": [
    "using Gmsh: gmsh\n",
    "using Gridap\n",
    "using GridapGmsh\n",
    "using Gridap.TensorValues\n",
    "using PyPlot\n",
    "using LinearAlgebra"
   ]
  },
  {
   "cell_type": "code",
   "execution_count": 2,
   "id": "ed672b17",
   "metadata": {},
   "outputs": [
    {
     "data": {
      "text/plain": [
       "SymFourthOrderTensorValue{2, Float64, 9}(0.5, 0.0, -0.5, 0.0, 0.5, 0.0, -0.5, 0.0, 0.5)"
      ]
     },
     "execution_count": 2,
     "metadata": {},
     "output_type": "execute_result"
    }
   ],
   "source": [
    "I2 = SymTensorValue{2,Float64}(1.0 ,0.0 ,1.0)\n",
    "I4 = I2⊗I2\n",
    "I4_sym = one(SymFourthOrderTensorValue{2,Float64})\n",
    "I4_vol = (1.0/2)*I4\n",
    "I4_dev = I4_sym  - I4_vol"
   ]
  },
  {
   "cell_type": "code",
   "execution_count": 3,
   "id": "interim-caution",
   "metadata": {
    "scrolled": true
   },
   "outputs": [
    {
     "name": "stdout",
     "output_type": "stream",
     "text": [
      "Info    : Meshing 1D...\n",
      "Info    : [  0%] Meshing curve 1 (Line)\n",
      "Info    : [ 10%] Meshing curve 2 (Line)\n",
      "Info    : [ 20%] Meshing curve 3 (Line)\n",
      "Info    : [ 30%] Meshing curve 4 (Line)\n",
      "Info    : [ 40%] Meshing curve 5 (Line)\n",
      "Info    : [ 50%] Meshing curve 6 (Line)\n",
      "Info    : [ 60%] Meshing curve 7 (Line)\n",
      "Info    : [ 70%] Meshing curve 8 (Line)\n",
      "Info    : [ 80%] Meshing curve 11 (Line)\n",
      "Info    : [ 90%] Meshing curve 151 (Line)\n",
      "Info    : Done meshing 1D (Wall 0.00949224s, CPU 0.009058s)\n",
      "Info    : Meshing 2D...\n",
      "Info    : Meshing surface 1 (Plane, Frontal-Delaunay)\n",
      "Info    : Done meshing 2D (Wall 2.25217s, CPU 2.23147s)\n",
      "Info    : 59042 nodes 117859 elements\n",
      "Info    : Writing 'SquarePlateWithEdgeNotch.msh'...\n",
      "Info    : Done writing 'SquarePlateWithEdgeNotch.msh'\n"
     ]
    },
    {
     "name": "stderr",
     "output_type": "stream",
     "text": [
      "Warning : Unknown entity of dimension 2 and tag 1 in physical group 1\n",
      "Warning : Unknown entity of dimension 1 and tag 1 in physical group 1\n",
      "Warning : Unknown entity of dimension 1 and tag 11 in physical group 1\n",
      "Warning : Unknown entity of dimension 1 and tag 3 in physical group 2\n"
     ]
    }
   ],
   "source": [
    "const L = 1\n",
    "const H = 1\n",
    "const lsp = L/200\n",
    "const CP = H/2\n",
    "const CL = 0.5*L \n",
    "const CH = H/2000\n",
    "const hfc = lsp/2.1\n",
    "const hf = lsp/2\n",
    "const h = 50*hf \n",
    "const FMR = 6*lsp\n",
    " \n",
    "gmsh.initialize()\n",
    "gmsh.option.setNumber(\"General.Terminal\", 1)\n",
    "gmsh.model.geo.addPoint(0.0, 0.0, 0.0, h, 1)\n",
    "gmsh.model.geo.addPoint(0.8*L, 0.0, 0.0, h, 11)\n",
    "gmsh.model.geo.addPoint(L, 0.0, 0.0, h, 2) \n",
    "gmsh.model.geo.addPoint(L, H, 0.0, h, 3) \n",
    "gmsh.model.geo.addPoint(0.0, H, 0.0, h, 4)\n",
    "gmsh.model.geo.addPoint(0.0, CP + CH, 0.0, h, 5)\n",
    "gmsh.model.geo.addPoint(CL, CP + CH, 0.0, hfc, 6)\n",
    "gmsh.model.geo.addPoint(CL, CP - CH, 0.0, hfc, 7)\n",
    "gmsh.model.geo.addPoint(0.0, CP - CH, 0.0, h, 8)\n",
    "\n",
    "gmsh.model.geo.addLine(1, 11, 1)\n",
    "gmsh.model.geo.addLine(11, 2, 11)\n",
    "gmsh.model.geo.addLine(2, 3, 2)\n",
    "gmsh.model.geo.addLine(3, 4, 3)\n",
    "gmsh.model.geo.addLine(4, 5, 4)\n",
    "gmsh.model.geo.addLine(5, 6, 5)\n",
    "gmsh.model.geo.addLine(6, 7, 6)\n",
    "gmsh.model.geo.addLine(7, 8, 7)\n",
    "gmsh.model.geo.addLine(8, 1, 8)\n",
    "gmsh.model.geo.addLine(7, 11, 151)\n",
    "gmsh.model.geo.addCurveLoop([1,11,2,3,4,5,6,7,8],1) \n",
    "gmsh.model.geo.addPlaneSurface([1], 1)\n",
    "gmsh.model.addPhysicalGroup(2, [1],1)\n",
    "gmsh.model.addPhysicalGroup(1, [1,11],1)\n",
    "gmsh.model.addPhysicalGroup(1, [3],2)\n",
    "gmsh.model.setPhysicalName(2, 1, \"Domain\")\n",
    "gmsh.model.setPhysicalName(1, 1, \"BottomEdge\")\n",
    "gmsh.model.setPhysicalName(1, 2, \"TopEdge\")\n",
    "\n",
    "\n",
    "gmsh.model.mesh.field.add(\"Distance\", 1)\n",
    "gmsh.model.mesh.field.setNumbers(1, \"EdgesList\", [151])\n",
    "\n",
    "gmsh.model.mesh.field.add(\"Threshold\", 2)\n",
    "gmsh.model.mesh.field.setNumber(2, \"IField\", 1)\n",
    "gmsh.model.mesh.field.setNumber(2, \"LcMin\", hf)\n",
    "gmsh.model.mesh.field.setNumber(2, \"LcMax\", h)\n",
    "gmsh.model.mesh.field.setNumber(2, \"DistMin\", 0.22*L)\n",
    "gmsh.model.mesh.field.setNumber(2, \"DistMax\", 0.3*L)\n",
    "\n",
    "gmsh.model.mesh.field.setAsBackgroundMesh(2)\n",
    "\n",
    "gmsh.model.geo.synchronize()\n",
    "gmsh.model.mesh.generate(2)\n",
    "cd(\"Mesh_N0.5_l0.01\")\n",
    "gmsh.write(\"SquarePlateWithEdgeNotch.msh\")\n",
    "gmsh.finalize()"
   ]
  },
  {
   "cell_type": "code",
   "execution_count": 4,
   "id": "1746091a",
   "metadata": {},
   "outputs": [
    {
     "name": "stdout",
     "output_type": "stream",
     "text": [
      "Info    : Reading 'SquarePlateWithEdgeNotch.msh'...\n",
      "Info    : 20 entities\n",
      "Info    : 58809 nodes\n",
      "Info    : 117383 elements\n",
      "Info    : [ 10%] Reading elements                                          \r",
      "Info    : [ 20%] Reading elements                                          \r",
      "Info    : [ 30%] Reading elements                                          \r",
      "Info    : [ 40%] Reading elements                                          \r",
      "Info    : [ 50%] Reading elements                                          \r",
      "Info    : [ 60%] Reading elements                                          \r",
      "Info    : [ 70%] Reading elements                                          \r",
      "Info    : [ 80%] Reading elements                                          \r",
      "Info    : [ 90%] Reading elements                                          \r",
      "Info    : [100%] Reading elements                                          \r",
      "                                          \r",
      "Info    : Done reading 'SquarePlateWithEdgeNotch.msh'\n"
     ]
    },
    {
     "data": {
      "text/plain": [
       "3-element Vector{Vector{String}}:\n",
       " [\"SquarePlateWithEdgeNotch_0.vtu\"]\n",
       " [\"SquarePlateWithEdgeNotch_1.vtu\"]\n",
       " [\"SquarePlateWithEdgeNotch_2.vtu\"]"
      ]
     },
     "execution_count": 4,
     "metadata": {},
     "output_type": "execute_result"
    }
   ],
   "source": [
    "model = GmshDiscreteModel(\"SquarePlateWithEdgeNotch.msh\")\n",
    "writevtk(model,\"SquarePlateWithEdgeNotch\")"
   ]
  },
  {
   "cell_type": "code",
   "execution_count": 5,
   "id": "41326f7b",
   "metadata": {},
   "outputs": [
    {
     "data": {
      "text/plain": [
       "117181-element Vector{Int8}:\n",
       " 3\n",
       " 3\n",
       " 3\n",
       " 3\n",
       " 3\n",
       " 3\n",
       " 3\n",
       " 3\n",
       " 3\n",
       " 3\n",
       " 3\n",
       " 3\n",
       " 3\n",
       " ⋮\n",
       " 3\n",
       " 3\n",
       " 3\n",
       " 3\n",
       " 3\n",
       " 3\n",
       " 3\n",
       " 3\n",
       " 3\n",
       " 3\n",
       " 3\n",
       " 3"
      ]
     },
     "execution_count": 5,
     "metadata": {},
     "output_type": "execute_result"
    }
   ],
   "source": [
    "using Gridap.Geometry\n",
    "labels = get_face_labeling(model)\n",
    "dimension = 2\n",
    "mat_tags = get_face_tag(labels,dimension)"
   ]
  },
  {
   "cell_type": "code",
   "execution_count": 6,
   "id": "6e1500bb",
   "metadata": {},
   "outputs": [
    {
     "data": {
      "text/plain": [
       "1.0e-15"
      ]
     },
     "execution_count": 6,
     "metadata": {},
     "output_type": "execute_result"
    }
   ],
   "source": [
    "const E = 210e3\n",
    "const ν = 0.3\n",
    "G = E/(2*(1+ν))\n",
    "l = 0.01\n",
    "N = 0.5\n",
    "Gc = 2.7\n",
    "\n",
    "const η = 1e-15"
   ]
  },
  {
   "cell_type": "code",
   "execution_count": 7,
   "id": "5bf828a6",
   "metadata": {},
   "outputs": [
    {
     "name": "stdout",
     "output_type": "stream",
     "text": [
      "μ = 53846.1538461538 = 53846.1538461538\n",
      "κ = 53846.1538461538 = 53846.1538461538\n",
      "λ = 121153.84615384605 = 121153.84615384605\n",
      "γ = 32.30769230769228 = 32.30769230769228\n"
     ]
    },
    {
     "data": {
      "text/plain": [
       "32.30769230769228"
      ]
     },
     "execution_count": 7,
     "metadata": {},
     "output_type": "execute_result"
    }
   ],
   "source": [
    "@show μ = 53846.1538461538\n",
    "@show κ = 53846.1538461538\n",
    "@show λ = 121153.84615384605\n",
    "@show γ = 32.30769230769228"
   ]
  },
  {
   "cell_type": "code",
   "execution_count": 8,
   "id": "dental-mouse",
   "metadata": {},
   "outputs": [
    {
     "data": {
      "text/plain": [
       "σ_Bmod (generic function with 1 method)"
      ]
     },
     "execution_count": 8,
     "metadata": {},
     "output_type": "execute_result"
    }
   ],
   "source": [
    "function σ_Bmod(ε, ε_in, s_in)\n",
    "    if tr(ε_in) >= 0\n",
    "        σM = (s_in^2 + η)*((λ + ((2*μ + κ)/2))*tr(ε)*one(ε) + (2*μ + κ)*(I4_dev ⊙ ε))\n",
    "    else\n",
    "        σM = (s_in^2 + η)*((2*μ + κ)*(I4_dev ⊙ ε)) + (λ + ((2*μ + κ)/2))*tr(ε)*one(ε)\n",
    "    end\n",
    "    return σM\n",
    "end"
   ]
  },
  {
   "cell_type": "code",
   "execution_count": 9,
   "id": "5d043cc5",
   "metadata": {},
   "outputs": [
    {
     "data": {
      "text/plain": [
       "TensorValue{2, 2, Int64, 4}(0, 1, -1, 0)"
      ]
     },
     "execution_count": 9,
     "metadata": {},
     "output_type": "execute_result"
    }
   ],
   "source": [
    "E_Matrx = TensorValue(0,1,-1,0)"
   ]
  },
  {
   "cell_type": "code",
   "execution_count": 10,
   "id": "23d6f38a",
   "metadata": {},
   "outputs": [
    {
     "data": {
      "text/plain": [
       "ε_Skw (generic function with 1 method)"
      ]
     },
     "execution_count": 10,
     "metadata": {},
     "output_type": "execute_result"
    }
   ],
   "source": [
    "function ε_Skw(∇,θ)\n",
    "    ∇ᵀ = transpose(∇)\n",
    "    w = (0.5*(∇ᵀ - ∇)) - (E_Matrx*θ)\n",
    "    return w\n",
    "end"
   ]
  },
  {
   "cell_type": "code",
   "execution_count": 11,
   "id": "b7ab7a3c",
   "metadata": {},
   "outputs": [
    {
     "data": {
      "text/plain": [
       "σ_Cmod (generic function with 1 method)"
      ]
     },
     "execution_count": 11,
     "metadata": {},
     "output_type": "execute_result"
    }
   ],
   "source": [
    "function σ_Cmod(ϵ_skew, s_in)\n",
    "    σM = (s_in^2 + η)*(κ*ϵ_skew)\n",
    "    return σM\n",
    "end"
   ]
  },
  {
   "cell_type": "code",
   "execution_count": 12,
   "id": "9fb6f0fe",
   "metadata": {},
   "outputs": [
    {
     "data": {
      "text/plain": [
       "M_mod (generic function with 1 method)"
      ]
     },
     "execution_count": 12,
     "metadata": {},
     "output_type": "execute_result"
    }
   ],
   "source": [
    "function M_mod(∇, s_in)\n",
    "    M = (s_in^2 + η)*(γ*∇)\n",
    "    return M\n",
    "end"
   ]
  },
  {
   "cell_type": "code",
   "execution_count": 13,
   "id": "f2202328",
   "metadata": {},
   "outputs": [
    {
     "data": {
      "text/plain": [
       "ψPos (generic function with 1 method)"
      ]
     },
     "execution_count": 13,
     "metadata": {},
     "output_type": "execute_result"
    }
   ],
   "source": [
    "function ψPos(ε_in,∇_uh,θ, ∇_th)\n",
    "    ∇_uhᵀ = transpose(∇_uh)\n",
    "    ϵ_skew = 0.5*(∇_uhᵀ - ∇_uh) - E_Matrx*θ\n",
    "    if tr(ε_in) >= 0\n",
    "        ψPos = 0.5*((λ + ((2*μ + κ)/2))*(tr(ε_in))^2 + (2*μ+κ)*((I4_dev ⊙ ε_in) ⊙ (I4_dev ⊙ ε_in))) + 0.5*(κ*(ϵ_skew ⊙ ϵ_skew)) + 0.5*γ*(∇_th ⋅ ∇_th)\n",
    "    else\n",
    "        ψPos = 0.5*((2*μ+κ)*((I4_dev ⊙ ε_in) ⊙ (I4_dev ⊙ ε_in))) + 0.5*(κ*(ϵ_skew ⊙ ϵ_skew)) + 0.5*γ*(∇_th ⋅ ∇_th)\n",
    "    end\n",
    "    return ψPos \n",
    "end"
   ]
  },
  {
   "cell_type": "code",
   "execution_count": 14,
   "id": "287e07c3",
   "metadata": {},
   "outputs": [
    {
     "data": {
      "text/plain": [
       "ψRot (generic function with 1 method)"
      ]
     },
     "execution_count": 14,
     "metadata": {},
     "output_type": "execute_result"
    }
   ],
   "source": [
    "function ψCoupRot(ε_in,∇_uh,θ, ∇_th)\n",
    "    ∇_uhᵀ = transpose(∇_uh)\n",
    "    ϵ_skew = 0.5*(∇_uhᵀ - ∇_uh) - E_Matrx*θ\n",
    "    if tr(ε_in) >= 0\n",
    "        ψPos = 0.5*(κ*(ϵ_skew ⊙ ϵ_skew)) + 0.5*γ*(∇_th ⋅ ∇_th)\n",
    "    else\n",
    "        ψPos = 0.5*(κ*(ϵ_skew ⊙ ϵ_skew)) + 0.5*γ*(∇_th ⋅ ∇_th)\n",
    "    end\n",
    "    return ψPos \n",
    "end\n",
    "\n",
    "function ψCoup(ε_in,∇_uh,θ, ∇_th)\n",
    "    ∇_uhᵀ = transpose(∇_uh)\n",
    "    ϵ_skew = 0.5*(∇_uhᵀ - ∇_uh) - E_Matrx*θ\n",
    "    if tr(ε_in) >= 0\n",
    "        ψPos = 0.5*(κ*(ϵ_skew ⊙ ϵ_skew))\n",
    "    else\n",
    "        ψPos = 0.5*(κ*(ϵ_skew ⊙ ϵ_skew))\n",
    "    end\n",
    "    return ψPos \n",
    "end\n",
    "\n",
    "function ψRot(ε_in,∇_uh,θ, ∇_th)\n",
    "    ∇_uhᵀ = transpose(∇_uh)\n",
    "    ϵ_skew = 0.5*(∇_uhᵀ - ∇_uh) - E_Matrx*θ\n",
    "    if tr(ε_in) >= 0\n",
    "        ψPos = 0.5*γ*(∇_th ⋅ ∇_th)\n",
    "    else\n",
    "        ψPos = 0.5*γ*(∇_th ⋅ ∇_th)\n",
    "    end\n",
    "    return ψPos \n",
    "end"
   ]
  },
  {
   "cell_type": "code",
   "execution_count": 15,
   "id": "local-freeware",
   "metadata": {},
   "outputs": [
    {
     "data": {
      "text/plain": [
       "new_EnergyState (generic function with 1 method)"
      ]
     },
     "execution_count": 15,
     "metadata": {},
     "output_type": "execute_result"
    }
   ],
   "source": [
    "function new_EnergyState(ψPlusPrev_in,ψhPos_in)\n",
    "    ψPlus_in = ψhPos_in\n",
    "    if ψPlus_in >= ψPlusPrev_in\n",
    "        ψPlus_out = ψPlus_in\n",
    "    else\n",
    "        ψPlus_out = ψPlusPrev_in\n",
    "    end\n",
    "    true,ψPlus_out\n",
    "end"
   ]
  },
  {
   "cell_type": "code",
   "execution_count": 16,
   "id": "3bf5a3ce",
   "metadata": {},
   "outputs": [
    {
     "data": {
      "text/plain": [
       "project (generic function with 1 method)"
      ]
     },
     "execution_count": 16,
     "metadata": {},
     "output_type": "execute_result"
    }
   ],
   "source": [
    "function project(q,model,dΩ,order)\n",
    "  reffe = ReferenceFE(lagrangian,Float64,order)\n",
    "  V = FESpace(model,reffe,conformity=:L2)\n",
    "  a(u,v) = ∫( u*v )*dΩ\n",
    "  l(v) = ∫( v*q )*dΩ\n",
    "  op = AffineFEOperator(a,l,V,V)\n",
    "  qh = solve(op)\n",
    "  qh\n",
    "end"
   ]
  },
  {
   "cell_type": "code",
   "execution_count": 17,
   "id": "3f46de93",
   "metadata": {},
   "outputs": [
    {
     "data": {
      "text/plain": [
       "2"
      ]
     },
     "execution_count": 17,
     "metadata": {},
     "output_type": "execute_result"
    }
   ],
   "source": [
    "order = 1\n",
    "degree = 2*order"
   ]
  },
  {
   "cell_type": "code",
   "execution_count": 18,
   "id": "86f3f2bf",
   "metadata": {},
   "outputs": [
    {
     "data": {
      "text/plain": [
       "Measure()"
      ]
     },
     "execution_count": 18,
     "metadata": {},
     "output_type": "execute_result"
    }
   ],
   "source": [
    "Ω = Triangulation(model)\n",
    "dΩ = Measure(Ω,degree)"
   ]
  },
  {
   "cell_type": "code",
   "execution_count": 19,
   "id": "absolute-workplace",
   "metadata": {},
   "outputs": [
    {
     "data": {
      "text/plain": [
       "SingleFieldFEFunction():\n",
       " num_cells: 117181\n",
       " DomainStyle: ReferenceDomain()\n",
       " Triangulation: BodyFittedTriangulation()\n",
       " Triangulation id: 13899291203633821289"
      ]
     },
     "execution_count": 19,
     "metadata": {},
     "output_type": "execute_result"
    }
   ],
   "source": [
    "sId = CellState(1.0,dΩ)\n",
    "shId = project(sId,model,dΩ,order)"
   ]
  },
  {
   "cell_type": "code",
   "execution_count": 20,
   "id": "700af0f9",
   "metadata": {},
   "outputs": [
    {
     "data": {
      "text/plain": [
       "GenericCellField():\n",
       " num_cells: 8\n",
       " DomainStyle: ReferenceDomain()\n",
       " Triangulation: BoundaryTriangulation()\n",
       " Triangulation id: 16818359909260647234"
      ]
     },
     "execution_count": 20,
     "metadata": {},
     "output_type": "execute_result"
    }
   ],
   "source": [
    "LoadTagId = get_tag_from_name(labels,\"TopEdge\")\n",
    "Γ_Load = BoundaryTriangulation(model,tags = LoadTagId)\n",
    "dΓ_Load = Measure(Γ_Load,degree)\n",
    "n_Γ_Load = get_normal_vector(Γ_Load)"
   ]
  },
  {
   "cell_type": "code",
   "execution_count": 21,
   "id": "950f5dcd",
   "metadata": {},
   "outputs": [
    {
     "data": {
      "text/plain": [
       "SingleFieldFEFunction():\n",
       " num_cells: 117181\n",
       " DomainStyle: ReferenceDomain()\n",
       " Triangulation: BodyFittedTriangulation()\n",
       " Triangulation id: 13899291203633821289"
      ]
     },
     "execution_count": 21,
     "metadata": {},
     "output_type": "execute_result"
    }
   ],
   "source": [
    "reffe_PF = ReferenceFE(lagrangian,Float64,order)\n",
    "V0_PF = TestFESpace(model,reffe_PF;conformity=:H1)\n",
    "sh = zero(V0_PF)"
   ]
  },
  {
   "cell_type": "code",
   "execution_count": 22,
   "id": "14340b87",
   "metadata": {},
   "outputs": [
    {
     "data": {
      "text/plain": [
       "SingleFieldFEFunction():\n",
       " num_cells: 117181\n",
       " DomainStyle: ReferenceDomain()\n",
       " Triangulation: BodyFittedTriangulation()\n",
       " Triangulation id: 13899291203633821289"
      ]
     },
     "execution_count": 22,
     "metadata": {},
     "output_type": "execute_result"
    }
   ],
   "source": [
    "reffe_theta = ReferenceFE(lagrangian,Float64,order)\n",
    "V0_theta  = TestFESpace(model,reffe_theta;\n",
    "  conformity=:H1)\n",
    "θh = zero(V0_theta)"
   ]
  },
  {
   "cell_type": "code",
   "execution_count": 23,
   "id": "1942f3e1",
   "metadata": {},
   "outputs": [
    {
     "data": {
      "text/plain": [
       "SingleFieldFEFunction():\n",
       " num_cells: 117181\n",
       " DomainStyle: ReferenceDomain()\n",
       " Triangulation: BodyFittedTriangulation()\n",
       " Triangulation id: 13899291203633821289"
      ]
     },
     "execution_count": 23,
     "metadata": {},
     "output_type": "execute_result"
    }
   ],
   "source": [
    "reffe_Disp = ReferenceFE(lagrangian,VectorValue{2,Float64},order)\n",
    "        V0_Disp = TestFESpace(model,reffe_Disp;\n",
    "          conformity=:H1,\n",
    "          dirichlet_tags=[\"BottomEdge\",\"TopEdge\"],\n",
    "          dirichlet_masks=[(true,true), (true,true)])\n",
    "\n",
    "uh = zero(V0_Disp)"
   ]
  },
  {
   "cell_type": "code",
   "execution_count": 24,
   "id": "e2183bf7",
   "metadata": {},
   "outputs": [
    {
     "data": {
      "text/plain": [
       "MultiFieldFESpace()"
      ]
     },
     "execution_count": 24,
     "metadata": {},
     "output_type": "execute_result"
    }
   ],
   "source": [
    "V0 = MultiFieldFESpace([V0_Disp,V0_theta])"
   ]
  },
  {
   "cell_type": "code",
   "execution_count": 25,
   "id": "3e5674ef",
   "metadata": {},
   "outputs": [
    {
     "data": {
      "text/plain": [
       "stepPhaseField (generic function with 1 method)"
      ]
     },
     "execution_count": 25,
     "metadata": {},
     "output_type": "execute_result"
    }
   ],
   "source": [
    "function  stepPhaseField(uh_in,ψPlusPrev_in)\n",
    "    U_PF = TrialFESpace(V0_PF)\n",
    "        a_PF(s,ϕ) = ∫( (Gc*lsp*∇(ϕ)⋅ ∇(s)) + (2*ψPlusPrev_in*s*ϕ)  + ((Gc/lsp)*s*ϕ) )*dΩ\n",
    "        b_PF(ϕ) = ∫( (Gc/lsp)*ϕ )*dΩ\n",
    "        op_PF = AffineFEOperator(a_PF,b_PF,U_PF,V0_PF)\n",
    "        sh_out = solve(op_PF)\n",
    "    return sh_out\n",
    "end"
   ]
  },
  {
   "cell_type": "code",
   "execution_count": 26,
   "id": "6abcaf52",
   "metadata": {},
   "outputs": [
    {
     "data": {
      "text/plain": [
       "Skw (generic function with 1 method)"
      ]
     },
     "execution_count": 26,
     "metadata": {},
     "output_type": "execute_result"
    }
   ],
   "source": [
    "function Skw(u,θ)\n",
    "    ∇ᵀ = transpose(∇(u))\n",
    "    w = (0.5*(∇ᵀ) - (E_Matrx*θ))\n",
    "    return w\n",
    "end"
   ]
  },
  {
   "cell_type": "code",
   "execution_count": 27,
   "id": "31c68ad6",
   "metadata": {},
   "outputs": [
    {
     "data": {
      "text/plain": [
       "stepDisp (generic function with 1 method)"
      ]
     },
     "execution_count": 27,
     "metadata": {},
     "output_type": "execute_result"
    }
   ],
   "source": [
    "function   stepDisp(uh_in,θ_in,sh_in,uApp)\n",
    "        uApp1(x) = VectorValue(0.0,0.0)\n",
    "        uApp2(x) = VectorValue(uApp,0.0)\n",
    "        U_Disp = TrialFESpace(V0_Disp,[uApp1,uApp2])\n",
    "        \n",
    "        U_theta = TrialFESpace(V0_theta)\n",
    "        U = MultiFieldFESpace([U_Disp,U_theta])\n",
    "\n",
    "        a((u,θ),(w,v))  = ∫( (ε(w) ⊙ (σ_Bmod∘(ε(u),ε(uh_in),sh_in)) ) + ((Skw(w,v)) ⊙ (σ_Cmod∘(ε_Skw∘(∇(u),θ), sh_in)) ) + ((∇(v))⋅ (M_mod∘(∇(θ),sh_in))) - (v*((E_Matrx) ⊙ (σ_Cmod∘(ε_Skw∘(∇(u),θ),sh_in))) ))*dΩ\n",
    "        b((w,v))= 0\n",
    "        op_Disp = AffineFEOperator(a,b,U,V0)\n",
    "        uh_out = solve(op_Disp)\n",
    "        uh_out,phih_out = uh_out\n",
    "    return uh_out, phih_out\n",
    "end"
   ]
  },
  {
   "cell_type": "code",
   "execution_count": 28,
   "id": "daa36b2f",
   "metadata": {},
   "outputs": [],
   "source": [
    "cd(\"../Results_N0.5_l0.01\")"
   ]
  },
  {
   "cell_type": "code",
   "execution_count": 29,
   "id": "8a4b863f",
   "metadata": {},
   "outputs": [
    {
     "name": "stdout",
     "output_type": "stream",
     "text": [
      "\n",
      " Entering displacemtent step1 :0.0006\n",
      " Relative error = 7.112629804256833e-17\n",
      " Entering displacemtent step2 :0.0012\n",
      " Relative error = 2.522450300073132e-5\n",
      " Relative error = 7.566882273660555e-5\n",
      " Relative error = 2.0661183494104915e-8\n",
      " Relative error = 1.1634391374854214e-10\n",
      " Entering displacemtent step3 :0.0018\n",
      " Relative error = 8.943867838769933e-13\n",
      " Entering displacemtent step4 :0.0024\n",
      " Relative error = 0.00012607198532855362\n",
      " Relative error = 0.00017647991320968805\n",
      " Relative error = 1.951296404411038e-7\n",
      " Relative error = 4.457964743083056e-9\n",
      " Entering displacemtent step5 :0.0029999999999999996\n",
      " Relative error = 1.38866004618368e-10\n",
      " Entering displacemtent step6 :0.0035999999999999995\n",
      " Relative error = 0.0002266125138073811\n",
      " Relative error = 0.00027707463340639486\n",
      " Relative error = 7.100209279645365e-7\n",
      " Relative error = 3.751499747377701e-8\n",
      " Relative error = 2.6903796125253556e-9\n",
      " Entering displacemtent step7 :0.0042\n",
      " Relative error = 2.0547198746668466e-10\n",
      " Entering displacemtent step8 :0.0048\n",
      " Relative error = 0.00032649211464943996\n",
      " Relative error = 0.0003773068535689821\n",
      " Relative error = 1.8034440235816013e-6\n",
      " Relative error = 1.764239673094507e-7\n",
      " Relative error = 2.327453993331607e-8\n",
      " Relative error = 3.2640816750745677e-9\n",
      " Entering displacemtent step9 :0.005399999999999999\n",
      " Relative error = 4.6491293980128146e-10\n",
      " Entering displacemtent step10 :0.005999999999999999\n",
      " Relative error = 0.00042522032323130974\n",
      " Relative error = 0.00047700683709753564\n",
      " Relative error = 3.81494967187777e-6\n",
      " Relative error = 6.160551163766095e-7\n",
      " Relative error = 1.330635127781316e-7\n",
      " Relative error = 3.0515682466007595e-8\n",
      " Relative error = 7.1089656319242755e-9\n",
      " Entering displacemtent step11 :0.006599999999999999\n",
      " Relative error = 1.6643962258946362e-9\n",
      " Entering displacemtent step12 :0.007199999999999999\n",
      " Relative error = 0.0005219728517815508\n",
      " Relative error = 0.0005759566458230172\n",
      " Relative error = 7.278080540650383e-6\n",
      " Relative error = 1.8165266341769345e-6\n",
      " Relative error = 6.010967870733917e-7\n",
      " Relative error = 2.1142637375776693e-7\n",
      " Relative error = 7.566677233138218e-8\n",
      " Relative error = 2.7238063141237674e-8\n",
      " Relative error = 9.825174583253151e-9\n",
      " Entering displacemtent step13 :0.007799999999999999\n",
      " Relative error = 3.5467353108010604e-9\n",
      " Entering displacemtent step14 :0.0084\n",
      " Relative error = 0.0006149988259682206\n",
      " Relative error = 0.0006738272386024841\n",
      " Relative error = 1.3128160161710336e-5\n",
      " Relative error = 4.880334561601937e-6\n",
      " Relative error = 2.3833950599652863e-6\n",
      " Relative error = 1.2429576490268577e-6\n",
      " Relative error = 6.631650456626988e-7\n",
      " Relative error = 3.5738695838264843e-7\n",
      " Relative error = 1.9351239983857e-7\n",
      " Relative error = 1.0502599422663738e-7\n",
      " Entering displacemtent step15 :0.009\n",
      " Relative error = 5.707000151185949e-8\n",
      " Relative error = 0.0006990531735779971\n",
      " Relative error = 1.3722125186460004e-5\n",
      " Relative error = 5.989664046180093e-6\n",
      " Relative error = 3.5481263043592242e-6\n",
      " Relative error = 2.2601168837992765e-6\n",
      " Relative error = 1.4776654871303644e-6\n",
      " Relative error = 9.781587666612375e-7\n",
      " Relative error = 6.52233510557153e-7\n",
      " Relative error = 4.36786105843973e-7\n",
      " Entering displacemtent step16 :0.0096\n",
      " Relative error = 2.9332389343125933e-7\n",
      " Relative error = 0.0007401321309571294\n",
      " Relative error = 1.7746674791158086e-5\n",
      " Relative error = 9.559874791201757e-6\n",
      " Relative error = 6.897856753851725e-6\n",
      " Relative error = 5.3375692658845245e-6\n",
      " Relative error = 4.251071386405108e-6\n",
      " Relative error = 3.441723932099301e-6\n",
      " Relative error = 2.8173055504749484e-6\n",
      " Relative error = 2.3262349669233246e-6\n",
      " Entering displacemtent step17 :0.010199999999999999\n",
      " Relative error = 1.93358251639619e-6\n",
      " Relative error = 0.0007620280419272907\n",
      " Relative error = 2.4073122274235463e-5\n",
      " Relative error = 1.6480335239418336e-5\n",
      " Relative error = 1.4303227557489896e-5\n",
      " Relative error = 1.2988582091897048e-5\n",
      " Relative error = 1.197912821267479e-5\n",
      " Relative error = 1.110854182163699e-5\n",
      " Relative error = 1.032825406690109e-5\n",
      " Relative error = 9.663772612861032e-6\n",
      " Entering displacemtent step18 :0.010799999999999999\n",
      " Relative error = 9.094118037953895e-6\n",
      " Relative error = 0.0007504717760290745\n",
      " Relative error = 3.7023165321734195e-5\n",
      " Relative error = 2.830656904390338e-5\n",
      " Relative error = 2.5653733899722196e-5\n",
      " Relative error = 2.3470128975157947e-5\n",
      " Relative error = 2.0756185193172384e-5\n",
      " Relative error = 1.7571612873031867e-5\n",
      " Relative error = 1.433676696496007e-5\n",
      " Relative error = 1.1398992455255913e-5\n",
      " Entering displacemtent step19 :0.011399999999999999\n",
      " Relative error = 8.932127948327152e-6\n",
      " Relative error = 0.000734962764525637\n",
      " Relative error = 3.823208191926999e-5\n",
      " Relative error = 2.3660263828988682e-5\n",
      " Relative error = 1.7580113697143806e-5\n",
      " Relative error = 1.3828136104247488e-5\n",
      " Relative error = 1.132640370151577e-5\n",
      " Relative error = 9.58098966201327e-6\n",
      " Relative error = 8.209251778718743e-6\n",
      " Relative error = 7.080727492691208e-6\n",
      " Entering displacemtent step20 :0.011999999999999999\n",
      " Relative error = 6.176187332896503e-6\n",
      " Relative error = 0.0008085674025054587\n",
      " Relative error = 3.9348115248467484e-5\n",
      " Relative error = 2.465434141939948e-5\n",
      " Relative error = 1.9579993034831946e-5\n",
      " Relative error = 1.6920656904244875e-5\n",
      " Relative error = 1.5216525124297454e-5\n",
      " Relative error = 1.3961114861856192e-5\n",
      " Relative error = 1.2895448881251406e-5\n",
      " Relative error = 1.2052672103667902e-5\n",
      " Entering displacemtent step21 :0.012599999999999998\n",
      " Relative error = 1.1392721689266404e-5\n",
      " Relative error = 0.0008222177572956251\n",
      " Relative error = 4.6197335328220254e-5\n",
      " Relative error = 3.19179939947688e-5\n",
      " Relative error = 2.7540275016420597e-5\n",
      " Relative error = 2.5405574312619825e-5\n",
      " Relative error = 2.3922180039176874e-5\n",
      " Relative error = 2.2625603048917326e-5\n",
      " Relative error = 2.1660891547364874e-5\n",
      " Relative error = 2.09346761566015e-5\n",
      " Entering displacemtent step22 :0.013199999999999998\n",
      " Relative error = 2.018258651327558e-5\n",
      " Relative error = 0.0008026280828256929\n",
      " Relative error = 5.759322814481446e-5\n",
      " Relative error = 4.237545190803298e-5\n",
      " Relative error = 3.796603245845401e-5\n",
      " Relative error = 3.5648618503781464e-5\n",
      " Relative error = 3.4013871386786107e-5\n",
      " Relative error = 3.2925457569380905e-5\n",
      " Relative error = 3.240113604838786e-5\n",
      " Relative error = 3.226616686847283e-5\n",
      " Entering displacemtent step23 :0.013799999999999998\n",
      " Relative error = 3.1964120639738434e-5\n",
      " Relative error = 0.0007711271864195655\n",
      " Relative error = 7.22765599832767e-5\n",
      " Relative error = 5.597968587780213e-5\n",
      " Relative error = 5.222312592154488e-5\n",
      " Relative error = 5.096181091293571e-5\n",
      " Relative error = 4.9697384349719506e-5\n",
      " Relative error = 4.838854444005406e-5\n",
      " Relative error = 4.775910011734177e-5\n",
      " Relative error = 4.7634444880283855e-5\n",
      " Entering displacemtent step24 :0.014399999999999998\n",
      " Relative error = 4.770546309537163e-5\n",
      " Relative error = 0.0007264274503438375\n",
      " Relative error = 9.024925361955768e-5\n",
      " Relative error = 7.233384450214413e-5\n",
      " Relative error = 6.853463260313626e-5\n",
      " Relative error = 6.701063155531191e-5\n",
      " Relative error = 6.613352835658553e-5\n",
      " Relative error = 6.547618795298462e-5\n",
      " Relative error = 6.415021797250216e-5\n",
      " Relative error = 6.324120638706507e-5\n",
      " Entering displacemtent step25 :0.014999999999999998\n",
      " Relative error = 6.30121925626502e-5\n",
      " Relative error = 0.0006855646893373321\n",
      " Relative error = 0.00010861652987199649\n",
      " Relative error = 8.959237893027274e-5\n",
      " Relative error = 8.560519117684713e-5\n",
      " Relative error = 8.384162024397334e-5\n",
      " Relative error = 8.218413797187946e-5\n",
      " Relative error = 8.109009997559121e-5\n",
      " Relative error = 8.013900318520979e-5\n",
      " Relative error = 7.911837726860462e-5\n",
      " Entering displacemtent step26 :0.015599999999999998\n",
      " Relative error = 7.866167453821208e-5\n",
      " Relative error = 0.0006514572500909122\n",
      " Relative error = 0.00012625672083489285\n",
      " Relative error = 0.00010542725730119967\n",
      " Relative error = 0.00010109270812069226\n",
      " Relative error = 9.885067849920282e-5\n",
      " Relative error = 9.770421386065137e-5\n",
      " Relative error = 9.658479377512236e-5\n",
      " Relative error = 9.553043481406086e-5\n",
      " Relative error = 9.453224131281074e-5\n",
      " Entering displacemtent step27 :0.0162\n",
      " Relative error = 9.382241542792716e-5\n",
      " Relative error = 0.0006245695079847732\n"
     ]
    },
    {
     "name": "stdout",
     "output_type": "stream",
     "text": [
      " Relative error = 0.00014388690058820012\n",
      " Relative error = 0.00012196747826529817\n",
      " Relative error = 0.0001173741141115107\n",
      " Relative error = 0.00011475980971520477\n",
      " Relative error = 0.00011284403423580085\n",
      " Relative error = 0.00011140169206919977\n",
      " Relative error = 0.0001098606430794899\n",
      " Relative error = 0.00010883871065560942\n",
      " Entering displacemtent step28 :0.0168\n",
      " Relative error = 0.00010791361477784363\n",
      " Relative error = 0.0005951888589540072\n",
      " Relative error = 0.000160419960240221\n",
      " Relative error = 0.00013751513331514403\n",
      " Relative error = 0.0001327038345457327\n",
      " Relative error = 0.00012998624414075987\n",
      " Relative error = 0.00012785863272735232\n",
      " Relative error = 0.0001260972251699752\n",
      " Relative error = 0.00012452855280308653\n",
      " Relative error = 0.00012355077854151936\n",
      " Entering displacemtent step29 :0.0174\n",
      " Relative error = 0.00012212353978849374\n",
      " Relative error = 0.0005673163434594179\n",
      " Relative error = 0.0001761841269736009\n",
      " Relative error = 0.0001518944141089421\n",
      " Relative error = 0.0001462616546913702\n",
      " Relative error = 0.0001435484229652614\n",
      " Relative error = 0.00014131423358250617\n",
      " Relative error = 0.00013941691691549935\n",
      " Relative error = 0.00013775141214128727\n",
      " Relative error = 0.00013611293749721094\n",
      " Entering displacemtent step30 :0.018\n",
      " Relative error = 0.00013513776858349163\n",
      " Relative error = 0.0005411186759203378\n",
      " Relative error = 0.00018989627794334233\n",
      " Relative error = 0.0001649769540623699\n",
      " Relative error = 0.00015889461043388966\n",
      " Relative error = 0.00015538648159161235\n",
      " Relative error = 0.00015292659510786317\n",
      " Relative error = 0.00015064121271350054\n",
      " Relative error = 0.0001482981694553291\n",
      " Relative error = 0.00014676982444175932\n",
      " Entering displacemtent step31 :0.0186\n",
      " Relative error = 0.0001453063429251494\n",
      " Relative error = 0.0005154355009171226\n",
      " Relative error = 0.00020126739805409097\n",
      " Relative error = 0.00017560279630160364\n",
      " Relative error = 0.00016847740789976742\n",
      " Relative error = 0.00016440244143523628\n",
      " Relative error = 0.00016132475701766154\n",
      " Relative error = 0.00015855937528260717\n",
      " Relative error = 0.00015599000040646452\n",
      " Relative error = 0.00015429278799414123\n",
      " Entering displacemtent step32 :0.0192\n",
      " Relative error = 0.0001523173276827278\n",
      " Relative error = 0.0004914713881284921\n",
      " Relative error = 0.00020898480506897929\n",
      " Relative error = 0.00018216764640040286\n",
      " Relative error = 0.0001745151181707915\n",
      " Relative error = 0.00017016527568995828\n",
      " Relative error = 0.000166600372393923\n",
      " Relative error = 0.00016322171986889243\n",
      " Relative error = 0.000160464579904211\n",
      " Relative error = 0.00015846242977610885\n",
      " Entering displacemtent step33 :0.019799999999999998\n",
      " Relative error = 0.00015612246498934585\n",
      " Relative error = 0.00046770317985371333\n",
      " Relative error = 0.00021367501414048685\n",
      " Relative error = 0.0001858248318007807\n",
      " Relative error = 0.00017752520200160074\n",
      " Relative error = 0.00017256500298213815\n",
      " Relative error = 0.00016864381044389903\n",
      " Relative error = 0.00016542861177148876\n",
      " Relative error = 0.00016279094144677395\n",
      " Relative error = 0.00015986753834027568\n",
      " Entering displacemtent step34 :0.020399999999999998\n",
      " Relative error = 0.000157573203086159\n",
      " Relative error = 0.0004401271157591641\n",
      " Relative error = 0.00021697719990522042\n",
      " Relative error = 0.0001885571309883906\n",
      " Relative error = 0.00018026535167580803\n",
      " Relative error = 0.00017516753292536012\n",
      " Relative error = 0.0001715573901286189\n",
      " Relative error = 0.00016907016686795503\n",
      " Relative error = 0.00016681189332192346\n",
      " Relative error = 0.0001650039088659523\n",
      " Entering displacemtent step35 :0.020999999999999998\n",
      " Relative error = 0.00016403335714458678\n",
      " Relative error = 0.0004128363585506851\n",
      " Relative error = 0.00022846145255160966\n",
      " Relative error = 0.00020840447507834695\n",
      " Relative error = 0.00020650774322924885\n",
      " Relative error = 0.00020800087060505903\n",
      " Relative error = 0.0002123456924761334\n",
      " Relative error = 0.00021356411875244922\n",
      " Relative error = 0.0002163335159036447\n",
      " Relative error = 0.00021759971534496413\n",
      " Entering displacemtent step36 :0.021599999999999998\n",
      " Relative error = 0.00022135034642919367\n",
      " Relative error = 0.00043236588910385324\n",
      " Relative error = 0.0003038126538603568\n",
      " Relative error = 0.00029110904886953055\n",
      " Relative error = 0.0002922251172396295\n",
      " Relative error = 0.00028751446358229256\n",
      " Relative error = 0.00028568076810039624\n",
      " Relative error = 0.0002897869551146693\n",
      " Relative error = 0.0002946482174052065\n",
      " Relative error = 0.00027515473760341064\n",
      " Entering displacemtent step37 :0.022199999999999998\n",
      " Relative error = 0.0002939653241605182\n",
      " Relative error = 0.00047865008844505337\n",
      " Relative error = 0.0003703142435002808\n",
      " Relative error = 0.00035270846731290037\n",
      " Relative error = 0.00034691143787888537\n",
      " Relative error = 0.00034126997362120303\n",
      " Relative error = 0.00033440433517319904\n",
      " Relative error = 0.0003285779863232232\n",
      " Relative error = 0.0003220800462743995\n",
      " Relative error = 0.00031845227150615035\n",
      " Entering displacemtent step38 :0.022799999999999997\n",
      " Relative error = 0.0003129089953358419\n",
      " Relative error = 0.00046543700527884433\n",
      " Relative error = 0.00038200353730563603\n",
      " Relative error = 0.00036255856326447594\n",
      " Relative error = 0.0003507025135843456\n",
      " Relative error = 0.00034333849335937435\n",
      " Relative error = 0.00033940796913162186\n",
      " Relative error = 0.00033923641559481077\n",
      " Relative error = 0.0003452930450331643\n",
      " Relative error = 0.0003590949343293459\n",
      " Entering displacemtent step39 :0.023399999999999997\n",
      " Relative error = 0.00038362456886203647\n",
      " Relative error = 0.0005539023574624635\n",
      " Relative error = 0.0005813849832153954\n",
      " Relative error = 0.0005987819564945361\n",
      " Relative error = 0.000694216144430607\n",
      " Relative error = 0.0012577502850780302\n",
      " Relative error = 0.0003524527106642668\n",
      " Relative error = 3.6915746742907124e-7\n",
      " Relative error = 3.912871261438281e-8\n",
      " Relative error = 1.915058338220714e-5\n",
      " Entering displacemtent step40 :0.023999999999999997\n",
      " Relative error = 2.6238726723928735e-9\n",
      " Entering displacemtent step41 :0.024599999999999997\n",
      " Relative error = 2.338461074145637e-8\n",
      " Relative error = 2.9325677102494178e-5\n",
      " Relative error = 2.1223061830978946e-9\n",
      " Entering displacemtent step42 :0.025199999999999997\n",
      " Relative error = 1.8959896699016568e-10\n",
      " Entering displacemtent step43 :0.025799999999999997\n",
      " Relative error = 2.000958535813099e-8\n",
      " Relative error = 1.887868983793855e-8\n",
      " Relative error = 5.063539895396236e-10\n",
      " Entering displacemtent step44 :0.026399999999999996\n",
      " Relative error = 2.73704087556687e-10\n",
      " Entering displacemtent step45 :0.026999999999999996\n",
      " Relative error = 1.7563111433296196e-8\n",
      " Relative error = 2.0082087098838212e-8\n",
      " Relative error = 3.351288179203763e-10\n",
      " Entering displacemtent step46 :0.027599999999999996\n",
      " Relative error = 3.830090557860351e-10\n",
      " Entering displacemtent step47 :0.028199999999999996\n",
      " Relative error = 1.538029501157982e-8\n",
      " Relative error = 1.4498808237076503e-8\n",
      " Relative error = 1.4781040211177268e-8\n",
      " Relative error = 1.018549957817438e-11\n",
      " Entering displacemtent step48 :0.028799999999999996\n",
      " Relative error = 4.3270858924338924e-13\n",
      " Entering displacemtent step49 :0.029399999999999996\n",
      " Relative error = 1.3363984860043787e-8\n",
      " Relative error = 1.2741086326886492e-8\n",
      " Relative error = 1.0282402832386079e-10\n",
      " Entering displacemtent step50 :0.029999999999999995\n",
      " Relative error = 1.1851202104922307e-11\n",
      " Entering displacemtent step51 :0.030599999999999995\n",
      " Relative error = 1.1978227753636164e-8\n",
      " Relative error = 1.138881325705386e-8\n",
      " Relative error = 8.658039965733308e-11"
     ]
    }
   ],
   "source": [
    "uApp = 0\n",
    "delu = 3e-2/50\n",
    "uAppMax = 3e-2\n",
    "innerMax = 10\n",
    "count = 0\n",
    "Load = Float64[]\n",
    "Displacement = Float64[]\n",
    "\n",
    "sPrev = CellState(1.0,dΩ)\n",
    "sh = project(sPrev,model,dΩ,order)\n",
    "ψPlusPrev = CellState(0.0,dΩ)\n",
    "ψhPos = CellState(0.0,dΩ)\n",
    "ψhPos_in = project(ψhPos,model,dΩ,order)\n",
    "\n",
    "while uApp .< uAppMax \n",
    "        \n",
    "    uApp = uApp .+ delu\n",
    "    count = count .+ 1\n",
    "    \n",
    "    print(\"\\n Entering displacemtent step$count :\", float(uApp))\n",
    "    \n",
    "    for inner = 1:innerMax\n",
    "        \n",
    "        ψhPlusPrev = project(ψPlusPrev,model,dΩ,order)\n",
    "              \n",
    "        err = abs(sum(∫( Gc*lsp*∇(sh)⋅ ∇(sh) + 2*ψhPlusPrev*sh*sh  + (Gc/lsp)*sh*sh)*dΩ - ∫( (Gc/lsp)*sh)*dΩ))/abs(sum(∫( (Gc/lsp)*sh)*dΩ))\n",
    "        print(\"\\n Relative error = \",float(err))\n",
    "        \n",
    "        sh = stepPhaseField(uh,ψhPlusPrev) \n",
    "        uh,θh = stepDisp(uh,θh,sh,uApp)\n",
    "        \n",
    "        ψhPos_in = ψPos∘(ε(uh),∇(uh),θh,∇(θh))      \n",
    "        update_state!(new_EnergyState,ψPlusPrev,ψhPos_in)\n",
    "        \n",
    "        if err < 1e-8\n",
    "            break \n",
    "        end\n",
    "    end\n",
    "    Node_Force = sum(∫( n_Γ_Load ⋅ (σ_Bmod∘(ε(uh),ε(uh),sh)) ) *dΓ_Load + ∫( n_Γ_Load ⋅ (σ_Cmod∘(ε_Skw∘(∇(uh),θh),sh) ) )  *dΓ_Load)\n",
    "    \n",
    "    push!(Load, Node_Force[1])\n",
    "    push!(Displacement, uApp)\n",
    "    if mod(count,10) == 0\n",
    "         writevtk(Ω,\"results_PhaseFieldNotchedBeam_Vol-Dev$count\",cellfields=\n",
    "        [\"psi\"=> ψPos∘(ε(uh),∇(uh),θh,∇(θh)),\"Psi_CoupRot\"=>ψCoupRot∘(ε(uh),∇(uh),θh,∇(θh)),\n",
    "                \"Psi_Coup\"=>ψCoup∘(ε(uh),∇(uh),θh,∇(θh)),\"Psi_Rot\"=>ψRot∘(ε(uh),∇(uh),θh,∇(θh)),\n",
    "                \"uh\"=>uh,\"s\"=>sh ,\"θ\" => θh, \"epsi\"=>ε(uh)])\n",
    "    end\n",
    "end"
   ]
  },
  {
   "cell_type": "code",
   "execution_count": 30,
   "id": "cf4184cd",
   "metadata": {},
   "outputs": [
    {
     "name": "stderr",
     "output_type": "stream",
     "text": [
      "\u001b[33m\u001b[1m┌ \u001b[22m\u001b[39m\u001b[33m\u001b[1mWarning: \u001b[22m\u001b[39mdetected extension '.0151' does not correspond to dataset type.\n",
      "\u001b[33m\u001b[1m│ \u001b[22m\u001b[39mAppending '.vtu' to filename.\n",
      "\u001b[33m\u001b[1m└ \u001b[22m\u001b[39m\u001b[90m@ WriteVTK ~/.julia/packages/WriteVTK/UoUwH/src/WriteVTK.jl:112\u001b[39m\n"
     ]
    },
    {
     "data": {
      "text/plain": [
       "([\"results_Mode2_Vol-Dev_N0.5_l0.0151.vtu\"],)"
      ]
     },
     "execution_count": 30,
     "metadata": {},
     "output_type": "execute_result"
    }
   ],
   "source": [
    "writevtk(Ω,\"results_Mode2_Vol-Dev_N0.5_l0.01$count\",cellfields=\n",
    "        [\"uh\"=>uh,\"s\"=>sh ,\"θ\" => θh, \"epsi\"=>ε(uh)])"
   ]
  },
  {
   "cell_type": "code",
   "execution_count": 31,
   "id": "emerging-negative",
   "metadata": {},
   "outputs": [
    {
     "data": {
      "image/png": "[encoded data removed]",
      "text/plain": [
       "Figure(PyObject <Figure size 640x480 with 1 Axes>)"
      ]
     },
     "metadata": {},
     "output_type": "display_data"
    },
    {
     "data": {
      "text/plain": [
       "1-element Vector{PyCall.PyObject}:\n",
       " PyObject <matplotlib.lines.Line2D object at 0x7fcd474866e0>"
      ]
     },
     "execution_count": 31,
     "metadata": {},
     "output_type": "execute_result"
    }
   ],
   "source": [
    "plot(Displacement,Load*1e-3)"
   ]
  },
  {
   "cell_type": "code",
   "execution_count": 32,
   "id": "fb9175f5",
   "metadata": {},
   "outputs": [],
   "source": [
    "cd(\"../DispLoadData_Mode2_Vol-Dev\")"
   ]
  },
  {
   "cell_type": "code",
   "execution_count": 33,
   "id": "f567a89a",
   "metadata": {},
   "outputs": [],
   "source": [
    "using DelimitedFiles\n",
    "Disp = writedlm( \"DispDataMode2_Vol-Dev_N0.5_l0.01.csv\",  Displacement, ',')\n",
    "Force = writedlm(\"LoadDataMode2_Vol-Dev_N0.5_l0.01.csv\",  Load, ',')"
   ]
  }
 ],
 "metadata": {
  "@webio": {
   "lastCommId": null,
   "lastKernelId": null
  },
  "kernelspec": {
   "display_name": "Julia 1.8.1",
   "language": "julia",
   "name": "julia-1.8"
  },
  "language_info": {
   "file_extension": ".jl",
   "mimetype": "application/julia",
   "name": "julia",
   "version": "1.8.1"
  }
 },
 "nbformat": 4,
 "nbformat_minor": 5
}
