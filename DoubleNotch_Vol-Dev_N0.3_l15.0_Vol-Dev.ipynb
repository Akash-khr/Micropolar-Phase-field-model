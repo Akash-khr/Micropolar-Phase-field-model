{
 "cells": [
  {
   "cell_type": "code",
   "execution_count": 1,
   "id": "ab7198fc",
   "metadata": {},
   "outputs": [],
   "source": [
    "using Gmsh: gmsh\n",
    "using Gridap\n",
    "using GridapGmsh\n",
    "using Gridap.TensorValues\n",
    "using PyPlot\n",
    "using LinearAlgebra"
   ]
  },
  {
   "cell_type": "code",
   "execution_count": 2,
   "id": "ed672b17",
   "metadata": {},
   "outputs": [
    {
     "data": {
      "text/plain": [
       "SymFourthOrderTensorValue{2, Float64, 9}(0.5, 0.0, -0.5, 0.0, 0.5, 0.0, -0.5, 0.0, 0.5)"
      ]
     },
     "execution_count": 2,
     "metadata": {},
     "output_type": "execute_result"
    }
   ],
   "source": [
    "I2 = SymTensorValue{2,Float64}(1.0 ,0.0 ,1.0)\n",
    "I4 = I2⊗I2\n",
    "I4_sym = one(SymFourthOrderTensorValue{2,Float64})\n",
    "I4_vol = (1.0/2)*I4\n",
    "I4_dev = I4_sym  - I4_vol"
   ]
  },
  {
   "cell_type": "code",
   "execution_count": 3,
   "id": "interim-caution",
   "metadata": {
    "scrolled": true
   },
   "outputs": [
    {
     "name": "stdout",
     "output_type": "stream",
     "text": [
      "Info    : Meshing 1D...\n",
      "Info    : [  0%] Meshing curve 1 (Line)\n",
      "Info    : [ 10%] Meshing curve 2 (Line)\n",
      "Info    : [ 20%] Meshing curve 3 (Line)\n",
      "Info    : [ 30%] Meshing curve 4 (Line)\n",
      "Info    : [ 40%] Meshing curve 5 (Line)\n",
      "Info    : [ 50%] Meshing curve 6 (Line)\n",
      "Info    : [ 50%] Meshing curve 7 (Line)\n",
      "Info    : [ 60%] Meshing curve 8 (Line)\n",
      "Info    : [ 70%] Meshing curve 9 (Line)\n",
      "Info    : [ 80%] Meshing curve 10 (Line)\n",
      "Info    : [ 90%] Meshing curve 11 (Line)\n",
      "Info    : [100%] Meshing curve 12 (Line)\n",
      "Info    : Done meshing 1D (Wall 0.00893673s, CPU 0.008667s)\n",
      "Info    : Meshing 2D...\n",
      "Info    : Meshing surface 1 (Plane, Frontal-Delaunay)\n",
      "Info    : Done meshing 2D (Wall 2.83756s, CPU 2.80081s)\n",
      "Info    : 69936 nodes 139882 elements\n",
      "Info    : Writing 'DoubleEdgeNotch.msh'...\n",
      "Info    : Done writing 'DoubleEdgeNotch.msh'\n"
     ]
    },
    {
     "name": "stderr",
     "output_type": "stream",
     "text": [
      "Warning : Unknown entity of dimension 2 and tag 1 in physical group 1\n",
      "Warning : Unknown entity of dimension 1 and tag 1 in physical group 2\n",
      "Warning : Unknown entity of dimension 1 and tag 7 in physical group 3\n"
     ]
    }
   ],
   "source": [
    "const L = 100\n",
    "const CH = 25         #Crack height\n",
    "const CW = 0.01*CH    #Crack Width\n",
    "const hf = CH/100     #Mesh size parameter\n",
    "const hfc = hf/4      #Mesh size parameter\n",
    "const h = 10*hf       #Mesh size parameter\n",
    "const lsp = hf*2.1\n",
    "\n",
    "gmsh.initialize()\n",
    "gmsh.option.setNumber(\"General.Terminal\", 1)\n",
    "\n",
    "p1 = gmsh.model.geo.addPoint(0.0, 0.0, 0.0, h)\n",
    "p2 = gmsh.model.geo.addPoint(L, 0, 0.0, h)\n",
    "p3 = gmsh.model.geo.addPoint(L, 0.5*(L-CW), 0.0, h)\n",
    "p4 = gmsh.model.geo.addPoint(L-CH, 0.5*(L-CW), 0.0, hfc)\n",
    "p5 = gmsh.model.geo.addPoint(L-CH, 0.5*(L+CW), 0.0, hfc)\n",
    "p6 = gmsh.model.geo.addPoint(L, 0.5*(L+CW), 0.0, h)\n",
    "p7 = gmsh.model.geo.addPoint(L, L, 0.0, h)\n",
    "p8 = gmsh.model.geo.addPoint(0.0, L, 0.0, h)\n",
    "p9 = gmsh.model.geo.addPoint(0.0, 0.5*(L+CW), 0.0, h)\n",
    "p10 = gmsh.model.geo.addPoint(CH, 0.5*(L+CW), 0.0, hfc)\n",
    "p11 = gmsh.model.geo.addPoint(CH, 0.5*(L-CW), 0.0, hfc)\n",
    "p12 = gmsh.model.geo.addPoint(0.0, 0.5*(L-CW), 0.0, h)\n",
    "\n",
    "l1 = gmsh.model.geo.addLine(p1, p2)\n",
    "l2 = gmsh.model.geo.addLine(p2, p3)\n",
    "l3 = gmsh.model.geo.addLine(p3, p4)\n",
    "l4 = gmsh.model.geo.addLine(p4, p5)\n",
    "l5 = gmsh.model.geo.addLine(p5, p6)\n",
    "l6 = gmsh.model.geo.addLine(p6, p7)\n",
    "l7 = gmsh.model.geo.addLine(p7, p8)\n",
    "l8 = gmsh.model.geo.addLine(p8, p9)\n",
    "l9 = gmsh.model.geo.addLine(p9, p10)\n",
    "l10 = gmsh.model.geo.addLine(p10, p11)\n",
    "l11 = gmsh.model.geo.addLine(p11, p12)\n",
    "l12 = gmsh.model.geo.addLine(p12, p1)\n",
    "\n",
    "cl1 = gmsh.model.geo.addCurveLoop([l1,l2,l3,l4,l5,l6,l7,l8,l9,l10,l11,l12])\n",
    "ps1 = gmsh.model.geo.addPlaneSurface([cl1])\n",
    "\n",
    "pg1 = gmsh.model.addPhysicalGroup(2, [ps1])\n",
    "\n",
    "pg2 = gmsh.model.addPhysicalGroup(1, [l1])\n",
    "pg3 = gmsh.model.addPhysicalGroup(1, [l7])\n",
    "\n",
    "gmsh.model.setPhysicalName(2, pg1, \"Domain\")\n",
    "gmsh.model.setPhysicalName(1, pg2, \"DirichletBottom\")\n",
    "gmsh.model.setPhysicalName(1, pg3, \"LoadLine\")\n",
    "\n",
    "gmsh.model.mesh.field.add(\"Box\", 11)\n",
    "gmsh.model.mesh.field.setNumber(11, \"VIn\", hf)\n",
    "gmsh.model.mesh.field.setNumber(11, \"VOut\", h)\n",
    "gmsh.model.mesh.field.setNumber(11, \"XMin\", 0.5*(L-3*CH))\n",
    "gmsh.model.mesh.field.setNumber(11, \"XMax\", 0.5*(L+3*CH))\n",
    "gmsh.model.mesh.field.setNumber(11, \"YMin\", 0.5*(L-2*CH))\n",
    "gmsh.model.mesh.field.setNumber(11, \"YMax\", 0.5*(L+2*CH))\n",
    "\n",
    "gmsh.model.mesh.field.setAsBackgroundMesh(11)\n",
    "\n",
    "gmsh.model.geo.synchronize()\n",
    "gmsh.model.mesh.generate(2)\n",
    "gmsh.write(\"DoubleEdgeNotch.msh\")\n",
    "gmsh.finalize()"
   ]
  },
  {
   "cell_type": "code",
   "execution_count": 4,
   "id": "1746091a",
   "metadata": {},
   "outputs": [
    {
     "name": "stdout",
     "output_type": "stream",
     "text": [
      "Info    : Reading 'DoubleEdgeNotch.msh'...\n",
      "Info    : 25 entities\n",
      "Info    : 69936 nodes\n",
      "Info    : 139518 elements\n",
      "Info    : [ 10%] Reading elements                                          \r",
      "Info    : [ 20%] Reading elements                                          \r",
      "Info    : [ 30%] Reading elements                                          \r",
      "Info    : [ 40%] Reading elements                                          \r",
      "Info    : [ 50%] Reading elements                                          \r",
      "Info    : [ 50%] Reading elements                                          \r",
      "Info    : [ 60%] Reading elements                                          \r",
      "Info    : [ 70%] Reading elements                                          \r",
      "Info    : [ 80%] Reading elements                                          \r",
      "Info    : [ 90%] Reading elements                                          \r",
      "Info    : [100%] Reading elements                                          \r",
      "                                          \r",
      "Info    : Done reading 'DoubleEdgeNotch.msh'\n"
     ]
    },
    {
     "data": {
      "text/plain": [
       "3-element Vector{Vector{String}}:\n",
       " [\"DoubleEdgeNotch_0.vtu\"]\n",
       " [\"DoubleEdgeNotch_1.vtu\"]\n",
       " [\"DoubleEdgeNotch_2.vtu\"]"
      ]
     },
     "execution_count": 4,
     "metadata": {},
     "output_type": "execute_result"
    }
   ],
   "source": [
    "model = GmshDiscreteModel(\"DoubleEdgeNotch.msh\")\n",
    "writevtk(model,\"DoubleEdgeNotch\")"
   ]
  },
  {
   "cell_type": "code",
   "execution_count": 5,
   "id": "41326f7b",
   "metadata": {
    "scrolled": false
   },
   "outputs": [
    {
     "data": {
      "text/plain": [
       "139438-element Vector{Int8}:\n",
       " 3\n",
       " 3\n",
       " 3\n",
       " 3\n",
       " 3\n",
       " 3\n",
       " 3\n",
       " 3\n",
       " 3\n",
       " 3\n",
       " 3\n",
       " 3\n",
       " 3\n",
       " ⋮\n",
       " 3\n",
       " 3\n",
       " 3\n",
       " 3\n",
       " 3\n",
       " 3\n",
       " 3\n",
       " 3\n",
       " 3\n",
       " 3\n",
       " 3\n",
       " 3"
      ]
     },
     "execution_count": 5,
     "metadata": {},
     "output_type": "execute_result"
    }
   ],
   "source": [
    "using Gridap.Geometry\n",
    "labels = get_face_labeling(model)\n",
    "dimension = 2\n",
    "mat_tags = get_face_tag(labels,dimension)"
   ]
  },
  {
   "cell_type": "code",
   "execution_count": 6,
   "id": "6e1500bb",
   "metadata": {},
   "outputs": [
    {
     "data": {
      "text/plain": [
       "1.0e-15"
      ]
     },
     "execution_count": 6,
     "metadata": {},
     "output_type": "execute_result"
    }
   ],
   "source": [
    "const G = 12.5e3\n",
    "const ν = 0.2\n",
    "const E = G*(2*(1+ν))\n",
    "l = 15.0\n",
    "N = 0.0\n",
    "Gc = 0.1\n",
    "\n",
    "const η = 1e-15"
   ]
  },
  {
   "cell_type": "code",
   "execution_count": 7,
   "id": "5bf828a6",
   "metadata": {},
   "outputs": [
    {
     "data": {
      "text/plain": [
       "1.1250000000000035e7"
      ]
     },
     "execution_count": 7,
     "metadata": {},
     "output_type": "execute_result"
    }
   ],
   "source": [
    "μ = 11263.7362637363\n",
    "κ = 2472.527472527478\n",
    "λ = 8333.333333333363\n",
    "γ = 1.1250000000000035e7"
   ]
  },
  {
   "cell_type": "code",
   "execution_count": 8,
   "id": "dental-mouse",
   "metadata": {},
   "outputs": [
    {
     "data": {
      "text/plain": [
       "σ_Bmod (generic function with 1 method)"
      ]
     },
     "execution_count": 8,
     "metadata": {},
     "output_type": "execute_result"
    }
   ],
   "source": [
    "function σ_Bmod(ε, ε_in, s_in)\n",
    "    if tr(ε_in) >= 0\n",
    "        σM = (s_in^2 + η)*((λ + μ + (κ/2))*tr(ε)*one(ε) + (2*μ + κ)*(I4_dev ⊙ ε))\n",
    "    else\n",
    "        σM = (s_in^2 + η)*((2*μ + κ)*(I4_dev ⊙ ε)) + (λ + μ + (κ/2))*tr(ε)*one(ε)\n",
    "    end\n",
    "    return σM\n",
    "end"
   ]
  },
  {
   "cell_type": "code",
   "execution_count": 9,
   "id": "5d043cc5",
   "metadata": {},
   "outputs": [
    {
     "data": {
      "text/plain": [
       "TensorValue{2, 2, Int64, 4}(0, -1, 1, 0)"
      ]
     },
     "execution_count": 9,
     "metadata": {},
     "output_type": "execute_result"
    }
   ],
   "source": [
    "E_Matrx = TensorValue(0,-1,1,0)"
   ]
  },
  {
   "cell_type": "code",
   "execution_count": 10,
   "id": "edcea0c0",
   "metadata": {},
   "outputs": [
    {
     "data": {
      "text/plain": [
       "ε_Skw (generic function with 1 method)"
      ]
     },
     "execution_count": 10,
     "metadata": {},
     "output_type": "execute_result"
    }
   ],
   "source": [
    "function ε_Skw(∇,θ)\n",
    "    ∇ᵀ = transpose(∇)\n",
    "    w = (0.5*(∇ᵀ - ∇)) - (E_Matrx*θ)\n",
    "    return w\n",
    "end"
   ]
  },
  {
   "cell_type": "code",
   "execution_count": 11,
   "id": "b7ab7a3c",
   "metadata": {},
   "outputs": [
    {
     "data": {
      "text/plain": [
       "σ_Cmod (generic function with 1 method)"
      ]
     },
     "execution_count": 11,
     "metadata": {},
     "output_type": "execute_result"
    }
   ],
   "source": [
    "function σ_Cmod(ϵ_skew, s_in)\n",
    "    σM = gd(s_in)*(κ*ϵ_skew)\n",
    "    return σM\n",
    "end"
   ]
  },
  {
   "cell_type": "code",
   "execution_count": 12,
   "id": "9fb6f0fe",
   "metadata": {},
   "outputs": [
    {
     "data": {
      "text/plain": [
       "M_mod (generic function with 1 method)"
      ]
     },
     "execution_count": 12,
     "metadata": {},
     "output_type": "execute_result"
    }
   ],
   "source": [
    "function M_mod(∇, s_in)\n",
    "    M = gd(s_in)*(γ*∇)\n",
    "    return M\n",
    "end"
   ]
  },
  {
   "cell_type": "code",
   "execution_count": 13,
   "id": "8298b5f4",
   "metadata": {},
   "outputs": [
    {
     "data": {
      "text/plain": [
       "gd (generic function with 1 method)"
      ]
     },
     "execution_count": 13,
     "metadata": {},
     "output_type": "execute_result"
    }
   ],
   "source": [
    "function gd(s_in)\n",
    "    M = s_in^2\n",
    "    return M\n",
    "end"
   ]
  },
  {
   "cell_type": "code",
   "execution_count": 14,
   "id": "f2202328",
   "metadata": {},
   "outputs": [
    {
     "data": {
      "text/plain": [
       "ψPos (generic function with 1 method)"
      ]
     },
     "execution_count": 14,
     "metadata": {},
     "output_type": "execute_result"
    }
   ],
   "source": [
    "function ψPos(ε_in,∇_uh,θ, ∇_th)\n",
    "    ∇_uhᵀ = transpose(∇_uh)\n",
    "    ϵ_skew = 0.5*(∇_uhᵀ - ∇_uh) - E_Matrx*θ\n",
    "    if tr(ε_in) >= 0\n",
    "        ψPos = 0.5*((λ + μ + (κ/2))*(tr(ε_in))^2 + (2*μ+κ)*((I4_dev ⊙ ε_in) ⊙ (I4_dev ⊙ ε_in))) + 0.5*(κ*(ϵ_skew ⊙ ϵ_skew)) + 0.5*γ*(∇_th ⋅ ∇_th)\n",
    "    else\n",
    "        ψPos = 0.5*((2*μ+κ)*((I4_dev ⊙ ε_in) ⊙ (I4_dev ⊙ ε_in))) + 0.5*(κ*(ϵ_skew ⊙ ϵ_skew)) + 0.5*γ*(∇_th ⋅ ∇_th)\n",
    "    end\n",
    "    return ψPos \n",
    "end"
   ]
  },
  {
   "cell_type": "code",
   "execution_count": 15,
   "id": "local-freeware",
   "metadata": {},
   "outputs": [
    {
     "data": {
      "text/plain": [
       "new_EnergyState (generic function with 1 method)"
      ]
     },
     "execution_count": 15,
     "metadata": {},
     "output_type": "execute_result"
    }
   ],
   "source": [
    "function new_EnergyState(ψPlusPrev_in,ψhPos_in)\n",
    "    ψPlus_in = ψhPos_in\n",
    "        if ψPlus_in >= ψPlusPrev_in\n",
    "            ψPlus_out = ψPlus_in\n",
    "        else\n",
    "            ψPlus_out = ψPlusPrev_in\n",
    "        end\n",
    "    true,ψPlus_out\n",
    "end"
   ]
  },
  {
   "cell_type": "code",
   "execution_count": 16,
   "id": "3bf5a3ce",
   "metadata": {},
   "outputs": [
    {
     "data": {
      "text/plain": [
       "project (generic function with 1 method)"
      ]
     },
     "execution_count": 16,
     "metadata": {},
     "output_type": "execute_result"
    }
   ],
   "source": [
    "function project(q,model,dΩ,order)\n",
    "  reffe = ReferenceFE(lagrangian,Float64,order)\n",
    "  V = FESpace(model,reffe,conformity=:L2)\n",
    "  a(u,v) = ∫( u*v )*dΩ\n",
    "  l(v) = ∫( v*q )*dΩ\n",
    "  op = AffineFEOperator(a,l,V,V)\n",
    "  qh = solve(op)\n",
    "  qh\n",
    "end"
   ]
  },
  {
   "cell_type": "code",
   "execution_count": 17,
   "id": "3f46de93",
   "metadata": {},
   "outputs": [
    {
     "data": {
      "text/plain": [
       "2"
      ]
     },
     "execution_count": 17,
     "metadata": {},
     "output_type": "execute_result"
    }
   ],
   "source": [
    "order = 1\n",
    "degree = 2*order"
   ]
  },
  {
   "cell_type": "code",
   "execution_count": 18,
   "id": "86f3f2bf",
   "metadata": {},
   "outputs": [
    {
     "data": {
      "text/plain": [
       "Measure()"
      ]
     },
     "execution_count": 18,
     "metadata": {},
     "output_type": "execute_result"
    }
   ],
   "source": [
    "Ω = Triangulation(model)\n",
    "dΩ = Measure(Ω,degree)"
   ]
  },
  {
   "cell_type": "code",
   "execution_count": 19,
   "id": "absolute-workplace",
   "metadata": {},
   "outputs": [
    {
     "data": {
      "text/plain": [
       "SingleFieldFEFunction():\n",
       " num_cells: 139438\n",
       " DomainStyle: ReferenceDomain()\n",
       " Triangulation: BodyFittedTriangulation()\n",
       " Triangulation id: 5265783635338187884"
      ]
     },
     "execution_count": 19,
     "metadata": {},
     "output_type": "execute_result"
    }
   ],
   "source": [
    "sId = CellState(1.0,dΩ)\n",
    "shId = project(sId,model,dΩ,order)"
   ]
  },
  {
   "cell_type": "code",
   "execution_count": 20,
   "id": "700af0f9",
   "metadata": {},
   "outputs": [
    {
     "data": {
      "text/plain": [
       "GenericCellField():\n",
       " num_cells: 40\n",
       " DomainStyle: ReferenceDomain()\n",
       " Triangulation: BoundaryTriangulation()\n",
       " Triangulation id: 9844330832068286164"
      ]
     },
     "execution_count": 20,
     "metadata": {},
     "output_type": "execute_result"
    }
   ],
   "source": [
    "LoadTagId = get_tag_from_name(labels,\"LoadLine\")\n",
    "Γ_Load = BoundaryTriangulation(model,tags = LoadTagId)\n",
    "dΓ_Load = Measure(Γ_Load,degree)\n",
    "n_Γ_Load = get_normal_vector(Γ_Load)"
   ]
  },
  {
   "cell_type": "code",
   "execution_count": 21,
   "id": "950f5dcd",
   "metadata": {},
   "outputs": [
    {
     "data": {
      "text/plain": [
       "SingleFieldFEFunction():\n",
       " num_cells: 139438\n",
       " DomainStyle: ReferenceDomain()\n",
       " Triangulation: BodyFittedTriangulation()\n",
       " Triangulation id: 5265783635338187884"
      ]
     },
     "execution_count": 21,
     "metadata": {},
     "output_type": "execute_result"
    }
   ],
   "source": [
    "reffe_PF = ReferenceFE(lagrangian,Float64,order)\n",
    "V0_PF = TestFESpace(model,reffe_PF;conformity=:H1)\n",
    "sh = zero(V0_PF)"
   ]
  },
  {
   "cell_type": "code",
   "execution_count": 22,
   "id": "14340b87",
   "metadata": {},
   "outputs": [
    {
     "data": {
      "text/plain": [
       "SingleFieldFEFunction():\n",
       " num_cells: 139438\n",
       " DomainStyle: ReferenceDomain()\n",
       " Triangulation: BodyFittedTriangulation()\n",
       " Triangulation id: 5265783635338187884"
      ]
     },
     "execution_count": 22,
     "metadata": {},
     "output_type": "execute_result"
    }
   ],
   "source": [
    "reffe_theta = ReferenceFE(lagrangian,Float64,order)\n",
    "V0_theta  = TestFESpace(model,reffe_theta;\n",
    "  conformity=:H1)\n",
    "θh = zero(V0_theta)"
   ]
  },
  {
   "cell_type": "code",
   "execution_count": 23,
   "id": "1942f3e1",
   "metadata": {},
   "outputs": [
    {
     "data": {
      "text/plain": [
       "SingleFieldFEFunction():\n",
       " num_cells: 139438\n",
       " DomainStyle: ReferenceDomain()\n",
       " Triangulation: BodyFittedTriangulation()\n",
       " Triangulation id: 5265783635338187884"
      ]
     },
     "execution_count": 23,
     "metadata": {},
     "output_type": "execute_result"
    }
   ],
   "source": [
    "reffe_Disp = ReferenceFE(lagrangian,VectorValue{2,Float64},order)\n",
    "        V0_Disp = TestFESpace(model,reffe_Disp;\n",
    "          conformity=:H1,\n",
    "          dirichlet_tags=[\"DirichletBottom\",\"LoadLine\"],\n",
    "          dirichlet_masks=[(true,true), (true,true)])\n",
    "\n",
    "uh = zero(V0_Disp)"
   ]
  },
  {
   "cell_type": "code",
   "execution_count": 24,
   "id": "e2183bf7",
   "metadata": {},
   "outputs": [
    {
     "data": {
      "text/plain": [
       "MultiFieldFESpace()"
      ]
     },
     "execution_count": 24,
     "metadata": {},
     "output_type": "execute_result"
    }
   ],
   "source": [
    "V0 = MultiFieldFESpace([V0_Disp,V0_theta])"
   ]
  },
  {
   "cell_type": "code",
   "execution_count": 25,
   "id": "86f840d5",
   "metadata": {},
   "outputs": [
    {
     "data": {
      "text/plain": [
       "stepPhaseField (generic function with 1 method)"
      ]
     },
     "execution_count": 25,
     "metadata": {},
     "output_type": "execute_result"
    }
   ],
   "source": [
    "function  stepPhaseField(uh_in,ψPlusPrev_in)\n",
    "    U_PF = TrialFESpace(V0_PF)\n",
    "        a_PF(s,ϕ) = ∫( (Gc*lsp*(∇(ϕ)⋅ ∇(s))) + (2*s*ψPlusPrev_in*ϕ)  + ((Gc/lsp)*s*ϕ) )*dΩ\n",
    "        b_PF(ϕ) = ∫( (Gc/lsp)*ϕ )*dΩ\n",
    "        op_PF = AffineFEOperator(a_PF,b_PF,U_PF,V0_PF)\n",
    "        sh_out = solve(op_PF)\n",
    "    return sh_out\n",
    "end"
   ]
  },
  {
   "cell_type": "code",
   "execution_count": 26,
   "id": "f5566175",
   "metadata": {},
   "outputs": [
    {
     "data": {
      "text/plain": [
       "Skw (generic function with 1 method)"
      ]
     },
     "execution_count": 26,
     "metadata": {},
     "output_type": "execute_result"
    }
   ],
   "source": [
    "function Skw(u,θ)\n",
    "    ∇ᵀ = transpose(∇(u))\n",
    "    w = (0.5*(∇ᵀ - ∇(u)) - (E_Matrx*θ))\n",
    "    return w\n",
    "end"
   ]
  },
  {
   "cell_type": "code",
   "execution_count": 27,
   "id": "9eab4a9c",
   "metadata": {},
   "outputs": [
    {
     "data": {
      "text/plain": [
       "stepDisp (generic function with 1 method)"
      ]
     },
     "execution_count": 27,
     "metadata": {},
     "output_type": "execute_result"
    }
   ],
   "source": [
    "function stepDisp(uh_in,θ_in,sh_in,uApp)\n",
    "        uApp1(x) = VectorValue(0.0,0.0)\n",
    "        uApp2(x) = VectorValue(uApp,uApp)\n",
    "        U_Disp = TrialFESpace(V0_Disp,[uApp1,uApp2])\n",
    "        \n",
    "        U_theta = TrialFESpace(V0_theta)\n",
    "        U = MultiFieldFESpace([U_Disp,U_theta ])\n",
    "\n",
    "        a((u,θ),(w,v))  = ∫( (ε(w) ⊙ (σ_Bmod∘(ε(u),ε(uh_in),sh_in)) ) + ((Skw(w,v)) ⊙ (σ_Cmod∘(ε_Skw∘(∇(u),θ), sh_in)) ) + ((∇(v))⋅ (M_mod∘(∇(θ),sh_in))) - (v*((E_Matrx) ⊙ (σ_Cmod∘(ε_Skw∘(∇(u),θ),sh_in))) ))*dΩ\n",
    "        b((w,v))= 0\n",
    "        op_Disp = AffineFEOperator(a,b,U,V0)\n",
    "        uh_out = solve(op_Disp)\n",
    "        uh_out,phih_out = uh_out\n",
    "    return uh_out, phih_out\n",
    "end"
   ]
  },
  {
   "cell_type": "code",
   "execution_count": 28,
   "id": "b2a735a9",
   "metadata": {
    "scrolled": true
   },
   "outputs": [],
   "source": [
    "cd(\"DoubleNotch_N0.3_l30.0\")"
   ]
  },
  {
   "cell_type": "code",
   "execution_count": 29,
   "id": "8a4b863f",
   "metadata": {},
   "outputs": [
    {
     "name": "stdout",
     "output_type": "stream",
     "text": [
      "\n",
      " Entering displacemtent step1 :0.00125\n",
      " Relative error = 3.202033167584182e-17\n",
      " Entering displacemtent step2 :0.0025\n",
      " Relative error = 2.5220697064533037e-5\n",
      " Relative error = 7.565674585183583e-5\n",
      " Relative error = 1.3920292576275708e-8\n",
      " Relative error = 4.6148287003300583e-11\n",
      " Entering displacemtent step3 :0.00375\n",
      " Relative error = 2.08306081709388e-13\n",
      " Entering displacemtent step4 :0.005\n",
      " Relative error = 0.0001260538884318789\n",
      " Relative error = 0.00017643273475027345\n",
      " Relative error = 1.307282672421559e-7\n",
      " Relative error = 1.7468173750901734e-9\n",
      " Entering displacemtent step5 :0.00625\n",
      " Relative error = 3.178543408301114e-11\n",
      " Entering displacemtent step6 :0.007500000000000001\n",
      " Relative error = 0.00022659671008799155\n",
      " Relative error = 0.0002769371762086253\n",
      " Relative error = 4.6947363501908856e-7\n",
      " Relative error = 1.4332790041433718e-8\n",
      " Relative error = 5.95086299318021e-10\n",
      " Entering displacemtent step7 :0.00875\n",
      " Relative error = 2.6505756182489333e-11\n",
      " Entering displacemtent step8 :0.01\n",
      " Relative error = 0.00032654564687129717\n",
      " Relative error = 0.00037699430986629583\n",
      " Relative error = 1.1672561293608208e-6\n",
      " Relative error = 6.483745901824026e-8\n",
      " Relative error = 4.886133210915842e-9\n",
      " Entering displacemtent step9 :0.01125\n",
      " Relative error = 3.9474098476931475e-10\n",
      " Entering displacemtent step10 :0.012499999999999999\n",
      " Relative error = 0.0004255515004793458\n",
      " Relative error = 0.0004764207293568115\n",
      " Relative error = 2.3938957025320607e-6\n",
      " Relative error = 2.1441144619971277e-7\n",
      " Relative error = 2.5969376458359683e-8\n",
      " Relative error = 3.369227147556582e-9"
     ]
    },
    {
     "name": "stderr",
     "output_type": "stream",
     "text": [
      "┌ Warning: detected extension '.0_10' does not correspond to dataset type.\n",
      "│ Appending '.vtu' to filename.\n",
      "└ @ WriteVTK /home/akash/.julia/packages/WriteVTK/UoUwH/src/WriteVTK.jl:112\n"
     ]
    },
    {
     "name": "stdout",
     "output_type": "stream",
     "text": [
      "\n",
      " Entering displacemtent step11 :0.013749999999999998\n",
      " Relative error = 4.452779989414123e-10\n",
      " Entering displacemtent step12 :0.014999999999999998\n",
      " Relative error = 0.000523173587136239\n",
      " Relative error = 0.0005750195912758697\n",
      " Relative error = 4.373324490499649e-6\n",
      " Relative error = 5.873946829857933e-7\n",
      " Relative error = 1.0629909914083422e-7\n",
      " Relative error = 2.0594967532626407e-8\n",
      " Relative error = 4.0644990838755105e-9\n",
      " Entering displacemtent step13 :0.016249999999999997\n",
      " Relative error = 8.065816791385012e-10\n",
      " Entering displacemtent step14 :0.017499999999999998\n",
      " Relative error = 0.0006187897000788971\n",
      " Relative error = 0.0006725703104359621\n",
      " Relative error = 7.418542989124296e-6\n",
      " Relative error = 1.4274343767579681e-6\n",
      " Relative error = 3.687322832539037e-7\n",
      " Relative error = 1.0203485380899326e-7\n",
      " Relative error = 2.8777204603743114e-8\n",
      " Relative error = 8.163030873536322e-9\n",
      " Entering displacemtent step15 :0.01875\n",
      " Relative error = 2.31982759909498e-9\n",
      " Entering displacemtent step16 :0.02\n",
      " Relative error = 0.0007113848810493829\n",
      " Relative error = 0.0007688073841291692\n",
      " Relative error = 1.1994487811013316e-5\n",
      " Relative error = 3.21461902150577e-6\n",
      " Relative error = 1.1532428438193984e-6\n",
      " Relative error = 4.4418520127537265e-7\n",
      " Relative error = 1.747211690987093e-7\n",
      " Relative error = 6.921337540766036e-8\n",
      " Relative error = 2.748730849299297e-8\n",
      " Relative error = 1.0926516720012426e-8\n",
      " Entering displacemtent step17 :0.02125\n",
      " Relative error = 4.344959781540082e-9\n",
      " Entering displacemtent step18 :0.022500000000000003\n",
      " Relative error = 0.0007989388788372751\n",
      " Relative error = 0.0008633676565910138\n",
      " Relative error = 1.8866926473513432e-5\n",
      " Relative error = 6.949930896678211e-6\n",
      " Relative error = 3.4198652070373154e-6\n",
      " Relative error = 1.8179872312832999e-6\n",
      " Relative error = 9.929972798334976e-7\n",
      " Relative error = 5.486525339130554e-7\n",
      " Relative error = 3.0480991147400253e-7\n",
      " Relative error = 1.6981518758877967e-7\n",
      " Entering displacemtent step19 :0.023750000000000004\n",
      " Relative error = 9.474776560271404e-8\n",
      " Relative error = 0.0008759541798187698\n",
      " Relative error = 1.8297587293275997e-5\n",
      " Relative error = 7.5442580549599895e-6\n",
      " Relative error = 4.3731009719353335e-6\n",
      " Relative error = 2.7647782663472076e-6\n",
      " Relative error = 1.8026971858122643e-6\n",
      " Relative error = 1.1923428671103504e-6\n",
      " Relative error = 7.948848442925385e-7\n",
      " Relative error = 5.324545839811192e-7\n",
      " Entering displacemtent step20 :0.025000000000000005\n",
      " Relative error = 3.577555459242015e-7\n",
      " Relative error = 0.0009168780449580834\n",
      " Relative error = 2.22491449934074e-5\n",
      " Relative error = 1.0962856516373176e-5\n",
      " Relative error = 7.6068373903780165e-6\n",
      " Relative error = 5.777267205618473e-6\n",
      " Relative error = 4.5526883368061e-6\n",
      " Relative error = 3.6644479865807294e-6\n",
      " Relative error = 2.9932219041034624e-6\n",
      " Relative error = 2.472548900652703e-6"
     ]
    },
    {
     "name": "stderr",
     "output_type": "stream",
     "text": [
      "┌ Warning: detected extension '.0_20' does not correspond to dataset type.\n",
      "│ Appending '.vtu' to filename.\n",
      "└ @ WriteVTK /home/akash/.julia/packages/WriteVTK/UoUwH/src/WriteVTK.jl:112\n"
     ]
    },
    {
     "name": "stdout",
     "output_type": "stream",
     "text": [
      "\n",
      " Entering displacemtent step21 :0.026250000000000006\n",
      " Relative error = 2.060767729457929e-6\n",
      " Relative error = 0.0009363273528239253\n",
      " Relative error = 2.801734229422792e-5\n",
      " Relative error = 1.7479752380277302e-5\n",
      " Relative error = 1.5064231931264523e-5\n",
      " Relative error = 1.4148612449943742e-5\n",
      " Relative error = 1.3833808605598941e-5\n",
      " Relative error = 1.3892017020138474e-5\n",
      " Relative error = 1.4244425479430108e-5\n",
      " Relative error = 1.4866799522992882e-5\n",
      " Entering displacemtent step22 :0.027500000000000007\n",
      " Relative error = 1.5741987697000905e-5\n",
      " Relative error = 0.0009101841440768947\n",
      " Relative error = 5.118686171876612e-5\n",
      " Relative error = 4.3096904224559976e-5\n",
      " Relative error = 4.2817159336010234e-5\n",
      " Relative error = 4.281818491956107e-5\n",
      " Relative error = 4.231125331949309e-5\n",
      " Relative error = 4.098171349911806e-5\n",
      " Relative error = 3.918328835805022e-5\n",
      " Relative error = 3.733347502745763e-5\n",
      " Entering displacemtent step23 :0.028750000000000008\n",
      " Relative error = 3.553801694576476e-5\n",
      " Relative error = 0.0007993536949193275\n",
      " Relative error = 7.251334435084817e-5\n",
      " Relative error = 5.7174873242464624e-5\n",
      " Relative error = 5.350663761873457e-5\n",
      " Relative error = 5.169725546294927e-5\n",
      " Relative error = 5.0177125562107835e-5\n",
      " Relative error = 4.8668701967547555e-5\n",
      " Relative error = 4.760552505073263e-5\n",
      " Relative error = 4.691026688976389e-5\n",
      " Entering displacemtent step24 :0.03000000000000001\n",
      " Relative error = 4.579600098609596e-5\n",
      " Relative error = 0.0007664546401839819\n",
      " Relative error = 9.04743846597555e-5\n",
      " Relative error = 7.382195280869411e-5\n",
      " Relative error = 7.043721119367864e-5\n",
      " Relative error = 6.939051665536438e-5\n",
      " Relative error = 6.898358208240167e-5\n",
      " Relative error = 6.818644666200812e-5\n",
      " Relative error = 6.728376391498029e-5\n",
      " Relative error = 6.648599212721542e-5\n",
      " Entering displacemtent step25 :0.03125000000000001\n",
      " Relative error = 6.588100725336501e-5\n",
      " Relative error = 0.0007093058207883484\n",
      " Relative error = 0.00012300150663002336\n",
      " Relative error = 0.00010422881404456493\n",
      " Relative error = 0.00010097333402995139\n",
      " Relative error = 0.00010082244036381913\n",
      " Relative error = 0.00010138212715848327\n",
      " Relative error = 0.00010134567748542278\n",
      " Relative error = 0.00010154787236717648\n",
      " Relative error = 0.00010271205708116639\n",
      " Entering displacemtent step26 :0.03250000000000001\n",
      " Relative error = 0.00010273377173167006\n",
      " Relative error = 0.0006413694740062494\n",
      " Relative error = 0.0001706138728160241\n",
      " Relative error = 0.00014929355036781105\n",
      " Relative error = 0.00014657519598127198\n",
      " Relative error = 0.00014666624039705656\n",
      " Relative error = 0.0001476288604440691\n",
      " Relative error = 0.00014858811424817004\n",
      " Relative error = 0.0001492884195304668\n",
      " Relative error = 0.00015022625683968824\n",
      " Entering displacemtent step27 :0.03375000000000001\n",
      " Relative error = 0.00015138302841740715\n",
      " Relative error = 0.0005971676434263702\n",
      " Relative error = 0.00023564465538226077\n",
      " Relative error = 0.00021237395613169538\n",
      " Relative error = 0.0002095251331165413\n",
      " Relative error = 0.00020936751641732404\n",
      " Relative error = 0.0002103832769165956\n",
      " Relative error = 0.00021242837778629077\n",
      " Relative error = 0.00021485672677208333\n",
      " Relative error = 0.0002165730446946622\n",
      " Entering displacemtent step28 :0.03500000000000001\n",
      " Relative error = 0.0002182630631784911\n",
      " Relative error = 0.0006004997322950636\n",
      " Relative error = 0.00031613145180581584\n",
      " Relative error = 0.0002934045011788034\n",
      " Relative error = 0.0002904101133140508\n",
      " Relative error = 0.0002899769293018311\n",
      " Relative error = 0.0002909346628039624\n",
      " Relative error = 0.00029246072206488795\n",
      " Relative error = 0.0002943561272588575\n",
      " Relative error = 0.00029616798607980387\n",
      " Entering displacemtent step29 :0.03625000000000001\n",
      " Relative error = 0.0002976562633460632\n",
      " Relative error = 0.0006189345473610908\n",
      " Relative error = 0.0004018363264704414\n",
      " Relative error = 0.00037670821279766644\n",
      " Relative error = 0.00036804789208513594\n",
      " Relative error = 0.0003622446586841435\n",
      " Relative error = 0.0003571550770747509\n",
      " Relative error = 0.0003514676104269303\n",
      " Relative error = 0.0003458886545961285\n",
      " Relative error = 0.00033896057320776827\n",
      " Entering displacemtent step30 :0.03750000000000001\n",
      " Relative error = 0.00033200360374388647\n",
      " Relative error = 0.0005704232410146638\n",
      " Relative error = 0.0004044830918593991\n",
      " Relative error = 0.000368367512102708\n",
      " Relative error = 0.00034458569891628244\n",
      " Relative error = 0.0003234458506560658\n",
      " Relative error = 0.00030320932385074486\n",
      " Relative error = 0.00028401640278217453\n",
      " Relative error = 0.00026550191703163755\n",
      " Relative error = 0.00024784922627153885"
     ]
    },
    {
     "name": "stderr",
     "output_type": "stream",
     "text": [
      "┌ Warning: detected extension '.0_30' does not correspond to dataset type.\n",
      "│ Appending '.vtu' to filename.\n",
      "└ @ WriteVTK /home/akash/.julia/packages/WriteVTK/UoUwH/src/WriteVTK.jl:112\n"
     ]
    },
    {
     "name": "stdout",
     "output_type": "stream",
     "text": [
      "\n",
      " Entering displacemtent step31 :0.038750000000000014\n",
      " Relative error = 0.00023103506577713885\n",
      " Relative error = 0.0003808858181426025\n",
      " Relative error = 0.00025628310971754825\n",
      " Relative error = 0.00022304544382969668\n",
      " Relative error = 0.0002009732825995724\n",
      " Relative error = 0.00018268566924471477\n",
      " Relative error = 0.00016703168457999086\n",
      " Relative error = 0.00015331260207209033\n",
      " Relative error = 0.00014124054241828696\n",
      " Relative error = 0.00013087105896886\n",
      " Entering displacemtent step32 :0.040000000000000015\n",
      " Relative error = 0.00012154046538085937\n",
      " Relative error = 0.0002065477167901474\n",
      " Relative error = 0.0001385578022655353\n",
      " Relative error = 0.00012134301529684373\n",
      " Relative error = 0.0001101236395244069\n",
      " Relative error = 0.00010095019155446881\n",
      " Relative error = 9.335301286514832e-5\n",
      " Relative error = 8.632520646443219e-5\n",
      " Relative error = 8.009673943507353e-5\n",
      " Relative error = 7.488752241642966e-5\n",
      " Entering displacemtent step33 :0.041250000000000016\n",
      " Relative error = 6.988825723507281e-5\n",
      " Relative error = 0.00013387948219944695\n",
      " Relative error = 8.381091227574653e-5\n",
      " Relative error = 7.341369734063932e-5\n",
      " Relative error = 6.74013518940538e-5\n",
      " Relative error = 6.26801986478882e-5\n",
      " Relative error = 5.80765787205135e-5\n",
      " Relative error = 5.411245618927819e-5\n",
      " Relative error = 5.071715672645435e-5\n",
      " Relative error = 4.765628812117287e-5\n",
      " Entering displacemtent step34 :0.04250000000000002\n",
      " Relative error = 4.474729249515213e-5\n",
      " Relative error = 0.00010028375060905927\n",
      " Relative error = 5.7095409217026186e-5\n",
      " Relative error = 4.99421381628187e-5\n",
      " Relative error = 4.618805174947557e-5\n",
      " Relative error = 4.3324108499141706e-5\n",
      " Relative error = 4.051855887962926e-5\n",
      " Relative error = 3.7730831451167044e-5\n",
      " Relative error = 3.5532138558014134e-5\n",
      " Relative error = 3.3798140492472545e-5\n",
      " Entering displacemtent step35 :0.04375000000000002\n",
      " Relative error = 3.19172491636552e-5\n",
      " Relative error = 8.373588766597647e-5\n",
      " Relative error = 4.3614758931220283e-5\n",
      " Relative error = 3.780912110669899e-5\n",
      " Relative error = 3.472553872215213e-5\n",
      " Relative error = 3.250031292670468e-5\n",
      " Relative error = 3.073181237736563e-5\n",
      " Relative error = 2.9180340774425302e-5\n",
      " Relative error = 2.7531318766335093e-5\n",
      " Relative error = 2.5797929576433637e-5\n",
      " Entering displacemtent step36 :0.04500000000000002\n",
      " Relative error = 2.426202726593658e-5\n",
      " Relative error = 7.470376294753418e-5\n",
      " Relative error = 3.63881005047597e-5\n",
      " Relative error = 3.160873052872955e-5\n",
      " Relative error = 2.9108729890140044e-5\n",
      " Relative error = 2.6949671122792213e-5\n",
      " Relative error = 2.5071340565280984e-5\n",
      " Relative error = 2.3501491570027922e-5\n",
      " Relative error = 2.2208379726841315e-5\n",
      " Relative error = 2.1131240730883556e-5\n",
      " Entering displacemtent step37 :0.04625000000000002\n",
      " Relative error = 2.0144550433342117e-5\n",
      " Relative error = 6.98907999968967e-5\n",
      " Relative error = 3.15660288091337e-5\n",
      " Relative error = 2.69501364992267e-5\n",
      " Relative error = 2.4966533480445632e-5\n",
      " Relative error = 2.3708223666080845e-5\n",
      " Relative error = 2.263285638817376e-5\n",
      " Relative error = 2.1490823160950206e-5\n",
      " Relative error = 2.0247644145098176e-5\n",
      " Relative error = 1.90053699882152e-5\n",
      " Entering displacemtent step38 :0.04750000000000002\n",
      " Relative error = 1.790256331181406e-5\n",
      " Relative error = 6.748513152891083e-5\n",
      " Relative error = 2.895539168604056e-5\n",
      " Relative error = 2.4576140603585235e-5\n",
      " Relative error = 2.270896144850549e-5\n",
      " Relative error = 2.1454865306697306e-5\n",
      " Relative error = 2.0359542306901452e-5\n",
      " Relative error = 1.9317966720642473e-5\n",
      " Relative error = 1.829564815128406e-5\n",
      " Relative error = 1.7365428035255644e-5\n",
      " Entering displacemtent step39 :0.04875000000000002\n",
      " Relative error = 1.658593449039276e-5\n",
      " Relative error = 6.655808126874806e-5\n",
      " Relative error = 2.7803484420060385e-5\n",
      " Relative error = 2.3809805794289965e-5\n",
      " Relative error = 2.1994313067754592e-5\n",
      " Relative error = 2.0518674071670195e-5\n",
      " Relative error = 1.919982391851473e-5\n",
      " Relative error = 1.810070579572667e-5\n",
      " Relative error = 1.7141187621255846e-5\n",
      " Relative error = 1.6252438423547652e-5\n",
      " Entering displacemtent step40 :0.050000000000000024\n",
      " Relative error = 1.5458229197497817e-5\n",
      " Relative error = 6.577938291587798e-5\n",
      " Relative error = 2.6377775181034483e-5\n",
      " Relative error = 2.2543020648155617e-5\n",
      " Relative error = 2.0891525598622487e-5\n",
      " Relative error = 1.961222771056976e-5\n",
      " Relative error = 1.849223008165826e-5\n",
      " Relative error = 1.759618453499702e-5\n",
      " Relative error = 1.6870851360326925e-5\n",
      " Relative error = 1.625497265185721e-5"
     ]
    },
    {
     "name": "stderr",
     "output_type": "stream",
     "text": [
      "┌ Warning: detected extension '.0_40' does not correspond to dataset type.\n",
      "│ Appending '.vtu' to filename.\n",
      "└ @ WriteVTK /home/akash/.julia/packages/WriteVTK/UoUwH/src/WriteVTK.jl:112\n"
     ]
    }
   ],
   "source": [
    "uApp = 0\n",
    "delu = 0.05/40\n",
    "uAppMax = 0.05\n",
    "innerMax = 10\n",
    "count = 0\n",
    "Load = Float64[]\n",
    "LoadX = Float64[]\n",
    "Displacement = Float64[]\n",
    "\n",
    "sPrev = CellState(1.0,dΩ)\n",
    "sh = project(sPrev,model,dΩ,order)\n",
    "ψPlusPrev = CellState(0.0,dΩ)\n",
    "ψhPos = CellState(0.0,dΩ)\n",
    "ψhPos_in = project(ψhPos,model,dΩ,order)\n",
    "\n",
    "while uApp .< uAppMax \n",
    "        \n",
    "    uApp = uApp .+ delu\n",
    "    count = count .+ 1\n",
    "    \n",
    "    print(\"\\n Entering displacemtent step$count :\", float(uApp))\n",
    "    \n",
    "    for inner = 1:innerMax\n",
    "        \n",
    "        ψhPlusPrev = project(ψPlusPrev,model,dΩ,order)\n",
    "        \n",
    "        err = abs(sum(∫( Gc*lsp*∇(sh)⋅ ∇(sh) + 2*ψhPlusPrev*sh*sh  + (Gc/lsp)*sh*sh)*dΩ - ∫( (Gc/lsp)*sh)*dΩ))/abs(sum(∫( (Gc/lsp)*sh)*dΩ))\n",
    "        print(\"\\n Relative error = \",float(err))\n",
    "        \n",
    "        sh = stepPhaseField(uh,ψhPlusPrev)\n",
    "        uh,θh = stepDisp(uh,θh,sh,uApp)\n",
    "        \n",
    "        ψhPos_in = ψPos∘(ε(uh),∇(uh),θh,∇(θh))      \n",
    "        \n",
    "        update_state!(new_EnergyState,ψPlusPrev,ψhPos_in)\n",
    "        \n",
    "        if err < 1e-8\n",
    "            break \n",
    "        end\n",
    "    end\n",
    "    \n",
    "    Node_Force = sum(∫( n_Γ_Load ⋅ (σ_Bmod∘(ε(uh),ε(uh),sh)) ) *dΓ_Load + ∫( n_Γ_Load ⋅ (σ_Cmod∘(ε_Skw∘(∇(uh),θh),sh) ) )  *dΓ_Load)\n",
    "    Load_Act = sqrt(Node_Force[1]^2 + Node_Force[2]^2)\n",
    "    uApp_Act = sqrt(uApp^2 + uApp^2)\n",
    "    \n",
    "    push!(Load, Load_Act)\n",
    "    push!(LoadX, Node_Force[1])\n",
    "    push!(Displacement, uApp_Act)\n",
    "    if mod(count,10) == 0\n",
    "         writevtk(Ω,\"results_DoubleNotch_N0.3_l30.0_$count\",cellfields=\n",
    "        [\"uh\"=>uh,\"s\"=>sh ,\"θ\" => θh, \"epsi\"=>ε(uh),\"Sig\"=>(σ_Bmod∘(ε(uh),ε(uh),sh))])\n",
    "    end\n",
    "end"
   ]
  },
  {
   "cell_type": "code",
   "execution_count": 30,
   "id": "cf4184cd",
   "metadata": {},
   "outputs": [
    {
     "name": "stderr",
     "output_type": "stream",
     "text": [
      "┌ Warning: detected extension '.0_40' does not correspond to dataset type.\n",
      "│ Appending '.vtu' to filename.\n",
      "└ @ WriteVTK /home/akash/.julia/packages/WriteVTK/UoUwH/src/WriteVTK.jl:112\n"
     ]
    },
    {
     "data": {
      "text/plain": [
       "([\"results_DoubleNotch_N0.3_l30.0_40.vtu\"],)"
      ]
     },
     "execution_count": 30,
     "metadata": {},
     "output_type": "execute_result"
    }
   ],
   "source": [
    "writevtk(Ω,\"results_DoubleNotch_N0.3_l30.0_$count\",cellfields=\n",
    "        [\"uh\"=>uh,\"s\"=>sh ,\"θ\" => θh, \"epsi\"=>ε(uh)])"
   ]
  },
  {
   "cell_type": "code",
   "execution_count": 31,
   "id": "emerging-negative",
   "metadata": {
    "scrolled": true
   },
   "outputs": [
    {
     "data": {
      "image/png": "[encoded data removed]",
      "text/plain": [
       "Figure(PyObject <Figure size 640x480 with 1 Axes>)"
      ]
     },
     "metadata": {},
     "output_type": "display_data"
    },
    {
     "data": {
      "text/plain": [
       "1-element Vector{PyCall.PyObject}:\n",
       " PyObject <matplotlib.lines.Line2D object at 0x7f8cf0ceb2b0>"
      ]
     },
     "execution_count": 31,
     "metadata": {},
     "output_type": "execute_result"
    }
   ],
   "source": [
    "plot(Displacement,Load*1e-3)"
   ]
  },
  {
   "cell_type": "code",
   "execution_count": 32,
   "id": "fb9175f5",
   "metadata": {},
   "outputs": [],
   "source": [
    "cd(\"../DispLoadData_DoubleNotch_Vol-Dev\")"
   ]
  },
  {
   "cell_type": "code",
   "execution_count": 33,
   "id": "f567a89a",
   "metadata": {},
   "outputs": [],
   "source": [
    "using DelimitedFiles\n",
    "Disp = writedlm( \"DispDataDoubleNotchSpectral_N0.3_l30.0.csv\",  Displacement, ',')\n",
    "Force = writedlm(\"LoadDataDoubleNotchSpectral_N0.3_l30.0.csv\",  Load, ',')"
   ]
  }
 ],
 "metadata": {
  "@webio": {
   "lastCommId": null,
   "lastKernelId": null
  },
  "kernelspec": {
   "display_name": "Julia 1.8.0",
   "language": "julia",
   "name": "julia-1.8"
  },
  "language_info": {
   "file_extension": ".jl",
   "mimetype": "application/julia",
   "name": "julia",
   "version": "1.8.0"
  }
 },
 "nbformat": 4,
 "nbformat_minor": 5
}
