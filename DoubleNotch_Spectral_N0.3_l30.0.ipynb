{
 "cells": [
  {
   "cell_type": "code",
   "execution_count": 1,
   "id": "ab7198fc",
   "metadata": {},
   "outputs": [],
   "source": [
    "using Gmsh: gmsh\n",
    "using Gridap\n",
    "using GridapGmsh\n",
    "using Gridap.TensorValues\n",
    "using PyPlot\n",
    "using LinearAlgebra"
   ]
  },
  {
   "cell_type": "code",
   "execution_count": 2,
   "id": "interim-caution",
   "metadata": {
    "scrolled": true
   },
   "outputs": [
    {
     "name": "stdout",
     "output_type": "stream",
     "text": [
      "Info    : Meshing 1D...\n",
      "Info    : [  0%] Meshing curve 1 (Line)\n",
      "Info    : [ 10%] Meshing curve 2 (Line)\n",
      "Info    : [ 20%] Meshing curve 3 (Line)\n",
      "Info    : [ 30%] Meshing curve 4 (Line)\n",
      "Info    : [ 40%] Meshing curve 5 (Line)\n",
      "Info    : [ 50%] Meshing curve 6 (Line)\n",
      "Info    : [ 50%] Meshing curve 7 (Line)\n",
      "Info    : [ 60%] Meshing curve 8 (Line)\n",
      "Info    : [ 70%] Meshing curve 9 (Line)\n",
      "Info    : [ 80%] Meshing curve 10 (Line)\n",
      "Info    : [ 90%] Meshing curve 11 (Line)\n",
      "Info    : [100%] Meshing curve 12 (Line)\n",
      "Info    : Done meshing 1D (Wall 0.00854252s, CPU 0.008391s)\n",
      "Info    : Meshing 2D...\n",
      "Info    : Meshing surface 1 (Plane, Frontal-Delaunay)\n",
      "Info    : Done meshing 2D (Wall 2.7892s, CPU 2.75503s)\n",
      "Info    : 69936 nodes 139882 elements\n",
      "Info    : Writing 'DoubleEdgeNotch.msh'...\n",
      "Info    : Done writing 'DoubleEdgeNotch.msh'\n"
     ]
    },
    {
     "name": "stderr",
     "output_type": "stream",
     "text": [
      "Warning : Unknown entity of dimension 2 and tag 1 in physical group 1\n",
      "Warning : Unknown entity of dimension 1 and tag 1 in physical group 2\n",
      "Warning : Unknown entity of dimension 1 and tag 7 in physical group 3\n"
     ]
    }
   ],
   "source": [
    "const L = 100\n",
    "const CH = 25         #Crack height\n",
    "const CW = 0.01*CH    #Crack Width\n",
    "const hf = CH/100     #Mesh size parameter\n",
    "const hfc = hf/4      #Mesh size parameter\n",
    "const h = 10*hf       #Mesh size parameter\n",
    "const lsp = hf*2.1\n",
    "\n",
    "gmsh.initialize()\n",
    "gmsh.option.setNumber(\"General.Terminal\", 1)\n",
    "\n",
    "p1 = gmsh.model.geo.addPoint(0.0, 0.0, 0.0, h)\n",
    "p2 = gmsh.model.geo.addPoint(L, 0, 0.0, h)\n",
    "p3 = gmsh.model.geo.addPoint(L, 0.5*(L-CW), 0.0, h)\n",
    "p4 = gmsh.model.geo.addPoint(L-CH, 0.5*(L-CW), 0.0, hfc)\n",
    "p5 = gmsh.model.geo.addPoint(L-CH, 0.5*(L+CW), 0.0, hfc)\n",
    "p6 = gmsh.model.geo.addPoint(L, 0.5*(L+CW), 0.0, h)\n",
    "p7 = gmsh.model.geo.addPoint(L, L, 0.0, h)\n",
    "p8 = gmsh.model.geo.addPoint(0.0, L, 0.0, h)\n",
    "p9 = gmsh.model.geo.addPoint(0.0, 0.5*(L+CW), 0.0, h)\n",
    "p10 = gmsh.model.geo.addPoint(CH, 0.5*(L+CW), 0.0, hfc)\n",
    "p11 = gmsh.model.geo.addPoint(CH, 0.5*(L-CW), 0.0, hfc)\n",
    "p12 = gmsh.model.geo.addPoint(0.0, 0.5*(L-CW), 0.0, h)\n",
    "\n",
    "l1 = gmsh.model.geo.addLine(p1, p2)\n",
    "l2 = gmsh.model.geo.addLine(p2, p3)\n",
    "l3 = gmsh.model.geo.addLine(p3, p4)\n",
    "l4 = gmsh.model.geo.addLine(p4, p5)\n",
    "l5 = gmsh.model.geo.addLine(p5, p6)\n",
    "l6 = gmsh.model.geo.addLine(p6, p7)\n",
    "l7 = gmsh.model.geo.addLine(p7, p8)\n",
    "l8 = gmsh.model.geo.addLine(p8, p9)\n",
    "l9 = gmsh.model.geo.addLine(p9, p10)\n",
    "l10 = gmsh.model.geo.addLine(p10, p11)\n",
    "l11 = gmsh.model.geo.addLine(p11, p12)\n",
    "l12 = gmsh.model.geo.addLine(p12, p1)\n",
    "\n",
    "cl1 = gmsh.model.geo.addCurveLoop([l1,l2,l3,l4,l5,l6,l7,l8,l9,l10,l11,l12])\n",
    "ps1 = gmsh.model.geo.addPlaneSurface([cl1])\n",
    "\n",
    "pg1 = gmsh.model.addPhysicalGroup(2, [ps1])\n",
    "\n",
    "pg2 = gmsh.model.addPhysicalGroup(1, [l1])\n",
    "pg3 = gmsh.model.addPhysicalGroup(1, [l7])\n",
    "\n",
    "gmsh.model.setPhysicalName(2, pg1, \"Domain\")\n",
    "gmsh.model.setPhysicalName(1, pg2, \"DirichletBottom\")\n",
    "gmsh.model.setPhysicalName(1, pg3, \"LoadLine\")\n",
    "\n",
    "gmsh.model.mesh.field.add(\"Box\", 11)\n",
    "gmsh.model.mesh.field.setNumber(11, \"VIn\", hf)\n",
    "gmsh.model.mesh.field.setNumber(11, \"VOut\", h)\n",
    "gmsh.model.mesh.field.setNumber(11, \"XMin\", 0.5*(L-3*CH))\n",
    "gmsh.model.mesh.field.setNumber(11, \"XMax\", 0.5*(L+3*CH))\n",
    "gmsh.model.mesh.field.setNumber(11, \"YMin\", 0.5*(L-2*CH))\n",
    "gmsh.model.mesh.field.setNumber(11, \"YMax\", 0.5*(L+2*CH))\n",
    "\n",
    "gmsh.model.mesh.field.setAsBackgroundMesh(11)\n",
    "\n",
    "gmsh.model.geo.synchronize()\n",
    "gmsh.model.mesh.generate(2)\n",
    "gmsh.write(\"DoubleEdgeNotch.msh\")\n",
    "gmsh.finalize()"
   ]
  },
  {
   "cell_type": "code",
   "execution_count": 3,
   "id": "1746091a",
   "metadata": {},
   "outputs": [
    {
     "name": "stdout",
     "output_type": "stream",
     "text": [
      "Info    : Reading 'DoubleEdgeNotch.msh'...\n",
      "Info    : 25 entities\n",
      "Info    : 69936 nodes\n",
      "Info    : 139518 elements\n",
      "Info    : [ 10%] Reading elements                                          \r",
      "Info    : [ 20%] Reading elements                                          \r",
      "Info    : [ 30%] Reading elements                                          \r",
      "Info    : [ 40%] Reading elements                                          \r",
      "Info    : [ 50%] Reading elements                                          \r",
      "Info    : [ 50%] Reading elements                                          \r",
      "Info    : [ 60%] Reading elements                                          \r",
      "Info    : [ 70%] Reading elements                                          \r",
      "Info    : [ 80%] Reading elements                                          \r",
      "Info    : [ 90%] Reading elements                                          \r",
      "Info    : [100%] Reading elements                                          \r",
      "                                          \r",
      "Info    : Done reading 'DoubleEdgeNotch.msh'\n"
     ]
    },
    {
     "data": {
      "text/plain": [
       "3-element Vector{Vector{String}}:\n",
       " [\"DoubleEdgeNotch_0.vtu\"]\n",
       " [\"DoubleEdgeNotch_1.vtu\"]\n",
       " [\"DoubleEdgeNotch_2.vtu\"]"
      ]
     },
     "execution_count": 3,
     "metadata": {},
     "output_type": "execute_result"
    }
   ],
   "source": [
    "model = GmshDiscreteModel(\"DoubleEdgeNotch.msh\")\n",
    "writevtk(model,\"DoubleEdgeNotch\")"
   ]
  },
  {
   "cell_type": "code",
   "execution_count": 4,
   "id": "41326f7b",
   "metadata": {},
   "outputs": [
    {
     "data": {
      "text/plain": [
       "139438-element Vector{Int8}:\n",
       " 3\n",
       " 3\n",
       " 3\n",
       " 3\n",
       " 3\n",
       " 3\n",
       " 3\n",
       " 3\n",
       " 3\n",
       " 3\n",
       " 3\n",
       " 3\n",
       " 3\n",
       " ⋮\n",
       " 3\n",
       " 3\n",
       " 3\n",
       " 3\n",
       " 3\n",
       " 3\n",
       " 3\n",
       " 3\n",
       " 3\n",
       " 3\n",
       " 3\n",
       " 3"
      ]
     },
     "execution_count": 4,
     "metadata": {},
     "output_type": "execute_result"
    }
   ],
   "source": [
    "using Gridap.Geometry\n",
    "labels = get_face_labeling(model)\n",
    "dimension = 2\n",
    "mat_tags = get_face_tag(labels,dimension)"
   ]
  },
  {
   "cell_type": "code",
   "execution_count": 5,
   "id": "6e1500bb",
   "metadata": {},
   "outputs": [
    {
     "data": {
      "text/plain": [
       "1.0e-15"
      ]
     },
     "execution_count": 5,
     "metadata": {},
     "output_type": "execute_result"
    }
   ],
   "source": [
    "const G = 12.5e3\n",
    "const ν = 0.2\n",
    "const E = G*(2*(1+ν))\n",
    "l = 15.0\n",
    "N = 0.3\n",
    "Gc = 0.1\n",
    "\n",
    "const η = 1e-15"
   ]
  },
  {
   "cell_type": "code",
   "execution_count": 6,
   "id": "5bf828a6",
   "metadata": {},
   "outputs": [
    {
     "data": {
      "text/plain": [
       "1.1250000000000035e7"
      ]
     },
     "execution_count": 6,
     "metadata": {},
     "output_type": "execute_result"
    }
   ],
   "source": [
    "μ = 11263.7362637363\n",
    "κ = 2472.527472527478\n",
    "λ = 8333.333333333363\n",
    "γ = 1.1250000000000035e7"
   ]
  },
  {
   "cell_type": "code",
   "execution_count": 7,
   "id": "handed-nomination",
   "metadata": {},
   "outputs": [
    {
     "data": {
      "text/plain": [
       "Eigen (generic function with 1 method)"
      ]
     },
     "execution_count": 7,
     "metadata": {},
     "output_type": "execute_result"
    }
   ],
   "source": [
    "function Eigen(ε)\n",
    "    εArray = get_array(ε)\n",
    "    Λ, P = eigen(εArray)\n",
    "    ε1 = Λ[1]\n",
    "    ε2 = Λ[2]\n",
    "    if ε1 >= 0 &&  ε2 >= 0\n",
    "        Λpos = [ε1 0; 0 ε2]\n",
    "        Λneg = [0 0; 0 0]\n",
    "    elseif ε1 >= 0 &&  ε2 < 0\n",
    "        Λpos = [ε1 0; 0 0]\n",
    "        Λneg = [0 0; 0 ε2]\n",
    "    elseif ε1 < 0 &&  ε2 >= 0\n",
    "        Λpos = [0 0; 0 ε2]\n",
    "        Λneg = [ε1 0; 0 0]\n",
    "    elseif ε1 < 0 &&  ε2 < 0\n",
    "        Λpos = [0 0; 0 0]\n",
    "        Λneg = [ε1 0; 0 ε2]\n",
    "    end \n",
    "    εPos = TensorValue(P*Λpos*P')\n",
    "    εNeg = TensorValue(P*Λneg*P')\n",
    "    if tr(ε) >= 0\n",
    "        ψPos = 0.5*(λ*(tr(ε))^2 + (2*μ+κ)*(εPos ⊙ εPos))\n",
    "        ψNeg = 0.5*(2*μ+κ)*(εNeg ⊙ εNeg)\n",
    "    else\n",
    "        ψPos = 0.5*((2*μ+κ)*(εPos ⊙ εPos))\n",
    "        ψNeg = 0.5*(λ*(tr(ε))^2 +(2*μ+κ)*(εNeg ⊙ εNeg))\n",
    "    end\n",
    "    if ψPos >= ψNeg\n",
    "        case = 1\n",
    "    else\n",
    "        case = 2\n",
    "    end\n",
    "    return case, ψPos, ψNeg \n",
    "end"
   ]
  },
  {
   "cell_type": "code",
   "execution_count": 8,
   "id": "dental-mouse",
   "metadata": {},
   "outputs": [
    {
     "data": {
      "text/plain": [
       "σ_Bmod (generic function with 1 method)"
      ]
     },
     "execution_count": 8,
     "metadata": {},
     "output_type": "execute_result"
    }
   ],
   "source": [
    "function σ_Bmod(ε, ε_in, s_in)\n",
    "    case, ψP, ψN = Eigen(ε_in)\n",
    "    if case == 1\n",
    "        σM = (s_in^2 + η)*(λ*tr(ε)*one(ε) + (2*μ + κ)*(ε))\n",
    "    else\n",
    "        σM = (λ*tr(ε)*one(ε) + (2*μ + κ)*(ε))\n",
    "    end\n",
    "    return σM\n",
    "end"
   ]
  },
  {
   "cell_type": "code",
   "execution_count": 9,
   "id": "5d043cc5",
   "metadata": {},
   "outputs": [
    {
     "data": {
      "text/plain": [
       "TensorValue{2, 2, Int64, 4}(0, -1, 1, 0)"
      ]
     },
     "execution_count": 9,
     "metadata": {},
     "output_type": "execute_result"
    }
   ],
   "source": [
    "E_Matrx = TensorValue(0,-1,1,0)"
   ]
  },
  {
   "cell_type": "code",
   "execution_count": 10,
   "id": "edcea0c0",
   "metadata": {},
   "outputs": [
    {
     "data": {
      "text/plain": [
       "ε_Skw (generic function with 1 method)"
      ]
     },
     "execution_count": 10,
     "metadata": {},
     "output_type": "execute_result"
    }
   ],
   "source": [
    "function ε_Skw(∇,θ)\n",
    "    ∇ᵀ = transpose(∇)\n",
    "    w = (0.5*(∇ᵀ - ∇)) - (E_Matrx*θ)\n",
    "    return w\n",
    "end"
   ]
  },
  {
   "cell_type": "code",
   "execution_count": 11,
   "id": "b7ab7a3c",
   "metadata": {},
   "outputs": [
    {
     "data": {
      "text/plain": [
       "σ_Cmod (generic function with 1 method)"
      ]
     },
     "execution_count": 11,
     "metadata": {},
     "output_type": "execute_result"
    }
   ],
   "source": [
    "function σ_Cmod(ϵ_skew, s_in)\n",
    "    σM = gd(s_in)*(κ*ϵ_skew)\n",
    "    return σM\n",
    "end"
   ]
  },
  {
   "cell_type": "code",
   "execution_count": 12,
   "id": "9fb6f0fe",
   "metadata": {},
   "outputs": [
    {
     "data": {
      "text/plain": [
       "M_mod (generic function with 1 method)"
      ]
     },
     "execution_count": 12,
     "metadata": {},
     "output_type": "execute_result"
    }
   ],
   "source": [
    "function M_mod(∇, s_in)\n",
    "    M = gd(s_in)*(γ*∇)\n",
    "    return M\n",
    "end"
   ]
  },
  {
   "cell_type": "code",
   "execution_count": 13,
   "id": "8298b5f4",
   "metadata": {},
   "outputs": [
    {
     "data": {
      "text/plain": [
       "gd (generic function with 1 method)"
      ]
     },
     "execution_count": 13,
     "metadata": {},
     "output_type": "execute_result"
    }
   ],
   "source": [
    "function gd(s_in)\n",
    "    M = s_in^2\n",
    "    return M\n",
    "end"
   ]
  },
  {
   "cell_type": "code",
   "execution_count": 14,
   "id": "f2202328",
   "metadata": {},
   "outputs": [
    {
     "data": {
      "text/plain": [
       "ψPos (generic function with 1 method)"
      ]
     },
     "execution_count": 14,
     "metadata": {},
     "output_type": "execute_result"
    }
   ],
   "source": [
    "function ψPos(ε_in,∇_uh,θ, ∇_th)\n",
    "    ∇_uhᵀ = transpose(∇_uh)\n",
    "    ϵ_skew = 0.5*(∇_uhᵀ - ∇_uh) - E_Matrx*θ\n",
    "    case, ψP, ψN = Eigen(ε_in)\n",
    "    ψPos = ψP + 0.5*(κ*(ϵ_skew ⊙ ϵ_skew)) + 0.5*γ*(∇_th ⋅ ∇_th)\n",
    "    return ψPos \n",
    "end"
   ]
  },
  {
   "cell_type": "code",
   "execution_count": 15,
   "id": "local-freeware",
   "metadata": {},
   "outputs": [
    {
     "data": {
      "text/plain": [
       "new_EnergyState (generic function with 1 method)"
      ]
     },
     "execution_count": 15,
     "metadata": {},
     "output_type": "execute_result"
    }
   ],
   "source": [
    "function new_EnergyState(ψPlusPrev_in,ψhPos_in)\n",
    "    ψPlus_in = ψhPos_in\n",
    "        if ψPlus_in >= ψPlusPrev_in\n",
    "            ψPlus_out = ψPlus_in\n",
    "        else\n",
    "            ψPlus_out = ψPlusPrev_in\n",
    "        end\n",
    "    true,ψPlus_out\n",
    "end"
   ]
  },
  {
   "cell_type": "code",
   "execution_count": 16,
   "id": "3bf5a3ce",
   "metadata": {},
   "outputs": [
    {
     "data": {
      "text/plain": [
       "project (generic function with 1 method)"
      ]
     },
     "execution_count": 16,
     "metadata": {},
     "output_type": "execute_result"
    }
   ],
   "source": [
    "function project(q,model,dΩ,order)\n",
    "  reffe = ReferenceFE(lagrangian,Float64,order)\n",
    "  V = FESpace(model,reffe,conformity=:L2)\n",
    "  a(u,v) = ∫( u*v )*dΩ\n",
    "  l(v) = ∫( v*q )*dΩ\n",
    "  op = AffineFEOperator(a,l,V,V)\n",
    "  qh = solve(op)\n",
    "  qh\n",
    "end"
   ]
  },
  {
   "cell_type": "code",
   "execution_count": 17,
   "id": "3f46de93",
   "metadata": {},
   "outputs": [
    {
     "data": {
      "text/plain": [
       "2"
      ]
     },
     "execution_count": 17,
     "metadata": {},
     "output_type": "execute_result"
    }
   ],
   "source": [
    "order = 1\n",
    "degree = 2*order"
   ]
  },
  {
   "cell_type": "code",
   "execution_count": 18,
   "id": "86f3f2bf",
   "metadata": {},
   "outputs": [
    {
     "data": {
      "text/plain": [
       "Measure()"
      ]
     },
     "execution_count": 18,
     "metadata": {},
     "output_type": "execute_result"
    }
   ],
   "source": [
    "Ω = Triangulation(model)\n",
    "dΩ = Measure(Ω,degree)"
   ]
  },
  {
   "cell_type": "code",
   "execution_count": 19,
   "id": "absolute-workplace",
   "metadata": {},
   "outputs": [
    {
     "data": {
      "text/plain": [
       "SingleFieldFEFunction():\n",
       " num_cells: 139438\n",
       " DomainStyle: ReferenceDomain()\n",
       " Triangulation: BodyFittedTriangulation()\n",
       " Triangulation id: 1820915678341885466"
      ]
     },
     "execution_count": 19,
     "metadata": {},
     "output_type": "execute_result"
    }
   ],
   "source": [
    "sId = CellState(1.0,dΩ)\n",
    "shId = project(sId,model,dΩ,order)"
   ]
  },
  {
   "cell_type": "code",
   "execution_count": 20,
   "id": "700af0f9",
   "metadata": {},
   "outputs": [
    {
     "data": {
      "text/plain": [
       "GenericCellField():\n",
       " num_cells: 40\n",
       " DomainStyle: ReferenceDomain()\n",
       " Triangulation: BoundaryTriangulation()\n",
       " Triangulation id: 146657134383870865"
      ]
     },
     "execution_count": 20,
     "metadata": {},
     "output_type": "execute_result"
    }
   ],
   "source": [
    "LoadTagId = get_tag_from_name(labels,\"LoadLine\")\n",
    "Γ_Load = BoundaryTriangulation(model,tags = LoadTagId)\n",
    "dΓ_Load = Measure(Γ_Load,degree)\n",
    "n_Γ_Load = get_normal_vector(Γ_Load)"
   ]
  },
  {
   "cell_type": "code",
   "execution_count": 21,
   "id": "950f5dcd",
   "metadata": {},
   "outputs": [
    {
     "data": {
      "text/plain": [
       "SingleFieldFEFunction():\n",
       " num_cells: 139438\n",
       " DomainStyle: ReferenceDomain()\n",
       " Triangulation: BodyFittedTriangulation()\n",
       " Triangulation id: 1820915678341885466"
      ]
     },
     "execution_count": 21,
     "metadata": {},
     "output_type": "execute_result"
    }
   ],
   "source": [
    "reffe_PF = ReferenceFE(lagrangian,Float64,order)\n",
    "V0_PF = TestFESpace(model,reffe_PF;conformity=:H1)\n",
    "sh = zero(V0_PF)"
   ]
  },
  {
   "cell_type": "code",
   "execution_count": 22,
   "id": "14340b87",
   "metadata": {},
   "outputs": [
    {
     "data": {
      "text/plain": [
       "SingleFieldFEFunction():\n",
       " num_cells: 139438\n",
       " DomainStyle: ReferenceDomain()\n",
       " Triangulation: BodyFittedTriangulation()\n",
       " Triangulation id: 1820915678341885466"
      ]
     },
     "execution_count": 22,
     "metadata": {},
     "output_type": "execute_result"
    }
   ],
   "source": [
    "reffe_theta = ReferenceFE(lagrangian,Float64,order)\n",
    "V0_theta  = TestFESpace(model,reffe_theta;\n",
    "  conformity=:H1)\n",
    "θh = zero(V0_theta)"
   ]
  },
  {
   "cell_type": "code",
   "execution_count": 23,
   "id": "1942f3e1",
   "metadata": {},
   "outputs": [
    {
     "data": {
      "text/plain": [
       "SingleFieldFEFunction():\n",
       " num_cells: 139438\n",
       " DomainStyle: ReferenceDomain()\n",
       " Triangulation: BodyFittedTriangulation()\n",
       " Triangulation id: 1820915678341885466"
      ]
     },
     "execution_count": 23,
     "metadata": {},
     "output_type": "execute_result"
    }
   ],
   "source": [
    "reffe_Disp = ReferenceFE(lagrangian,VectorValue{2,Float64},order)\n",
    "        V0_Disp = TestFESpace(model,reffe_Disp;\n",
    "          conformity=:H1,\n",
    "          dirichlet_tags=[\"DirichletBottom\",\"LoadLine\"],\n",
    "          dirichlet_masks=[(true,true), (true,true)])\n",
    "\n",
    "uh = zero(V0_Disp)"
   ]
  },
  {
   "cell_type": "code",
   "execution_count": 24,
   "id": "e2183bf7",
   "metadata": {},
   "outputs": [
    {
     "data": {
      "text/plain": [
       "MultiFieldFESpace()"
      ]
     },
     "execution_count": 24,
     "metadata": {},
     "output_type": "execute_result"
    }
   ],
   "source": [
    "V0 = MultiFieldFESpace([V0_Disp,V0_theta])"
   ]
  },
  {
   "cell_type": "code",
   "execution_count": 25,
   "id": "4cdc8ca3",
   "metadata": {},
   "outputs": [
    {
     "data": {
      "text/plain": [
       "stepPhaseField (generic function with 1 method)"
      ]
     },
     "execution_count": 25,
     "metadata": {},
     "output_type": "execute_result"
    }
   ],
   "source": [
    "function  stepPhaseField(uh_in,ψPlusPrev_in)\n",
    "    U_PF = TrialFESpace(V0_PF)\n",
    "        a_PF(s,ϕ) = ∫( (Gc*lsp*(∇(ϕ)⋅ ∇(s))) + (2*s*ψPlusPrev_in*ϕ)  + ((Gc/lsp)*s*ϕ) )*dΩ\n",
    "        b_PF(ϕ) = ∫( (Gc/lsp)*ϕ )*dΩ\n",
    "        op_PF = AffineFEOperator(a_PF,b_PF,U_PF,V0_PF)\n",
    "        sh_out = solve(op_PF)\n",
    "    return sh_out\n",
    "end"
   ]
  },
  {
   "cell_type": "code",
   "execution_count": 26,
   "id": "f5566175",
   "metadata": {},
   "outputs": [
    {
     "data": {
      "text/plain": [
       "Skw (generic function with 1 method)"
      ]
     },
     "execution_count": 26,
     "metadata": {},
     "output_type": "execute_result"
    }
   ],
   "source": [
    "function Skw(u,θ)\n",
    "    ∇ᵀ = transpose(∇(u))\n",
    "    w = (0.5*(∇ᵀ - ∇(u)) - (E_Matrx*θ))\n",
    "    return w\n",
    "end"
   ]
  },
  {
   "cell_type": "code",
   "execution_count": 27,
   "id": "9eab4a9c",
   "metadata": {},
   "outputs": [
    {
     "data": {
      "text/plain": [
       "stepDisp (generic function with 1 method)"
      ]
     },
     "execution_count": 27,
     "metadata": {},
     "output_type": "execute_result"
    }
   ],
   "source": [
    "function stepDisp(uh_in,θ_in,sh_in,uApp)\n",
    "        uApp1(x) = VectorValue(0.0,0.0)\n",
    "        uApp2(x) = VectorValue(uApp,uApp)\n",
    "        U_Disp = TrialFESpace(V0_Disp,[uApp1,uApp2])\n",
    "        \n",
    "        θApp1(x) = 0.0\n",
    "        U_theta = TrialFESpace(V0_theta)\n",
    "        U = MultiFieldFESpace([U_Disp,U_theta ])\n",
    "\n",
    "        a((u,θ),(w,v))  = ∫( (ε(w) ⊙ (σ_Bmod∘(ε(u),ε(uh_in),sh_in)) ) + ((Skw(w,v)) ⊙ (σ_Cmod∘(ε_Skw∘(∇(u),θ), sh_in)) ) + ((∇(v))⋅ (M_mod∘(∇(θ),sh_in))) - (v*((E_Matrx) ⊙ (σ_Cmod∘(ε_Skw∘(∇(u),θ),sh_in))) ))*dΩ\n",
    "        b((w,v))= 0\n",
    "        op_Disp = AffineFEOperator(a,b,U,V0)\n",
    "        uh_out = solve(op_Disp)\n",
    "        uh_out,phih_out = uh_out\n",
    "    return uh_out, phih_out\n",
    "end"
   ]
  },
  {
   "cell_type": "code",
   "execution_count": 28,
   "id": "b2a735a9",
   "metadata": {},
   "outputs": [],
   "source": [
    "cd(\"DoubleNotch_N0.3_l30\")"
   ]
  },
  {
   "cell_type": "code",
   "execution_count": 1,
   "id": "5d74d4c1-d2c9-4606-838b-902bdca11c73",
   "metadata": {},
   "outputs": [
    {
     "data": {
      "text/plain": [
       "0.00125"
      ]
     },
     "execution_count": 1,
     "metadata": {},
     "output_type": "execute_result"
    }
   ],
   "source": [
    "0.05/40"
   ]
  },
  {
   "cell_type": "code",
   "execution_count": 29,
   "id": "8a4b863f",
   "metadata": {},
   "outputs": [
    {
     "name": "stdout",
     "output_type": "stream",
     "text": [
      "\n",
      " Entering displacemtent step1 :0.00125\n",
      " Relative error = 3.202033167584182e-17\n",
      " Entering displacemtent step2 :0.0025\n",
      " Relative error = 2.38509906645367e-5\n",
      " Relative error = 7.154812194102779e-5\n",
      " Relative error = 1.3391798218549607e-8\n",
      " Relative error = 4.404107632721407e-11\n",
      " Entering displacemtent step3 :0.00375\n",
      " Relative error = 1.9735106561176581e-13\n",
      " Entering displacemtent step4 :0.005\n",
      " Relative error = 0.00011920927123987038\n",
      " Relative error = 0.00016685554262015062\n",
      " Relative error = 1.257791051445601e-7\n",
      " Relative error = 1.6673111245502264e-9\n",
      " Entering displacemtent step5 :0.00625\n",
      " Relative error = 3.0122583581840426e-11\n",
      " Entering displacemtent step6 :0.007500000000000001\n",
      " Relative error = 0.0002142992706322759\n",
      " Relative error = 0.00026191788664561903\n",
      " Relative error = 4.518278908267402e-7\n",
      " Relative error = 1.3747134323964288e-8\n",
      " Relative error = 5.700148626918675e-10\n",
      " Entering displacemtent step7 :0.00875\n",
      " Relative error = 2.522326165994723e-11\n",
      " Entering displacemtent step8 :0.01\n",
      " Relative error = 0.0003088400255186889\n",
      " Relative error = 0.0003565767951513169\n",
      " Relative error = 1.1238641153379055e-6\n",
      " Relative error = 6.196992205277715e-8\n",
      " Relative error = 4.640223164720312e-9\n",
      " Entering displacemtent step9 :0.01125\n",
      " Relative error = 3.7217926681464307e-10\n",
      " Entering displacemtent step10 :0.012499999999999999\n",
      " Relative error = 0.00040250830983233187\n",
      " Relative error = 0.00045066717836842596\n",
      " Relative error = 2.306377694132729e-6\n",
      " Relative error = 2.0514390346690258e-7\n",
      " Relative error = 2.4707773044301308e-8\n",
      " Relative error = 3.1836864380490834e-9"
     ]
    },
    {
     "name": "stderr",
     "output_type": "stream",
     "text": [
      "┌ Warning: detected extension '.3_l3010' does not correspond to dataset type.\n",
      "│ Appending '.vtu' to filename.\n",
      "└ @ WriteVTK /home/akash/.julia/packages/WriteVTK/UoUwH/src/WriteVTK.jl:112\n"
     ]
    },
    {
     "name": "stdout",
     "output_type": "stream",
     "text": [
      "\n",
      " Entering displacemtent step11 :0.013749999999999998\n",
      " Relative error = 4.176175882482281e-10\n",
      " Entering displacemtent step12 :0.014999999999999998\n",
      " Relative error = 0.0004948953442025808\n",
      " Relative error = 0.0005440122387557061\n",
      " Relative error = 4.216547251186902e-6\n",
      " Relative error = 5.625799295626296e-7\n",
      " Relative error = 1.0125536673150016e-7\n",
      " Relative error = 1.9494977742452846e-8\n",
      " Relative error = 3.820575336559486e-9\n",
      " Entering displacemtent step13 :0.016249999999999997\n",
      " Relative error = 7.526004134732046e-10\n",
      " Entering displacemtent step14 :0.017499999999999998\n",
      " Relative error = 0.0005854242110976954\n",
      " Relative error = 0.0006364144934356074\n",
      " Relative error = 7.158808216281958e-6\n",
      " Relative error = 1.3699144142506802e-6\n",
      " Relative error = 3.5243729187312116e-7\n",
      " Relative error = 9.69681197482362e-8\n",
      " Relative error = 2.7166764963421046e-8\n",
      " Relative error = 7.652256244308494e-9\n",
      " Entering displacemtent step15 :0.01875\n",
      " Relative error = 2.159139111130091e-9\n",
      " Entering displacemtent step16 :0.02\n",
      " Relative error = 0.000673151863132715\n",
      " Relative error = 0.0007276376888940944\n",
      " Relative error = 1.1590688927607096e-5\n",
      " Relative error = 3.0949082354825866e-6\n",
      " Relative error = 1.1064686335174564e-6\n",
      " Relative error = 4.239834501907875e-7\n",
      " Relative error = 1.6577943384732613e-7\n",
      " Relative error = 6.525399326468047e-8\n",
      " Relative error = 2.574607370313642e-8\n",
      " Relative error = 1.0166997109227077e-8\n",
      " Entering displacemtent step17 :0.02125\n",
      " Relative error = 4.0162142184452515e-9\n",
      " Entering displacemtent step18 :0.022500000000000003\n",
      " Relative error = 0.0007561921652390199\n",
      " Relative error = 0.0008173609767920966\n",
      " Relative error = 1.82698927068696e-5\n",
      " Relative error = 6.714716114826289e-6\n",
      " Relative error = 3.2960820951383696e-6\n",
      " Relative error = 1.7444792837535801e-6\n",
      " Relative error = 9.476917107468832e-7\n",
      " Relative error = 5.20767850487283e-7\n",
      " Relative error = 2.889218119289773e-7\n",
      " Relative error = 1.606160640495709e-7\n",
      " Entering displacemtent step19 :0.023750000000000004\n",
      " Relative error = 8.851549087751582e-8\n",
      " Relative error = 0.0008294001800383126\n",
      " Relative error = 1.7751001972242834e-5\n",
      " Relative error = 7.308012269126456e-6\n",
      " Relative error = 4.231467136057141e-6\n",
      " Relative error = 2.6635304993132597e-6\n",
      " Relative error = 1.7306118429649227e-6\n",
      " Relative error = 1.1390456418603753e-6\n",
      " Relative error = 7.551110813706134e-7\n",
      " Relative error = 5.026108308445781e-7\n",
      " Entering displacemtent step20 :0.025000000000000005\n",
      " Relative error = 3.3554889484956464e-7\n",
      " Relative error = 0.0008682676017070742\n",
      " Relative error = 2.1631410682111236e-5\n",
      " Relative error = 1.0658129617750549e-5\n",
      " Relative error = 7.3845002006969456e-6\n",
      " Relative error = 5.584305686974518e-6\n",
      " Relative error = 4.380916867524118e-6\n",
      " Relative error = 3.5100603396737587e-6\n",
      " Relative error = 2.855256117636913e-6\n",
      " Relative error = 2.34049687922874e-6"
     ]
    },
    {
     "name": "stderr",
     "output_type": "stream",
     "text": [
      "┌ Warning: detected extension '.3_l3020' does not correspond to dataset type.\n",
      "│ Appending '.vtu' to filename.\n",
      "└ @ WriteVTK /home/akash/.julia/packages/WriteVTK/UoUwH/src/WriteVTK.jl:112\n"
     ]
    },
    {
     "name": "stdout",
     "output_type": "stream",
     "text": [
      "\n",
      " Entering displacemtent step21 :0.026250000000000006\n",
      " Relative error = 1.94275879139054e-6\n",
      " Relative error = 0.0008872167110243893\n",
      " Relative error = 2.7340687749246983e-5\n",
      " Relative error = 1.7018616005764002e-5\n",
      " Relative error = 1.462242014226097e-5\n",
      " Relative error = 1.367811831335258e-5\n",
      " Relative error = 1.3311723788591492e-5\n",
      " Relative error = 1.3312661352463422e-5\n",
      " Relative error = 1.3627963217513947e-5\n",
      " Relative error = 1.4178048326055934e-5\n",
      " Entering displacemtent step22 :0.027500000000000007\n",
      " Relative error = 1.4962419453199669e-5\n",
      " Relative error = 0.0008638667273846654\n",
      " Relative error = 4.991312793286794e-5\n",
      " Relative error = 4.2456843763374926e-5\n",
      " Relative error = 4.2706948982767735e-5\n",
      " Relative error = 4.294107057242796e-5\n",
      " Relative error = 4.286162156505339e-5\n",
      " Relative error = 4.166307530533966e-5\n",
      " Relative error = 4.0018153287077566e-5\n",
      " Relative error = 3.838939306453811e-5\n",
      " Entering displacemtent step23 :0.028750000000000008\n",
      " Relative error = 3.6648933430242956e-5\n",
      " Relative error = 0.0007521663042921337\n",
      " Relative error = 7.320386714877225e-5\n",
      " Relative error = 5.803598250758631e-5\n",
      " Relative error = 5.4297275150331934e-5\n",
      " Relative error = 5.262988864142081e-5\n",
      " Relative error = 5.097924008198926e-5\n",
      " Relative error = 4.9620912854976826e-5\n",
      " Relative error = 4.8674034749695256e-5\n",
      " Relative error = 4.7981987371115316e-5\n",
      " Entering displacemtent step24 :0.03000000000000001\n",
      " Relative error = 4.66749518175483e-5\n",
      " Relative error = 0.0007173780142803629\n",
      " Relative error = 9.11409280687126e-5\n",
      " Relative error = 7.48471184383117e-5\n",
      " Relative error = 7.104359098828929e-5\n",
      " Relative error = 7.020221823850167e-5\n",
      " Relative error = 6.989611697906185e-5\n",
      " Relative error = 6.897209625643708e-5\n",
      " Relative error = 6.791569454384487e-5\n",
      " Relative error = 6.722030335760967e-5\n",
      " Entering displacemtent step25 :0.03125000000000001\n",
      " Relative error = 6.726226790969558e-5\n",
      " Relative error = 0.000665267712467712\n",
      " Relative error = 0.00012414082978474592\n",
      " Relative error = 0.00010512524537792885\n",
      " Relative error = 0.00010270473509382038\n",
      " Relative error = 0.00010261536636358566\n",
      " Relative error = 0.00010251332903570199\n",
      " Relative error = 0.0001026477315218333\n",
      " Relative error = 0.00010348434704070176\n",
      " Relative error = 0.00010399315390079554\n",
      " Entering displacemtent step26 :0.03250000000000001\n",
      " Relative error = 0.00010367599282110399\n",
      " Relative error = 0.0006039907302042487\n",
      " Relative error = 0.00017176570160134128\n",
      " Relative error = 0.00015087652465348904\n",
      " Relative error = 0.00014828615918542585\n",
      " Relative error = 0.0001485978847273778\n",
      " Relative error = 0.00014915437808392485\n",
      " Relative error = 0.0001500635920425238\n",
      " Relative error = 0.00015120272852908216\n",
      " Relative error = 0.0001520202895285795\n",
      " Entering displacemtent step27 :0.03375000000000001\n",
      " Relative error = 0.00015284736738309745\n",
      " Relative error = 0.0005680413913152546\n",
      " Relative error = 0.00023537313452174957\n",
      " Relative error = 0.00021424031411758422\n",
      " Relative error = 0.00021161424970127569\n",
      " Relative error = 0.0002114505160683392\n",
      " Relative error = 0.00021245027876814172\n",
      " Relative error = 0.00021469161492947605\n",
      " Relative error = 0.00021641398520435813\n",
      " Relative error = 0.00021807135558815478\n",
      " Entering displacemtent step28 :0.03500000000000001\n",
      " Relative error = 0.0002202864949645793\n",
      " Relative error = 0.0005781259921381716\n",
      " Relative error = 0.0003146889962987699\n",
      " Relative error = 0.0002933630165531988\n",
      " Relative error = 0.00029049151312879356\n",
      " Relative error = 0.000290154092117482\n",
      " Relative error = 0.00029005856702346095\n",
      " Relative error = 0.0002910893837066276\n",
      " Relative error = 0.00029251444407544873\n",
      " Relative error = 0.0002937579439358538\n",
      " Entering displacemtent step29 :0.03625000000000001\n",
      " Relative error = 0.00029438113894725775\n",
      " Relative error = 0.0005906427908333627\n",
      " Relative error = 0.0003903108294896439\n",
      " Relative error = 0.00036593581088199687\n",
      " Relative error = 0.00035643833558765363\n",
      " Relative error = 0.00034940412227231883\n",
      " Relative error = 0.00034269037825095946\n",
      " Relative error = 0.000335015529838136\n",
      " Relative error = 0.00032773634417588714\n",
      " Relative error = 0.00031932175816363855\n",
      " Entering displacemtent step30 :0.03750000000000001\n",
      " Relative error = 0.00031076235987181764\n",
      " Relative error = 0.0005183715752199094\n",
      " Relative error = 0.00036852944140511123\n",
      " Relative error = 0.00033619727075116844\n",
      " Relative error = 0.00031415401093965486\n",
      " Relative error = 0.0002946242369759156\n",
      " Relative error = 0.00027682983742493704\n",
      " Relative error = 0.00026031414359246804\n",
      " Relative error = 0.00024459911120039055\n",
      " Relative error = 0.00022957099403113075"
     ]
    },
    {
     "name": "stderr",
     "output_type": "stream",
     "text": [
      "┌ Warning: detected extension '.3_l3030' does not correspond to dataset type.\n",
      "│ Appending '.vtu' to filename.\n",
      "└ @ WriteVTK /home/akash/.julia/packages/WriteVTK/UoUwH/src/WriteVTK.jl:112\n"
     ]
    },
    {
     "name": "stdout",
     "output_type": "stream",
     "text": [
      "\n",
      " Entering displacemtent step31 :0.038750000000000014\n",
      " Relative error = 0.0002155630178706905\n",
      " Relative error = 0.00032675109904861167\n",
      " Relative error = 0.0002387650859993415\n",
      " Relative error = 0.0002128208532756357\n",
      " Relative error = 0.00019352459956181148\n",
      " Relative error = 0.00017772702070450097\n",
      " Relative error = 0.00016403349032957507\n",
      " Relative error = 0.0001518707883851744\n",
      " Relative error = 0.00014133206379111799\n",
      " Relative error = 0.00013133915140940952\n",
      " Entering displacemtent step32 :0.040000000000000015\n",
      " Relative error = 0.0001218828935242477\n",
      " Relative error = 0.00019318102955515233\n",
      " Relative error = 0.00013803563818706217\n",
      " Relative error = 0.00012284147103501131\n",
      " Relative error = 0.00011279111227091397\n",
      " Relative error = 0.00010356611384658565\n",
      " Relative error = 9.599945804900068e-5\n",
      " Relative error = 8.95299663754898e-5\n",
      " Relative error = 8.402463865746229e-5\n",
      " Relative error = 7.824694401967208e-5\n",
      " Entering displacemtent step33 :0.041250000000000016\n",
      " Relative error = 7.343587946104001e-5\n",
      " Relative error = 0.0001289558595519406\n",
      " Relative error = 8.791976707698512e-5\n",
      " Relative error = 7.838404358656752e-5\n",
      " Relative error = 7.314980411524198e-5\n",
      " Relative error = 6.832531636094766e-5\n",
      " Relative error = 6.447020573275228e-5\n",
      " Relative error = 6.0673819005867594e-5\n",
      " Relative error = 5.711632824999808e-5\n",
      " Relative error = 5.337682258712901e-5\n",
      " Entering displacemtent step34 :0.04250000000000002\n",
      " Relative error = 5.0613932356238396e-5\n",
      " Relative error = 9.866347051891792e-5\n",
      " Relative error = 6.346869336552088e-5\n",
      " Relative error = 5.6558552410816495e-5\n",
      " Relative error = 5.253779162594301e-5\n",
      " Relative error = 4.939684152005592e-5\n",
      " Relative error = 4.602301790930696e-5\n",
      " Relative error = 4.333490189763207e-5\n",
      " Relative error = 4.093323132995365e-5\n",
      " Relative error = 3.884809715094578e-5\n",
      " Entering displacemtent step35 :0.04375000000000002\n",
      " Relative error = 3.671813012884058e-5\n",
      " Relative error = 8.084043396724748e-5\n",
      " Relative error = 4.936485753933032e-5\n",
      " Relative error = 4.3648814955503024e-5\n",
      " Relative error = 4.0641768568482985e-5\n",
      " Relative error = 3.799778912737968e-5\n",
      " Relative error = 3.56966501561272e-5\n",
      " Relative error = 3.3832782027451575e-5\n",
      " Relative error = 3.217777023349926e-5\n",
      " Relative error = 3.051644722773314e-5\n",
      " Entering displacemtent step36 :0.04500000000000002\n",
      " Relative error = 2.8886002116207523e-5\n",
      " Relative error = 7.069981920666889e-5\n",
      " Relative error = 4.110141763203639e-5\n",
      " Relative error = 3.6001834817654915e-5\n",
      " Relative error = 3.3531235963998024e-5\n",
      " Relative error = 3.1329803841643745e-5\n",
      " Relative error = 2.9733591671376645e-5\n",
      " Relative error = 2.8115851472513144e-5\n",
      " Relative error = 2.6716274714224303e-5\n",
      " Relative error = 2.5276221952368956e-5\n",
      " Entering displacemtent step37 :0.04625000000000002\n",
      " Relative error = 2.407864575176029e-5\n",
      " Relative error = 6.476407736088866e-5\n",
      " Relative error = 3.6293794661680913e-5\n",
      " Relative error = 3.150203006428032e-5\n",
      " Relative error = 2.9110111189771184e-5\n",
      " Relative error = 2.718230159446302e-5\n",
      " Relative error = 2.5754908154522504e-5\n",
      " Relative error = 2.452201744136609e-5\n",
      " Relative error = 2.3471271689298005e-5\n",
      " Relative error = 2.2399480975356304e-5\n",
      " Entering displacemtent step38 :0.04750000000000002\n",
      " Relative error = 2.1353563310012067e-5\n",
      " Relative error = 6.0984474377199405e-5\n",
      " Relative error = 3.276301740355704e-5\n",
      " Relative error = 2.8458714828524133e-5\n",
      " Relative error = 2.669292769959397e-5\n",
      " Relative error = 2.540539349309519e-5\n",
      " Relative error = 2.4062911767761624e-5\n",
      " Relative error = 2.2773412615856278e-5\n",
      " Relative error = 2.1507074599954566e-5\n",
      " Relative error = 2.06123950971296e-5\n",
      " Entering displacemtent step39 :0.04875000000000002\n",
      " Relative error = 1.9554920295465525e-5\n",
      " Relative error = 5.913187992536286e-5\n",
      " Relative error = 3.1012076003925844e-5\n",
      " Relative error = 2.673625877233513e-5\n",
      " Relative error = 2.504299721294549e-5\n",
      " Relative error = 2.388962071806221e-5\n",
      " Relative error = 2.286165295940225e-5\n",
      " Relative error = 2.1679860152003575e-5\n",
      " Relative error = 2.0468007856630695e-5\n",
      " Relative error = 1.9231094127556822e-5\n",
      " Entering displacemtent step40 :0.050000000000000024\n",
      " Relative error = 1.817508841917549e-5\n",
      " Relative error = 5.749766788857964e-5\n",
      " Relative error = 2.9686331945005232e-5\n",
      " Relative error = 2.580584138675202e-5\n",
      " Relative error = 2.4075777661878702e-5\n",
      " Relative error = 2.2873175642259796e-5\n",
      " Relative error = 2.190600205375821e-5\n",
      " Relative error = 2.0997370328874302e-5\n",
      " Relative error = 2.001902228430616e-5\n",
      " Relative error = 1.9023996622288742e-5"
     ]
    },
    {
     "name": "stderr",
     "output_type": "stream",
     "text": [
      "┌ Warning: detected extension '.3_l3040' does not correspond to dataset type.\n",
      "│ Appending '.vtu' to filename.\n",
      "└ @ WriteVTK /home/akash/.julia/packages/WriteVTK/UoUwH/src/WriteVTK.jl:112\n"
     ]
    }
   ],
   "source": [
    "uApp = 0\n",
    "delu = 0.05/40\n",
    "uAppMax = 0.05\n",
    "innerMax = 10\n",
    "count = 0\n",
    "Load = Float64[]\n",
    "LoadX = Float64[]\n",
    "Displacement = Float64[]\n",
    "\n",
    "sPrev = CellState(1.0,dΩ)\n",
    "sh = project(sPrev,model,dΩ,order)\n",
    "ψPlusPrev = CellState(0.0,dΩ)\n",
    "ψhPos = CellState(0.0,dΩ)\n",
    "ψhPos_in = project(ψhPos,model,dΩ,order)\n",
    "\n",
    "while uApp .< uAppMax \n",
    "        \n",
    "    uApp = uApp .+ delu\n",
    "    count = count .+ 1\n",
    "    \n",
    "    print(\"\\n Entering displacemtent step$count :\", float(uApp))\n",
    "    \n",
    "    for inner = 1:innerMax\n",
    "        \n",
    "        ψhPlusPrev = project(ψPlusPrev,model,dΩ,order)\n",
    "        \n",
    "        err = abs(sum(∫( Gc*lsp*∇(sh)⋅ ∇(sh) + 2*ψhPlusPrev*sh*sh  + (Gc/lsp)*sh*sh)*dΩ - ∫( (Gc/lsp)*sh)*dΩ))/abs(sum(∫( (Gc/lsp)*sh)*dΩ))\n",
    "        print(\"\\n Relative error = \",float(err))\n",
    "        \n",
    "        sh = stepPhaseField(uh,ψhPlusPrev)\n",
    "        uh,θh = stepDisp(uh,θh,sh,uApp)\n",
    "        \n",
    "        ψhPos_in = ψPos∘(ε(uh),∇(uh),θh,∇(θh))      \n",
    "        \n",
    "        update_state!(new_EnergyState,ψPlusPrev,ψhPos_in)\n",
    "        \n",
    "        if err < 1e-8\n",
    "            break \n",
    "        end\n",
    "    end\n",
    "    \n",
    "    Node_Force = sum(∫( n_Γ_Load ⋅ (σ_Bmod∘(ε(uh),ε(uh),sh)) ) *dΓ_Load + ∫( n_Γ_Load ⋅ (σ_Cmod∘(ε_Skw∘(∇(uh),θh),sh) ) )  *dΓ_Load)\n",
    "    Load_Act = sqrt(Node_Force[1]^2 + Node_Force[2]^2)\n",
    "    uApp_Act = uApp^2 + uApp^2\n",
    "    \n",
    "    push!(Load, Load_Act)\n",
    "    push!(LoadX, Node_Force[1])\n",
    "    push!(Displacement, uApp_Act)\n",
    "    if mod(count,10) == 0\n",
    "         writevtk(Ω,\"results_DoubleNotch_N0.3_l30$count\",cellfields=\n",
    "        [\"uh\"=>uh,\"s\"=>sh ,\"θ\" => θh, \"epsi\"=>ε(uh),\"Sig\"=>(σ_Bmod∘(ε(uh),ε(uh),sh))])\n",
    "    end\n",
    "end"
   ]
  },
  {
   "cell_type": "code",
   "execution_count": 30,
   "id": "cf4184cd",
   "metadata": {},
   "outputs": [
    {
     "name": "stderr",
     "output_type": "stream",
     "text": [
      "┌ Warning: detected extension '.3_l3040' does not correspond to dataset type.\n",
      "│ Appending '.vtu' to filename.\n",
      "└ @ WriteVTK /home/akash/.julia/packages/WriteVTK/UoUwH/src/WriteVTK.jl:112\n"
     ]
    },
    {
     "data": {
      "text/plain": [
       "([\"results_DoubleNotch_N0.3_l3040.vtu\"],)"
      ]
     },
     "execution_count": 30,
     "metadata": {},
     "output_type": "execute_result"
    }
   ],
   "source": [
    "writevtk(Ω,\"results_DoubleNotch_N0.3_l30$count\",cellfields=\n",
    "        [\"uh\"=>uh,\"s\"=>sh ,\"θ\" => θh, \"epsi\"=>ε(uh),\"Sig\"=>(σ_Bmod∘(ε(uh),ε(uh),sh))])"
   ]
  },
  {
   "cell_type": "code",
   "execution_count": 31,
   "id": "emerging-negative",
   "metadata": {},
   "outputs": [
    {
     "data": {
      "image/png": "[encoded data removed]",
      "text/plain": [
       "Figure(PyObject <Figure size 640x480 with 1 Axes>)"
      ]
     },
     "metadata": {},
     "output_type": "display_data"
    },
    {
     "data": {
      "text/plain": [
       "1-element Vector{PyCall.PyObject}:\n",
       " PyObject <matplotlib.lines.Line2D object at 0x7fe0881f32b0>"
      ]
     },
     "execution_count": 31,
     "metadata": {},
     "output_type": "execute_result"
    }
   ],
   "source": [
    "plot(Displacement,Load*1e-3)"
   ]
  },
  {
   "cell_type": "code",
   "execution_count": 32,
   "id": "fb9175f5",
   "metadata": {},
   "outputs": [],
   "source": [
    "cd(\"../DispLoadData_DoubleNotch\")"
   ]
  },
  {
   "cell_type": "code",
   "execution_count": 33,
   "id": "f567a89a",
   "metadata": {},
   "outputs": [],
   "source": [
    "using DelimitedFiles\n",
    "Disp = writedlm( \"DispDataDoubleNotchSpectral_N0.3_l30.csv\",  Displacement, ',')\n",
    "Force = writedlm(\"LoadDataDoubleNotchSpectral_N0.3_l30.csv\",  Load, ',')"
   ]
  }
 ],
 "metadata": {
  "@webio": {
   "lastCommId": null,
   "lastKernelId": null
  },
  "kernelspec": {
   "display_name": "Julia 1.8.1",
   "language": "julia",
   "name": "julia-1.8"
  },
  "language_info": {
   "file_extension": ".jl",
   "mimetype": "application/julia",
   "name": "julia",
   "version": "1.8.1"
  }
 },
 "nbformat": 4,
 "nbformat_minor": 5
}
