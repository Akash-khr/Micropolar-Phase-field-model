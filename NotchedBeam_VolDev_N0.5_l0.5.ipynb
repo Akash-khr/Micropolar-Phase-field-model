{
 "cells": [
  {
   "cell_type": "code",
   "execution_count": 1,
   "id": "ab7198fc",
   "metadata": {},
   "outputs": [],
   "source": [
    "using Gmsh: gmsh\n",
    "using Gridap\n",
    "using GridapGmsh\n",
    "using Gridap.TensorValues\n",
    "using Plots\n",
    "using LinearAlgebra"
   ]
  },
  {
   "cell_type": "code",
   "execution_count": 2,
   "id": "ed672b17",
   "metadata": {},
   "outputs": [
    {
     "data": {
      "text/plain": [
       "SymFourthOrderTensorValue{2, Float64, 9}(0.5, 0.0, -0.5, 0.0, 0.5, 0.0, -0.5, 0.0, 0.5)"
      ]
     },
     "execution_count": 2,
     "metadata": {},
     "output_type": "execute_result"
    }
   ],
   "source": [
    "I2 = SymTensorValue{2,Float64}(1.0 ,0.0 ,1.0)\n",
    "I4 = I2⊗I2\n",
    "I4_sym = one(SymFourthOrderTensorValue{2,Float64})\n",
    "I4_vol = (1.0/2)*I4\n",
    "I4_dev = I4_sym  - I4_vol"
   ]
  },
  {
   "cell_type": "code",
   "execution_count": 3,
   "id": "interim-caution",
   "metadata": {
    "scrolled": true
   },
   "outputs": [
    {
     "name": "stdout",
     "output_type": "stream",
     "text": [
      "Info    : Meshing 1D...\n",
      "Info    : [  0%] Meshing curve 1 (Line)\n",
      "Info    : [ 20%] Meshing curve 2 (Line)\n",
      "Info    : [ 30%] Meshing curve 3 (Line)\n",
      "Info    : [ 40%] Meshing curve 4 (Line)\n",
      "Info    : [ 50%] Meshing curve 5 (Line)\n",
      "Info    : [ 60%] Meshing curve 6 (Line)\n",
      "Info    : [ 70%] Meshing curve 7 (Line)\n",
      "Info    : [ 80%] Meshing curve 8 (Line)\n",
      "Info    : [ 90%] Meshing curve 9 (Line)\n",
      "Info    : Done meshing 1D (Wall 0.0405191s, CPU 0.040489s)\n",
      "Info    : Meshing 2D...\n",
      "Info    : Meshing surface 1 (Plane, Frontal-Delaunay)\n",
      "Info    : Done meshing 2D (Wall 0.275961s, CPU 0.275951s)\n",
      "Info    : 7693 nodes 15393 elements\n",
      "Info    : Writing 'BeamWithNotchSymThreePtBending.msh'...\n",
      "Info    : Done writing 'BeamWithNotchSymThreePtBending.msh'\n"
     ]
    },
    {
     "name": "stderr",
     "output_type": "stream",
     "text": [
      "Warning : Unknown entity of dimension 2 and tag 1 in physical group 1\n",
      "Warning : Unknown entity of dimension 1 and tag 4 in physical group 1\n",
      "Warning : Unknown entity of dimension 1 and tag 8 in physical group 11\n",
      "Warning : Unknown entity of dimension 1 and tag 9 in physical group 11\n",
      "Warning : Unknown entity of dimension 0 and tag 7 in physical group 2\n",
      "Warning : Unknown entity of dimension 0 and tag 2 in physical group 3\n"
     ]
    }
   ],
   "source": [
    "using  Gmsh: gmsh\n",
    "const  L = 8.0\n",
    "const  LL = 0.475.*L\n",
    "const  LR = 0.525.*L\n",
    "const  H = 2.0\n",
    "const  CH = 0.4 #Crack  height\n",
    "const  CW = 0.2 #Crack  Width\n",
    "const  lsp = 0.03\n",
    "const  hfc = lsp/100 #Mesh  size  parameter\n",
    "const  hf = lsp/2.1 #Mesh  size  parameter\n",
    "const  h = 30*hf #Mesh  size  parameter\n",
    "gmsh.initialize()\n",
    "gmsh.option.setNumber(\"General.Terminal\", 1)\n",
    "gmsh.model.geo.addPoint((L/2)+(CW/2), 0.0 , 0.0, hf ,1)\n",
    "gmsh.model.geo.addPoint(L, 0.0, 0.0, h, 2)\n",
    "gmsh.model.geo.addPoint(L, H, 0.0, h, 3)\n",
    "gmsh.model.geo.addPoint(LR , H, 0.0, hf, 4)\n",
    "gmsh.model.geo.addPoint(LL , H, 0.0, hf, 5)\n",
    "gmsh.model.geo.addPoint(0.0, H, 0.0, h, 6)\n",
    "gmsh.model.geo.addPoint(0.0, 0.0, 0.0, h, 7)\n",
    "gmsh.model.geo.addPoint((L/2) -(CW/2), 0.0 , 0.0, hf ,8)\n",
    "gmsh.model.geo.addPoint((L/2), CH , 0.0, hfc , 9)\n",
    "gmsh.model.geo.addLine(1, 2, 1)\n",
    "gmsh.model.geo.addLine(2, 3, 2)\n",
    "gmsh.model.geo.addLine(3, 4, 3)\n",
    "gmsh.model.geo.addLine(4, 5, 4)\n",
    "gmsh.model.geo.addLine(5, 6, 5)\n",
    "gmsh.model.geo.addLine(6, 7, 6)\n",
    "gmsh.model.geo.addLine(7, 8, 7)\n",
    "gmsh.model.geo.addLine(8, 9, 8)\n",
    "gmsh.model.geo.addLine(9, 1, 9)\n",
    "\n",
    "gmsh.model.geo.addCurveLoop([1,2,3,4,5,6,7,8,9],1)\n",
    "gmsh.model.geo.addPlaneSurface([1], 1)\n",
    "gmsh.model.addPhysicalGroup(2, [1],1)\n",
    "gmsh.model.addPhysicalGroup(1, [4],1)\n",
    "gmsh.model.addPhysicalGroup(1, [8,9],11)\n",
    "gmsh.model.addPhysicalGroup(0, [7],2)\n",
    "gmsh.model.addPhysicalGroup(0, [2],3)\n",
    "gmsh.model.setPhysicalName(2, 1, \"Domain\")\n",
    "gmsh.model.setPhysicalName(1, 1, \"LoadLine\")\n",
    "gmsh.model.setPhysicalName(1, 11, \"EnergyLine\")\n",
    "gmsh.model.setPhysicalName(0, 2, \"LeftSupport\")\n",
    "gmsh.model.setPhysicalName(0, 3, \"RightSupport\")\n",
    "gmsh.model.mesh.field.add(\"Box\", 10)\n",
    "gmsh.model.mesh.field.setNumber(10, \"VIn\", hf)\n",
    "gmsh.model.mesh.field.setNumber(10, \"VOut\", h)\n",
    "gmsh.model.mesh.field.setNumber(10, \"XMin\", (L/2)-CW)\n",
    "gmsh.model.mesh.field.setNumber(10, \"XMax\", (L/2)+CW)\n",
    "gmsh.model.mesh.field.setNumber(10, \"YMin\", 0)\n",
    "gmsh.model.mesh.field.setNumber(10, \"YMax\", H)\n",
    "gmsh.model.mesh.field.setAsBackgroundMesh(10)\n",
    "gmsh.model.geo.synchronize()\n",
    "gmsh.model.mesh.generate(2)\n",
    "gmsh.write(\"BeamWithNotchSymThreePtBending.msh\")\n",
    "gmsh.finalize()"
   ]
  },
  {
   "cell_type": "code",
   "execution_count": 4,
   "id": "1746091a",
   "metadata": {},
   "outputs": [
    {
     "name": "stdout",
     "output_type": "stream",
     "text": [
      "Info    : Reading 'BeamWithNotchSymThreePtBending.msh'...\n",
      "Info    : 19 entities\n",
      "Info    : 7693 nodes\n",
      "Info    : 15242 elements\n",
      "Info    : Done reading 'BeamWithNotchSymThreePtBending.msh'\n"
     ]
    },
    {
     "data": {
      "text/plain": [
       "3-element Vector{Vector{String}}:\n",
       " [\"BeamWithNotchSymThreePtBending_0.vtu\"]\n",
       " [\"BeamWithNotchSymThreePtBending_1.vtu\"]\n",
       " [\"BeamWithNotchSymThreePtBending_2.vtu\"]"
      ]
     },
     "execution_count": 4,
     "metadata": {},
     "output_type": "execute_result"
    }
   ],
   "source": [
    "model = GmshDiscreteModel(\"BeamWithNotchSymThreePtBending.msh\")\n",
    "writevtk(model,\"BeamWithNotchSymThreePtBending\")"
   ]
  },
  {
   "cell_type": "code",
   "execution_count": 5,
   "id": "41326f7b",
   "metadata": {},
   "outputs": [
    {
     "data": {
      "text/plain": [
       "14984-element Vector{Int8}:\n",
       " 5\n",
       " 5\n",
       " 5\n",
       " 5\n",
       " 5\n",
       " 5\n",
       " 5\n",
       " 5\n",
       " 5\n",
       " 5\n",
       " 5\n",
       " 5\n",
       " 5\n",
       " ⋮\n",
       " 5\n",
       " 5\n",
       " 5\n",
       " 5\n",
       " 5\n",
       " 5\n",
       " 5\n",
       " 5\n",
       " 5\n",
       " 5\n",
       " 5\n",
       " 5"
      ]
     },
     "execution_count": 5,
     "metadata": {},
     "output_type": "execute_result"
    }
   ],
   "source": [
    "using Gridap.Geometry\n",
    "labels = get_face_labeling(model)\n",
    "dimension = 2\n",
    "mat_tags = get_face_tag(labels,dimension)"
   ]
  },
  {
   "cell_type": "code",
   "execution_count": 6,
   "id": "6e1500bb",
   "metadata": {},
   "outputs": [
    {
     "data": {
      "text/plain": [
       "1.0e-15"
      ]
     },
     "execution_count": 6,
     "metadata": {},
     "output_type": "execute_result"
    }
   ],
   "source": [
    "const E = 20.8\n",
    "const ν = 0.3\n",
    "const Gc = 5e-4\n",
    "G = E/(2*(1+ν))\n",
    "l = 0.5\n",
    "N = 0.5\n",
    "const η = 1e-15"
   ]
  },
  {
   "cell_type": "code",
   "execution_count": 7,
   "id": "65dede89",
   "metadata": {},
   "outputs": [
    {
     "data": {
      "text/plain": [
       "10.0"
      ]
     },
     "execution_count": 7,
     "metadata": {},
     "output_type": "execute_result"
    }
   ],
   "source": [
    "ψ_crit = 10.0"
   ]
  },
  {
   "cell_type": "code",
   "execution_count": 8,
   "id": "5bf828a6",
   "metadata": {},
   "outputs": [
    {
     "data": {
      "text/plain": [
       "7.999999999999996"
      ]
     },
     "execution_count": 8,
     "metadata": {},
     "output_type": "execute_result"
    }
   ],
   "source": [
    "μ = 5.33333333333333\n",
    "κ = 5.33333333333333\n",
    "λ = 11.999999999999993\n",
    "γ = 7.999999999999996"
   ]
  },
  {
   "cell_type": "code",
   "execution_count": 9,
   "id": "dental-mouse",
   "metadata": {},
   "outputs": [
    {
     "data": {
      "text/plain": [
       "σ_Bmod (generic function with 1 method)"
      ]
     },
     "execution_count": 9,
     "metadata": {},
     "output_type": "execute_result"
    }
   ],
   "source": [
    "function σ_Bmod(ε, ε_in, s_in)\n",
    "    if tr(ε_in) >= 0\n",
    "        σM = (s_in^2 + η)*((λ + μ + (κ/2))*tr(ε)*one(ε) + (2*μ + κ)*(I4_dev ⊙ ε))\n",
    "    else\n",
    "        σM = (s_in^2 + η)*((2*μ + κ)*(I4_dev ⊙ ε)) + (λ + μ + (κ/2))*tr(ε)*one(ε)\n",
    "    end\n",
    "    return σM\n",
    "end"
   ]
  },
  {
   "cell_type": "code",
   "execution_count": 10,
   "id": "5d043cc5",
   "metadata": {},
   "outputs": [
    {
     "data": {
      "text/plain": [
       "TensorValue{2, 2, Int64, 4}(0, 1, -1, 0)"
      ]
     },
     "execution_count": 10,
     "metadata": {},
     "output_type": "execute_result"
    }
   ],
   "source": [
    "E_Matrx = TensorValue(0,1,-1,0)"
   ]
  },
  {
   "cell_type": "code",
   "execution_count": 11,
   "id": "9f8f69b4",
   "metadata": {},
   "outputs": [
    {
     "data": {
      "text/plain": [
       "ε_Skw (generic function with 1 method)"
      ]
     },
     "execution_count": 11,
     "metadata": {},
     "output_type": "execute_result"
    }
   ],
   "source": [
    "function ε_Skw(∇,θ)\n",
    "    ∇ᵀ = transpose(∇)\n",
    "    w = (0.5*(∇ᵀ - ∇)) - (E_Matrx*θ)\n",
    "    return w\n",
    "end"
   ]
  },
  {
   "cell_type": "code",
   "execution_count": 12,
   "id": "b7ab7a3c",
   "metadata": {},
   "outputs": [
    {
     "data": {
      "text/plain": [
       "σ_Cmod (generic function with 1 method)"
      ]
     },
     "execution_count": 12,
     "metadata": {},
     "output_type": "execute_result"
    }
   ],
   "source": [
    "function σ_Cmod(ϵ_skew, s_in)\n",
    "    σM = (s_in^2 + η)*(κ*ϵ_skew)\n",
    "    return σM\n",
    "end"
   ]
  },
  {
   "cell_type": "code",
   "execution_count": 13,
   "id": "9fb6f0fe",
   "metadata": {},
   "outputs": [
    {
     "data": {
      "text/plain": [
       "M_mod (generic function with 1 method)"
      ]
     },
     "execution_count": 13,
     "metadata": {},
     "output_type": "execute_result"
    }
   ],
   "source": [
    "function M_mod(∇, s_in)\n",
    "    M = (s_in^2 + η)*(γ*∇)\n",
    "    return M\n",
    "end"
   ]
  },
  {
   "cell_type": "code",
   "execution_count": 14,
   "id": "f2202328",
   "metadata": {},
   "outputs": [
    {
     "data": {
      "text/plain": [
       "ψPos (generic function with 1 method)"
      ]
     },
     "execution_count": 14,
     "metadata": {},
     "output_type": "execute_result"
    }
   ],
   "source": [
    "function ψPos(ε_in,∇_uh,θ, ∇_th)\n",
    "    ∇_uhᵀ = transpose(∇_uh)\n",
    "    ϵ_skew = 0.5*(∇_uhᵀ - ∇_uh) - E_Matrx*θ\n",
    "    if tr(ε_in) >= 0\n",
    "        ψPos = 0.5*((λ + μ + (κ/2))*(tr(ε_in))^2 + (2*μ+κ)*((I4_dev ⊙ ε_in) ⊙ (I4_dev ⊙ ε_in))) + 0.5*(κ*(ϵ_skew ⊙ ϵ_skew)) + 0.5*γ*(∇_th ⋅ ∇_th)\n",
    "    else\n",
    "        ψPos = 0.5*((2*μ+κ)*((I4_dev ⊙ ε_in) ⊙ (I4_dev ⊙ ε_in))) + 0.5*(κ*(ϵ_skew ⊙ ϵ_skew)) + 0.5*γ*(∇_th ⋅ ∇_th)\n",
    "    end\n",
    "    return ψPos \n",
    "end"
   ]
  },
  {
   "cell_type": "code",
   "execution_count": 15,
   "id": "aaff7a06",
   "metadata": {},
   "outputs": [
    {
     "data": {
      "text/plain": [
       "ψCoup (generic function with 1 method)"
      ]
     },
     "execution_count": 15,
     "metadata": {},
     "output_type": "execute_result"
    }
   ],
   "source": [
    "function ψCoup(ε_in,∇_uh,θ, ∇_th)\n",
    "    ∇_uhᵀ = transpose(∇_uh)\n",
    "    ϵ_skew = 0.5*(∇_uhᵀ - ∇_uh) - E_Matrx*θ\n",
    "    if tr(ε_in) >= 0\n",
    "        ψPos = 0.5*(κ*(ϵ_skew ⊙ ϵ_skew))\n",
    "    else\n",
    "        ψPos = 0.5*(κ*(ϵ_skew ⊙ ϵ_skew))\n",
    "    end\n",
    "    return ψPos \n",
    "end"
   ]
  },
  {
   "cell_type": "code",
   "execution_count": 16,
   "id": "cca1ea27",
   "metadata": {},
   "outputs": [
    {
     "data": {
      "text/plain": [
       "ψRot (generic function with 1 method)"
      ]
     },
     "execution_count": 16,
     "metadata": {},
     "output_type": "execute_result"
    }
   ],
   "source": [
    "function ψRot(ε_in,∇_uh,θ, ∇_th)\n",
    "    ∇_uhᵀ = transpose(∇_uh)\n",
    "    ϵ_skew = 0.5*(∇_uhᵀ - ∇_uh) - E_Matrx*θ\n",
    "    if tr(ε_in) >= 0\n",
    "        ψPos = 0.5*γ*(∇_th ⋅ ∇_th)\n",
    "    else\n",
    "        ψPos = 0.5*γ*(∇_th ⋅ ∇_th)\n",
    "    end\n",
    "    return ψPos \n",
    "end"
   ]
  },
  {
   "cell_type": "code",
   "execution_count": 17,
   "id": "e121efa1",
   "metadata": {},
   "outputs": [
    {
     "data": {
      "text/plain": [
       "ψMech (generic function with 1 method)"
      ]
     },
     "execution_count": 17,
     "metadata": {},
     "output_type": "execute_result"
    }
   ],
   "source": [
    "function ψMech(ε_in,∇_uh,θ, ∇_th)\n",
    "    ∇_uhᵀ = transpose(∇_uh)\n",
    "    ϵ_skew = 0.5*(∇_uhᵀ - ∇_uh) - E_Matrx*θ\n",
    "    if tr(ε_in) >= 0\n",
    "        ψPos = 0.5*((λ + μ + (κ/2))*(tr(ε_in))^2 + (2*μ+κ)*((I4_dev ⊙ ε_in) ⊙ (I4_dev ⊙ ε_in)))\n",
    "    else\n",
    "        ψPos = 0.5*((2*μ+κ)*((I4_dev ⊙ ε_in) ⊙ (I4_dev ⊙ ε_in)))\n",
    "    end\n",
    "    return ψPos \n",
    "end"
   ]
  },
  {
   "cell_type": "code",
   "execution_count": 18,
   "id": "local-freeware",
   "metadata": {},
   "outputs": [
    {
     "data": {
      "text/plain": [
       "new_EnergyState (generic function with 1 method)"
      ]
     },
     "execution_count": 18,
     "metadata": {},
     "output_type": "execute_result"
    }
   ],
   "source": [
    "function new_EnergyState(ψPlusPrev_in,ψhPos_in)\n",
    "    ψPlus_in = ψhPos_in\n",
    "    if ψPlus_in >= ψPlusPrev_in\n",
    "        ψPlus_out = ψPlus_in\n",
    "    else\n",
    "        ψPlus_out = ψPlusPrev_in\n",
    "    end\n",
    "    true,ψPlus_out\n",
    "end"
   ]
  },
  {
   "cell_type": "code",
   "execution_count": 19,
   "id": "3bf5a3ce",
   "metadata": {},
   "outputs": [
    {
     "data": {
      "text/plain": [
       "project (generic function with 1 method)"
      ]
     },
     "execution_count": 19,
     "metadata": {},
     "output_type": "execute_result"
    }
   ],
   "source": [
    "function project(q,model,dΩ,order)\n",
    "  reffe = ReferenceFE(lagrangian,Float64,order)\n",
    "  V = FESpace(model,reffe,conformity=:L2)\n",
    "  a(u,v) = ∫( u*v )*dΩ\n",
    "  l(v) = ∫( v*q )*dΩ\n",
    "  op = AffineFEOperator(a,l,V,V)\n",
    "  qh = solve(op)\n",
    "  qh\n",
    "end"
   ]
  },
  {
   "cell_type": "code",
   "execution_count": 20,
   "id": "3f46de93",
   "metadata": {},
   "outputs": [
    {
     "data": {
      "text/plain": [
       "2"
      ]
     },
     "execution_count": 20,
     "metadata": {},
     "output_type": "execute_result"
    }
   ],
   "source": [
    "order = 1\n",
    "degree = 2*order"
   ]
  },
  {
   "cell_type": "code",
   "execution_count": 21,
   "id": "86f3f2bf",
   "metadata": {},
   "outputs": [
    {
     "data": {
      "text/plain": [
       "GenericMeasure()"
      ]
     },
     "execution_count": 21,
     "metadata": {},
     "output_type": "execute_result"
    }
   ],
   "source": [
    "Ω = Triangulation(model)\n",
    "dΩ = Measure(Ω,degree)"
   ]
  },
  {
   "cell_type": "code",
   "execution_count": 22,
   "id": "absolute-workplace",
   "metadata": {},
   "outputs": [
    {
     "data": {
      "text/plain": [
       "SingleFieldFEFunction():\n",
       " num_cells: 14984\n",
       " DomainStyle: ReferenceDomain()\n",
       " Triangulation: BodyFittedTriangulation()\n",
       " Triangulation id: 5801636436064852872"
      ]
     },
     "execution_count": 22,
     "metadata": {},
     "output_type": "execute_result"
    }
   ],
   "source": [
    "sId = CellState(1.0,dΩ)\n",
    "shId = project(sId,model,dΩ,order)"
   ]
  },
  {
   "cell_type": "code",
   "execution_count": 23,
   "id": "700af0f9",
   "metadata": {},
   "outputs": [
    {
     "data": {
      "text/plain": [
       "GenericCellField():\n",
       " num_cells: 28\n",
       " DomainStyle: ReferenceDomain()\n",
       " Triangulation: BoundaryTriangulation()\n",
       " Triangulation id: 15563341830513975165"
      ]
     },
     "execution_count": 23,
     "metadata": {},
     "output_type": "execute_result"
    }
   ],
   "source": [
    "LoadTagId = get_tag_from_name(labels,\"LoadLine\")\n",
    "Γ_Load = BoundaryTriangulation(model,tags = LoadTagId)\n",
    "dΓ_Load = Measure(Γ_Load,degree)\n",
    "n_Γ_Load = get_normal_vector(Γ_Load)"
   ]
  },
  {
   "cell_type": "code",
   "execution_count": 24,
   "id": "6ea06416",
   "metadata": {},
   "outputs": [
    {
     "data": {
      "text/plain": [
       "GenericMeasure()"
      ]
     },
     "execution_count": 24,
     "metadata": {},
     "output_type": "execute_result"
    }
   ],
   "source": [
    "EnergyTagId = get_tag_from_name(labels,\"EnergyLine\")\n",
    "E_Load = BoundaryTriangulation(model,tags = EnergyTagId)\n",
    "dE_Load = Measure(E_Load,degree)"
   ]
  },
  {
   "cell_type": "code",
   "execution_count": 25,
   "id": "950f5dcd",
   "metadata": {},
   "outputs": [
    {
     "data": {
      "text/plain": [
       "SingleFieldFEFunction():\n",
       " num_cells: 14984\n",
       " DomainStyle: ReferenceDomain()\n",
       " Triangulation: BodyFittedTriangulation()\n",
       " Triangulation id: 5801636436064852872"
      ]
     },
     "execution_count": 25,
     "metadata": {},
     "output_type": "execute_result"
    }
   ],
   "source": [
    "reffe_PF = ReferenceFE(lagrangian,Float64,order)\n",
    "V0_PF = TestFESpace(model,reffe_PF;conformity=:H1)\n",
    "sh = zero(V0_PF)"
   ]
  },
  {
   "cell_type": "code",
   "execution_count": 26,
   "id": "14340b87",
   "metadata": {},
   "outputs": [
    {
     "data": {
      "text/plain": [
       "SingleFieldFEFunction():\n",
       " num_cells: 14984\n",
       " DomainStyle: ReferenceDomain()\n",
       " Triangulation: BodyFittedTriangulation()\n",
       " Triangulation id: 5801636436064852872"
      ]
     },
     "execution_count": 26,
     "metadata": {},
     "output_type": "execute_result"
    }
   ],
   "source": [
    "reffe_theta = ReferenceFE(lagrangian,Float64,order)\n",
    "V0_theta  = TestFESpace(model,reffe_theta;\n",
    "  conformity=:H1)\n",
    "θh = zero(V0_theta)"
   ]
  },
  {
   "cell_type": "code",
   "execution_count": 27,
   "id": "1942f3e1",
   "metadata": {},
   "outputs": [
    {
     "data": {
      "text/plain": [
       "SingleFieldFEFunction():\n",
       " num_cells: 14984\n",
       " DomainStyle: ReferenceDomain()\n",
       " Triangulation: BodyFittedTriangulation()\n",
       " Triangulation id: 5801636436064852872"
      ]
     },
     "execution_count": 27,
     "metadata": {},
     "output_type": "execute_result"
    }
   ],
   "source": [
    "reffe_Disp = ReferenceFE(lagrangian,VectorValue{2,Float64},order)\n",
    "        V0_Disp = TestFESpace(model,reffe_Disp;\n",
    "          conformity=:H1,\n",
    "          dirichlet_tags=[\"LeftSupport\",\"RightSupport\",\"LoadLine\"],\n",
    "          dirichlet_masks=[(false, true), (true, true), (false, true)])\n",
    "\n",
    "uh = zero(V0_Disp)"
   ]
  },
  {
   "cell_type": "code",
   "execution_count": 28,
   "id": "e2183bf7",
   "metadata": {},
   "outputs": [
    {
     "data": {
      "text/plain": [
       "MultiFieldFESpace()"
      ]
     },
     "execution_count": 28,
     "metadata": {},
     "output_type": "execute_result"
    }
   ],
   "source": [
    "V0 = MultiFieldFESpace([V0_Disp,V0_theta])"
   ]
  },
  {
   "cell_type": "code",
   "execution_count": 29,
   "id": "3e5674ef",
   "metadata": {},
   "outputs": [
    {
     "data": {
      "text/plain": [
       "stepPhaseField (generic function with 1 method)"
      ]
     },
     "execution_count": 29,
     "metadata": {},
     "output_type": "execute_result"
    }
   ],
   "source": [
    "function  stepPhaseField(uh_in,ψPlusPrev_in)\n",
    "    U_PF = TrialFESpace(V0_PF)\n",
    "        a_PF(s,ϕ) = ∫( (Gc*lsp*∇(ϕ)⋅ ∇(s)) + (2*ψPlusPrev_in*s*ϕ)  + ((Gc/lsp)*s*ϕ) )*dΩ\n",
    "        b_PF(ϕ) = ∫( (Gc/lsp)*ϕ )*dΩ\n",
    "        op_PF = AffineFEOperator(a_PF,b_PF,U_PF,V0_PF)\n",
    "        sh_out = solve(op_PF)\n",
    "    return sh_out\n",
    "end"
   ]
  },
  {
   "cell_type": "code",
   "execution_count": 30,
   "id": "839eb039",
   "metadata": {},
   "outputs": [
    {
     "data": {
      "text/plain": [
       "Skw (generic function with 1 method)"
      ]
     },
     "execution_count": 30,
     "metadata": {},
     "output_type": "execute_result"
    }
   ],
   "source": [
    "function Skw(u,θ)\n",
    "    ∇ᵀ = transpose(∇(u))\n",
    "    w = (0.5*(∇ᵀ - ∇(u)) - (E_Matrx*θ))\n",
    "    return w\n",
    "end"
   ]
  },
  {
   "cell_type": "code",
   "execution_count": 31,
   "id": "9eab4a9c",
   "metadata": {},
   "outputs": [
    {
     "data": {
      "text/plain": [
       "stepDisp (generic function with 1 method)"
      ]
     },
     "execution_count": 31,
     "metadata": {},
     "output_type": "execute_result"
    }
   ],
   "source": [
    "function   stepDisp(uh_in,θ_in,sh_in,uApp)\n",
    "        uApp1(x) = VectorValue(0.0,0.0)\n",
    "        uApp2(x) = VectorValue(0.0,0.0)\n",
    "        uApp3(x) = VectorValue(0.0,-uApp)\n",
    "        U_Disp = TrialFESpace(V0_Disp,[uApp1,uApp2,uApp3])\n",
    "        \n",
    "        U_theta = TrialFESpace(V0_theta)\n",
    "        U = MultiFieldFESpace([U_Disp,U_theta ])\n",
    "\n",
    "        a((u,θ),(w,v))  = ∫( (ε(w) ⊙ (σ_Bmod∘(ε(u),ε(uh_in),sh_in)) ) + ((Skw(w,v)) ⊙ (σ_Cmod∘(ε_Skw∘(∇(u),θ), sh_in)) ) + ((∇(v))⋅ (M_mod∘(∇(θ),sh_in))) - (v*((E_Matrx) ⊙ (σ_Cmod∘(ε_Skw∘(∇(u),θ),sh_in))) ))*dΩ\n",
    "        b((w,v))= 0\n",
    "        op_Disp = AffineFEOperator(a,b,U,V0)\n",
    "        uh_out = solve(op_Disp)\n",
    "        uh_out,phih_out = uh_out\n",
    "    return uh_out, phih_out\n",
    "end"
   ]
  },
  {
   "cell_type": "code",
   "execution_count": 32,
   "id": "d92bcca5",
   "metadata": {},
   "outputs": [],
   "source": [
    "cd(\"Results_N0.5_l0.5\")"
   ]
  },
  {
   "cell_type": "code",
   "execution_count": 33,
   "id": "8a4b863f",
   "metadata": {},
   "outputs": [
    {
     "name": "stdout",
     "output_type": "stream",
     "text": [
      "\n",
      " Entering displacemtent step1 :0.001\n",
      " Relative error = 5.194886154290165e-17\n",
      " Entering displacemtent step2 :0.002\n",
      " Relative error = 6.477569676048917e-6\n",
      " Relative error = 1.9432420130157283e-5\n",
      " Relative error = 2.165538603666872e-9\n",
      " Entering displacemtent step3 :0.003\n",
      " Relative error = 2.440389318415837e-12\n",
      " Entering displacemtent step4 :0.004\n",
      " Relative error = 3.2384040295694875e-5\n",
      " Relative error = 4.533820703625298e-5\n",
      " Relative error = 2.0260195388278765e-8\n",
      " Relative error = 9.159452035648706e-11\n",
      " Entering displacemtent step5 :0.005\n",
      " Relative error = 5.915682398602615e-13\n",
      " Entering displacemtent step6 :0.006\n",
      " Relative error = 5.826733879348219e-5\n",
      " Relative error = 7.123389307309618e-5\n",
      " Relative error = 7.205299417999417e-8\n",
      " Relative error = 7.372394406688804e-10\n",
      " Entering displacemtent step7 :0.007\n",
      " Relative error = 1.0767226185247206e-11\n",
      " Entering displacemtent step8 :0.008\n",
      " Relative error = 8.410343976832514e-5\n",
      " Relative error = 9.711351774937524e-5\n",
      " Relative error = 1.7630781730567078e-7\n",
      " Relative error = 3.235530784169231e-9\n",
      " Entering displacemtent step9 :0.009000000000000001\n",
      " Relative error = 8.462203259801715e-11\n",
      " Entering displacemtent step10 :0.010000000000000002\n",
      " Relative error = 0.00010986658656897158\n",
      " Relative error = 0.00012297093839283118\n",
      " Relative error = 3.5346303845648654e-7\n",
      " Relative error = 1.0256088196386509e-8\n",
      " Relative error = 4.231716553273386e-10\n",
      " Entering displacemtent step11 :0.011000000000000003\n",
      " Relative error = 1.8794826527543946e-11\n",
      " Entering displacemtent step12 :0.012000000000000004\n",
      " Relative error = 0.00013552807856076246\n",
      " Relative error = 0.0001487997439920575\n",
      " Relative error = 6.264114403457236e-7\n",
      " Relative error = 2.656708750021978e-8\n",
      " Relative error = 1.5976688149433784e-9\n",
      " Entering displacemtent step13 :0.013000000000000005\n",
      " Relative error = 1.0331314830257764e-10\n",
      " Entering displacemtent step14 :0.014000000000000005\n",
      " Relative error = 0.00016105472271660766\n",
      " Relative error = 0.0001745931464129936\n",
      " Relative error = 1.0214780974488694e-6\n",
      " Relative error = 6.004615196338088e-8\n",
      " Relative error = 4.9877524992766515e-9\n",
      " Entering displacemtent step15 :0.015000000000000006\n",
      " Relative error = 4.4495370928783444e-10\n",
      " Entering displacemtent step16 :0.016000000000000007\n",
      " Relative error = 0.0001864065780250454\n",
      " Relative error = 0.00020034383427536154\n",
      " Relative error = 1.5696880061561036e-6\n",
      " Relative error = 1.2314182293650575e-7\n",
      " Relative error = 1.359609260645444e-8\n",
      " Relative error = 1.6100776430896349e-9\n",
      " Entering displacemtent step17 :0.017000000000000008\n",
      " Relative error = 1.9382347243177465e-10\n",
      " Entering displacemtent step18 :0.01800000000000001\n",
      " Relative error = 0.0002115334537752572\n",
      " Relative error = 0.0002260437635690188\n",
      " Relative error = 2.3083896568156465e-6\n",
      " Relative error = 2.3503772390378322e-7\n",
      " Relative error = 3.3527519613387614e-8\n",
      " Relative error = 5.122715383416261e-9\n",
      " Entering displacemtent step19 :0.01900000000000001\n",
      " Relative error = 7.9541419866648e-10\n",
      " Entering displacemtent step20 :0.02000000000000001\n",
      " Relative error = 0.00023637000993699859\n",
      " Relative error = 0.0002516838555405602\n",
      " Relative error = 3.283776901865375e-6\n",
      " Relative error = 4.249701580522868e-7\n",
      " Relative error = 7.667067730364815e-8\n",
      " Relative error = 1.4795066419246403e-8\n",
      " Relative error = 2.9006195945800133e-9\n",
      " Entering displacemtent step21 :0.02100000000000001\n",
      " Relative error = 5.713296856068911e-10\n",
      " Entering displacemtent step22 :0.022000000000000013\n",
      " Relative error = 0.00026082588698407637\n",
      " Relative error = 0.00027725348175783565\n",
      " Relative error = 4.554005515399694e-6\n",
      " Relative error = 7.374653268102515e-7\n",
      " Relative error = 1.6559223009894632e-7\n",
      " Relative error = 3.971599238744667e-8\n",
      " Relative error = 9.676545907229668e-9\n",
      " Entering displacemtent step23 :0.023000000000000013\n",
      " Relative error = 2.3686104213288995e-9\n",
      " Entering displacemtent step24 :0.024000000000000014\n",
      " Relative error = 0.00028477135023808416\n",
      " Relative error = 0.0003027396739431021\n",
      " Relative error = 6.195105231510721e-6\n",
      " Relative error = 1.2409205079644372e-6\n",
      " Relative error = 3.4269497030357553e-7\n",
      " Relative error = 1.0097649366648657e-7\n",
      " Relative error = 3.02267346706685e-8\n",
      " Relative error = 9.091461975548189e-9\n",
      " Entering displacemtent step25 :0.025000000000000015\n",
      " Relative error = 2.738811328654315e-9\n",
      " Entering displacemtent step26 :0.026000000000000016\n",
      " Relative error = 0.00030800282215650524\n",
      " Relative error = 0.0003281254532320776\n",
      " Relative error = 8.309047437445642e-6\n",
      " Relative error = 2.0425747905864924e-6\n",
      " Relative error = 6.881114820061543e-7\n",
      " Relative error = 2.4716136035436566e-7\n",
      " Relative error = 9.023693609626555e-8\n",
      " Relative error = 3.311523074344522e-8\n",
      " Relative error = 1.217432853545034e-8\n",
      " Relative error = 4.4785525822046794e-9\n",
      " Entering displacemtent step27 :0.027000000000000017\n",
      " Relative error = 1.647894622856518e-9\n",
      " Entering displacemtent step28 :0.028000000000000018\n",
      " Relative error = 0.0003301775729851147\n",
      " Relative error = 0.00035338670529656623\n",
      " Relative error = 1.1040750080658832e-5\n",
      " Relative error = 3.3170214706005615e-6\n",
      " Relative error = 1.3569167816173126e-6\n",
      " Relative error = 5.91830031563478e-7\n",
      " Relative error = 2.627107290141575e-7\n",
      " Relative error = 1.1732648426958017e-7\n",
      " Relative error = 5.2519519988318736e-8\n",
      " Relative error = 2.3531405736096444e-8\n",
      " Entering displacemtent step29 :0.02900000000000002\n",
      " Relative error = 1.054729062011735e-8\n",
      " Relative error = 0.0003506493252853723\n",
      " Relative error = 1.0125348284726736e-5\n",
      " Relative error = 3.1481693280472897e-6\n",
      " Relative error = 1.4032042319749048e-6\n",
      " Relative error = 6.73987384077806e-7\n",
      " Relative error = 3.302383760837029e-7\n",
      " Relative error = 1.6292204893277952e-7\n",
      " Relative error = 8.059145196434819e-8\n",
      " Relative error = 3.9909774462529036e-8\n",
      " Entering displacemtent step30 :0.03000000000000002\n",
      " Relative error = 1.9773253825567007e-8\n",
      " Relative error = 0.000363538423560299\n",
      " Relative error = 1.1437877619048698e-5\n",
      " Relative error = 3.917003297942411e-6\n",
      " Relative error = 1.9262300722113526e-6\n",
      " Relative error = 1.0217590153461154e-6\n",
      " Relative error = 5.535338727191381e-7\n",
      " Relative error = 3.0220309977289534e-7\n",
      " Relative error = 1.6552891900691374e-7\n",
      " Relative error = 9.0803471190946e-8\n",
      " Entering displacemtent step31 :0.03100000000000002\n",
      " Relative error = 4.9848336116195264e-8\n",
      " Relative error = 0.0003729382921613368\n",
      " Relative error = 1.2878542405871815e-5\n",
      " Relative error = 4.887571204826275e-6\n",
      " Relative error = 2.6611232778912602e-6\n",
      " Relative error = 1.5635304822480222e-6\n",
      " Relative error = 9.394740049884726e-7\n",
      " Relative error = 5.695910104228626e-7\n",
      " Relative error = 3.468021908384527e-7\n",
      " Relative error = 2.116220396014176e-7\n",
      " Entering displacemtent step32 :0.03200000000000002\n",
      " Relative error = 1.2929414862720214e-7\n",
      " Relative error = 0.00038121342583166164\n",
      " Relative error = 1.4501245433868501e-5\n",
      " Relative error = 6.13755167336848e-6\n",
      " Relative error = 3.718422761753576e-6\n",
      " Relative error = 2.4316963779492718e-6\n",
      " Relative error = 1.6290246545216006e-6\n",
      " Relative error = 1.1031131744046749e-6\n",
      " Relative error = 7.513585204238172e-7\n",
      " Relative error = 5.135823591897805e-7\n",
      " Entering displacemtent step33 :0.03300000000000002\n",
      " Relative error = 3.5185039276216973e-7\n",
      " Relative error = 0.0003875476180486478\n",
      " Relative error = 1.638564027889025e-5\n",
      " Relative error = 7.827141178245663e-6\n",
      " Relative error = 5.324039090587148e-6\n",
      " Relative error = 3.907582004507188e-6\n",
      " Relative error = 2.9444970292352054e-6\n",
      " Relative error = 2.248940484457752e-6\n",
      " Relative error = 1.7324058333094034e-6\n",
      " Relative error = 1.3425412695284898e-6\n",
      " Entering displacemtent step34 :0.03400000000000002\n",
      " Relative error = 1.045057733001204e-6\n",
      " Relative error = 0.0003900644665350087\n",
      " Relative error = 1.8822745072077203e-5\n",
      " Relative error = 1.0406269667510519e-5\n",
      " Relative error = 8.083738024502679e-6\n",
      " Relative error = 6.761193110285676e-6\n",
      " Relative error = 5.821709249566179e-6\n",
      " Relative error = 5.10153724943038e-6\n",
      " Relative error = 4.529445257063385e-6\n",
      " Relative error = 4.065338841695518e-6\n",
      " Entering displacemtent step35 :0.035000000000000024\n",
      " Relative error = 3.683172022005643e-6\n",
      " Relative error = 0.0003845946385735051\n",
      " Relative error = 2.380418394555644e-5\n",
      " Relative error = 1.6063802192100732e-5\n",
      " Relative error = 1.4709248838342226e-5\n",
      " Relative error = 1.4403934388916491e-5\n",
      " Relative error = 1.4539420899356693e-5\n",
      " Relative error = 1.4986634376071501e-5\n",
      " Relative error = 1.5709745693280007e-5\n",
      " Relative error = 1.6704910782708964e-5\n",
      " Entering displacemtent step36 :0.036000000000000025\n",
      " Relative error = 1.7975513604161388e-5\n",
      " Relative error = 0.0003542978517270069\n",
      " Relative error = 4.5990765982744815e-5\n",
      " Relative error = 4.0254977532232804e-5\n",
      " Relative error = 4.123161379758528e-5\n",
      " Relative error = 4.208621228827781e-5\n",
      " Relative error = 4.1731757615504014e-5\n",
      " Relative error = 4.0385485444301924e-5\n",
      " Relative error = 3.868731633047206e-5\n",
      " Relative error = 3.701595405755361e-5\n",
      " Entering displacemtent step37 :0.037000000000000026\n",
      " Relative error = 3.544359713715183e-5\n",
      " Relative error = 0.00027616785144763924\n",
      " Relative error = 6.107458852069853e-5\n",
      " Relative error = 4.910543834734164e-5\n",
      " Relative error = 4.610523293585771e-5\n",
      " Relative error = 4.455583908922716e-5\n",
      " Relative error = 4.362659596760503e-5\n",
      " Relative error = 4.296956233188259e-5\n",
      " Relative error = 4.229848522625349e-5\n",
      " Relative error = 4.156429764628035e-5\n",
      " Entering displacemtent step38 :0.03800000000000003\n",
      " Relative error = 4.0890555130540145e-5\n",
      " Relative error = 0.00027524147868369535\n",
      " Relative error = 7.17148050787269e-5\n",
      " Relative error = 5.983123808381282e-5\n",
      " Relative error = 5.750404252007099e-5\n",
      " Relative error = 5.6279385198253124e-5\n",
      " Relative error = 5.531265478637474e-5\n",
      " Relative error = 5.4833032508027644e-5\n",
      " Relative error = 5.487248353137375e-5\n",
      " Relative error = 5.4926270602909156e-5\n",
      " Entering displacemtent step39 :0.03900000000000003\n",
      " Relative error = 5.51261681853578e-5\n",
      " Relative error = 0.00028459647657545897\n",
      " Relative error = 9.244694320374878e-5\n",
      " Relative error = 8.082811871817675e-5\n",
      " Relative error = 7.96365708478918e-5\n",
      " Relative error = 8.022756374423687e-5\n",
      " Relative error = 8.10407122157753e-5\n",
      " Relative error = 8.130923869645867e-5\n",
      " Relative error = 8.16379095308797e-5\n",
      " Relative error = 8.205143294059453e-5\n",
      " Entering displacemtent step40 :0.04000000000000003\n",
      " Relative error = 8.206103609176391e-5\n",
      " Relative error = 0.00030438554928008974\n",
      " Relative error = 0.00012587823476529269\n",
      " Relative error = 0.00011354168984884286\n",
      " Relative error = 0.00011196628297532311\n",
      " Relative error = 0.00011190673627806314\n",
      " Relative error = 0.00011173305591020367\n",
      " Relative error = 0.00011208587294247646\n",
      " Relative error = 0.00011228813639325649\n",
      " Relative error = 0.00011235336194608954\n",
      " Entering displacemtent step41 :0.04100000000000003\n",
      " Relative error = 0.00011320248748426142\n",
      " Relative error = 0.0003283258681991683\n",
      " Relative error = 0.000160865164914008\n",
      " Relative error = 0.00014750203019828624\n",
      " Relative error = 0.00014496799283614673\n",
      " Relative error = 0.00014357944425958766\n",
      " Relative error = 0.00014264164435297995\n",
      " Relative error = 0.00014194739439073883\n",
      " Relative error = 0.0001420456896058846\n",
      " Relative error = 0.00014324155319952997\n",
      " Entering displacemtent step42 :0.04200000000000003\n",
      " Relative error = 0.00014394546067409865\n",
      " Relative error = 0.0003478318461110784\n",
      " Relative error = 0.00019281834590246312\n",
      " Relative error = 0.00017732081220571785\n",
      " Relative error = 0.0001740256879316069\n",
      " Relative error = 0.00017326946769289592\n",
      " Relative error = 0.00017225702983475117\n",
      " Relative error = 0.00017040206540403817\n",
      " Relative error = 0.00016861108084051735\n",
      " Relative error = 0.00016676838025283725\n",
      " Entering displacemtent step43 :0.04300000000000003\n",
      " Relative error = 0.00016645746960406327\n",
      " Relative error = 0.0003560574343101997\n",
      " Relative error = 0.00021870968336592394\n",
      " Relative error = 0.00020141650407220563\n",
      " Relative error = 0.00019568562321235875\n",
      " Relative error = 0.00019247930107804735\n",
      " Relative error = 0.0001906535330839629\n",
      " Relative error = 0.0001884723385111827\n",
      " Relative error = 0.00018563789418746168\n",
      " Relative error = 0.00018334348099284653\n",
      " Entering displacemtent step44 :0.04400000000000003\n",
      " Relative error = 0.0001821391182646986\n",
      " Relative error = 0.00035043663734898785\n",
      " Relative error = 0.0002335778962543098\n",
      " Relative error = 0.00021561045315286132\n",
      " Relative error = 0.00020887687184016794\n",
      " Relative error = 0.00020558299061224208\n",
      " Relative error = 0.00020268097142626026\n",
      " Relative error = 0.0001993069558503241\n",
      " Relative error = 0.0001962867962492453\n",
      " Relative error = 0.0001939639625769485\n",
      " Entering displacemtent step45 :0.04500000000000003\n",
      " Relative error = 0.00019312586040035003\n",
      " Relative error = 0.000335643256515306\n",
      " Relative error = 0.00024482772357668325\n",
      " Relative error = 0.00022782295116192695\n",
      " Relative error = 0.0002222846768330025\n",
      " Relative error = 0.0002191551042253833\n",
      " Relative error = 0.00021625732867054258\n",
      " Relative error = 0.00021406901673046724\n",
      " Relative error = 0.00021334937063320375\n",
      " Relative error = 0.00021363870858388527\n",
      " Entering displacemtent step46 :0.046000000000000034\n",
      " Relative error = 0.0002138835286679795\n",
      " Relative error = 0.0003265074476205978\n",
      " Relative error = 0.00027167876511298254\n",
      " Relative error = 0.00026289195485402556\n",
      " Relative error = 0.0002622609502248768\n",
      " Relative error = 0.0002646937214109778\n",
      " Relative error = 0.0002717953167733442\n",
      " Relative error = 0.0002817392145670186\n",
      " Relative error = 0.0002956182507903235\n",
      " Relative error = 0.000316267651251661\n",
      " Entering displacemtent step47 :0.047000000000000035\n",
      " Relative error = 0.00034543287710344045\n",
      " Relative error = 0.00045069015437480586\n",
      " Relative error = 0.000498417959533376\n",
      " Relative error = 0.0005470749785833859\n",
      " Relative error = 0.00042823708276580055\n",
      " Relative error = 7.700139763293139e-5\n",
      " Relative error = 2.9387988883364664e-6\n",
      " Relative error = 3.544059653091976e-7\n",
      " Relative error = 1.0353714088142605e-7\n",
      " Relative error = 4.725663868153625e-8\n",
      " Entering displacemtent step48 :0.048000000000000036\n",
      " Relative error = 2.4358479980987018e-8\n",
      " Relative error = 1.3539408838237455e-7\n",
      " Relative error = 1.2250015660799845e-8\n",
      " Relative error = 3.498920461234127e-9\n",
      " Entering displacemtent step49 :0.04900000000000004\n",
      " Relative error = 1.2383904333777436e-9\n",
      " Entering displacemtent step50 :0.05000000000000004\n",
      " Relative error = 1.1540707824129148e-7\n",
      " Relative error = 1.1448555010326353e-7\n",
      " Relative error = 6.0478996756675245e-9\n",
      " Entering displacemtent step51 :0.05100000000000004\n",
      " Relative error = 1.043117381210295e-9\n",
      " Entering displacemtent step52 :0.05200000000000004\n",
      " Relative error = 1.0203424253172344e-7\n",
      " Relative error = 1.0075407478119237e-7\n",
      " Relative error = 4.743943499381418e-9\n",
      " Entering displacemtent step53 :0.05300000000000004\n",
      " Relative error = 6.365184733482982e-10\n",
      " Entering displacemtent step54 :0.05400000000000004\n",
      " Relative error = 9.068155136126388e-8\n",
      " Relative error = 8.941351044455635e-8\n",
      " Relative error = 3.528143997136691e-9\n",
      " Entering displacemtent step55 :0.05500000000000004\n",
      " Relative error = 3.97335386624661e-10\n",
      " Entering displacemtent step56 :0.05600000000000004\n",
      " Relative error = 8.100788147399581e-8\n",
      " Relative error = 7.96050186625086e-8\n",
      " Relative error = 2.6884150323485764e-9\n",
      " Entering displacemtent step57 :0.057000000000000044\n",
      " Relative error = 3.767511524012703e-10\n",
      " Entering displacemtent step58 :0.058000000000000045\n",
      " Relative error = 7.269404513213871e-8\n",
      " Relative error = 7.137977211320802e-8\n",
      " Relative error = 2.208837201769915e-9\n",
      " Entering displacemtent step59 :0.059000000000000045\n",
      " Relative error = 1.988878099056462e-10\n",
      " Entering displacemtent step60 :0.060000000000000046\n",
      " Relative error = 6.548515411978892e-8\n",
      " Relative error = 6.422543061179467e-8\n",
      " Relative error = 1.8232111219539424e-9\n",
      " Entering displacemtent step61 :0.06100000000000005\n",
      " Relative error = 1.3343440300493712e-10\n",
      " Entering displacemtent step62 :0.06200000000000005\n",
      " Relative error = 5.920556653434103e-8\n",
      " Relative error = 5.796881947725324e-8\n",
      " Relative error = 1.4420474062764103e-9\n",
      " Entering displacemtent step63 :0.06300000000000004\n",
      " Relative error = 8.525414531759523e-11\n",
      " Entering displacemtent step64 :0.06400000000000004\n",
      " Relative error = 5.371009428127634e-8\n",
      " Relative error = 5.250024817051769e-8\n",
      " Relative error = 1.1508309282767514e-9\n",
      " Entering displacemtent step65 :0.06500000000000004\n",
      " Relative error = 1.6506433548922038e-10\n",
      " Entering displacemtent step66 :0.06600000000000004\n",
      " Relative error = 9.557121802413812e-8\n",
      " Relative error = 1.1344588014170681e-7\n",
      " Relative error = 2.0932927411406483e-9\n",
      " Entering displacemtent step67 :0.06700000000000005\n",
      " Relative error = 6.394043809015123e-11\n",
      " Entering displacemtent step68 :0.06800000000000005\n",
      " Relative error = 1.1904785674831221e-7\n",
      " Relative error = 1.3707908327651826e-7\n",
      " Relative error = 2.590546293075661e-9\n",
      " Entering displacemtent step69 :0.06900000000000005\n",
      " Relative error = 5.6978866644116436e-11\n",
      " Entering displacemtent step70 :0.07000000000000005\n",
      " Relative error = 1.426648234563126e-7\n",
      " Relative error = 1.575890626896127e-7\n",
      " Relative error = 3.007422045155076e-9\n",
      " Entering displacemtent step71 :0.07100000000000005\n",
      " Relative error = 7.048230624796825e-11\n",
      " Entering displacemtent step72 :0.07200000000000005\n",
      " Relative error = 1.5478971879521526e-7\n",
      " Relative error = 1.578482434879004e-7\n",
      " Relative error = 3.073961926592582e-9\n",
      " Entering displacemtent step73 :0.07300000000000005\n",
      " Relative error = 7.708829910445268e-11\n",
      " Entering displacemtent step74 :0.07400000000000005\n",
      " Relative error = 1.5498656568669185e-7\n",
      " Relative error = 1.58343503288598e-7\n",
      " Relative error = 3.378775988950451e-9\n",
      " Entering displacemtent step75 :0.07500000000000005\n",
      " Relative error = 7.923026566923285e-11\n",
      " Entering displacemtent step76 :0.07600000000000005\n",
      " Relative error = 1.5547393156781052e-7\n",
      " Relative error = 1.5918699907469187e-7\n",
      " Relative error = 3.468929292890517e-9\n",
      " Entering displacemtent step77 :0.07700000000000005\n",
      " Relative error = 8.189223093373403e-11\n",
      " Entering displacemtent step78 :0.07800000000000006\n",
      " Relative error = 1.5622505898955843e-7\n",
      " Relative error = 1.6016440886938572e-7\n",
      " Relative error = 3.601491475805657e-9\n",
      " Entering displacemtent step79 :0.07900000000000006\n",
      " Relative error = 8.698737435208459e-11\n",
      " Entering displacemtent step80 :0.08000000000000006\n",
      " Relative error = 1.7353326366493563e-7\n",
      " Relative error = 1.9212232630600423e-7\n",
      " Relative error = 4.205491265386086e-9\n",
      " Entering displacemtent step81 :0.08100000000000006\n",
      " Relative error = 1.0589267474242811e-10\n",
      " Entering displacemtent step82 :0.08200000000000006\n",
      " Relative error = 1.967160374933569e-7\n",
      " Relative error = 2.0209672647112804e-7\n",
      " Relative error = 4.515742064408321e-9\n",
      " Entering displacemtent step83 :0.08300000000000006\n",
      " Relative error = 2.18729403028893e-10\n",
      " Entering displacemtent step84 :0.08400000000000006\n",
      " Relative error = 1.9889770332511286e-7\n",
      " Relative error = 2.091982812049342e-7\n",
      " Relative error = 4.891365323103502e-9\n",
      " Entering displacemtent step85 :0.08500000000000006\n",
      " Relative error = 1.5418584600193868e-10\n",
      " Entering displacemtent step86 :0.08600000000000006\n",
      " Relative error = 2.205743884464101e-7\n",
      " Relative error = 2.437682134515714e-7\n",
      " Relative error = 5.358926691679355e-9\n",
      " Entering displacemtent step87 :0.08700000000000006\n",
      " Relative error = 1.5373296591106468e-10\n",
      " Entering displacemtent step88 :0.08800000000000006\n",
      " Relative error = 2.731083848376907e-7\n",
      " Relative error = 3.5805292350435187e-7\n",
      " Relative error = 1.481343119881912e-8\n",
      " Relative error = 8.446775338991054e-10\n",
      " Entering displacemtent step89 :0.08900000000000007\n",
      " Relative error = 4.9448718474473886e-11\n",
      " Entering displacemtent step90 :0.09000000000000007\n",
      " Relative error = 4.2958763116657174e-7\n",
      " Relative error = 4.94845068914537e-7\n",
      " Relative error = 2.07590047830941e-8\n",
      " Relative error = 1.1414498210768074e-9\n",
      " Entering displacemtent step91 :0.09100000000000007\n",
      " Relative error = 6.524351035709495e-11\n",
      " Entering displacemtent step92 :0.09200000000000007\n",
      " Relative error = 5.300691650462615e-7\n",
      " Relative error = 6.148837241330297e-7\n",
      " Relative error = 2.7561673431818155e-8\n",
      " Relative error = 1.5655102884858008e-9\n",
      " Entering displacemtent step93 :0.09300000000000007\n",
      " Relative error = 9.401562574782542e-11\n",
      " Entering displacemtent step94 :0.09400000000000007\n",
      " Relative error = 6.727035731687084e-7\n",
      " Relative error = 8.561702651264563e-7\n",
      " Relative error = 5.7529965817832113e-8\n",
      " Relative error = 5.349165104906794e-9\n",
      " Entering displacemtent step95 :0.09500000000000007\n",
      " Relative error = 5.921839656935472e-10\n",
      " Entering displacemtent step96 :0.09600000000000007\n",
      " Relative error = 8.253286065194271e-7\n",
      " Relative error = 9.126894474661427e-7\n",
      " Relative error = 6.410226111137264e-8\n",
      " Relative error = 6.311948210014727e-9\n",
      " Entering displacemtent step97 :0.09700000000000007\n",
      " Relative error = 7.368500871649733e-10\n",
      " Entering displacemtent step98 :0.09800000000000007\n",
      " Relative error = 9.233020659233804e-7\n",
      " Relative error = 1.1086389622307516e-6\n",
      " Relative error = 9.50124540967258e-8\n",
      " Relative error = 1.1440445836929702e-8\n",
      " Relative error = 1.5928739759393332e-9\n",
      " Entering displacemtent step99 :0.09900000000000007\n",
      " Relative error = 2.5113837667275914e-10\n",
      " Entering displacemtent step100 :0.10000000000000007\n",
      " Relative error = 1.1204455172244395e-6\n",
      " Relative error = 1.2930949762398674e-6\n",
      " Relative error = 1.2541204751058767e-7\n",
      " Relative error = 1.7874737434694107e-8\n",
      " Relative error = 3.0440780559989354e-9"
     ]
    }
   ],
   "source": [
    "uApp = 0\n",
    "delu = 1e-3\n",
    "uAppMax = 0.1\n",
    "innerMax = 10\n",
    "count = 0\n",
    "Load = Float64[]\n",
    "Displacement = Float64[]\n",
    "Energy = Float64[]\n",
    "Energy_Mech = Float64[]\n",
    "Energy_Coup = Float64[]\n",
    "Energy_Rot = Float64[]\n",
    "\n",
    "sPrev = CellState(1.0,dΩ)\n",
    "sh = project(sPrev,model,dΩ,order)\n",
    "ψPlusPrev = CellState(0.0,dΩ)\n",
    "ψhPos = CellState(0.0,dΩ)\n",
    "ψhPos_in = project(ψhPos,model,dΩ,order)\n",
    "\n",
    "while uApp .< uAppMax \n",
    "        \n",
    "    uApp = uApp .+ delu\n",
    "    count = count .+ 1\n",
    "    if uApp >= 3e-2\n",
    "        delv = 1e-4\n",
    "    end\n",
    "   \n",
    "    print(\"\\n Entering displacemtent step$count :\", float(uApp))\n",
    "    \n",
    "   for inner = 1:innerMax\n",
    "        \n",
    "        ψhPlusPrev = project(ψPlusPrev,model,dΩ,order)\n",
    "        \n",
    "        err = abs(sum(∫( Gc*lsp*∇(sh)⋅ ∇(sh) + 2*ψhPlusPrev*sh*sh  + (Gc/lsp)*sh*sh)*dΩ - ∫( (Gc/lsp)*sh)*dΩ))/abs(sum(∫( (Gc/lsp)*sh)*dΩ))\n",
    "        print(\"\\n Relative error = \",float(err))\n",
    "        \n",
    "        sh = stepPhaseField(uh,ψhPlusPrev) \n",
    "        uh,θh = stepDisp(uh,θh,sh,uApp)\n",
    "        \n",
    "        ψhPos_in = ψPos∘(ε(uh),∇(uh),θh,∇(θh))      \n",
    "        \n",
    "        update_state!(new_EnergyState,ψPlusPrev,ψhPos_in)\n",
    "        \n",
    "        if err < 1e-8\n",
    "            break \n",
    "        end\n",
    "    end\n",
    "    \n",
    "    Node_Force = sum(∫( n_Γ_Load ⋅ (σ_Bmod∘(ε(uh),ε(uh),sh)) ) *dΓ_Load + ∫( n_Γ_Load ⋅ (σ_Cmod∘(ε_Skw∘(∇(uh),θh),sh) ) )  *dΓ_Load)\n",
    "    \n",
    "    p = get_cell_points(dE_Load)\n",
    "    A = evaluate(ψPos∘(ε(uh),∇(uh),θh, ∇(θh)),p)\n",
    "    B = [A[i][j] for i in 1:size(A,1), j in 1:2]\n",
    "    PosEn = maximum(B)\n",
    "    \n",
    "    A = evaluate(ψMech∘(ε(uh),∇(uh),θh, ∇(θh)),p)\n",
    "    B = [A[i][j] for i in 1:size(A,1), j in 1:2]\n",
    "    Psi_Mech = maximum(B)\n",
    "    \n",
    "    A = evaluate(ψCoup∘(ε(uh),∇(uh),θh, ∇(θh)),p)\n",
    "    B = [A[i][j] for i in 1:size(A,1), j in 1:2]\n",
    "    Psi_Coup = maximum(B)\n",
    "    \n",
    "    A = evaluate(ψRot∘(ε(uh),∇(uh),θh, ∇(θh)),p)\n",
    "    B = [A[i][j] for i in 1:size(A,1), j in 1:2]\n",
    "    Psi_Rot = maximum(B)\n",
    "    \n",
    "    push!(Energy, PosEn)\n",
    "    push!(Energy_Mech, Psi_Mech)\n",
    "    push!(Energy_Coup, Psi_Coup)\n",
    "    push!(Energy_Rot, Psi_Rot)\n",
    "    push!(Load, Node_Force[2])\n",
    "    push!(Displacement, uApp)\n",
    "    if mod(count,10) == 0\n",
    "          writevtk(Ω,\"results_PhaseFieldNotchedBeam_Vol-Dev$count\",cellfields=\n",
    "        [\"psi\"=> ψPos∘(ε(uh),∇(uh),θh,∇(θh)),\"Psi_Mech\"=>ψMech∘(ε(uh),∇(uh),θh,∇(θh)),\n",
    "                \"Psi_Coup\"=>ψCoup∘(ε(uh),∇(uh),θh,∇(θh)),\"Psi_Rot\"=>ψRot∘(ε(uh),∇(uh),θh,∇(θh)),\n",
    "                \"uh\"=>uh,\"s\"=>sh ,\"θ\" => θh, \"epsi\"=>ε(uh)])\n",
    "    end\n",
    "end"
   ]
  },
  {
   "cell_type": "code",
   "execution_count": 34,
   "id": "cf4184cd",
   "metadata": {},
   "outputs": [
    {
     "data": {
      "text/plain": [
       "([\"results_PhaseFieldNotchedBeam_Spectral100.vtu\"],)"
      ]
     },
     "execution_count": 34,
     "metadata": {},
     "output_type": "execute_result"
    }
   ],
   "source": [
    "writevtk(Ω,\"results_PhaseFieldNotchedBeam_Spectral$count\",cellfields=\n",
    "        [\"uh\"=>uh,\"s\"=>sh ,\"θ\" => θh, \"epsi\"=>ε(uh)])"
   ]
  },
  {
   "cell_type": "code",
   "execution_count": 35,
   "id": "emerging-negative",
   "metadata": {},
   "outputs": [
    {
     "data": {
      "image/svg+xml": [
       "<?xml version=\"1.0\" encoding=\"utf-8\"?>\n",
       "<svg xmlns=\"http://www.w3.org/2000/svg\" xmlns:xlink=\"http://www.w3.org/1999/xlink\" width=\"600\" height=\"400\" viewBox=\"0 0 2400 1600\">\n",
       "<defs>\n",
       "  <clipPath id=\"clip360\">\n",
       "    <rect x=\"0\" y=\"0\" width=\"2400\" height=\"1600\"/>\n",
       "  </clipPath>\n",
       "</defs>\n",
       "<path clip-path=\"url(#clip360)\" d=\"M0 1600 L2400 1600 L2400 0 L0 0  Z\" fill=\"#ffffff\" fill-rule=\"evenodd\" fill-opacity=\"1\"/>\n",
       "<defs>\n",
       "  <clipPath id=\"clip361\">\n",
       "    <rect x=\"480\" y=\"0\" width=\"1681\" height=\"1600\"/>\n",
       "  </clipPath>\n",
       "</defs>\n",
       "<path clip-path=\"url(#clip360)\" d=\"M186.76 1486.45 L2352.76 1486.45 L2352.76 47.2441 L186.76 47.2441  Z\" fill=\"#ffffff\" fill-rule=\"evenodd\" fill-opacity=\"1\"/>\n",
       "<defs>\n",
       "  <clipPath id=\"clip362\">\n",
       "    <rect x=\"186\" y=\"47\" width=\"2167\" height=\"1440\"/>\n",
       "  </clipPath>\n",
       "</defs>\n",
       "<polyline clip-path=\"url(#clip362)\" style=\"stroke:#000000; stroke-linecap:round; stroke-linejoin:round; stroke-width:2; stroke-opacity:0.1; fill:none\" points=\"227.422,1486.45 227.422,47.2441 \"/>\n",
       "<polyline clip-path=\"url(#clip362)\" style=\"stroke:#000000; stroke-linecap:round; stroke-linejoin:round; stroke-width:2; stroke-opacity:0.1; fill:none\" points=\"743.43,1486.45 743.43,47.2441 \"/>\n",
       "<polyline clip-path=\"url(#clip362)\" style=\"stroke:#000000; stroke-linecap:round; stroke-linejoin:round; stroke-width:2; stroke-opacity:0.1; fill:none\" points=\"1259.44,1486.45 1259.44,47.2441 \"/>\n",
       "<polyline clip-path=\"url(#clip362)\" style=\"stroke:#000000; stroke-linecap:round; stroke-linejoin:round; stroke-width:2; stroke-opacity:0.1; fill:none\" points=\"1775.45,1486.45 1775.45,47.2441 \"/>\n",
       "<polyline clip-path=\"url(#clip362)\" style=\"stroke:#000000; stroke-linecap:round; stroke-linejoin:round; stroke-width:2; stroke-opacity:0.1; fill:none\" points=\"2291.45,1486.45 2291.45,47.2441 \"/>\n",
       "<polyline clip-path=\"url(#clip360)\" style=\"stroke:#000000; stroke-linecap:round; stroke-linejoin:round; stroke-width:4; stroke-opacity:1; fill:none\" points=\"186.76,1486.45 2352.76,1486.45 \"/>\n",
       "<polyline clip-path=\"url(#clip360)\" style=\"stroke:#000000; stroke-linecap:round; stroke-linejoin:round; stroke-width:4; stroke-opacity:1; fill:none\" points=\"227.422,1486.45 227.422,1467.55 \"/>\n",
       "<polyline clip-path=\"url(#clip360)\" style=\"stroke:#000000; stroke-linecap:round; stroke-linejoin:round; stroke-width:4; stroke-opacity:1; fill:none\" points=\"743.43,1486.45 743.43,1467.55 \"/>\n",
       "<polyline clip-path=\"url(#clip360)\" style=\"stroke:#000000; stroke-linecap:round; stroke-linejoin:round; stroke-width:4; stroke-opacity:1; fill:none\" points=\"1259.44,1486.45 1259.44,1467.55 \"/>\n",
       "<polyline clip-path=\"url(#clip360)\" style=\"stroke:#000000; stroke-linecap:round; stroke-linejoin:round; stroke-width:4; stroke-opacity:1; fill:none\" points=\"1775.45,1486.45 1775.45,1467.55 \"/>\n",
       "<polyline clip-path=\"url(#clip360)\" style=\"stroke:#000000; stroke-linecap:round; stroke-linejoin:round; stroke-width:4; stroke-opacity:1; fill:none\" points=\"2291.45,1486.45 2291.45,1467.55 \"/>\n",
       "<path clip-path=\"url(#clip360)\" d=\"M174.644 1517.37 Q171.033 1517.37 169.204 1520.93 Q167.399 1524.47 167.399 1531.6 Q167.399 1538.71 169.204 1542.27 Q171.033 1545.82 174.644 1545.82 Q178.278 1545.82 180.084 1542.27 Q181.913 1538.71 181.913 1531.6 Q181.913 1524.47 180.084 1520.93 Q178.278 1517.37 174.644 1517.37 M174.644 1513.66 Q180.454 1513.66 183.51 1518.27 Q186.588 1522.85 186.588 1531.6 Q186.588 1540.33 183.51 1544.94 Q180.454 1549.52 174.644 1549.52 Q168.834 1549.52 165.755 1544.94 Q162.7 1540.33 162.7 1531.6 Q162.7 1522.85 165.755 1518.27 Q168.834 1513.66 174.644 1513.66 Z\" fill=\"#000000\" fill-rule=\"nonzero\" fill-opacity=\"1\" /><path clip-path=\"url(#clip360)\" d=\"M194.806 1542.97 L199.69 1542.97 L199.69 1548.85 L194.806 1548.85 L194.806 1542.97 Z\" fill=\"#000000\" fill-rule=\"nonzero\" fill-opacity=\"1\" /><path clip-path=\"url(#clip360)\" d=\"M219.875 1517.37 Q216.264 1517.37 214.436 1520.93 Q212.63 1524.47 212.63 1531.6 Q212.63 1538.71 214.436 1542.27 Q216.264 1545.82 219.875 1545.82 Q223.51 1545.82 225.315 1542.27 Q227.144 1538.71 227.144 1531.6 Q227.144 1524.47 225.315 1520.93 Q223.51 1517.37 219.875 1517.37 M219.875 1513.66 Q225.685 1513.66 228.741 1518.27 Q231.82 1522.85 231.82 1531.6 Q231.82 1540.33 228.741 1544.94 Q225.685 1549.52 219.875 1549.52 Q214.065 1549.52 210.986 1544.94 Q207.931 1540.33 207.931 1531.6 Q207.931 1522.85 210.986 1518.27 Q214.065 1513.66 219.875 1513.66 Z\" fill=\"#000000\" fill-rule=\"nonzero\" fill-opacity=\"1\" /><path clip-path=\"url(#clip360)\" d=\"M250.037 1517.37 Q246.426 1517.37 244.597 1520.93 Q242.792 1524.47 242.792 1531.6 Q242.792 1538.71 244.597 1542.27 Q246.426 1545.82 250.037 1545.82 Q253.671 1545.82 255.477 1542.27 Q257.306 1538.71 257.306 1531.6 Q257.306 1524.47 255.477 1520.93 Q253.671 1517.37 250.037 1517.37 M250.037 1513.66 Q255.847 1513.66 258.903 1518.27 Q261.982 1522.85 261.982 1531.6 Q261.982 1540.33 258.903 1544.94 Q255.847 1549.52 250.037 1549.52 Q244.227 1549.52 241.148 1544.94 Q238.093 1540.33 238.093 1531.6 Q238.093 1522.85 241.148 1518.27 Q244.227 1513.66 250.037 1513.66 Z\" fill=\"#000000\" fill-rule=\"nonzero\" fill-opacity=\"1\" /><path clip-path=\"url(#clip360)\" d=\"M280.199 1517.37 Q276.588 1517.37 274.759 1520.93 Q272.954 1524.47 272.954 1531.6 Q272.954 1538.71 274.759 1542.27 Q276.588 1545.82 280.199 1545.82 Q283.833 1545.82 285.639 1542.27 Q287.468 1538.71 287.468 1531.6 Q287.468 1524.47 285.639 1520.93 Q283.833 1517.37 280.199 1517.37 M280.199 1513.66 Q286.009 1513.66 289.065 1518.27 Q292.143 1522.85 292.143 1531.6 Q292.143 1540.33 289.065 1544.94 Q286.009 1549.52 280.199 1549.52 Q274.389 1549.52 271.31 1544.94 Q268.255 1540.33 268.255 1531.6 Q268.255 1522.85 271.31 1518.27 Q274.389 1513.66 280.199 1513.66 Z\" fill=\"#000000\" fill-rule=\"nonzero\" fill-opacity=\"1\" /><path clip-path=\"url(#clip360)\" d=\"M691.15 1517.37 Q687.539 1517.37 685.71 1520.93 Q683.905 1524.47 683.905 1531.6 Q683.905 1538.71 685.71 1542.27 Q687.539 1545.82 691.15 1545.82 Q694.784 1545.82 696.59 1542.27 Q698.418 1538.71 698.418 1531.6 Q698.418 1524.47 696.59 1520.93 Q694.784 1517.37 691.15 1517.37 M691.15 1513.66 Q696.96 1513.66 700.016 1518.27 Q703.094 1522.85 703.094 1531.6 Q703.094 1540.33 700.016 1544.94 Q696.96 1549.52 691.15 1549.52 Q685.34 1549.52 682.261 1544.94 Q679.206 1540.33 679.206 1531.6 Q679.206 1522.85 682.261 1518.27 Q685.34 1513.66 691.15 1513.66 Z\" fill=\"#000000\" fill-rule=\"nonzero\" fill-opacity=\"1\" /><path clip-path=\"url(#clip360)\" d=\"M711.312 1542.97 L716.196 1542.97 L716.196 1548.85 L711.312 1548.85 L711.312 1542.97 Z\" fill=\"#000000\" fill-rule=\"nonzero\" fill-opacity=\"1\" /><path clip-path=\"url(#clip360)\" d=\"M736.381 1517.37 Q732.77 1517.37 730.941 1520.93 Q729.136 1524.47 729.136 1531.6 Q729.136 1538.71 730.941 1542.27 Q732.77 1545.82 736.381 1545.82 Q740.015 1545.82 741.821 1542.27 Q743.65 1538.71 743.65 1531.6 Q743.65 1524.47 741.821 1520.93 Q740.015 1517.37 736.381 1517.37 M736.381 1513.66 Q742.191 1513.66 745.247 1518.27 Q748.326 1522.85 748.326 1531.6 Q748.326 1540.33 745.247 1544.94 Q742.191 1549.52 736.381 1549.52 Q730.571 1549.52 727.492 1544.94 Q724.437 1540.33 724.437 1531.6 Q724.437 1522.85 727.492 1518.27 Q730.571 1513.66 736.381 1513.66 Z\" fill=\"#000000\" fill-rule=\"nonzero\" fill-opacity=\"1\" /><path clip-path=\"url(#clip360)\" d=\"M760.571 1544.91 L776.89 1544.91 L776.89 1548.85 L754.946 1548.85 L754.946 1544.91 Q757.608 1542.16 762.191 1537.53 Q766.798 1532.88 767.978 1531.53 Q770.224 1529.01 771.103 1527.27 Q772.006 1525.51 772.006 1523.82 Q772.006 1521.07 770.062 1519.33 Q768.14 1517.6 765.038 1517.6 Q762.839 1517.6 760.386 1518.36 Q757.955 1519.13 755.177 1520.68 L755.177 1515.95 Q758.001 1514.82 760.455 1514.24 Q762.909 1513.66 764.946 1513.66 Q770.316 1513.66 773.511 1516.35 Q776.705 1519.03 776.705 1523.52 Q776.705 1525.65 775.895 1527.57 Q775.108 1529.47 773.001 1532.07 Q772.423 1532.74 769.321 1535.95 Q766.219 1539.15 760.571 1544.91 Z\" fill=\"#000000\" fill-rule=\"nonzero\" fill-opacity=\"1\" /><path clip-path=\"url(#clip360)\" d=\"M786.751 1514.29 L805.108 1514.29 L805.108 1518.22 L791.034 1518.22 L791.034 1526.7 Q792.052 1526.35 793.071 1526.19 Q794.089 1526 795.108 1526 Q800.895 1526 804.274 1529.17 Q807.654 1532.34 807.654 1537.76 Q807.654 1543.34 804.182 1546.44 Q800.709 1549.52 794.39 1549.52 Q792.214 1549.52 789.946 1549.15 Q787.7 1548.78 785.293 1548.04 L785.293 1543.34 Q787.376 1544.47 789.598 1545.03 Q791.821 1545.58 794.297 1545.58 Q798.302 1545.58 800.64 1543.48 Q802.978 1541.37 802.978 1537.76 Q802.978 1534.15 800.64 1532.04 Q798.302 1529.94 794.297 1529.94 Q792.422 1529.94 790.548 1530.35 Q788.696 1530.77 786.751 1531.65 L786.751 1514.29 Z\" fill=\"#000000\" fill-rule=\"nonzero\" fill-opacity=\"1\" /><path clip-path=\"url(#clip360)\" d=\"M1206.66 1517.37 Q1203.05 1517.37 1201.22 1520.93 Q1199.42 1524.47 1199.42 1531.6 Q1199.42 1538.71 1201.22 1542.27 Q1203.05 1545.82 1206.66 1545.82 Q1210.29 1545.82 1212.1 1542.27 Q1213.93 1538.71 1213.93 1531.6 Q1213.93 1524.47 1212.1 1520.93 Q1210.29 1517.37 1206.66 1517.37 M1206.66 1513.66 Q1212.47 1513.66 1215.53 1518.27 Q1218.6 1522.85 1218.6 1531.6 Q1218.6 1540.33 1215.53 1544.94 Q1212.47 1549.52 1206.66 1549.52 Q1200.85 1549.52 1197.77 1544.94 Q1194.72 1540.33 1194.72 1531.6 Q1194.72 1522.85 1197.77 1518.27 Q1200.85 1513.66 1206.66 1513.66 Z\" fill=\"#000000\" fill-rule=\"nonzero\" fill-opacity=\"1\" /><path clip-path=\"url(#clip360)\" d=\"M1226.82 1542.97 L1231.71 1542.97 L1231.71 1548.85 L1226.82 1548.85 L1226.82 1542.97 Z\" fill=\"#000000\" fill-rule=\"nonzero\" fill-opacity=\"1\" /><path clip-path=\"url(#clip360)\" d=\"M1251.89 1517.37 Q1248.28 1517.37 1246.45 1520.93 Q1244.65 1524.47 1244.65 1531.6 Q1244.65 1538.71 1246.45 1542.27 Q1248.28 1545.82 1251.89 1545.82 Q1255.53 1545.82 1257.33 1542.27 Q1259.16 1538.71 1259.16 1531.6 Q1259.16 1524.47 1257.33 1520.93 Q1255.53 1517.37 1251.89 1517.37 M1251.89 1513.66 Q1257.7 1513.66 1260.76 1518.27 Q1263.84 1522.85 1263.84 1531.6 Q1263.84 1540.33 1260.76 1544.94 Q1257.7 1549.52 1251.89 1549.52 Q1246.08 1549.52 1243 1544.94 Q1239.95 1540.33 1239.95 1531.6 Q1239.95 1522.85 1243 1518.27 Q1246.08 1513.66 1251.89 1513.66 Z\" fill=\"#000000\" fill-rule=\"nonzero\" fill-opacity=\"1\" /><path clip-path=\"url(#clip360)\" d=\"M1272.1 1514.29 L1290.46 1514.29 L1290.46 1518.22 L1276.38 1518.22 L1276.38 1526.7 Q1277.4 1526.35 1278.42 1526.19 Q1279.44 1526 1280.46 1526 Q1286.24 1526 1289.62 1529.17 Q1293 1532.34 1293 1537.76 Q1293 1543.34 1289.53 1546.44 Q1286.06 1549.52 1279.74 1549.52 Q1277.56 1549.52 1275.29 1549.15 Q1273.05 1548.78 1270.64 1548.04 L1270.64 1543.34 Q1272.72 1544.47 1274.95 1545.03 Q1277.17 1545.58 1279.65 1545.58 Q1283.65 1545.58 1285.99 1543.48 Q1288.33 1541.37 1288.33 1537.76 Q1288.33 1534.15 1285.99 1532.04 Q1283.65 1529.94 1279.65 1529.94 Q1277.77 1529.94 1275.9 1530.35 Q1274.04 1530.77 1272.1 1531.65 L1272.1 1514.29 Z\" fill=\"#000000\" fill-rule=\"nonzero\" fill-opacity=\"1\" /><path clip-path=\"url(#clip360)\" d=\"M1312.22 1517.37 Q1308.6 1517.37 1306.78 1520.93 Q1304.97 1524.47 1304.97 1531.6 Q1304.97 1538.71 1306.78 1542.27 Q1308.6 1545.82 1312.22 1545.82 Q1315.85 1545.82 1317.66 1542.27 Q1319.48 1538.71 1319.48 1531.6 Q1319.48 1524.47 1317.66 1520.93 Q1315.85 1517.37 1312.22 1517.37 M1312.22 1513.66 Q1318.03 1513.66 1321.08 1518.27 Q1324.16 1522.85 1324.16 1531.6 Q1324.16 1540.33 1321.08 1544.94 Q1318.03 1549.52 1312.22 1549.52 Q1306.41 1549.52 1303.33 1544.94 Q1300.27 1540.33 1300.27 1531.6 Q1300.27 1522.85 1303.33 1518.27 Q1306.41 1513.66 1312.22 1513.66 Z\" fill=\"#000000\" fill-rule=\"nonzero\" fill-opacity=\"1\" /><path clip-path=\"url(#clip360)\" d=\"M1723.17 1517.37 Q1719.56 1517.37 1717.73 1520.93 Q1715.92 1524.47 1715.92 1531.6 Q1715.92 1538.71 1717.73 1542.27 Q1719.56 1545.82 1723.17 1545.82 Q1726.8 1545.82 1728.61 1542.27 Q1730.43 1538.71 1730.43 1531.6 Q1730.43 1524.47 1728.61 1520.93 Q1726.8 1517.37 1723.17 1517.37 M1723.17 1513.66 Q1728.98 1513.66 1732.03 1518.27 Q1735.11 1522.85 1735.11 1531.6 Q1735.11 1540.33 1732.03 1544.94 Q1728.98 1549.52 1723.17 1549.52 Q1717.36 1549.52 1714.28 1544.94 Q1711.22 1540.33 1711.22 1531.6 Q1711.22 1522.85 1714.28 1518.27 Q1717.36 1513.66 1723.17 1513.66 Z\" fill=\"#000000\" fill-rule=\"nonzero\" fill-opacity=\"1\" /><path clip-path=\"url(#clip360)\" d=\"M1743.33 1542.97 L1748.21 1542.97 L1748.21 1548.85 L1743.33 1548.85 L1743.33 1542.97 Z\" fill=\"#000000\" fill-rule=\"nonzero\" fill-opacity=\"1\" /><path clip-path=\"url(#clip360)\" d=\"M1768.4 1517.37 Q1764.79 1517.37 1762.96 1520.93 Q1761.15 1524.47 1761.15 1531.6 Q1761.15 1538.71 1762.96 1542.27 Q1764.79 1545.82 1768.4 1545.82 Q1772.03 1545.82 1773.84 1542.27 Q1775.67 1538.71 1775.67 1531.6 Q1775.67 1524.47 1773.84 1520.93 Q1772.03 1517.37 1768.4 1517.37 M1768.4 1513.66 Q1774.21 1513.66 1777.26 1518.27 Q1780.34 1522.85 1780.34 1531.6 Q1780.34 1540.33 1777.26 1544.94 Q1774.21 1549.52 1768.4 1549.52 Q1762.59 1549.52 1759.51 1544.94 Q1756.45 1540.33 1756.45 1531.6 Q1756.45 1522.85 1759.51 1518.27 Q1762.59 1513.66 1768.4 1513.66 Z\" fill=\"#000000\" fill-rule=\"nonzero\" fill-opacity=\"1\" /><path clip-path=\"url(#clip360)\" d=\"M1787.38 1514.29 L1809.6 1514.29 L1809.6 1516.28 L1797.05 1548.85 L1792.17 1548.85 L1803.98 1518.22 L1787.38 1518.22 L1787.38 1514.29 Z\" fill=\"#000000\" fill-rule=\"nonzero\" fill-opacity=\"1\" /><path clip-path=\"url(#clip360)\" d=\"M1818.77 1514.29 L1837.12 1514.29 L1837.12 1518.22 L1823.05 1518.22 L1823.05 1526.7 Q1824.07 1526.35 1825.09 1526.19 Q1826.11 1526 1827.12 1526 Q1832.91 1526 1836.29 1529.17 Q1839.67 1532.34 1839.67 1537.76 Q1839.67 1543.34 1836.2 1546.44 Q1832.73 1549.52 1826.41 1549.52 Q1824.23 1549.52 1821.96 1549.15 Q1819.72 1548.78 1817.31 1548.04 L1817.31 1543.34 Q1819.39 1544.47 1821.61 1545.03 Q1823.84 1545.58 1826.31 1545.58 Q1830.32 1545.58 1832.66 1543.48 Q1834.99 1541.37 1834.99 1537.76 Q1834.99 1534.15 1832.66 1532.04 Q1830.32 1529.94 1826.31 1529.94 Q1824.44 1529.94 1822.56 1530.35 Q1820.71 1530.77 1818.77 1531.65 L1818.77 1514.29 Z\" fill=\"#000000\" fill-rule=\"nonzero\" fill-opacity=\"1\" /><path clip-path=\"url(#clip360)\" d=\"M2238.68 1517.37 Q2235.07 1517.37 2233.24 1520.93 Q2231.43 1524.47 2231.43 1531.6 Q2231.43 1538.71 2233.24 1542.27 Q2235.07 1545.82 2238.68 1545.82 Q2242.31 1545.82 2244.12 1542.27 Q2245.95 1538.71 2245.95 1531.6 Q2245.95 1524.47 2244.12 1520.93 Q2242.31 1517.37 2238.68 1517.37 M2238.68 1513.66 Q2244.49 1513.66 2247.54 1518.27 Q2250.62 1522.85 2250.62 1531.6 Q2250.62 1540.33 2247.54 1544.94 Q2244.49 1549.52 2238.68 1549.52 Q2232.87 1549.52 2229.79 1544.94 Q2226.73 1540.33 2226.73 1531.6 Q2226.73 1522.85 2229.79 1518.27 Q2232.87 1513.66 2238.68 1513.66 Z\" fill=\"#000000\" fill-rule=\"nonzero\" fill-opacity=\"1\" /><path clip-path=\"url(#clip360)\" d=\"M2258.84 1542.97 L2263.72 1542.97 L2263.72 1548.85 L2258.84 1548.85 L2258.84 1542.97 Z\" fill=\"#000000\" fill-rule=\"nonzero\" fill-opacity=\"1\" /><path clip-path=\"url(#clip360)\" d=\"M2274.72 1544.91 L2282.36 1544.91 L2282.36 1518.55 L2274.05 1520.21 L2274.05 1515.95 L2282.31 1514.29 L2286.99 1514.29 L2286.99 1544.91 L2294.63 1544.91 L2294.63 1548.85 L2274.72 1548.85 L2274.72 1544.91 Z\" fill=\"#000000\" fill-rule=\"nonzero\" fill-opacity=\"1\" /><path clip-path=\"url(#clip360)\" d=\"M2314.07 1517.37 Q2310.46 1517.37 2308.63 1520.93 Q2306.82 1524.47 2306.82 1531.6 Q2306.82 1538.71 2308.63 1542.27 Q2310.46 1545.82 2314.07 1545.82 Q2317.7 1545.82 2319.51 1542.27 Q2321.34 1538.71 2321.34 1531.6 Q2321.34 1524.47 2319.51 1520.93 Q2317.7 1517.37 2314.07 1517.37 M2314.07 1513.66 Q2319.88 1513.66 2322.94 1518.27 Q2326.01 1522.85 2326.01 1531.6 Q2326.01 1540.33 2322.94 1544.94 Q2319.88 1549.52 2314.07 1549.52 Q2308.26 1549.52 2305.18 1544.94 Q2302.13 1540.33 2302.13 1531.6 Q2302.13 1522.85 2305.18 1518.27 Q2308.26 1513.66 2314.07 1513.66 Z\" fill=\"#000000\" fill-rule=\"nonzero\" fill-opacity=\"1\" /><path clip-path=\"url(#clip360)\" d=\"M2344.23 1517.37 Q2340.62 1517.37 2338.79 1520.93 Q2336.99 1524.47 2336.99 1531.6 Q2336.99 1538.71 2338.79 1542.27 Q2340.62 1545.82 2344.23 1545.82 Q2347.87 1545.82 2349.67 1542.27 Q2351.5 1538.71 2351.5 1531.6 Q2351.5 1524.47 2349.67 1520.93 Q2347.87 1517.37 2344.23 1517.37 M2344.23 1513.66 Q2350.04 1513.66 2353.1 1518.27 Q2356.18 1522.85 2356.18 1531.6 Q2356.18 1540.33 2353.1 1544.94 Q2350.04 1549.52 2344.23 1549.52 Q2338.42 1549.52 2335.34 1544.94 Q2332.29 1540.33 2332.29 1531.6 Q2332.29 1522.85 2335.34 1518.27 Q2338.42 1513.66 2344.23 1513.66 Z\" fill=\"#000000\" fill-rule=\"nonzero\" fill-opacity=\"1\" /><polyline clip-path=\"url(#clip362)\" style=\"stroke:#000000; stroke-linecap:round; stroke-linejoin:round; stroke-width:2; stroke-opacity:0.1; fill:none\" points=\"186.76,1397.25 2352.76,1397.25 \"/>\n",
       "<polyline clip-path=\"url(#clip362)\" style=\"stroke:#000000; stroke-linecap:round; stroke-linejoin:round; stroke-width:2; stroke-opacity:0.1; fill:none\" points=\"186.76,1115.69 2352.76,1115.69 \"/>\n",
       "<polyline clip-path=\"url(#clip362)\" style=\"stroke:#000000; stroke-linecap:round; stroke-linejoin:round; stroke-width:2; stroke-opacity:0.1; fill:none\" points=\"186.76,834.118 2352.76,834.118 \"/>\n",
       "<polyline clip-path=\"url(#clip362)\" style=\"stroke:#000000; stroke-linecap:round; stroke-linejoin:round; stroke-width:2; stroke-opacity:0.1; fill:none\" points=\"186.76,552.55 2352.76,552.55 \"/>\n",
       "<polyline clip-path=\"url(#clip362)\" style=\"stroke:#000000; stroke-linecap:round; stroke-linejoin:round; stroke-width:2; stroke-opacity:0.1; fill:none\" points=\"186.76,270.982 2352.76,270.982 \"/>\n",
       "<polyline clip-path=\"url(#clip360)\" style=\"stroke:#000000; stroke-linecap:round; stroke-linejoin:round; stroke-width:4; stroke-opacity:1; fill:none\" points=\"186.76,1486.45 186.76,47.2441 \"/>\n",
       "<polyline clip-path=\"url(#clip360)\" style=\"stroke:#000000; stroke-linecap:round; stroke-linejoin:round; stroke-width:4; stroke-opacity:1; fill:none\" points=\"186.76,1397.25 205.658,1397.25 \"/>\n",
       "<polyline clip-path=\"url(#clip360)\" style=\"stroke:#000000; stroke-linecap:round; stroke-linejoin:round; stroke-width:4; stroke-opacity:1; fill:none\" points=\"186.76,1115.69 205.658,1115.69 \"/>\n",
       "<polyline clip-path=\"url(#clip360)\" style=\"stroke:#000000; stroke-linecap:round; stroke-linejoin:round; stroke-width:4; stroke-opacity:1; fill:none\" points=\"186.76,834.118 205.658,834.118 \"/>\n",
       "<polyline clip-path=\"url(#clip360)\" style=\"stroke:#000000; stroke-linecap:round; stroke-linejoin:round; stroke-width:4; stroke-opacity:1; fill:none\" points=\"186.76,552.55 205.658,552.55 \"/>\n",
       "<polyline clip-path=\"url(#clip360)\" style=\"stroke:#000000; stroke-linecap:round; stroke-linejoin:round; stroke-width:4; stroke-opacity:1; fill:none\" points=\"186.76,270.982 205.658,270.982 \"/>\n",
       "<path clip-path=\"url(#clip360)\" d=\"M63.4226 1383.05 Q59.8115 1383.05 57.9828 1386.62 Q56.1773 1390.16 56.1773 1397.29 Q56.1773 1404.39 57.9828 1407.96 Q59.8115 1411.5 63.4226 1411.5 Q67.0569 1411.5 68.8624 1407.96 Q70.6911 1404.39 70.6911 1397.29 Q70.6911 1390.16 68.8624 1386.62 Q67.0569 1383.05 63.4226 1383.05 M63.4226 1379.35 Q69.2328 1379.35 72.2883 1383.96 Q75.367 1388.54 75.367 1397.29 Q75.367 1406.02 72.2883 1410.62 Q69.2328 1415.21 63.4226 1415.21 Q57.6125 1415.21 54.5338 1410.62 Q51.4782 1406.02 51.4782 1397.29 Q51.4782 1388.54 54.5338 1383.96 Q57.6125 1379.35 63.4226 1379.35 Z\" fill=\"#000000\" fill-rule=\"nonzero\" fill-opacity=\"1\" /><path clip-path=\"url(#clip360)\" d=\"M83.5845 1408.65 L88.4688 1408.65 L88.4688 1414.53 L83.5845 1414.53 L83.5845 1408.65 Z\" fill=\"#000000\" fill-rule=\"nonzero\" fill-opacity=\"1\" /><path clip-path=\"url(#clip360)\" d=\"M108.654 1383.05 Q105.043 1383.05 103.214 1386.62 Q101.409 1390.16 101.409 1397.29 Q101.409 1404.39 103.214 1407.96 Q105.043 1411.5 108.654 1411.5 Q112.288 1411.5 114.094 1407.96 Q115.922 1404.39 115.922 1397.29 Q115.922 1390.16 114.094 1386.62 Q112.288 1383.05 108.654 1383.05 M108.654 1379.35 Q114.464 1379.35 117.52 1383.96 Q120.598 1388.54 120.598 1397.29 Q120.598 1406.02 117.52 1410.62 Q114.464 1415.21 108.654 1415.21 Q102.844 1415.21 99.765 1410.62 Q96.7095 1406.02 96.7095 1397.29 Q96.7095 1388.54 99.765 1383.96 Q102.844 1379.35 108.654 1379.35 Z\" fill=\"#000000\" fill-rule=\"nonzero\" fill-opacity=\"1\" /><path clip-path=\"url(#clip360)\" d=\"M138.816 1383.05 Q135.205 1383.05 133.376 1386.62 Q131.57 1390.16 131.57 1397.29 Q131.57 1404.39 133.376 1407.96 Q135.205 1411.5 138.816 1411.5 Q142.45 1411.5 144.256 1407.96 Q146.084 1404.39 146.084 1397.29 Q146.084 1390.16 144.256 1386.62 Q142.45 1383.05 138.816 1383.05 M138.816 1379.35 Q144.626 1379.35 147.681 1383.96 Q150.76 1388.54 150.76 1397.29 Q150.76 1406.02 147.681 1410.62 Q144.626 1415.21 138.816 1415.21 Q133.006 1415.21 129.927 1410.62 Q126.871 1406.02 126.871 1397.29 Q126.871 1388.54 129.927 1383.96 Q133.006 1379.35 138.816 1379.35 Z\" fill=\"#000000\" fill-rule=\"nonzero\" fill-opacity=\"1\" /><path clip-path=\"url(#clip360)\" d=\"M64.6495 1101.48 Q61.0384 1101.48 59.2097 1105.05 Q57.4041 1108.59 57.4041 1115.72 Q57.4041 1122.83 59.2097 1126.39 Q61.0384 1129.93 64.6495 1129.93 Q68.2837 1129.93 70.0892 1126.39 Q71.9179 1122.83 71.9179 1115.72 Q71.9179 1108.59 70.0892 1105.05 Q68.2837 1101.48 64.6495 1101.48 M64.6495 1097.78 Q70.4596 1097.78 73.5152 1102.39 Q76.5938 1106.97 76.5938 1115.72 Q76.5938 1124.45 73.5152 1129.05 Q70.4596 1133.64 64.6495 1133.64 Q58.8393 1133.64 55.7606 1129.05 Q52.7051 1124.45 52.7051 1115.72 Q52.7051 1106.97 55.7606 1102.39 Q58.8393 1097.78 64.6495 1097.78 Z\" fill=\"#000000\" fill-rule=\"nonzero\" fill-opacity=\"1\" /><path clip-path=\"url(#clip360)\" d=\"M84.8114 1127.09 L89.6956 1127.09 L89.6956 1132.97 L84.8114 1132.97 L84.8114 1127.09 Z\" fill=\"#000000\" fill-rule=\"nonzero\" fill-opacity=\"1\" /><path clip-path=\"url(#clip360)\" d=\"M109.881 1101.48 Q106.27 1101.48 104.441 1105.05 Q102.635 1108.59 102.635 1115.72 Q102.635 1122.83 104.441 1126.39 Q106.27 1129.93 109.881 1129.93 Q113.515 1129.93 115.32 1126.39 Q117.149 1122.83 117.149 1115.72 Q117.149 1108.59 115.32 1105.05 Q113.515 1101.48 109.881 1101.48 M109.881 1097.78 Q115.691 1097.78 118.746 1102.39 Q121.825 1106.97 121.825 1115.72 Q121.825 1124.45 118.746 1129.05 Q115.691 1133.64 109.881 1133.64 Q104.071 1133.64 100.992 1129.05 Q97.9363 1124.45 97.9363 1115.72 Q97.9363 1106.97 100.992 1102.39 Q104.071 1097.78 109.881 1097.78 Z\" fill=\"#000000\" fill-rule=\"nonzero\" fill-opacity=\"1\" /><path clip-path=\"url(#clip360)\" d=\"M130.853 1129.03 L138.492 1129.03 L138.492 1102.66 L130.182 1104.33 L130.182 1100.07 L138.445 1098.41 L143.121 1098.41 L143.121 1129.03 L150.76 1129.03 L150.76 1132.97 L130.853 1132.97 L130.853 1129.03 Z\" fill=\"#000000\" fill-rule=\"nonzero\" fill-opacity=\"1\" /><path clip-path=\"url(#clip360)\" d=\"M65.0198 819.916 Q61.4087 819.916 59.58 823.481 Q57.7745 827.023 57.7745 834.152 Q57.7745 841.259 59.58 844.824 Q61.4087 848.365 65.0198 848.365 Q68.6541 848.365 70.4596 844.824 Q72.2883 841.259 72.2883 834.152 Q72.2883 827.023 70.4596 823.481 Q68.6541 819.916 65.0198 819.916 M65.0198 816.213 Q70.83 816.213 73.8855 820.819 Q76.9642 825.402 76.9642 834.152 Q76.9642 842.879 73.8855 847.486 Q70.83 852.069 65.0198 852.069 Q59.2097 852.069 56.131 847.486 Q53.0754 842.879 53.0754 834.152 Q53.0754 825.402 56.131 820.819 Q59.2097 816.213 65.0198 816.213 Z\" fill=\"#000000\" fill-rule=\"nonzero\" fill-opacity=\"1\" /><path clip-path=\"url(#clip360)\" d=\"M85.1818 845.518 L90.066 845.518 L90.066 851.398 L85.1818 851.398 L85.1818 845.518 Z\" fill=\"#000000\" fill-rule=\"nonzero\" fill-opacity=\"1\" /><path clip-path=\"url(#clip360)\" d=\"M110.251 819.916 Q106.64 819.916 104.811 823.481 Q103.006 827.023 103.006 834.152 Q103.006 841.259 104.811 844.824 Q106.64 848.365 110.251 848.365 Q113.885 848.365 115.691 844.824 Q117.52 841.259 117.52 834.152 Q117.52 827.023 115.691 823.481 Q113.885 819.916 110.251 819.916 M110.251 816.213 Q116.061 816.213 119.117 820.819 Q122.195 825.402 122.195 834.152 Q122.195 842.879 119.117 847.486 Q116.061 852.069 110.251 852.069 Q104.441 852.069 101.362 847.486 Q98.3067 842.879 98.3067 834.152 Q98.3067 825.402 101.362 820.819 Q104.441 816.213 110.251 816.213 Z\" fill=\"#000000\" fill-rule=\"nonzero\" fill-opacity=\"1\" /><path clip-path=\"url(#clip360)\" d=\"M134.441 847.463 L150.76 847.463 L150.76 851.398 L128.816 851.398 L128.816 847.463 Q131.478 844.708 136.061 840.078 Q140.668 835.426 141.848 834.083 Q144.093 831.56 144.973 829.824 Q145.876 828.064 145.876 826.375 Q145.876 823.62 143.931 821.884 Q142.01 820.148 138.908 820.148 Q136.709 820.148 134.256 820.912 Q131.825 821.676 129.047 823.227 L129.047 818.504 Q131.871 817.37 134.325 816.791 Q136.779 816.213 138.816 816.213 Q144.186 816.213 147.38 818.898 Q150.575 821.583 150.575 826.074 Q150.575 828.203 149.765 830.125 Q148.978 832.023 146.871 834.615 Q146.293 835.287 143.191 838.504 Q140.089 841.699 134.441 847.463 Z\" fill=\"#000000\" fill-rule=\"nonzero\" fill-opacity=\"1\" /><path clip-path=\"url(#clip360)\" d=\"M64.0708 538.348 Q60.4597 538.348 58.631 541.913 Q56.8254 545.455 56.8254 552.584 Q56.8254 559.691 58.631 563.256 Q60.4597 566.797 64.0708 566.797 Q67.705 566.797 69.5105 563.256 Q71.3392 559.691 71.3392 552.584 Q71.3392 545.455 69.5105 541.913 Q67.705 538.348 64.0708 538.348 M64.0708 534.645 Q69.8809 534.645 72.9365 539.251 Q76.0151 543.834 76.0151 552.584 Q76.0151 561.311 72.9365 565.918 Q69.8809 570.501 64.0708 570.501 Q58.2606 570.501 55.1819 565.918 Q52.1264 561.311 52.1264 552.584 Q52.1264 543.834 55.1819 539.251 Q58.2606 534.645 64.0708 534.645 Z\" fill=\"#000000\" fill-rule=\"nonzero\" fill-opacity=\"1\" /><path clip-path=\"url(#clip360)\" d=\"M84.2327 563.95 L89.1169 563.95 L89.1169 569.83 L84.2327 569.83 L84.2327 563.95 Z\" fill=\"#000000\" fill-rule=\"nonzero\" fill-opacity=\"1\" /><path clip-path=\"url(#clip360)\" d=\"M109.302 538.348 Q105.691 538.348 103.862 541.913 Q102.057 545.455 102.057 552.584 Q102.057 559.691 103.862 563.256 Q105.691 566.797 109.302 566.797 Q112.936 566.797 114.742 563.256 Q116.57 559.691 116.57 552.584 Q116.57 545.455 114.742 541.913 Q112.936 538.348 109.302 538.348 M109.302 534.645 Q115.112 534.645 118.168 539.251 Q121.246 543.834 121.246 552.584 Q121.246 561.311 118.168 565.918 Q115.112 570.501 109.302 570.501 Q103.492 570.501 100.413 565.918 Q97.3576 561.311 97.3576 552.584 Q97.3576 543.834 100.413 539.251 Q103.492 534.645 109.302 534.645 Z\" fill=\"#000000\" fill-rule=\"nonzero\" fill-opacity=\"1\" /><path clip-path=\"url(#clip360)\" d=\"M143.631 551.196 Q146.987 551.913 148.862 554.182 Q150.76 556.45 150.76 559.783 Q150.76 564.899 147.242 567.7 Q143.723 570.501 137.242 570.501 Q135.066 570.501 132.751 570.061 Q130.459 569.644 128.006 568.788 L128.006 564.274 Q129.95 565.408 132.265 565.987 Q134.58 566.566 137.103 566.566 Q141.501 566.566 143.793 564.83 Q146.107 563.094 146.107 559.783 Q146.107 556.728 143.955 555.015 Q141.825 553.279 138.006 553.279 L133.978 553.279 L133.978 549.436 L138.191 549.436 Q141.64 549.436 143.468 548.071 Q145.297 546.682 145.297 544.089 Q145.297 541.427 143.399 540.015 Q141.524 538.58 138.006 538.58 Q136.084 538.58 133.885 538.997 Q131.686 539.413 129.047 540.293 L129.047 536.126 Q131.709 535.385 134.024 535.015 Q136.362 534.645 138.422 534.645 Q143.746 534.645 146.848 537.075 Q149.95 539.483 149.95 543.603 Q149.95 546.473 148.306 548.464 Q146.663 550.432 143.631 551.196 Z\" fill=\"#000000\" fill-rule=\"nonzero\" fill-opacity=\"1\" /><path clip-path=\"url(#clip360)\" d=\"M62.9365 256.78 Q59.3254 256.78 57.4967 260.345 Q55.6912 263.887 55.6912 271.016 Q55.6912 278.123 57.4967 281.688 Q59.3254 285.229 62.9365 285.229 Q66.5707 285.229 68.3763 281.688 Q70.205 278.123 70.205 271.016 Q70.205 263.887 68.3763 260.345 Q66.5707 256.78 62.9365 256.78 M62.9365 253.077 Q68.7467 253.077 71.8022 257.683 Q74.8809 262.266 74.8809 271.016 Q74.8809 279.743 71.8022 284.35 Q68.7467 288.933 62.9365 288.933 Q57.1264 288.933 54.0477 284.35 Q50.9921 279.743 50.9921 271.016 Q50.9921 262.266 54.0477 257.683 Q57.1264 253.077 62.9365 253.077 Z\" fill=\"#000000\" fill-rule=\"nonzero\" fill-opacity=\"1\" /><path clip-path=\"url(#clip360)\" d=\"M83.0984 282.382 L87.9827 282.382 L87.9827 288.262 L83.0984 288.262 L83.0984 282.382 Z\" fill=\"#000000\" fill-rule=\"nonzero\" fill-opacity=\"1\" /><path clip-path=\"url(#clip360)\" d=\"M108.168 256.78 Q104.557 256.78 102.728 260.345 Q100.922 263.887 100.922 271.016 Q100.922 278.123 102.728 281.688 Q104.557 285.229 108.168 285.229 Q111.802 285.229 113.608 281.688 Q115.436 278.123 115.436 271.016 Q115.436 263.887 113.608 260.345 Q111.802 256.78 108.168 256.78 M108.168 253.077 Q113.978 253.077 117.033 257.683 Q120.112 262.266 120.112 271.016 Q120.112 279.743 117.033 284.35 Q113.978 288.933 108.168 288.933 Q102.358 288.933 99.2789 284.35 Q96.2234 279.743 96.2234 271.016 Q96.2234 262.266 99.2789 257.683 Q102.358 253.077 108.168 253.077 Z\" fill=\"#000000\" fill-rule=\"nonzero\" fill-opacity=\"1\" /><path clip-path=\"url(#clip360)\" d=\"M141.177 257.776 L129.371 276.225 L141.177 276.225 L141.177 257.776 M139.95 253.702 L145.83 253.702 L145.83 276.225 L150.76 276.225 L150.76 280.114 L145.83 280.114 L145.83 288.262 L141.177 288.262 L141.177 280.114 L125.575 280.114 L125.575 275.6 L139.95 253.702 Z\" fill=\"#000000\" fill-rule=\"nonzero\" fill-opacity=\"1\" /><polyline clip-path=\"url(#clip362)\" style=\"stroke:#009af9; stroke-linecap:round; stroke-linejoin:round; stroke-width:4; stroke-opacity:1; fill:none\" points=\"248.062,1357.95 268.702,1318.66 289.343,1279.37 309.983,1240.12 330.623,1200.83 351.264,1161.67 371.904,1122.41 392.544,1083.37 413.184,1044.14 433.825,1005.27 454.465,966.075 475.105,927.425 495.746,888.273 516.386,849.885 537.026,810.787 557.667,772.714 578.307,733.68 598.947,695.977 619.588,657.017 640.228,619.748 660.868,580.873 681.509,544.115 702.149,505.336 722.789,469.182 743.43,430.512 764.07,395.09 784.71,356.545 805.351,322.04 825.991,285.986 846.631,250.351 867.272,215.228 887.912,180.802 908.552,147.457 929.193,116.262 949.833,92.0542 970.473,87.9763 991.114,89.9403 1011.75,102.439 1032.39,136.599 1053.03,200.044 1073.67,294.667 1094.32,417.818 1114.96,561.512 1135.6,717.1 1156.24,884.074 1176.88,1101.35 1197.52,1421.84 1218.16,1422.43 1238.8,1422.96 1259.44,1423.58 1280.08,1424.11 1300.72,1424.72 1321.36,1425.25 1342,1425.85 1362.64,1426.38 1383.28,1426.97 1403.92,1427.5 1424.56,1428.08 1445.2,1428.61 1465.84,1429.19 1486.48,1429.72 1507.12,1430.29 1527.76,1430.82 1548.4,1431.39 1569.04,1431.92 1589.68,1432.46 1610.32,1432.99 1630.96,1433.51 1651.6,1434.04 1672.24,1434.55 1692.88,1435.08 1713.53,1435.58 1734.17,1436.11 1754.81,1436.59 1775.45,1437.12 1796.09,1437.58 1816.73,1438.11 1837.37,1438.57 1858.01,1439.1 1878.65,1439.55 1899.29,1440.07 1919.93,1440.51 1940.57,1441.04 1961.21,1441.46 1981.85,1441.99 2002.49,1442.4 2023.13,1442.93 2043.77,1443.28 2064.41,1443.81 2085.05,1444.03 2105.69,1444.55 2126.33,1444.64 2146.97,1445.15 2167.61,1444.97 2188.25,1445.48 2208.89,1445.17 2229.53,1445.67 2250.17,1445.23 2270.81,1445.72 2291.45,1445.07 \"/>\n",
       "<path clip-path=\"url(#clip360)\" d=\"M2011.53 198.898 L2280.56 198.898 L2280.56 95.2176 L2011.53 95.2176  Z\" fill=\"#ffffff\" fill-rule=\"evenodd\" fill-opacity=\"1\"/>\n",
       "<polyline clip-path=\"url(#clip360)\" style=\"stroke:#000000; stroke-linecap:round; stroke-linejoin:round; stroke-width:4; stroke-opacity:1; fill:none\" points=\"2011.53,198.898 2280.56,198.898 2280.56,95.2176 2011.53,95.2176 2011.53,198.898 \"/>\n",
       "<polyline clip-path=\"url(#clip360)\" style=\"stroke:#009af9; stroke-linecap:round; stroke-linejoin:round; stroke-width:4; stroke-opacity:1; fill:none\" points=\"2035.59,147.058 2179.99,147.058 \"/>\n",
       "<path clip-path=\"url(#clip360)\" d=\"M2217.9 166.745 Q2216.1 171.375 2214.38 172.787 Q2212.67 174.199 2209.8 174.199 L2206.4 174.199 L2206.4 170.634 L2208.9 170.634 Q2210.66 170.634 2211.63 169.8 Q2212.6 168.967 2213.78 165.865 L2214.55 163.921 L2204.06 138.412 L2208.57 138.412 L2216.67 158.689 L2224.78 138.412 L2229.29 138.412 L2217.9 166.745 Z\" fill=\"#000000\" fill-rule=\"nonzero\" fill-opacity=\"1\" /><path clip-path=\"url(#clip360)\" d=\"M2236.58 160.402 L2244.22 160.402 L2244.22 134.037 L2235.91 135.703 L2235.91 131.444 L2244.17 129.778 L2248.85 129.778 L2248.85 160.402 L2256.49 160.402 L2256.49 164.338 L2236.58 164.338 L2236.58 160.402 Z\" fill=\"#000000\" fill-rule=\"nonzero\" fill-opacity=\"1\" /></svg>\n"
      ]
     },
     "execution_count": 35,
     "metadata": {},
     "output_type": "execute_result"
    }
   ],
   "source": [
    "using Plots\n",
    "plot(Displacement,-Load)"
   ]
  },
  {
   "cell_type": "code",
   "execution_count": 36,
   "id": "36762301",
   "metadata": {
    "scrolled": true
   },
   "outputs": [
    {
     "data": {
      "image/svg+xml": [
       "<?xml version=\"1.0\" encoding=\"utf-8\"?>\n",
       "<svg xmlns=\"http://www.w3.org/2000/svg\" xmlns:xlink=\"http://www.w3.org/1999/xlink\" width=\"600\" height=\"400\" viewBox=\"0 0 2400 1600\">\n",
       "<defs>\n",
       "  <clipPath id=\"clip400\">\n",
       "    <rect x=\"0\" y=\"0\" width=\"2400\" height=\"1600\"/>\n",
       "  </clipPath>\n",
       "</defs>\n",
       "<path clip-path=\"url(#clip400)\" d=\"M0 1600 L2400 1600 L2400 0 L0 0  Z\" fill=\"#ffffff\" fill-rule=\"evenodd\" fill-opacity=\"1\"/>\n",
       "<defs>\n",
       "  <clipPath id=\"clip401\">\n",
       "    <rect x=\"480\" y=\"0\" width=\"1681\" height=\"1600\"/>\n",
       "  </clipPath>\n",
       "</defs>\n",
       "<path clip-path=\"url(#clip400)\" d=\"M275.136 1486.45 L2352.76 1486.45 L2352.76 47.2441 L275.136 47.2441  Z\" fill=\"#ffffff\" fill-rule=\"evenodd\" fill-opacity=\"1\"/>\n",
       "<defs>\n",
       "  <clipPath id=\"clip402\">\n",
       "    <rect x=\"275\" y=\"47\" width=\"2079\" height=\"1440\"/>\n",
       "  </clipPath>\n",
       "</defs>\n",
       "<polyline clip-path=\"url(#clip402)\" style=\"stroke:#000000; stroke-linecap:round; stroke-linejoin:round; stroke-width:2; stroke-opacity:0.1; fill:none\" points=\"314.139,1486.45 314.139,47.2441 \"/>\n",
       "<polyline clip-path=\"url(#clip402)\" style=\"stroke:#000000; stroke-linecap:round; stroke-linejoin:round; stroke-width:2; stroke-opacity:0.1; fill:none\" points=\"809.093,1486.45 809.093,47.2441 \"/>\n",
       "<polyline clip-path=\"url(#clip402)\" style=\"stroke:#000000; stroke-linecap:round; stroke-linejoin:round; stroke-width:2; stroke-opacity:0.1; fill:none\" points=\"1304.05,1486.45 1304.05,47.2441 \"/>\n",
       "<polyline clip-path=\"url(#clip402)\" style=\"stroke:#000000; stroke-linecap:round; stroke-linejoin:round; stroke-width:2; stroke-opacity:0.1; fill:none\" points=\"1799,1486.45 1799,47.2441 \"/>\n",
       "<polyline clip-path=\"url(#clip402)\" style=\"stroke:#000000; stroke-linecap:round; stroke-linejoin:round; stroke-width:2; stroke-opacity:0.1; fill:none\" points=\"2293.96,1486.45 2293.96,47.2441 \"/>\n",
       "<polyline clip-path=\"url(#clip400)\" style=\"stroke:#000000; stroke-linecap:round; stroke-linejoin:round; stroke-width:4; stroke-opacity:1; fill:none\" points=\"275.136,1486.45 2352.76,1486.45 \"/>\n",
       "<polyline clip-path=\"url(#clip400)\" style=\"stroke:#000000; stroke-linecap:round; stroke-linejoin:round; stroke-width:4; stroke-opacity:1; fill:none\" points=\"314.139,1486.45 314.139,1467.55 \"/>\n",
       "<polyline clip-path=\"url(#clip400)\" style=\"stroke:#000000; stroke-linecap:round; stroke-linejoin:round; stroke-width:4; stroke-opacity:1; fill:none\" points=\"809.093,1486.45 809.093,1467.55 \"/>\n",
       "<polyline clip-path=\"url(#clip400)\" style=\"stroke:#000000; stroke-linecap:round; stroke-linejoin:round; stroke-width:4; stroke-opacity:1; fill:none\" points=\"1304.05,1486.45 1304.05,1467.55 \"/>\n",
       "<polyline clip-path=\"url(#clip400)\" style=\"stroke:#000000; stroke-linecap:round; stroke-linejoin:round; stroke-width:4; stroke-opacity:1; fill:none\" points=\"1799,1486.45 1799,1467.55 \"/>\n",
       "<polyline clip-path=\"url(#clip400)\" style=\"stroke:#000000; stroke-linecap:round; stroke-linejoin:round; stroke-width:4; stroke-opacity:1; fill:none\" points=\"2293.96,1486.45 2293.96,1467.55 \"/>\n",
       "<path clip-path=\"url(#clip400)\" d=\"M261.361 1517.37 Q257.75 1517.37 255.921 1520.93 Q254.116 1524.47 254.116 1531.6 Q254.116 1538.71 255.921 1542.27 Q257.75 1545.82 261.361 1545.82 Q264.996 1545.82 266.801 1542.27 Q268.63 1538.71 268.63 1531.6 Q268.63 1524.47 266.801 1520.93 Q264.996 1517.37 261.361 1517.37 M261.361 1513.66 Q267.171 1513.66 270.227 1518.27 Q273.306 1522.85 273.306 1531.6 Q273.306 1540.33 270.227 1544.94 Q267.171 1549.52 261.361 1549.52 Q255.551 1549.52 252.472 1544.94 Q249.417 1540.33 249.417 1531.6 Q249.417 1522.85 252.472 1518.27 Q255.551 1513.66 261.361 1513.66 Z\" fill=\"#000000\" fill-rule=\"nonzero\" fill-opacity=\"1\" /><path clip-path=\"url(#clip400)\" d=\"M281.523 1542.97 L286.407 1542.97 L286.407 1548.85 L281.523 1548.85 L281.523 1542.97 Z\" fill=\"#000000\" fill-rule=\"nonzero\" fill-opacity=\"1\" /><path clip-path=\"url(#clip400)\" d=\"M306.593 1517.37 Q302.981 1517.37 301.153 1520.93 Q299.347 1524.47 299.347 1531.6 Q299.347 1538.71 301.153 1542.27 Q302.981 1545.82 306.593 1545.82 Q310.227 1545.82 312.032 1542.27 Q313.861 1538.71 313.861 1531.6 Q313.861 1524.47 312.032 1520.93 Q310.227 1517.37 306.593 1517.37 M306.593 1513.66 Q312.403 1513.66 315.458 1518.27 Q318.537 1522.85 318.537 1531.6 Q318.537 1540.33 315.458 1544.94 Q312.403 1549.52 306.593 1549.52 Q300.782 1549.52 297.704 1544.94 Q294.648 1540.33 294.648 1531.6 Q294.648 1522.85 297.704 1518.27 Q300.782 1513.66 306.593 1513.66 Z\" fill=\"#000000\" fill-rule=\"nonzero\" fill-opacity=\"1\" /><path clip-path=\"url(#clip400)\" d=\"M336.754 1517.37 Q333.143 1517.37 331.315 1520.93 Q329.509 1524.47 329.509 1531.6 Q329.509 1538.71 331.315 1542.27 Q333.143 1545.82 336.754 1545.82 Q340.389 1545.82 342.194 1542.27 Q344.023 1538.71 344.023 1531.6 Q344.023 1524.47 342.194 1520.93 Q340.389 1517.37 336.754 1517.37 M336.754 1513.66 Q342.565 1513.66 345.62 1518.27 Q348.699 1522.85 348.699 1531.6 Q348.699 1540.33 345.62 1544.94 Q342.565 1549.52 336.754 1549.52 Q330.944 1549.52 327.866 1544.94 Q324.81 1540.33 324.81 1531.6 Q324.81 1522.85 327.866 1518.27 Q330.944 1513.66 336.754 1513.66 Z\" fill=\"#000000\" fill-rule=\"nonzero\" fill-opacity=\"1\" /><path clip-path=\"url(#clip400)\" d=\"M366.916 1517.37 Q363.305 1517.37 361.476 1520.93 Q359.671 1524.47 359.671 1531.6 Q359.671 1538.71 361.476 1542.27 Q363.305 1545.82 366.916 1545.82 Q370.55 1545.82 372.356 1542.27 Q374.185 1538.71 374.185 1531.6 Q374.185 1524.47 372.356 1520.93 Q370.55 1517.37 366.916 1517.37 M366.916 1513.66 Q372.726 1513.66 375.782 1518.27 Q378.861 1522.85 378.861 1531.6 Q378.861 1540.33 375.782 1544.94 Q372.726 1549.52 366.916 1549.52 Q361.106 1549.52 358.027 1544.94 Q354.972 1540.33 354.972 1531.6 Q354.972 1522.85 358.027 1518.27 Q361.106 1513.66 366.916 1513.66 Z\" fill=\"#000000\" fill-rule=\"nonzero\" fill-opacity=\"1\" /><path clip-path=\"url(#clip400)\" d=\"M756.813 1517.37 Q753.202 1517.37 751.373 1520.93 Q749.568 1524.47 749.568 1531.6 Q749.568 1538.71 751.373 1542.27 Q753.202 1545.82 756.813 1545.82 Q760.447 1545.82 762.253 1542.27 Q764.082 1538.71 764.082 1531.6 Q764.082 1524.47 762.253 1520.93 Q760.447 1517.37 756.813 1517.37 M756.813 1513.66 Q762.623 1513.66 765.679 1518.27 Q768.757 1522.85 768.757 1531.6 Q768.757 1540.33 765.679 1544.94 Q762.623 1549.52 756.813 1549.52 Q751.003 1549.52 747.924 1544.94 Q744.869 1540.33 744.869 1531.6 Q744.869 1522.85 747.924 1518.27 Q751.003 1513.66 756.813 1513.66 Z\" fill=\"#000000\" fill-rule=\"nonzero\" fill-opacity=\"1\" /><path clip-path=\"url(#clip400)\" d=\"M776.975 1542.97 L781.859 1542.97 L781.859 1548.85 L776.975 1548.85 L776.975 1542.97 Z\" fill=\"#000000\" fill-rule=\"nonzero\" fill-opacity=\"1\" /><path clip-path=\"url(#clip400)\" d=\"M802.044 1517.37 Q798.433 1517.37 796.605 1520.93 Q794.799 1524.47 794.799 1531.6 Q794.799 1538.71 796.605 1542.27 Q798.433 1545.82 802.044 1545.82 Q805.679 1545.82 807.484 1542.27 Q809.313 1538.71 809.313 1531.6 Q809.313 1524.47 807.484 1520.93 Q805.679 1517.37 802.044 1517.37 M802.044 1513.66 Q807.854 1513.66 810.91 1518.27 Q813.989 1522.85 813.989 1531.6 Q813.989 1540.33 810.91 1544.94 Q807.854 1549.52 802.044 1549.52 Q796.234 1549.52 793.155 1544.94 Q790.1 1540.33 790.1 1531.6 Q790.1 1522.85 793.155 1518.27 Q796.234 1513.66 802.044 1513.66 Z\" fill=\"#000000\" fill-rule=\"nonzero\" fill-opacity=\"1\" /><path clip-path=\"url(#clip400)\" d=\"M826.234 1544.91 L842.553 1544.91 L842.553 1548.85 L820.609 1548.85 L820.609 1544.91 Q823.271 1542.16 827.854 1537.53 Q832.461 1532.88 833.641 1531.53 Q835.887 1529.01 836.766 1527.27 Q837.669 1525.51 837.669 1523.82 Q837.669 1521.07 835.725 1519.33 Q833.803 1517.6 830.702 1517.6 Q828.503 1517.6 826.049 1518.36 Q823.618 1519.13 820.841 1520.68 L820.841 1515.95 Q823.665 1514.82 826.118 1514.24 Q828.572 1513.66 830.609 1513.66 Q835.979 1513.66 839.174 1516.35 Q842.368 1519.03 842.368 1523.52 Q842.368 1525.65 841.558 1527.57 Q840.771 1529.47 838.665 1532.07 Q838.086 1532.74 834.984 1535.95 Q831.882 1539.15 826.234 1544.91 Z\" fill=\"#000000\" fill-rule=\"nonzero\" fill-opacity=\"1\" /><path clip-path=\"url(#clip400)\" d=\"M852.414 1514.29 L870.771 1514.29 L870.771 1518.22 L856.697 1518.22 L856.697 1526.7 Q857.715 1526.35 858.734 1526.19 Q859.752 1526 860.771 1526 Q866.558 1526 869.937 1529.17 Q873.317 1532.34 873.317 1537.76 Q873.317 1543.34 869.845 1546.44 Q866.373 1549.52 860.053 1549.52 Q857.877 1549.52 855.609 1549.15 Q853.364 1548.78 850.956 1548.04 L850.956 1543.34 Q853.039 1544.47 855.262 1545.03 Q857.484 1545.58 859.961 1545.58 Q863.965 1545.58 866.303 1543.48 Q868.641 1541.37 868.641 1537.76 Q868.641 1534.15 866.303 1532.04 Q863.965 1529.94 859.961 1529.94 Q858.086 1529.94 856.211 1530.35 Q854.359 1530.77 852.414 1531.65 L852.414 1514.29 Z\" fill=\"#000000\" fill-rule=\"nonzero\" fill-opacity=\"1\" /><path clip-path=\"url(#clip400)\" d=\"M1251.27 1517.37 Q1247.66 1517.37 1245.83 1520.93 Q1244.02 1524.47 1244.02 1531.6 Q1244.02 1538.71 1245.83 1542.27 Q1247.66 1545.82 1251.27 1545.82 Q1254.9 1545.82 1256.71 1542.27 Q1258.54 1538.71 1258.54 1531.6 Q1258.54 1524.47 1256.71 1520.93 Q1254.9 1517.37 1251.27 1517.37 M1251.27 1513.66 Q1257.08 1513.66 1260.14 1518.27 Q1263.21 1522.85 1263.21 1531.6 Q1263.21 1540.33 1260.14 1544.94 Q1257.08 1549.52 1251.27 1549.52 Q1245.46 1549.52 1242.38 1544.94 Q1239.33 1540.33 1239.33 1531.6 Q1239.33 1522.85 1242.38 1518.27 Q1245.46 1513.66 1251.27 1513.66 Z\" fill=\"#000000\" fill-rule=\"nonzero\" fill-opacity=\"1\" /><path clip-path=\"url(#clip400)\" d=\"M1271.43 1542.97 L1276.32 1542.97 L1276.32 1548.85 L1271.43 1548.85 L1271.43 1542.97 Z\" fill=\"#000000\" fill-rule=\"nonzero\" fill-opacity=\"1\" /><path clip-path=\"url(#clip400)\" d=\"M1296.5 1517.37 Q1292.89 1517.37 1291.06 1520.93 Q1289.26 1524.47 1289.26 1531.6 Q1289.26 1538.71 1291.06 1542.27 Q1292.89 1545.82 1296.5 1545.82 Q1300.14 1545.82 1301.94 1542.27 Q1303.77 1538.71 1303.77 1531.6 Q1303.77 1524.47 1301.94 1520.93 Q1300.14 1517.37 1296.5 1517.37 M1296.5 1513.66 Q1302.31 1513.66 1305.37 1518.27 Q1308.45 1522.85 1308.45 1531.6 Q1308.45 1540.33 1305.37 1544.94 Q1302.31 1549.52 1296.5 1549.52 Q1290.69 1549.52 1287.61 1544.94 Q1284.56 1540.33 1284.56 1531.6 Q1284.56 1522.85 1287.61 1518.27 Q1290.69 1513.66 1296.5 1513.66 Z\" fill=\"#000000\" fill-rule=\"nonzero\" fill-opacity=\"1\" /><path clip-path=\"url(#clip400)\" d=\"M1316.71 1514.29 L1335.07 1514.29 L1335.07 1518.22 L1320.99 1518.22 L1320.99 1526.7 Q1322.01 1526.35 1323.03 1526.19 Q1324.05 1526 1325.07 1526 Q1330.85 1526 1334.23 1529.17 Q1337.61 1532.34 1337.61 1537.76 Q1337.61 1543.34 1334.14 1546.44 Q1330.67 1549.52 1324.35 1549.52 Q1322.17 1549.52 1319.9 1549.15 Q1317.66 1548.78 1315.25 1548.04 L1315.25 1543.34 Q1317.33 1544.47 1319.56 1545.03 Q1321.78 1545.58 1324.26 1545.58 Q1328.26 1545.58 1330.6 1543.48 Q1332.94 1541.37 1332.94 1537.76 Q1332.94 1534.15 1330.6 1532.04 Q1328.26 1529.94 1324.26 1529.94 Q1322.38 1529.94 1320.51 1530.35 Q1318.65 1530.77 1316.71 1531.65 L1316.71 1514.29 Z\" fill=\"#000000\" fill-rule=\"nonzero\" fill-opacity=\"1\" /><path clip-path=\"url(#clip400)\" d=\"M1356.82 1517.37 Q1353.21 1517.37 1351.38 1520.93 Q1349.58 1524.47 1349.58 1531.6 Q1349.58 1538.71 1351.38 1542.27 Q1353.21 1545.82 1356.82 1545.82 Q1360.46 1545.82 1362.26 1542.27 Q1364.09 1538.71 1364.09 1531.6 Q1364.09 1524.47 1362.26 1520.93 Q1360.46 1517.37 1356.82 1517.37 M1356.82 1513.66 Q1362.63 1513.66 1365.69 1518.27 Q1368.77 1522.85 1368.77 1531.6 Q1368.77 1540.33 1365.69 1544.94 Q1362.63 1549.52 1356.82 1549.52 Q1351.01 1549.52 1347.94 1544.94 Q1344.88 1540.33 1344.88 1531.6 Q1344.88 1522.85 1347.94 1518.27 Q1351.01 1513.66 1356.82 1513.66 Z\" fill=\"#000000\" fill-rule=\"nonzero\" fill-opacity=\"1\" /><path clip-path=\"url(#clip400)\" d=\"M1746.72 1517.37 Q1743.11 1517.37 1741.28 1520.93 Q1739.48 1524.47 1739.48 1531.6 Q1739.48 1538.71 1741.28 1542.27 Q1743.11 1545.82 1746.72 1545.82 Q1750.36 1545.82 1752.16 1542.27 Q1753.99 1538.71 1753.99 1531.6 Q1753.99 1524.47 1752.16 1520.93 Q1750.36 1517.37 1746.72 1517.37 M1746.72 1513.66 Q1752.53 1513.66 1755.59 1518.27 Q1758.67 1522.85 1758.67 1531.6 Q1758.67 1540.33 1755.59 1544.94 Q1752.53 1549.52 1746.72 1549.52 Q1740.91 1549.52 1737.83 1544.94 Q1734.78 1540.33 1734.78 1531.6 Q1734.78 1522.85 1737.83 1518.27 Q1740.91 1513.66 1746.72 1513.66 Z\" fill=\"#000000\" fill-rule=\"nonzero\" fill-opacity=\"1\" /><path clip-path=\"url(#clip400)\" d=\"M1766.88 1542.97 L1771.77 1542.97 L1771.77 1548.85 L1766.88 1548.85 L1766.88 1542.97 Z\" fill=\"#000000\" fill-rule=\"nonzero\" fill-opacity=\"1\" /><path clip-path=\"url(#clip400)\" d=\"M1791.95 1517.37 Q1788.34 1517.37 1786.51 1520.93 Q1784.71 1524.47 1784.71 1531.6 Q1784.71 1538.71 1786.51 1542.27 Q1788.34 1545.82 1791.95 1545.82 Q1795.59 1545.82 1797.39 1542.27 Q1799.22 1538.71 1799.22 1531.6 Q1799.22 1524.47 1797.39 1520.93 Q1795.59 1517.37 1791.95 1517.37 M1791.95 1513.66 Q1797.76 1513.66 1800.82 1518.27 Q1803.9 1522.85 1803.9 1531.6 Q1803.9 1540.33 1800.82 1544.94 Q1797.76 1549.52 1791.95 1549.52 Q1786.14 1549.52 1783.06 1544.94 Q1780.01 1540.33 1780.01 1531.6 Q1780.01 1522.85 1783.06 1518.27 Q1786.14 1513.66 1791.95 1513.66 Z\" fill=\"#000000\" fill-rule=\"nonzero\" fill-opacity=\"1\" /><path clip-path=\"url(#clip400)\" d=\"M1810.93 1514.29 L1833.16 1514.29 L1833.16 1516.28 L1820.61 1548.85 L1815.73 1548.85 L1827.53 1518.22 L1810.93 1518.22 L1810.93 1514.29 Z\" fill=\"#000000\" fill-rule=\"nonzero\" fill-opacity=\"1\" /><path clip-path=\"url(#clip400)\" d=\"M1842.32 1514.29 L1860.68 1514.29 L1860.68 1518.22 L1846.61 1518.22 L1846.61 1526.7 Q1847.62 1526.35 1848.64 1526.19 Q1849.66 1526 1850.68 1526 Q1856.47 1526 1859.85 1529.17 Q1863.23 1532.34 1863.23 1537.76 Q1863.23 1543.34 1859.75 1546.44 Q1856.28 1549.52 1849.96 1549.52 Q1847.79 1549.52 1845.52 1549.15 Q1843.27 1548.78 1840.86 1548.04 L1840.86 1543.34 Q1842.95 1544.47 1845.17 1545.03 Q1847.39 1545.58 1849.87 1545.58 Q1853.87 1545.58 1856.21 1543.48 Q1858.55 1541.37 1858.55 1537.76 Q1858.55 1534.15 1856.21 1532.04 Q1853.87 1529.94 1849.87 1529.94 Q1847.99 1529.94 1846.12 1530.35 Q1844.27 1530.77 1842.32 1531.65 L1842.32 1514.29 Z\" fill=\"#000000\" fill-rule=\"nonzero\" fill-opacity=\"1\" /><path clip-path=\"url(#clip400)\" d=\"M2241.18 1517.37 Q2237.57 1517.37 2235.74 1520.93 Q2233.93 1524.47 2233.93 1531.6 Q2233.93 1538.71 2235.74 1542.27 Q2237.57 1545.82 2241.18 1545.82 Q2244.81 1545.82 2246.62 1542.27 Q2248.45 1538.71 2248.45 1531.6 Q2248.45 1524.47 2246.62 1520.93 Q2244.81 1517.37 2241.18 1517.37 M2241.18 1513.66 Q2246.99 1513.66 2250.04 1518.27 Q2253.12 1522.85 2253.12 1531.6 Q2253.12 1540.33 2250.04 1544.94 Q2246.99 1549.52 2241.18 1549.52 Q2235.37 1549.52 2232.29 1544.94 Q2229.23 1540.33 2229.23 1531.6 Q2229.23 1522.85 2232.29 1518.27 Q2235.37 1513.66 2241.18 1513.66 Z\" fill=\"#000000\" fill-rule=\"nonzero\" fill-opacity=\"1\" /><path clip-path=\"url(#clip400)\" d=\"M2261.34 1542.97 L2266.22 1542.97 L2266.22 1548.85 L2261.34 1548.85 L2261.34 1542.97 Z\" fill=\"#000000\" fill-rule=\"nonzero\" fill-opacity=\"1\" /><path clip-path=\"url(#clip400)\" d=\"M2277.22 1544.91 L2284.86 1544.91 L2284.86 1518.55 L2276.55 1520.21 L2276.55 1515.95 L2284.81 1514.29 L2289.49 1514.29 L2289.49 1544.91 L2297.13 1544.91 L2297.13 1548.85 L2277.22 1548.85 L2277.22 1544.91 Z\" fill=\"#000000\" fill-rule=\"nonzero\" fill-opacity=\"1\" /><path clip-path=\"url(#clip400)\" d=\"M2316.57 1517.37 Q2312.96 1517.37 2311.13 1520.93 Q2309.33 1524.47 2309.33 1531.6 Q2309.33 1538.71 2311.13 1542.27 Q2312.96 1545.82 2316.57 1545.82 Q2320.21 1545.82 2322.01 1542.27 Q2323.84 1538.71 2323.84 1531.6 Q2323.84 1524.47 2322.01 1520.93 Q2320.21 1517.37 2316.57 1517.37 M2316.57 1513.66 Q2322.38 1513.66 2325.44 1518.27 Q2328.52 1522.85 2328.52 1531.6 Q2328.52 1540.33 2325.44 1544.94 Q2322.38 1549.52 2316.57 1549.52 Q2310.76 1549.52 2307.68 1544.94 Q2304.63 1540.33 2304.63 1531.6 Q2304.63 1522.85 2307.68 1518.27 Q2310.76 1513.66 2316.57 1513.66 Z\" fill=\"#000000\" fill-rule=\"nonzero\" fill-opacity=\"1\" /><path clip-path=\"url(#clip400)\" d=\"M2346.73 1517.37 Q2343.12 1517.37 2341.29 1520.93 Q2339.49 1524.47 2339.49 1531.6 Q2339.49 1538.71 2341.29 1542.27 Q2343.12 1545.82 2346.73 1545.82 Q2350.37 1545.82 2352.17 1542.27 Q2354 1538.71 2354 1531.6 Q2354 1524.47 2352.17 1520.93 Q2350.37 1517.37 2346.73 1517.37 M2346.73 1513.66 Q2352.54 1513.66 2355.6 1518.27 Q2358.68 1522.85 2358.68 1531.6 Q2358.68 1540.33 2355.6 1544.94 Q2352.54 1549.52 2346.73 1549.52 Q2340.92 1549.52 2337.84 1544.94 Q2334.79 1540.33 2334.79 1531.6 Q2334.79 1522.85 2337.84 1518.27 Q2340.92 1513.66 2346.73 1513.66 Z\" fill=\"#000000\" fill-rule=\"nonzero\" fill-opacity=\"1\" /><polyline clip-path=\"url(#clip402)\" style=\"stroke:#000000; stroke-linecap:round; stroke-linejoin:round; stroke-width:2; stroke-opacity:0.1; fill:none\" points=\"275.136,1445.72 2352.76,1445.72 \"/>\n",
       "<polyline clip-path=\"url(#clip402)\" style=\"stroke:#000000; stroke-linecap:round; stroke-linejoin:round; stroke-width:2; stroke-opacity:0.1; fill:none\" points=\"275.136,1114.15 2352.76,1114.15 \"/>\n",
       "<polyline clip-path=\"url(#clip402)\" style=\"stroke:#000000; stroke-linecap:round; stroke-linejoin:round; stroke-width:2; stroke-opacity:0.1; fill:none\" points=\"275.136,782.586 2352.76,782.586 \"/>\n",
       "<polyline clip-path=\"url(#clip402)\" style=\"stroke:#000000; stroke-linecap:round; stroke-linejoin:round; stroke-width:2; stroke-opacity:0.1; fill:none\" points=\"275.136,451.021 2352.76,451.021 \"/>\n",
       "<polyline clip-path=\"url(#clip402)\" style=\"stroke:#000000; stroke-linecap:round; stroke-linejoin:round; stroke-width:2; stroke-opacity:0.1; fill:none\" points=\"275.136,119.456 2352.76,119.456 \"/>\n",
       "<polyline clip-path=\"url(#clip400)\" style=\"stroke:#000000; stroke-linecap:round; stroke-linejoin:round; stroke-width:4; stroke-opacity:1; fill:none\" points=\"275.136,1486.45 275.136,47.2441 \"/>\n",
       "<polyline clip-path=\"url(#clip400)\" style=\"stroke:#000000; stroke-linecap:round; stroke-linejoin:round; stroke-width:4; stroke-opacity:1; fill:none\" points=\"275.136,1445.72 294.034,1445.72 \"/>\n",
       "<polyline clip-path=\"url(#clip400)\" style=\"stroke:#000000; stroke-linecap:round; stroke-linejoin:round; stroke-width:4; stroke-opacity:1; fill:none\" points=\"275.136,1114.15 294.034,1114.15 \"/>\n",
       "<polyline clip-path=\"url(#clip400)\" style=\"stroke:#000000; stroke-linecap:round; stroke-linejoin:round; stroke-width:4; stroke-opacity:1; fill:none\" points=\"275.136,782.586 294.034,782.586 \"/>\n",
       "<polyline clip-path=\"url(#clip400)\" style=\"stroke:#000000; stroke-linecap:round; stroke-linejoin:round; stroke-width:4; stroke-opacity:1; fill:none\" points=\"275.136,451.021 294.034,451.021 \"/>\n",
       "<polyline clip-path=\"url(#clip400)\" style=\"stroke:#000000; stroke-linecap:round; stroke-linejoin:round; stroke-width:4; stroke-opacity:1; fill:none\" points=\"275.136,119.456 294.034,119.456 \"/>\n",
       "<path clip-path=\"url(#clip400)\" d=\"M227.192 1431.51 Q223.581 1431.51 221.752 1435.08 Q219.947 1438.62 219.947 1445.75 Q219.947 1452.86 221.752 1456.42 Q223.581 1459.96 227.192 1459.96 Q230.826 1459.96 232.632 1456.42 Q234.46 1452.86 234.46 1445.75 Q234.46 1438.62 232.632 1435.08 Q230.826 1431.51 227.192 1431.51 M227.192 1427.81 Q233.002 1427.81 236.058 1432.42 Q239.136 1437 239.136 1445.75 Q239.136 1454.48 236.058 1459.08 Q233.002 1463.67 227.192 1463.67 Q221.382 1463.67 218.303 1459.08 Q215.248 1454.48 215.248 1445.75 Q215.248 1437 218.303 1432.42 Q221.382 1427.81 227.192 1427.81 Z\" fill=\"#000000\" fill-rule=\"nonzero\" fill-opacity=\"1\" /><path clip-path=\"url(#clip400)\" d=\"M57.7745 1133.94 L74.0939 1133.94 L74.0939 1137.88 L52.1495 1137.88 L52.1495 1133.94 Q54.8115 1131.19 59.3949 1126.56 Q64.0013 1121.91 65.1819 1120.56 Q67.4272 1118.04 68.3068 1116.3 Q69.2096 1114.55 69.2096 1112.86 Q69.2096 1110.1 67.2652 1108.36 Q65.3439 1106.63 62.2421 1106.63 Q60.043 1106.63 57.5893 1107.39 Q55.1588 1108.16 52.381 1109.71 L52.381 1104.99 Q55.2051 1103.85 57.6588 1103.27 Q60.1124 1102.69 62.1495 1102.69 Q67.5198 1102.69 70.7142 1105.38 Q73.9087 1108.06 73.9087 1112.55 Q73.9087 1114.68 73.0985 1116.61 Q72.3115 1118.5 70.205 1121.1 Q69.6263 1121.77 66.5245 1124.98 Q63.4226 1128.18 57.7745 1133.94 Z\" fill=\"#000000\" fill-rule=\"nonzero\" fill-opacity=\"1\" /><path clip-path=\"url(#clip400)\" d=\"M83.9086 1132 L88.7928 1132 L88.7928 1137.88 L83.9086 1137.88 L83.9086 1132 Z\" fill=\"#000000\" fill-rule=\"nonzero\" fill-opacity=\"1\" /><path clip-path=\"url(#clip400)\" d=\"M108.978 1106.4 Q105.367 1106.4 103.538 1109.96 Q101.733 1113.5 101.733 1120.63 Q101.733 1127.74 103.538 1131.3 Q105.367 1134.85 108.978 1134.85 Q112.612 1134.85 114.418 1131.3 Q116.246 1127.74 116.246 1120.63 Q116.246 1113.5 114.418 1109.96 Q112.612 1106.4 108.978 1106.4 M108.978 1102.69 Q114.788 1102.69 117.844 1107.3 Q120.922 1111.88 120.922 1120.63 Q120.922 1129.36 117.844 1133.97 Q114.788 1138.55 108.978 1138.55 Q103.168 1138.55 100.089 1133.97 Q97.0335 1129.36 97.0335 1120.63 Q97.0335 1111.88 100.089 1107.3 Q103.168 1102.69 108.978 1102.69 Z\" fill=\"#000000\" fill-rule=\"nonzero\" fill-opacity=\"1\" /><path clip-path=\"url(#clip400)\" d=\"M157.311 1112.42 L146.732 1123.04 L157.311 1133.62 L154.556 1136.42 L143.931 1125.8 L133.306 1136.42 L130.575 1133.62 L141.131 1123.04 L130.575 1112.42 L133.306 1109.61 L143.931 1120.24 L154.556 1109.61 L157.311 1112.42 Z\" fill=\"#000000\" fill-rule=\"nonzero\" fill-opacity=\"1\" /><path clip-path=\"url(#clip400)\" d=\"M169.672 1133.94 L177.311 1133.94 L177.311 1107.58 L169.001 1109.24 L169.001 1104.99 L177.265 1103.32 L181.94 1103.32 L181.94 1133.94 L189.579 1133.94 L189.579 1137.88 L169.672 1137.88 L169.672 1133.94 Z\" fill=\"#000000\" fill-rule=\"nonzero\" fill-opacity=\"1\" /><path clip-path=\"url(#clip400)\" d=\"M209.024 1106.4 Q205.413 1106.4 203.584 1109.96 Q201.778 1113.5 201.778 1120.63 Q201.778 1127.74 203.584 1131.3 Q205.413 1134.85 209.024 1134.85 Q212.658 1134.85 214.463 1131.3 Q216.292 1127.74 216.292 1120.63 Q216.292 1113.5 214.463 1109.96 Q212.658 1106.4 209.024 1106.4 M209.024 1102.69 Q214.834 1102.69 217.889 1107.3 Q220.968 1111.88 220.968 1120.63 Q220.968 1129.36 217.889 1133.97 Q214.834 1138.55 209.024 1138.55 Q203.214 1138.55 200.135 1133.97 Q197.079 1129.36 197.079 1120.63 Q197.079 1111.88 200.135 1107.3 Q203.214 1102.69 209.024 1102.69 Z\" fill=\"#000000\" fill-rule=\"nonzero\" fill-opacity=\"1\" /><path clip-path=\"url(#clip400)\" d=\"M222.153 1082.39 L237.068 1082.39 L237.068 1085.59 L225.632 1085.59 L225.632 1092.47 Q226.46 1092.19 227.287 1092.06 Q228.115 1091.9 228.943 1091.9 Q233.645 1091.9 236.39 1094.48 Q239.136 1097.06 239.136 1101.46 Q239.136 1105.99 236.315 1108.51 Q233.494 1111.01 228.36 1111.01 Q226.592 1111.01 224.748 1110.71 Q222.924 1110.41 220.968 1109.81 L220.968 1105.99 Q222.661 1106.91 224.466 1107.36 Q226.272 1107.82 228.284 1107.82 Q231.538 1107.82 233.438 1106.1 Q235.337 1104.39 235.337 1101.46 Q235.337 1098.53 233.438 1096.81 Q231.538 1095.1 228.284 1095.1 Q226.761 1095.1 225.237 1095.44 Q223.733 1095.78 222.153 1096.49 L222.153 1082.39 Z\" fill=\"#000000\" fill-rule=\"nonzero\" fill-opacity=\"1\" /><path clip-path=\"url(#clip400)\" d=\"M66.5939 775.828 L54.7884 794.276 L66.5939 794.276 L66.5939 775.828 M65.367 771.753 L71.2466 771.753 L71.2466 794.276 L76.1772 794.276 L76.1772 798.165 L71.2466 798.165 L71.2466 806.313 L66.5939 806.313 L66.5939 798.165 L50.9921 798.165 L50.9921 793.652 L65.367 771.753 Z\" fill=\"#000000\" fill-rule=\"nonzero\" fill-opacity=\"1\" /><path clip-path=\"url(#clip400)\" d=\"M83.9086 800.434 L88.7928 800.434 L88.7928 806.313 L83.9086 806.313 L83.9086 800.434 Z\" fill=\"#000000\" fill-rule=\"nonzero\" fill-opacity=\"1\" /><path clip-path=\"url(#clip400)\" d=\"M108.978 774.832 Q105.367 774.832 103.538 778.397 Q101.733 781.939 101.733 789.068 Q101.733 796.175 103.538 799.739 Q105.367 803.281 108.978 803.281 Q112.612 803.281 114.418 799.739 Q116.246 796.175 116.246 789.068 Q116.246 781.939 114.418 778.397 Q112.612 774.832 108.978 774.832 M108.978 771.128 Q114.788 771.128 117.844 775.735 Q120.922 780.318 120.922 789.068 Q120.922 797.795 117.844 802.401 Q114.788 806.985 108.978 806.985 Q103.168 806.985 100.089 802.401 Q97.0335 797.795 97.0335 789.068 Q97.0335 780.318 100.089 775.735 Q103.168 771.128 108.978 771.128 Z\" fill=\"#000000\" fill-rule=\"nonzero\" fill-opacity=\"1\" /><path clip-path=\"url(#clip400)\" d=\"M157.311 780.851 L146.732 791.476 L157.311 802.054 L154.556 804.855 L143.931 794.23 L133.306 804.855 L130.575 802.054 L141.131 791.476 L130.575 780.851 L133.306 778.05 L143.931 788.675 L154.556 778.05 L157.311 780.851 Z\" fill=\"#000000\" fill-rule=\"nonzero\" fill-opacity=\"1\" /><path clip-path=\"url(#clip400)\" d=\"M169.672 802.378 L177.311 802.378 L177.311 776.013 L169.001 777.679 L169.001 773.42 L177.265 771.753 L181.94 771.753 L181.94 802.378 L189.579 802.378 L189.579 806.313 L169.672 806.313 L169.672 802.378 Z\" fill=\"#000000\" fill-rule=\"nonzero\" fill-opacity=\"1\" /><path clip-path=\"url(#clip400)\" d=\"M209.024 774.832 Q205.413 774.832 203.584 778.397 Q201.778 781.939 201.778 789.068 Q201.778 796.175 203.584 799.739 Q205.413 803.281 209.024 803.281 Q212.658 803.281 214.463 799.739 Q216.292 796.175 216.292 789.068 Q216.292 781.939 214.463 778.397 Q212.658 774.832 209.024 774.832 M209.024 771.128 Q214.834 771.128 217.889 775.735 Q220.968 780.318 220.968 789.068 Q220.968 797.795 217.889 802.401 Q214.834 806.985 209.024 806.985 Q203.214 806.985 200.135 802.401 Q197.079 797.795 197.079 789.068 Q197.079 780.318 200.135 775.735 Q203.214 771.128 209.024 771.128 Z\" fill=\"#000000\" fill-rule=\"nonzero\" fill-opacity=\"1\" /><path clip-path=\"url(#clip400)\" d=\"M222.153 750.823 L237.068 750.823 L237.068 754.02 L225.632 754.02 L225.632 760.904 Q226.46 760.622 227.287 760.49 Q228.115 760.34 228.943 760.34 Q233.645 760.34 236.39 762.916 Q239.136 765.493 239.136 769.894 Q239.136 774.427 236.315 776.947 Q233.494 779.448 228.36 779.448 Q226.592 779.448 224.748 779.148 Q222.924 778.847 220.968 778.245 L220.968 774.427 Q222.661 775.348 224.466 775.8 Q226.272 776.251 228.284 776.251 Q231.538 776.251 233.438 774.54 Q235.337 772.828 235.337 769.894 Q235.337 766.96 233.438 765.249 Q231.538 763.537 228.284 763.537 Q226.761 763.537 225.237 763.876 Q223.733 764.214 222.153 764.929 L222.153 750.823 Z\" fill=\"#000000\" fill-rule=\"nonzero\" fill-opacity=\"1\" /><path clip-path=\"url(#clip400)\" d=\"M64.3254 455.605 Q61.1773 455.605 59.3254 457.758 Q57.4967 459.911 57.4967 463.661 Q57.4967 467.387 59.3254 469.563 Q61.1773 471.716 64.3254 471.716 Q67.4735 471.716 69.3022 469.563 Q71.1541 467.387 71.1541 463.661 Q71.1541 459.911 69.3022 457.758 Q67.4735 455.605 64.3254 455.605 M73.6077 440.952 L73.6077 445.212 Q71.8485 444.378 70.0429 443.939 Q68.2606 443.499 66.5013 443.499 Q61.8717 443.499 59.418 446.624 Q56.9875 449.749 56.6402 456.068 Q58.006 454.054 60.0662 452.989 Q62.1263 451.901 64.6032 451.901 Q69.8115 451.901 72.8207 455.073 Q75.8531 458.221 75.8531 463.661 Q75.8531 468.985 72.705 472.202 Q69.5568 475.42 64.3254 475.42 Q58.33 475.42 55.1588 470.837 Q51.9875 466.23 51.9875 457.503 Q51.9875 449.309 55.8764 444.448 Q59.7652 439.564 66.3161 439.564 Q68.0754 439.564 69.8578 439.911 Q71.6633 440.258 73.6077 440.952 Z\" fill=\"#000000\" fill-rule=\"nonzero\" fill-opacity=\"1\" /><path clip-path=\"url(#clip400)\" d=\"M83.9086 468.869 L88.7928 468.869 L88.7928 474.749 L83.9086 474.749 L83.9086 468.869 Z\" fill=\"#000000\" fill-rule=\"nonzero\" fill-opacity=\"1\" /><path clip-path=\"url(#clip400)\" d=\"M108.978 443.267 Q105.367 443.267 103.538 446.832 Q101.733 450.374 101.733 457.503 Q101.733 464.61 103.538 468.175 Q105.367 471.716 108.978 471.716 Q112.612 471.716 114.418 468.175 Q116.246 464.61 116.246 457.503 Q116.246 450.374 114.418 446.832 Q112.612 443.267 108.978 443.267 M108.978 439.564 Q114.788 439.564 117.844 444.17 Q120.922 448.753 120.922 457.503 Q120.922 466.23 117.844 470.837 Q114.788 475.42 108.978 475.42 Q103.168 475.42 100.089 470.837 Q97.0335 466.23 97.0335 457.503 Q97.0335 448.753 100.089 444.17 Q103.168 439.564 108.978 439.564 Z\" fill=\"#000000\" fill-rule=\"nonzero\" fill-opacity=\"1\" /><path clip-path=\"url(#clip400)\" d=\"M157.311 449.286 L146.732 459.911 L157.311 470.489 L154.556 473.29 L143.931 462.665 L133.306 473.29 L130.575 470.489 L141.131 459.911 L130.575 449.286 L133.306 446.485 L143.931 457.11 L154.556 446.485 L157.311 449.286 Z\" fill=\"#000000\" fill-rule=\"nonzero\" fill-opacity=\"1\" /><path clip-path=\"url(#clip400)\" d=\"M169.672 470.813 L177.311 470.813 L177.311 444.448 L169.001 446.114 L169.001 441.855 L177.265 440.189 L181.94 440.189 L181.94 470.813 L189.579 470.813 L189.579 474.749 L169.672 474.749 L169.672 470.813 Z\" fill=\"#000000\" fill-rule=\"nonzero\" fill-opacity=\"1\" /><path clip-path=\"url(#clip400)\" d=\"M209.024 443.267 Q205.413 443.267 203.584 446.832 Q201.778 450.374 201.778 457.503 Q201.778 464.61 203.584 468.175 Q205.413 471.716 209.024 471.716 Q212.658 471.716 214.463 468.175 Q216.292 464.61 216.292 457.503 Q216.292 450.374 214.463 446.832 Q212.658 443.267 209.024 443.267 M209.024 439.564 Q214.834 439.564 217.889 444.17 Q220.968 448.753 220.968 457.503 Q220.968 466.23 217.889 470.837 Q214.834 475.42 209.024 475.42 Q203.214 475.42 200.135 470.837 Q197.079 466.23 197.079 457.503 Q197.079 448.753 200.135 444.17 Q203.214 439.564 209.024 439.564 Z\" fill=\"#000000\" fill-rule=\"nonzero\" fill-opacity=\"1\" /><path clip-path=\"url(#clip400)\" d=\"M222.153 419.258 L237.068 419.258 L237.068 422.455 L225.632 422.455 L225.632 429.339 Q226.46 429.057 227.287 428.925 Q228.115 428.775 228.943 428.775 Q233.645 428.775 236.39 431.352 Q239.136 433.928 239.136 438.329 Q239.136 442.862 236.315 445.382 Q233.494 447.884 228.36 447.884 Q226.592 447.884 224.748 447.583 Q222.924 447.282 220.968 446.68 L220.968 442.862 Q222.661 443.783 224.466 444.235 Q226.272 444.686 228.284 444.686 Q231.538 444.686 233.438 442.975 Q235.337 441.263 235.337 438.329 Q235.337 435.395 233.438 433.684 Q231.538 431.972 228.284 431.972 Q226.761 431.972 225.237 432.311 Q223.733 432.649 222.153 433.364 L222.153 419.258 Z\" fill=\"#000000\" fill-rule=\"nonzero\" fill-opacity=\"1\" /><path clip-path=\"url(#clip400)\" d=\"M63.7467 126.772 Q60.4134 126.772 58.4921 128.554 Q56.5939 130.336 56.5939 133.461 Q56.5939 136.586 58.4921 138.369 Q60.4134 140.151 63.7467 140.151 Q67.08 140.151 69.0013 138.369 Q70.9226 136.563 70.9226 133.461 Q70.9226 130.336 69.0013 128.554 Q67.1032 126.772 63.7467 126.772 M59.0708 124.781 Q56.0615 124.04 54.3717 121.98 Q52.7051 119.92 52.7051 116.957 Q52.7051 112.813 55.6449 110.406 Q58.6078 107.999 63.7467 107.999 Q68.9087 107.999 71.8485 110.406 Q74.7883 112.813 74.7883 116.957 Q74.7883 119.92 73.0985 121.98 Q71.4318 124.04 68.4457 124.781 Q71.8253 125.568 73.7003 127.86 Q75.5985 130.151 75.5985 133.461 Q75.5985 138.485 72.5198 141.17 Q69.4642 143.855 63.7467 143.855 Q58.0291 143.855 54.9504 141.17 Q51.8949 138.485 51.8949 133.461 Q51.8949 130.151 53.793 127.86 Q55.6912 125.568 59.0708 124.781 M57.3578 117.397 Q57.3578 120.082 59.0245 121.587 Q60.7143 123.091 63.7467 123.091 Q66.7559 123.091 68.4457 121.587 Q70.1587 120.082 70.1587 117.397 Q70.1587 114.712 68.4457 113.207 Q66.7559 111.702 63.7467 111.702 Q60.7143 111.702 59.0245 113.207 Q57.3578 114.712 57.3578 117.397 Z\" fill=\"#000000\" fill-rule=\"nonzero\" fill-opacity=\"1\" /><path clip-path=\"url(#clip400)\" d=\"M83.9086 137.304 L88.7928 137.304 L88.7928 143.184 L83.9086 143.184 L83.9086 137.304 Z\" fill=\"#000000\" fill-rule=\"nonzero\" fill-opacity=\"1\" /><path clip-path=\"url(#clip400)\" d=\"M108.978 111.702 Q105.367 111.702 103.538 115.267 Q101.733 118.809 101.733 125.938 Q101.733 133.045 103.538 136.61 Q105.367 140.151 108.978 140.151 Q112.612 140.151 114.418 136.61 Q116.246 133.045 116.246 125.938 Q116.246 118.809 114.418 115.267 Q112.612 111.702 108.978 111.702 M108.978 107.999 Q114.788 107.999 117.844 112.605 Q120.922 117.188 120.922 125.938 Q120.922 134.665 117.844 139.272 Q114.788 143.855 108.978 143.855 Q103.168 143.855 100.089 139.272 Q97.0335 134.665 97.0335 125.938 Q97.0335 117.188 100.089 112.605 Q103.168 107.999 108.978 107.999 Z\" fill=\"#000000\" fill-rule=\"nonzero\" fill-opacity=\"1\" /><path clip-path=\"url(#clip400)\" d=\"M157.311 117.721 L146.732 128.346 L157.311 138.924 L154.556 141.725 L143.931 131.1 L133.306 141.725 L130.575 138.924 L141.131 128.346 L130.575 117.721 L133.306 114.92 L143.931 125.545 L154.556 114.92 L157.311 117.721 Z\" fill=\"#000000\" fill-rule=\"nonzero\" fill-opacity=\"1\" /><path clip-path=\"url(#clip400)\" d=\"M169.672 139.248 L177.311 139.248 L177.311 112.883 L169.001 114.55 L169.001 110.29 L177.265 108.624 L181.94 108.624 L181.94 139.248 L189.579 139.248 L189.579 143.184 L169.672 143.184 L169.672 139.248 Z\" fill=\"#000000\" fill-rule=\"nonzero\" fill-opacity=\"1\" /><path clip-path=\"url(#clip400)\" d=\"M209.024 111.702 Q205.413 111.702 203.584 115.267 Q201.778 118.809 201.778 125.938 Q201.778 133.045 203.584 136.61 Q205.413 140.151 209.024 140.151 Q212.658 140.151 214.463 136.61 Q216.292 133.045 216.292 125.938 Q216.292 118.809 214.463 115.267 Q212.658 111.702 209.024 111.702 M209.024 107.999 Q214.834 107.999 217.889 112.605 Q220.968 117.188 220.968 125.938 Q220.968 134.665 217.889 139.272 Q214.834 143.855 209.024 143.855 Q203.214 143.855 200.135 139.272 Q197.079 134.665 197.079 125.938 Q197.079 117.188 200.135 112.605 Q203.214 107.999 209.024 107.999 Z\" fill=\"#000000\" fill-rule=\"nonzero\" fill-opacity=\"1\" /><path clip-path=\"url(#clip400)\" d=\"M222.153 87.6932 L237.068 87.6932 L237.068 90.8906 L225.632 90.8906 L225.632 97.7742 Q226.46 97.4921 227.287 97.3604 Q228.115 97.21 228.943 97.21 Q233.645 97.21 236.39 99.7866 Q239.136 102.363 239.136 106.764 Q239.136 111.297 236.315 113.817 Q233.494 116.319 228.36 116.319 Q226.592 116.319 224.748 116.018 Q222.924 115.717 220.968 115.115 L220.968 111.297 Q222.661 112.219 224.466 112.67 Q226.272 113.121 228.284 113.121 Q231.538 113.121 233.438 111.41 Q235.337 109.698 235.337 106.764 Q235.337 103.83 233.438 102.119 Q231.538 100.407 228.284 100.407 Q226.761 100.407 225.237 100.746 Q223.733 101.084 222.153 101.799 L222.153 87.6932 Z\" fill=\"#000000\" fill-rule=\"nonzero\" fill-opacity=\"1\" /><polyline clip-path=\"url(#clip402)\" style=\"stroke:#009af9; stroke-linecap:round; stroke-linejoin:round; stroke-width:4; stroke-opacity:1; fill:none\" points=\"333.937,1445.72 353.735,1445.72 373.533,1445.72 393.331,1445.72 413.13,1445.72 432.928,1445.72 452.726,1445.72 472.524,1445.72 492.322,1445.72 512.12,1445.72 531.919,1445.72 551.717,1445.72 571.515,1445.72 591.313,1445.72 611.111,1445.72 630.909,1445.72 650.708,1445.72 670.506,1445.72 690.304,1445.72 710.102,1445.72 729.9,1445.72 749.698,1445.72 769.497,1445.72 789.295,1445.72 809.093,1445.72 828.891,1445.71 848.689,1445.71 868.487,1445.71 888.286,1445.71 908.084,1445.71 927.882,1445.71 947.68,1445.71 967.478,1445.71 987.276,1445.71 1007.07,1445.68 1026.87,1443.26 1046.67,1438.99 1066.47,1434.78 1086.27,1428.62 1106.07,1419.29 1125.86,1405.69 1145.66,1386.77 1165.46,1361.87 1185.26,1330.46 1205.06,1290.72 1224.85,1231.21 1244.65,1149.9 1264.45,1136.97 1284.25,1123.97 1304.05,1110.38 1323.85,1096.83 1343.64,1082.69 1363.44,1068.59 1383.24,1053.9 1403.04,1039.26 1422.84,1024.04 1442.63,1008.84 1462.43,993.067 1482.23,977.323 1502.03,960.993 1521.83,944.701 1541.63,927.848 1561.42,911.008 1581.22,893.604 1601.02,876.205 1620.82,858.207 1640.62,840.269 1660.41,821.753 1680.21,803.266 1700.01,784.234 1719.81,765.2 1739.61,745.639 1759.4,726.056 1779.2,705.83 1799,685.698 1818.8,664.888 1838.6,644.205 1858.4,622.874 1878.19,601.64 1897.99,579.786 1917.79,558.002 1937.59,535.545 1957.39,513.209 1977.18,490.117 1996.98,467.229 2016.78,443.598 2036.58,420.158 2056.38,396.004 2076.18,372.011 2095.97,347.332 2115.77,322.788 2135.57,297.59 2155.37,272.495 2175.17,246.787 2194.96,221.143 2214.76,194.915 2234.56,168.721 2254.36,141.974 2274.16,115.232 2293.96,87.9763 \"/>\n",
       "<path clip-path=\"url(#clip400)\" d=\"M344.39 198.898 L604.583 198.898 L604.583 95.2176 L344.39 95.2176  Z\" fill=\"#ffffff\" fill-rule=\"evenodd\" fill-opacity=\"1\"/>\n",
       "<polyline clip-path=\"url(#clip400)\" style=\"stroke:#000000; stroke-linecap:round; stroke-linejoin:round; stroke-width:4; stroke-opacity:1; fill:none\" points=\"344.39,198.898 604.583,198.898 604.583,95.2176 344.39,95.2176 344.39,198.898 \"/>\n",
       "<polyline clip-path=\"url(#clip400)\" style=\"stroke:#009af9; stroke-linecap:round; stroke-linejoin:round; stroke-width:4; stroke-opacity:1; fill:none\" points=\"367.475,147.058 505.983,147.058 \"/>\n",
       "<path clip-path=\"url(#clip400)\" d=\"M542.91 166.745 Q541.105 171.375 539.392 172.787 Q537.679 174.199 534.808 174.199 L531.406 174.199 L531.406 170.634 L533.906 170.634 Q535.665 170.634 536.637 169.8 Q537.609 168.967 538.79 165.865 L539.554 163.921 L529.068 138.412 L533.582 138.412 L541.683 158.689 L549.785 138.412 L554.299 138.412 L542.91 166.745 Z\" fill=\"#000000\" fill-rule=\"nonzero\" fill-opacity=\"1\" /><path clip-path=\"url(#clip400)\" d=\"M561.591 160.402 L569.229 160.402 L569.229 134.037 L560.919 135.703 L560.919 131.444 L569.183 129.778 L573.859 129.778 L573.859 160.402 L581.498 160.402 L581.498 164.338 L561.591 164.338 L561.591 160.402 Z\" fill=\"#000000\" fill-rule=\"nonzero\" fill-opacity=\"1\" /></svg>\n"
      ]
     },
     "execution_count": 36,
     "metadata": {},
     "output_type": "execute_result"
    }
   ],
   "source": [
    "plot(Displacement,Energy)"
   ]
  },
  {
   "cell_type": "code",
   "execution_count": 37,
   "id": "fc3fceb0",
   "metadata": {},
   "outputs": [
    {
     "data": {
      "image/svg+xml": [
       "<?xml version=\"1.0\" encoding=\"utf-8\"?>\n",
       "<svg xmlns=\"http://www.w3.org/2000/svg\" xmlns:xlink=\"http://www.w3.org/1999/xlink\" width=\"600\" height=\"400\" viewBox=\"0 0 2400 1600\">\n",
       "<defs>\n",
       "  <clipPath id=\"clip440\">\n",
       "    <rect x=\"0\" y=\"0\" width=\"2400\" height=\"1600\"/>\n",
       "  </clipPath>\n",
       "</defs>\n",
       "<path clip-path=\"url(#clip440)\" d=\"M0 1600 L2400 1600 L2400 0 L0 0  Z\" fill=\"#ffffff\" fill-rule=\"evenodd\" fill-opacity=\"1\"/>\n",
       "<defs>\n",
       "  <clipPath id=\"clip441\">\n",
       "    <rect x=\"480\" y=\"0\" width=\"1681\" height=\"1600\"/>\n",
       "  </clipPath>\n",
       "</defs>\n",
       "<path clip-path=\"url(#clip440)\" d=\"M275.136 1486.45 L2352.76 1486.45 L2352.76 47.2441 L275.136 47.2441  Z\" fill=\"#ffffff\" fill-rule=\"evenodd\" fill-opacity=\"1\"/>\n",
       "<defs>\n",
       "  <clipPath id=\"clip442\">\n",
       "    <rect x=\"275\" y=\"47\" width=\"2079\" height=\"1440\"/>\n",
       "  </clipPath>\n",
       "</defs>\n",
       "<polyline clip-path=\"url(#clip442)\" style=\"stroke:#000000; stroke-linecap:round; stroke-linejoin:round; stroke-width:2; stroke-opacity:0.1; fill:none\" points=\"314.139,1486.45 314.139,47.2441 \"/>\n",
       "<polyline clip-path=\"url(#clip442)\" style=\"stroke:#000000; stroke-linecap:round; stroke-linejoin:round; stroke-width:2; stroke-opacity:0.1; fill:none\" points=\"809.093,1486.45 809.093,47.2441 \"/>\n",
       "<polyline clip-path=\"url(#clip442)\" style=\"stroke:#000000; stroke-linecap:round; stroke-linejoin:round; stroke-width:2; stroke-opacity:0.1; fill:none\" points=\"1304.05,1486.45 1304.05,47.2441 \"/>\n",
       "<polyline clip-path=\"url(#clip442)\" style=\"stroke:#000000; stroke-linecap:round; stroke-linejoin:round; stroke-width:2; stroke-opacity:0.1; fill:none\" points=\"1799,1486.45 1799,47.2441 \"/>\n",
       "<polyline clip-path=\"url(#clip442)\" style=\"stroke:#000000; stroke-linecap:round; stroke-linejoin:round; stroke-width:2; stroke-opacity:0.1; fill:none\" points=\"2293.96,1486.45 2293.96,47.2441 \"/>\n",
       "<polyline clip-path=\"url(#clip440)\" style=\"stroke:#000000; stroke-linecap:round; stroke-linejoin:round; stroke-width:4; stroke-opacity:1; fill:none\" points=\"275.136,1486.45 2352.76,1486.45 \"/>\n",
       "<polyline clip-path=\"url(#clip440)\" style=\"stroke:#000000; stroke-linecap:round; stroke-linejoin:round; stroke-width:4; stroke-opacity:1; fill:none\" points=\"314.139,1486.45 314.139,1467.55 \"/>\n",
       "<polyline clip-path=\"url(#clip440)\" style=\"stroke:#000000; stroke-linecap:round; stroke-linejoin:round; stroke-width:4; stroke-opacity:1; fill:none\" points=\"809.093,1486.45 809.093,1467.55 \"/>\n",
       "<polyline clip-path=\"url(#clip440)\" style=\"stroke:#000000; stroke-linecap:round; stroke-linejoin:round; stroke-width:4; stroke-opacity:1; fill:none\" points=\"1304.05,1486.45 1304.05,1467.55 \"/>\n",
       "<polyline clip-path=\"url(#clip440)\" style=\"stroke:#000000; stroke-linecap:round; stroke-linejoin:round; stroke-width:4; stroke-opacity:1; fill:none\" points=\"1799,1486.45 1799,1467.55 \"/>\n",
       "<polyline clip-path=\"url(#clip440)\" style=\"stroke:#000000; stroke-linecap:round; stroke-linejoin:round; stroke-width:4; stroke-opacity:1; fill:none\" points=\"2293.96,1486.45 2293.96,1467.55 \"/>\n",
       "<path clip-path=\"url(#clip440)\" d=\"M261.361 1517.37 Q257.75 1517.37 255.921 1520.93 Q254.116 1524.47 254.116 1531.6 Q254.116 1538.71 255.921 1542.27 Q257.75 1545.82 261.361 1545.82 Q264.996 1545.82 266.801 1542.27 Q268.63 1538.71 268.63 1531.6 Q268.63 1524.47 266.801 1520.93 Q264.996 1517.37 261.361 1517.37 M261.361 1513.66 Q267.171 1513.66 270.227 1518.27 Q273.306 1522.85 273.306 1531.6 Q273.306 1540.33 270.227 1544.94 Q267.171 1549.52 261.361 1549.52 Q255.551 1549.52 252.472 1544.94 Q249.417 1540.33 249.417 1531.6 Q249.417 1522.85 252.472 1518.27 Q255.551 1513.66 261.361 1513.66 Z\" fill=\"#000000\" fill-rule=\"nonzero\" fill-opacity=\"1\" /><path clip-path=\"url(#clip440)\" d=\"M281.523 1542.97 L286.407 1542.97 L286.407 1548.85 L281.523 1548.85 L281.523 1542.97 Z\" fill=\"#000000\" fill-rule=\"nonzero\" fill-opacity=\"1\" /><path clip-path=\"url(#clip440)\" d=\"M306.593 1517.37 Q302.981 1517.37 301.153 1520.93 Q299.347 1524.47 299.347 1531.6 Q299.347 1538.71 301.153 1542.27 Q302.981 1545.82 306.593 1545.82 Q310.227 1545.82 312.032 1542.27 Q313.861 1538.71 313.861 1531.6 Q313.861 1524.47 312.032 1520.93 Q310.227 1517.37 306.593 1517.37 M306.593 1513.66 Q312.403 1513.66 315.458 1518.27 Q318.537 1522.85 318.537 1531.6 Q318.537 1540.33 315.458 1544.94 Q312.403 1549.52 306.593 1549.52 Q300.782 1549.52 297.704 1544.94 Q294.648 1540.33 294.648 1531.6 Q294.648 1522.85 297.704 1518.27 Q300.782 1513.66 306.593 1513.66 Z\" fill=\"#000000\" fill-rule=\"nonzero\" fill-opacity=\"1\" /><path clip-path=\"url(#clip440)\" d=\"M336.754 1517.37 Q333.143 1517.37 331.315 1520.93 Q329.509 1524.47 329.509 1531.6 Q329.509 1538.71 331.315 1542.27 Q333.143 1545.82 336.754 1545.82 Q340.389 1545.82 342.194 1542.27 Q344.023 1538.71 344.023 1531.6 Q344.023 1524.47 342.194 1520.93 Q340.389 1517.37 336.754 1517.37 M336.754 1513.66 Q342.565 1513.66 345.62 1518.27 Q348.699 1522.85 348.699 1531.6 Q348.699 1540.33 345.62 1544.94 Q342.565 1549.52 336.754 1549.52 Q330.944 1549.52 327.866 1544.94 Q324.81 1540.33 324.81 1531.6 Q324.81 1522.85 327.866 1518.27 Q330.944 1513.66 336.754 1513.66 Z\" fill=\"#000000\" fill-rule=\"nonzero\" fill-opacity=\"1\" /><path clip-path=\"url(#clip440)\" d=\"M366.916 1517.37 Q363.305 1517.37 361.476 1520.93 Q359.671 1524.47 359.671 1531.6 Q359.671 1538.71 361.476 1542.27 Q363.305 1545.82 366.916 1545.82 Q370.55 1545.82 372.356 1542.27 Q374.185 1538.71 374.185 1531.6 Q374.185 1524.47 372.356 1520.93 Q370.55 1517.37 366.916 1517.37 M366.916 1513.66 Q372.726 1513.66 375.782 1518.27 Q378.861 1522.85 378.861 1531.6 Q378.861 1540.33 375.782 1544.94 Q372.726 1549.52 366.916 1549.52 Q361.106 1549.52 358.027 1544.94 Q354.972 1540.33 354.972 1531.6 Q354.972 1522.85 358.027 1518.27 Q361.106 1513.66 366.916 1513.66 Z\" fill=\"#000000\" fill-rule=\"nonzero\" fill-opacity=\"1\" /><path clip-path=\"url(#clip440)\" d=\"M756.813 1517.37 Q753.202 1517.37 751.373 1520.93 Q749.568 1524.47 749.568 1531.6 Q749.568 1538.71 751.373 1542.27 Q753.202 1545.82 756.813 1545.82 Q760.447 1545.82 762.253 1542.27 Q764.082 1538.71 764.082 1531.6 Q764.082 1524.47 762.253 1520.93 Q760.447 1517.37 756.813 1517.37 M756.813 1513.66 Q762.623 1513.66 765.679 1518.27 Q768.757 1522.85 768.757 1531.6 Q768.757 1540.33 765.679 1544.94 Q762.623 1549.52 756.813 1549.52 Q751.003 1549.52 747.924 1544.94 Q744.869 1540.33 744.869 1531.6 Q744.869 1522.85 747.924 1518.27 Q751.003 1513.66 756.813 1513.66 Z\" fill=\"#000000\" fill-rule=\"nonzero\" fill-opacity=\"1\" /><path clip-path=\"url(#clip440)\" d=\"M776.975 1542.97 L781.859 1542.97 L781.859 1548.85 L776.975 1548.85 L776.975 1542.97 Z\" fill=\"#000000\" fill-rule=\"nonzero\" fill-opacity=\"1\" /><path clip-path=\"url(#clip440)\" d=\"M802.044 1517.37 Q798.433 1517.37 796.605 1520.93 Q794.799 1524.47 794.799 1531.6 Q794.799 1538.71 796.605 1542.27 Q798.433 1545.82 802.044 1545.82 Q805.679 1545.82 807.484 1542.27 Q809.313 1538.71 809.313 1531.6 Q809.313 1524.47 807.484 1520.93 Q805.679 1517.37 802.044 1517.37 M802.044 1513.66 Q807.854 1513.66 810.91 1518.27 Q813.989 1522.85 813.989 1531.6 Q813.989 1540.33 810.91 1544.94 Q807.854 1549.52 802.044 1549.52 Q796.234 1549.52 793.155 1544.94 Q790.1 1540.33 790.1 1531.6 Q790.1 1522.85 793.155 1518.27 Q796.234 1513.66 802.044 1513.66 Z\" fill=\"#000000\" fill-rule=\"nonzero\" fill-opacity=\"1\" /><path clip-path=\"url(#clip440)\" d=\"M826.234 1544.91 L842.553 1544.91 L842.553 1548.85 L820.609 1548.85 L820.609 1544.91 Q823.271 1542.16 827.854 1537.53 Q832.461 1532.88 833.641 1531.53 Q835.887 1529.01 836.766 1527.27 Q837.669 1525.51 837.669 1523.82 Q837.669 1521.07 835.725 1519.33 Q833.803 1517.6 830.702 1517.6 Q828.503 1517.6 826.049 1518.36 Q823.618 1519.13 820.841 1520.68 L820.841 1515.95 Q823.665 1514.82 826.118 1514.24 Q828.572 1513.66 830.609 1513.66 Q835.979 1513.66 839.174 1516.35 Q842.368 1519.03 842.368 1523.52 Q842.368 1525.65 841.558 1527.57 Q840.771 1529.47 838.665 1532.07 Q838.086 1532.74 834.984 1535.95 Q831.882 1539.15 826.234 1544.91 Z\" fill=\"#000000\" fill-rule=\"nonzero\" fill-opacity=\"1\" /><path clip-path=\"url(#clip440)\" d=\"M852.414 1514.29 L870.771 1514.29 L870.771 1518.22 L856.697 1518.22 L856.697 1526.7 Q857.715 1526.35 858.734 1526.19 Q859.752 1526 860.771 1526 Q866.558 1526 869.937 1529.17 Q873.317 1532.34 873.317 1537.76 Q873.317 1543.34 869.845 1546.44 Q866.373 1549.52 860.053 1549.52 Q857.877 1549.52 855.609 1549.15 Q853.364 1548.78 850.956 1548.04 L850.956 1543.34 Q853.039 1544.47 855.262 1545.03 Q857.484 1545.58 859.961 1545.58 Q863.965 1545.58 866.303 1543.48 Q868.641 1541.37 868.641 1537.76 Q868.641 1534.15 866.303 1532.04 Q863.965 1529.94 859.961 1529.94 Q858.086 1529.94 856.211 1530.35 Q854.359 1530.77 852.414 1531.65 L852.414 1514.29 Z\" fill=\"#000000\" fill-rule=\"nonzero\" fill-opacity=\"1\" /><path clip-path=\"url(#clip440)\" d=\"M1251.27 1517.37 Q1247.66 1517.37 1245.83 1520.93 Q1244.02 1524.47 1244.02 1531.6 Q1244.02 1538.71 1245.83 1542.27 Q1247.66 1545.82 1251.27 1545.82 Q1254.9 1545.82 1256.71 1542.27 Q1258.54 1538.71 1258.54 1531.6 Q1258.54 1524.47 1256.71 1520.93 Q1254.9 1517.37 1251.27 1517.37 M1251.27 1513.66 Q1257.08 1513.66 1260.14 1518.27 Q1263.21 1522.85 1263.21 1531.6 Q1263.21 1540.33 1260.14 1544.94 Q1257.08 1549.52 1251.27 1549.52 Q1245.46 1549.52 1242.38 1544.94 Q1239.33 1540.33 1239.33 1531.6 Q1239.33 1522.85 1242.38 1518.27 Q1245.46 1513.66 1251.27 1513.66 Z\" fill=\"#000000\" fill-rule=\"nonzero\" fill-opacity=\"1\" /><path clip-path=\"url(#clip440)\" d=\"M1271.43 1542.97 L1276.32 1542.97 L1276.32 1548.85 L1271.43 1548.85 L1271.43 1542.97 Z\" fill=\"#000000\" fill-rule=\"nonzero\" fill-opacity=\"1\" /><path clip-path=\"url(#clip440)\" d=\"M1296.5 1517.37 Q1292.89 1517.37 1291.06 1520.93 Q1289.26 1524.47 1289.26 1531.6 Q1289.26 1538.71 1291.06 1542.27 Q1292.89 1545.82 1296.5 1545.82 Q1300.14 1545.82 1301.94 1542.27 Q1303.77 1538.71 1303.77 1531.6 Q1303.77 1524.47 1301.94 1520.93 Q1300.14 1517.37 1296.5 1517.37 M1296.5 1513.66 Q1302.31 1513.66 1305.37 1518.27 Q1308.45 1522.85 1308.45 1531.6 Q1308.45 1540.33 1305.37 1544.94 Q1302.31 1549.52 1296.5 1549.52 Q1290.69 1549.52 1287.61 1544.94 Q1284.56 1540.33 1284.56 1531.6 Q1284.56 1522.85 1287.61 1518.27 Q1290.69 1513.66 1296.5 1513.66 Z\" fill=\"#000000\" fill-rule=\"nonzero\" fill-opacity=\"1\" /><path clip-path=\"url(#clip440)\" d=\"M1316.71 1514.29 L1335.07 1514.29 L1335.07 1518.22 L1320.99 1518.22 L1320.99 1526.7 Q1322.01 1526.35 1323.03 1526.19 Q1324.05 1526 1325.07 1526 Q1330.85 1526 1334.23 1529.17 Q1337.61 1532.34 1337.61 1537.76 Q1337.61 1543.34 1334.14 1546.44 Q1330.67 1549.52 1324.35 1549.52 Q1322.17 1549.52 1319.9 1549.15 Q1317.66 1548.78 1315.25 1548.04 L1315.25 1543.34 Q1317.33 1544.47 1319.56 1545.03 Q1321.78 1545.58 1324.26 1545.58 Q1328.26 1545.58 1330.6 1543.48 Q1332.94 1541.37 1332.94 1537.76 Q1332.94 1534.15 1330.6 1532.04 Q1328.26 1529.94 1324.26 1529.94 Q1322.38 1529.94 1320.51 1530.35 Q1318.65 1530.77 1316.71 1531.65 L1316.71 1514.29 Z\" fill=\"#000000\" fill-rule=\"nonzero\" fill-opacity=\"1\" /><path clip-path=\"url(#clip440)\" d=\"M1356.82 1517.37 Q1353.21 1517.37 1351.38 1520.93 Q1349.58 1524.47 1349.58 1531.6 Q1349.58 1538.71 1351.38 1542.27 Q1353.21 1545.82 1356.82 1545.82 Q1360.46 1545.82 1362.26 1542.27 Q1364.09 1538.71 1364.09 1531.6 Q1364.09 1524.47 1362.26 1520.93 Q1360.46 1517.37 1356.82 1517.37 M1356.82 1513.66 Q1362.63 1513.66 1365.69 1518.27 Q1368.77 1522.85 1368.77 1531.6 Q1368.77 1540.33 1365.69 1544.94 Q1362.63 1549.52 1356.82 1549.52 Q1351.01 1549.52 1347.94 1544.94 Q1344.88 1540.33 1344.88 1531.6 Q1344.88 1522.85 1347.94 1518.27 Q1351.01 1513.66 1356.82 1513.66 Z\" fill=\"#000000\" fill-rule=\"nonzero\" fill-opacity=\"1\" /><path clip-path=\"url(#clip440)\" d=\"M1746.72 1517.37 Q1743.11 1517.37 1741.28 1520.93 Q1739.48 1524.47 1739.48 1531.6 Q1739.48 1538.71 1741.28 1542.27 Q1743.11 1545.82 1746.72 1545.82 Q1750.36 1545.82 1752.16 1542.27 Q1753.99 1538.71 1753.99 1531.6 Q1753.99 1524.47 1752.16 1520.93 Q1750.36 1517.37 1746.72 1517.37 M1746.72 1513.66 Q1752.53 1513.66 1755.59 1518.27 Q1758.67 1522.85 1758.67 1531.6 Q1758.67 1540.33 1755.59 1544.94 Q1752.53 1549.52 1746.72 1549.52 Q1740.91 1549.52 1737.83 1544.94 Q1734.78 1540.33 1734.78 1531.6 Q1734.78 1522.85 1737.83 1518.27 Q1740.91 1513.66 1746.72 1513.66 Z\" fill=\"#000000\" fill-rule=\"nonzero\" fill-opacity=\"1\" /><path clip-path=\"url(#clip440)\" d=\"M1766.88 1542.97 L1771.77 1542.97 L1771.77 1548.85 L1766.88 1548.85 L1766.88 1542.97 Z\" fill=\"#000000\" fill-rule=\"nonzero\" fill-opacity=\"1\" /><path clip-path=\"url(#clip440)\" d=\"M1791.95 1517.37 Q1788.34 1517.37 1786.51 1520.93 Q1784.71 1524.47 1784.71 1531.6 Q1784.71 1538.71 1786.51 1542.27 Q1788.34 1545.82 1791.95 1545.82 Q1795.59 1545.82 1797.39 1542.27 Q1799.22 1538.71 1799.22 1531.6 Q1799.22 1524.47 1797.39 1520.93 Q1795.59 1517.37 1791.95 1517.37 M1791.95 1513.66 Q1797.76 1513.66 1800.82 1518.27 Q1803.9 1522.85 1803.9 1531.6 Q1803.9 1540.33 1800.82 1544.94 Q1797.76 1549.52 1791.95 1549.52 Q1786.14 1549.52 1783.06 1544.94 Q1780.01 1540.33 1780.01 1531.6 Q1780.01 1522.85 1783.06 1518.27 Q1786.14 1513.66 1791.95 1513.66 Z\" fill=\"#000000\" fill-rule=\"nonzero\" fill-opacity=\"1\" /><path clip-path=\"url(#clip440)\" d=\"M1810.93 1514.29 L1833.16 1514.29 L1833.16 1516.28 L1820.61 1548.85 L1815.73 1548.85 L1827.53 1518.22 L1810.93 1518.22 L1810.93 1514.29 Z\" fill=\"#000000\" fill-rule=\"nonzero\" fill-opacity=\"1\" /><path clip-path=\"url(#clip440)\" d=\"M1842.32 1514.29 L1860.68 1514.29 L1860.68 1518.22 L1846.61 1518.22 L1846.61 1526.7 Q1847.62 1526.35 1848.64 1526.19 Q1849.66 1526 1850.68 1526 Q1856.47 1526 1859.85 1529.17 Q1863.23 1532.34 1863.23 1537.76 Q1863.23 1543.34 1859.75 1546.44 Q1856.28 1549.52 1849.96 1549.52 Q1847.79 1549.52 1845.52 1549.15 Q1843.27 1548.78 1840.86 1548.04 L1840.86 1543.34 Q1842.95 1544.47 1845.17 1545.03 Q1847.39 1545.58 1849.87 1545.58 Q1853.87 1545.58 1856.21 1543.48 Q1858.55 1541.37 1858.55 1537.76 Q1858.55 1534.15 1856.21 1532.04 Q1853.87 1529.94 1849.87 1529.94 Q1847.99 1529.94 1846.12 1530.35 Q1844.27 1530.77 1842.32 1531.65 L1842.32 1514.29 Z\" fill=\"#000000\" fill-rule=\"nonzero\" fill-opacity=\"1\" /><path clip-path=\"url(#clip440)\" d=\"M2241.18 1517.37 Q2237.57 1517.37 2235.74 1520.93 Q2233.93 1524.47 2233.93 1531.6 Q2233.93 1538.71 2235.74 1542.27 Q2237.57 1545.82 2241.18 1545.82 Q2244.81 1545.82 2246.62 1542.27 Q2248.45 1538.71 2248.45 1531.6 Q2248.45 1524.47 2246.62 1520.93 Q2244.81 1517.37 2241.18 1517.37 M2241.18 1513.66 Q2246.99 1513.66 2250.04 1518.27 Q2253.12 1522.85 2253.12 1531.6 Q2253.12 1540.33 2250.04 1544.94 Q2246.99 1549.52 2241.18 1549.52 Q2235.37 1549.52 2232.29 1544.94 Q2229.23 1540.33 2229.23 1531.6 Q2229.23 1522.85 2232.29 1518.27 Q2235.37 1513.66 2241.18 1513.66 Z\" fill=\"#000000\" fill-rule=\"nonzero\" fill-opacity=\"1\" /><path clip-path=\"url(#clip440)\" d=\"M2261.34 1542.97 L2266.22 1542.97 L2266.22 1548.85 L2261.34 1548.85 L2261.34 1542.97 Z\" fill=\"#000000\" fill-rule=\"nonzero\" fill-opacity=\"1\" /><path clip-path=\"url(#clip440)\" d=\"M2277.22 1544.91 L2284.86 1544.91 L2284.86 1518.55 L2276.55 1520.21 L2276.55 1515.95 L2284.81 1514.29 L2289.49 1514.29 L2289.49 1544.91 L2297.13 1544.91 L2297.13 1548.85 L2277.22 1548.85 L2277.22 1544.91 Z\" fill=\"#000000\" fill-rule=\"nonzero\" fill-opacity=\"1\" /><path clip-path=\"url(#clip440)\" d=\"M2316.57 1517.37 Q2312.96 1517.37 2311.13 1520.93 Q2309.33 1524.47 2309.33 1531.6 Q2309.33 1538.71 2311.13 1542.27 Q2312.96 1545.82 2316.57 1545.82 Q2320.21 1545.82 2322.01 1542.27 Q2323.84 1538.71 2323.84 1531.6 Q2323.84 1524.47 2322.01 1520.93 Q2320.21 1517.37 2316.57 1517.37 M2316.57 1513.66 Q2322.38 1513.66 2325.44 1518.27 Q2328.52 1522.85 2328.52 1531.6 Q2328.52 1540.33 2325.44 1544.94 Q2322.38 1549.52 2316.57 1549.52 Q2310.76 1549.52 2307.68 1544.94 Q2304.63 1540.33 2304.63 1531.6 Q2304.63 1522.85 2307.68 1518.27 Q2310.76 1513.66 2316.57 1513.66 Z\" fill=\"#000000\" fill-rule=\"nonzero\" fill-opacity=\"1\" /><path clip-path=\"url(#clip440)\" d=\"M2346.73 1517.37 Q2343.12 1517.37 2341.29 1520.93 Q2339.49 1524.47 2339.49 1531.6 Q2339.49 1538.71 2341.29 1542.27 Q2343.12 1545.82 2346.73 1545.82 Q2350.37 1545.82 2352.17 1542.27 Q2354 1538.71 2354 1531.6 Q2354 1524.47 2352.17 1520.93 Q2350.37 1517.37 2346.73 1517.37 M2346.73 1513.66 Q2352.54 1513.66 2355.6 1518.27 Q2358.68 1522.85 2358.68 1531.6 Q2358.68 1540.33 2355.6 1544.94 Q2352.54 1549.52 2346.73 1549.52 Q2340.92 1549.52 2337.84 1544.94 Q2334.79 1540.33 2334.79 1531.6 Q2334.79 1522.85 2337.84 1518.27 Q2340.92 1513.66 2346.73 1513.66 Z\" fill=\"#000000\" fill-rule=\"nonzero\" fill-opacity=\"1\" /><polyline clip-path=\"url(#clip442)\" style=\"stroke:#000000; stroke-linecap:round; stroke-linejoin:round; stroke-width:2; stroke-opacity:0.1; fill:none\" points=\"275.136,1445.72 2352.76,1445.72 \"/>\n",
       "<polyline clip-path=\"url(#clip442)\" style=\"stroke:#000000; stroke-linecap:round; stroke-linejoin:round; stroke-width:2; stroke-opacity:0.1; fill:none\" points=\"275.136,1224.73 2352.76,1224.73 \"/>\n",
       "<polyline clip-path=\"url(#clip442)\" style=\"stroke:#000000; stroke-linecap:round; stroke-linejoin:round; stroke-width:2; stroke-opacity:0.1; fill:none\" points=\"275.136,1003.74 2352.76,1003.74 \"/>\n",
       "<polyline clip-path=\"url(#clip442)\" style=\"stroke:#000000; stroke-linecap:round; stroke-linejoin:round; stroke-width:2; stroke-opacity:0.1; fill:none\" points=\"275.136,782.75 2352.76,782.75 \"/>\n",
       "<polyline clip-path=\"url(#clip442)\" style=\"stroke:#000000; stroke-linecap:round; stroke-linejoin:round; stroke-width:2; stroke-opacity:0.1; fill:none\" points=\"275.136,561.761 2352.76,561.761 \"/>\n",
       "<polyline clip-path=\"url(#clip442)\" style=\"stroke:#000000; stroke-linecap:round; stroke-linejoin:round; stroke-width:2; stroke-opacity:0.1; fill:none\" points=\"275.136,340.773 2352.76,340.773 \"/>\n",
       "<polyline clip-path=\"url(#clip442)\" style=\"stroke:#000000; stroke-linecap:round; stroke-linejoin:round; stroke-width:2; stroke-opacity:0.1; fill:none\" points=\"275.136,119.784 2352.76,119.784 \"/>\n",
       "<polyline clip-path=\"url(#clip440)\" style=\"stroke:#000000; stroke-linecap:round; stroke-linejoin:round; stroke-width:4; stroke-opacity:1; fill:none\" points=\"275.136,1486.45 275.136,47.2441 \"/>\n",
       "<polyline clip-path=\"url(#clip440)\" style=\"stroke:#000000; stroke-linecap:round; stroke-linejoin:round; stroke-width:4; stroke-opacity:1; fill:none\" points=\"275.136,1445.72 294.034,1445.72 \"/>\n",
       "<polyline clip-path=\"url(#clip440)\" style=\"stroke:#000000; stroke-linecap:round; stroke-linejoin:round; stroke-width:4; stroke-opacity:1; fill:none\" points=\"275.136,1224.73 294.034,1224.73 \"/>\n",
       "<polyline clip-path=\"url(#clip440)\" style=\"stroke:#000000; stroke-linecap:round; stroke-linejoin:round; stroke-width:4; stroke-opacity:1; fill:none\" points=\"275.136,1003.74 294.034,1003.74 \"/>\n",
       "<polyline clip-path=\"url(#clip440)\" style=\"stroke:#000000; stroke-linecap:round; stroke-linejoin:round; stroke-width:4; stroke-opacity:1; fill:none\" points=\"275.136,782.75 294.034,782.75 \"/>\n",
       "<polyline clip-path=\"url(#clip440)\" style=\"stroke:#000000; stroke-linecap:round; stroke-linejoin:round; stroke-width:4; stroke-opacity:1; fill:none\" points=\"275.136,561.761 294.034,561.761 \"/>\n",
       "<polyline clip-path=\"url(#clip440)\" style=\"stroke:#000000; stroke-linecap:round; stroke-linejoin:round; stroke-width:4; stroke-opacity:1; fill:none\" points=\"275.136,340.773 294.034,340.773 \"/>\n",
       "<polyline clip-path=\"url(#clip440)\" style=\"stroke:#000000; stroke-linecap:round; stroke-linejoin:round; stroke-width:4; stroke-opacity:1; fill:none\" points=\"275.136,119.784 294.034,119.784 \"/>\n",
       "<path clip-path=\"url(#clip440)\" d=\"M227.192 1431.51 Q223.581 1431.51 221.752 1435.08 Q219.947 1438.62 219.947 1445.75 Q219.947 1452.86 221.752 1456.42 Q223.581 1459.96 227.192 1459.96 Q230.826 1459.96 232.632 1456.42 Q234.46 1452.86 234.46 1445.75 Q234.46 1438.62 232.632 1435.08 Q230.826 1431.51 227.192 1431.51 M227.192 1427.81 Q233.002 1427.81 236.058 1432.42 Q239.136 1437 239.136 1445.75 Q239.136 1454.48 236.058 1459.08 Q233.002 1463.67 227.192 1463.67 Q221.382 1463.67 218.303 1459.08 Q215.248 1454.48 215.248 1445.75 Q215.248 1437 218.303 1432.42 Q221.382 1427.81 227.192 1427.81 Z\" fill=\"#000000\" fill-rule=\"nonzero\" fill-opacity=\"1\" /><path clip-path=\"url(#clip440)\" d=\"M54.5569 1244.52 L62.1958 1244.52 L62.1958 1218.15 L53.8856 1219.82 L53.8856 1215.56 L62.1495 1213.89 L66.8254 1213.89 L66.8254 1244.52 L74.4642 1244.52 L74.4642 1248.45 L54.5569 1248.45 L54.5569 1244.52 Z\" fill=\"#000000\" fill-rule=\"nonzero\" fill-opacity=\"1\" /><path clip-path=\"url(#clip440)\" d=\"M83.9086 1242.58 L88.7928 1242.58 L88.7928 1248.45 L83.9086 1248.45 L83.9086 1242.58 Z\" fill=\"#000000\" fill-rule=\"nonzero\" fill-opacity=\"1\" /><path clip-path=\"url(#clip440)\" d=\"M108.978 1216.97 Q105.367 1216.97 103.538 1220.54 Q101.733 1224.08 101.733 1231.21 Q101.733 1238.32 103.538 1241.88 Q105.367 1245.42 108.978 1245.42 Q112.612 1245.42 114.418 1241.88 Q116.246 1238.32 116.246 1231.21 Q116.246 1224.08 114.418 1220.54 Q112.612 1216.97 108.978 1216.97 M108.978 1213.27 Q114.788 1213.27 117.844 1217.88 Q120.922 1222.46 120.922 1231.21 Q120.922 1239.94 117.844 1244.54 Q114.788 1249.13 108.978 1249.13 Q103.168 1249.13 100.089 1244.54 Q97.0335 1239.94 97.0335 1231.21 Q97.0335 1222.46 100.089 1217.88 Q103.168 1213.27 108.978 1213.27 Z\" fill=\"#000000\" fill-rule=\"nonzero\" fill-opacity=\"1\" /><path clip-path=\"url(#clip440)\" d=\"M157.311 1222.99 L146.732 1233.62 L157.311 1244.2 L154.556 1247 L143.931 1236.37 L133.306 1247 L130.575 1244.2 L141.131 1233.62 L130.575 1222.99 L133.306 1220.19 L143.931 1230.82 L154.556 1220.19 L157.311 1222.99 Z\" fill=\"#000000\" fill-rule=\"nonzero\" fill-opacity=\"1\" /><path clip-path=\"url(#clip440)\" d=\"M169.672 1244.52 L177.311 1244.52 L177.311 1218.15 L169.001 1219.82 L169.001 1215.56 L177.265 1213.89 L181.94 1213.89 L181.94 1244.52 L189.579 1244.52 L189.579 1248.45 L169.672 1248.45 L169.672 1244.52 Z\" fill=\"#000000\" fill-rule=\"nonzero\" fill-opacity=\"1\" /><path clip-path=\"url(#clip440)\" d=\"M209.024 1216.97 Q205.413 1216.97 203.584 1220.54 Q201.778 1224.08 201.778 1231.21 Q201.778 1238.32 203.584 1241.88 Q205.413 1245.42 209.024 1245.42 Q212.658 1245.42 214.463 1241.88 Q216.292 1238.32 216.292 1231.21 Q216.292 1224.08 214.463 1220.54 Q212.658 1216.97 209.024 1216.97 M209.024 1213.27 Q214.834 1213.27 217.889 1217.88 Q220.968 1222.46 220.968 1231.21 Q220.968 1239.94 217.889 1244.54 Q214.834 1249.13 209.024 1249.13 Q203.214 1249.13 200.135 1244.54 Q197.079 1239.94 197.079 1231.21 Q197.079 1222.46 200.135 1217.88 Q203.214 1213.27 209.024 1213.27 Z\" fill=\"#000000\" fill-rule=\"nonzero\" fill-opacity=\"1\" /><path clip-path=\"url(#clip440)\" d=\"M222.153 1192.96 L237.068 1192.96 L237.068 1196.16 L225.632 1196.16 L225.632 1203.05 Q226.46 1202.76 227.287 1202.63 Q228.115 1202.48 228.943 1202.48 Q233.645 1202.48 236.39 1205.06 Q239.136 1207.63 239.136 1212.04 Q239.136 1216.57 236.315 1219.09 Q233.494 1221.59 228.36 1221.59 Q226.592 1221.59 224.748 1221.29 Q222.924 1220.99 220.968 1220.39 L220.968 1216.57 Q222.661 1217.49 224.466 1217.94 Q226.272 1218.39 228.284 1218.39 Q231.538 1218.39 233.438 1216.68 Q235.337 1214.97 235.337 1212.04 Q235.337 1209.1 233.438 1207.39 Q231.538 1205.68 228.284 1205.68 Q226.761 1205.68 225.237 1206.02 Q223.733 1206.36 222.153 1207.07 L222.153 1192.96 Z\" fill=\"#000000\" fill-rule=\"nonzero\" fill-opacity=\"1\" /><path clip-path=\"url(#clip440)\" d=\"M57.7745 1023.53 L74.0939 1023.53 L74.0939 1027.47 L52.1495 1027.47 L52.1495 1023.53 Q54.8115 1020.78 59.3949 1016.15 Q64.0013 1011.49 65.1819 1010.15 Q67.4272 1007.63 68.3068 1005.89 Q69.2096 1004.13 69.2096 1002.44 Q69.2096 999.688 67.2652 997.952 Q65.3439 996.216 62.2421 996.216 Q60.043 996.216 57.5893 996.98 Q55.1588 997.744 52.381 999.295 L52.381 994.573 Q55.2051 993.438 57.6588 992.86 Q60.1124 992.281 62.1495 992.281 Q67.5198 992.281 70.7142 994.966 Q73.9087 997.651 73.9087 1002.14 Q73.9087 1004.27 73.0985 1006.19 Q72.3115 1008.09 70.205 1010.68 Q69.6263 1011.36 66.5245 1014.57 Q63.4226 1017.77 57.7745 1023.53 Z\" fill=\"#000000\" fill-rule=\"nonzero\" fill-opacity=\"1\" /><path clip-path=\"url(#clip440)\" d=\"M83.9086 1021.59 L88.7928 1021.59 L88.7928 1027.47 L83.9086 1027.47 L83.9086 1021.59 Z\" fill=\"#000000\" fill-rule=\"nonzero\" fill-opacity=\"1\" /><path clip-path=\"url(#clip440)\" d=\"M108.978 995.985 Q105.367 995.985 103.538 999.55 Q101.733 1003.09 101.733 1010.22 Q101.733 1017.33 103.538 1020.89 Q105.367 1024.43 108.978 1024.43 Q112.612 1024.43 114.418 1020.89 Q116.246 1017.33 116.246 1010.22 Q116.246 1003.09 114.418 999.55 Q112.612 995.985 108.978 995.985 M108.978 992.281 Q114.788 992.281 117.844 996.888 Q120.922 1001.47 120.922 1010.22 Q120.922 1018.95 117.844 1023.55 Q114.788 1028.14 108.978 1028.14 Q103.168 1028.14 100.089 1023.55 Q97.0335 1018.95 97.0335 1010.22 Q97.0335 1001.47 100.089 996.888 Q103.168 992.281 108.978 992.281 Z\" fill=\"#000000\" fill-rule=\"nonzero\" fill-opacity=\"1\" /><path clip-path=\"url(#clip440)\" d=\"M157.311 1002 L146.732 1012.63 L157.311 1023.21 L154.556 1026.01 L143.931 1015.38 L133.306 1026.01 L130.575 1023.21 L141.131 1012.63 L130.575 1002 L133.306 999.202 L143.931 1009.83 L154.556 999.202 L157.311 1002 Z\" fill=\"#000000\" fill-rule=\"nonzero\" fill-opacity=\"1\" /><path clip-path=\"url(#clip440)\" d=\"M169.672 1023.53 L177.311 1023.53 L177.311 997.165 L169.001 998.832 L169.001 994.573 L177.265 992.906 L181.94 992.906 L181.94 1023.53 L189.579 1023.53 L189.579 1027.47 L169.672 1027.47 L169.672 1023.53 Z\" fill=\"#000000\" fill-rule=\"nonzero\" fill-opacity=\"1\" /><path clip-path=\"url(#clip440)\" d=\"M209.024 995.985 Q205.413 995.985 203.584 999.55 Q201.778 1003.09 201.778 1010.22 Q201.778 1017.33 203.584 1020.89 Q205.413 1024.43 209.024 1024.43 Q212.658 1024.43 214.463 1020.89 Q216.292 1017.33 216.292 1010.22 Q216.292 1003.09 214.463 999.55 Q212.658 995.985 209.024 995.985 M209.024 992.281 Q214.834 992.281 217.889 996.888 Q220.968 1001.47 220.968 1010.22 Q220.968 1018.95 217.889 1023.55 Q214.834 1028.14 209.024 1028.14 Q203.214 1028.14 200.135 1023.55 Q197.079 1018.95 197.079 1010.22 Q197.079 1001.47 200.135 996.888 Q203.214 992.281 209.024 992.281 Z\" fill=\"#000000\" fill-rule=\"nonzero\" fill-opacity=\"1\" /><path clip-path=\"url(#clip440)\" d=\"M222.153 971.976 L237.068 971.976 L237.068 975.173 L225.632 975.173 L225.632 982.057 Q226.46 981.775 227.287 981.643 Q228.115 981.492 228.943 981.492 Q233.645 981.492 236.39 984.069 Q239.136 986.646 239.136 991.047 Q239.136 995.579 236.315 998.1 Q233.494 1000.6 228.36 1000.6 Q226.592 1000.6 224.748 1000.3 Q222.924 999.999 220.968 999.397 L220.968 995.579 Q222.661 996.501 224.466 996.952 Q226.272 997.404 228.284 997.404 Q231.538 997.404 233.438 995.692 Q235.337 993.981 235.337 991.047 Q235.337 988.113 233.438 986.401 Q231.538 984.69 228.284 984.69 Q226.761 984.69 225.237 985.028 Q223.733 985.367 222.153 986.081 L222.153 971.976 Z\" fill=\"#000000\" fill-rule=\"nonzero\" fill-opacity=\"1\" /><path clip-path=\"url(#clip440)\" d=\"M67.9133 787.843 Q71.2698 788.561 73.1448 790.829 Q75.0429 793.098 75.0429 796.431 Q75.0429 801.547 71.5244 804.348 Q68.0059 807.149 61.5245 807.149 Q59.3486 807.149 57.0338 806.709 Q54.7421 806.292 52.2884 805.436 L52.2884 800.922 Q54.2328 802.056 56.5477 802.635 Q58.8625 803.214 61.3856 803.214 Q65.7837 803.214 68.0754 801.477 Q70.3902 799.741 70.3902 796.431 Q70.3902 793.376 68.2374 791.663 Q66.1078 789.927 62.2884 789.927 L58.2606 789.927 L58.2606 786.084 L62.4735 786.084 Q65.9226 786.084 67.7513 784.718 Q69.58 783.329 69.58 780.737 Q69.58 778.075 67.6819 776.663 Q65.8069 775.228 62.2884 775.228 Q60.3671 775.228 58.168 775.644 Q55.969 776.061 53.3301 776.941 L53.3301 772.774 Q55.9921 772.033 58.3069 771.663 Q60.6449 771.292 62.705 771.292 Q68.0291 771.292 71.1309 773.723 Q74.2327 776.13 74.2327 780.251 Q74.2327 783.121 72.5892 785.112 Q70.9457 787.079 67.9133 787.843 Z\" fill=\"#000000\" fill-rule=\"nonzero\" fill-opacity=\"1\" /><path clip-path=\"url(#clip440)\" d=\"M83.9086 800.598 L88.7928 800.598 L88.7928 806.477 L83.9086 806.477 L83.9086 800.598 Z\" fill=\"#000000\" fill-rule=\"nonzero\" fill-opacity=\"1\" /><path clip-path=\"url(#clip440)\" d=\"M108.978 774.996 Q105.367 774.996 103.538 778.561 Q101.733 782.103 101.733 789.232 Q101.733 796.339 103.538 799.903 Q105.367 803.445 108.978 803.445 Q112.612 803.445 114.418 799.903 Q116.246 796.339 116.246 789.232 Q116.246 782.103 114.418 778.561 Q112.612 774.996 108.978 774.996 M108.978 771.292 Q114.788 771.292 117.844 775.899 Q120.922 780.482 120.922 789.232 Q120.922 797.959 117.844 802.565 Q114.788 807.149 108.978 807.149 Q103.168 807.149 100.089 802.565 Q97.0335 797.959 97.0335 789.232 Q97.0335 780.482 100.089 775.899 Q103.168 771.292 108.978 771.292 Z\" fill=\"#000000\" fill-rule=\"nonzero\" fill-opacity=\"1\" /><path clip-path=\"url(#clip440)\" d=\"M157.311 781.015 L146.732 791.64 L157.311 802.218 L154.556 805.019 L143.931 794.394 L133.306 805.019 L130.575 802.218 L141.131 791.64 L130.575 781.015 L133.306 778.214 L143.931 788.839 L154.556 778.214 L157.311 781.015 Z\" fill=\"#000000\" fill-rule=\"nonzero\" fill-opacity=\"1\" /><path clip-path=\"url(#clip440)\" d=\"M169.672 802.542 L177.311 802.542 L177.311 776.177 L169.001 777.843 L169.001 773.584 L177.265 771.917 L181.94 771.917 L181.94 802.542 L189.579 802.542 L189.579 806.477 L169.672 806.477 L169.672 802.542 Z\" fill=\"#000000\" fill-rule=\"nonzero\" fill-opacity=\"1\" /><path clip-path=\"url(#clip440)\" d=\"M209.024 774.996 Q205.413 774.996 203.584 778.561 Q201.778 782.103 201.778 789.232 Q201.778 796.339 203.584 799.903 Q205.413 803.445 209.024 803.445 Q212.658 803.445 214.463 799.903 Q216.292 796.339 216.292 789.232 Q216.292 782.103 214.463 778.561 Q212.658 774.996 209.024 774.996 M209.024 771.292 Q214.834 771.292 217.889 775.899 Q220.968 780.482 220.968 789.232 Q220.968 797.959 217.889 802.565 Q214.834 807.149 209.024 807.149 Q203.214 807.149 200.135 802.565 Q197.079 797.959 197.079 789.232 Q197.079 780.482 200.135 775.899 Q203.214 771.292 209.024 771.292 Z\" fill=\"#000000\" fill-rule=\"nonzero\" fill-opacity=\"1\" /><path clip-path=\"url(#clip440)\" d=\"M222.153 750.987 L237.068 750.987 L237.068 754.184 L225.632 754.184 L225.632 761.068 Q226.46 760.786 227.287 760.654 Q228.115 760.504 228.943 760.504 Q233.645 760.504 236.39 763.08 Q239.136 765.657 239.136 770.058 Q239.136 774.591 236.315 777.111 Q233.494 779.612 228.36 779.612 Q226.592 779.612 224.748 779.312 Q222.924 779.011 220.968 778.409 L220.968 774.591 Q222.661 775.512 224.466 775.964 Q226.272 776.415 228.284 776.415 Q231.538 776.415 233.438 774.704 Q235.337 772.992 235.337 770.058 Q235.337 767.124 233.438 765.413 Q231.538 763.701 228.284 763.701 Q226.761 763.701 225.237 764.04 Q223.733 764.378 222.153 765.093 L222.153 750.987 Z\" fill=\"#000000\" fill-rule=\"nonzero\" fill-opacity=\"1\" /><path clip-path=\"url(#clip440)\" d=\"M66.5939 555.003 L54.7884 573.452 L66.5939 573.452 L66.5939 555.003 M65.367 550.929 L71.2466 550.929 L71.2466 573.452 L76.1772 573.452 L76.1772 577.341 L71.2466 577.341 L71.2466 585.489 L66.5939 585.489 L66.5939 577.341 L50.9921 577.341 L50.9921 572.827 L65.367 550.929 Z\" fill=\"#000000\" fill-rule=\"nonzero\" fill-opacity=\"1\" /><path clip-path=\"url(#clip440)\" d=\"M83.9086 579.609 L88.7928 579.609 L88.7928 585.489 L83.9086 585.489 L83.9086 579.609 Z\" fill=\"#000000\" fill-rule=\"nonzero\" fill-opacity=\"1\" /><path clip-path=\"url(#clip440)\" d=\"M108.978 554.008 Q105.367 554.008 103.538 557.572 Q101.733 561.114 101.733 568.244 Q101.733 575.35 103.538 578.915 Q105.367 582.456 108.978 582.456 Q112.612 582.456 114.418 578.915 Q116.246 575.35 116.246 568.244 Q116.246 561.114 114.418 557.572 Q112.612 554.008 108.978 554.008 M108.978 550.304 Q114.788 550.304 117.844 554.91 Q120.922 559.494 120.922 568.244 Q120.922 576.97 117.844 581.577 Q114.788 586.16 108.978 586.16 Q103.168 586.16 100.089 581.577 Q97.0335 576.97 97.0335 568.244 Q97.0335 559.494 100.089 554.91 Q103.168 550.304 108.978 550.304 Z\" fill=\"#000000\" fill-rule=\"nonzero\" fill-opacity=\"1\" /><path clip-path=\"url(#clip440)\" d=\"M157.311 560.026 L146.732 570.651 L157.311 581.23 L154.556 584.031 L143.931 573.406 L133.306 584.031 L130.575 581.23 L141.131 570.651 L130.575 560.026 L133.306 557.225 L143.931 567.85 L154.556 557.225 L157.311 560.026 Z\" fill=\"#000000\" fill-rule=\"nonzero\" fill-opacity=\"1\" /><path clip-path=\"url(#clip440)\" d=\"M169.672 581.554 L177.311 581.554 L177.311 555.188 L169.001 556.855 L169.001 552.596 L177.265 550.929 L181.94 550.929 L181.94 581.554 L189.579 581.554 L189.579 585.489 L169.672 585.489 L169.672 581.554 Z\" fill=\"#000000\" fill-rule=\"nonzero\" fill-opacity=\"1\" /><path clip-path=\"url(#clip440)\" d=\"M209.024 554.008 Q205.413 554.008 203.584 557.572 Q201.778 561.114 201.778 568.244 Q201.778 575.35 203.584 578.915 Q205.413 582.456 209.024 582.456 Q212.658 582.456 214.463 578.915 Q216.292 575.35 216.292 568.244 Q216.292 561.114 214.463 557.572 Q212.658 554.008 209.024 554.008 M209.024 550.304 Q214.834 550.304 217.889 554.91 Q220.968 559.494 220.968 568.244 Q220.968 576.97 217.889 581.577 Q214.834 586.16 209.024 586.16 Q203.214 586.16 200.135 581.577 Q197.079 576.97 197.079 568.244 Q197.079 559.494 200.135 554.91 Q203.214 550.304 209.024 550.304 Z\" fill=\"#000000\" fill-rule=\"nonzero\" fill-opacity=\"1\" /><path clip-path=\"url(#clip440)\" d=\"M222.153 529.998 L237.068 529.998 L237.068 533.196 L225.632 533.196 L225.632 540.079 Q226.46 539.797 227.287 539.666 Q228.115 539.515 228.943 539.515 Q233.645 539.515 236.39 542.092 Q239.136 544.669 239.136 549.07 Q239.136 553.602 236.315 556.122 Q233.494 558.624 228.36 558.624 Q226.592 558.624 224.748 558.323 Q222.924 558.022 220.968 557.42 L220.968 553.602 Q222.661 554.524 224.466 554.975 Q226.272 555.427 228.284 555.427 Q231.538 555.427 233.438 553.715 Q235.337 552.004 235.337 549.07 Q235.337 546.136 233.438 544.424 Q231.538 542.713 228.284 542.713 Q226.761 542.713 225.237 543.051 Q223.733 543.39 222.153 544.104 L222.153 529.998 Z\" fill=\"#000000\" fill-rule=\"nonzero\" fill-opacity=\"1\" /><path clip-path=\"url(#clip440)\" d=\"M53.793 329.94 L72.1494 329.94 L72.1494 333.875 L58.0754 333.875 L58.0754 342.348 Q59.0939 342 60.1124 341.838 Q61.131 341.653 62.1495 341.653 Q67.9365 341.653 71.3161 344.824 Q74.6957 347.996 74.6957 353.412 Q74.6957 358.991 71.2235 362.093 Q67.7513 365.172 61.4319 365.172 Q59.256 365.172 56.9875 364.801 Q54.7421 364.431 52.3347 363.69 L52.3347 358.991 Q54.418 360.125 56.6402 360.681 Q58.8625 361.236 61.3393 361.236 Q65.3439 361.236 67.6819 359.13 Q70.0198 357.023 70.0198 353.412 Q70.0198 349.801 67.6819 347.695 Q65.3439 345.588 61.3393 345.588 Q59.4643 345.588 57.5893 346.005 Q55.7375 346.422 53.793 347.301 L53.793 329.94 Z\" fill=\"#000000\" fill-rule=\"nonzero\" fill-opacity=\"1\" /><path clip-path=\"url(#clip440)\" d=\"M83.9086 358.621 L88.7928 358.621 L88.7928 364.5 L83.9086 364.5 L83.9086 358.621 Z\" fill=\"#000000\" fill-rule=\"nonzero\" fill-opacity=\"1\" /><path clip-path=\"url(#clip440)\" d=\"M108.978 333.019 Q105.367 333.019 103.538 336.584 Q101.733 340.125 101.733 347.255 Q101.733 354.361 103.538 357.926 Q105.367 361.468 108.978 361.468 Q112.612 361.468 114.418 357.926 Q116.246 354.361 116.246 347.255 Q116.246 340.125 114.418 336.584 Q112.612 333.019 108.978 333.019 M108.978 329.315 Q114.788 329.315 117.844 333.922 Q120.922 338.505 120.922 347.255 Q120.922 355.982 117.844 360.588 Q114.788 365.172 108.978 365.172 Q103.168 365.172 100.089 360.588 Q97.0335 355.982 97.0335 347.255 Q97.0335 338.505 100.089 333.922 Q103.168 329.315 108.978 329.315 Z\" fill=\"#000000\" fill-rule=\"nonzero\" fill-opacity=\"1\" /><path clip-path=\"url(#clip440)\" d=\"M157.311 339.037 L146.732 349.662 L157.311 360.241 L154.556 363.042 L143.931 352.417 L133.306 363.042 L130.575 360.241 L141.131 349.662 L130.575 339.037 L133.306 336.237 L143.931 346.861 L154.556 336.237 L157.311 339.037 Z\" fill=\"#000000\" fill-rule=\"nonzero\" fill-opacity=\"1\" /><path clip-path=\"url(#clip440)\" d=\"M169.672 360.565 L177.311 360.565 L177.311 334.199 L169.001 335.866 L169.001 331.607 L177.265 329.94 L181.94 329.94 L181.94 360.565 L189.579 360.565 L189.579 364.5 L169.672 364.5 L169.672 360.565 Z\" fill=\"#000000\" fill-rule=\"nonzero\" fill-opacity=\"1\" /><path clip-path=\"url(#clip440)\" d=\"M209.024 333.019 Q205.413 333.019 203.584 336.584 Q201.778 340.125 201.778 347.255 Q201.778 354.361 203.584 357.926 Q205.413 361.468 209.024 361.468 Q212.658 361.468 214.463 357.926 Q216.292 354.361 216.292 347.255 Q216.292 340.125 214.463 336.584 Q212.658 333.019 209.024 333.019 M209.024 329.315 Q214.834 329.315 217.889 333.922 Q220.968 338.505 220.968 347.255 Q220.968 355.982 217.889 360.588 Q214.834 365.172 209.024 365.172 Q203.214 365.172 200.135 360.588 Q197.079 355.982 197.079 347.255 Q197.079 338.505 200.135 333.922 Q203.214 329.315 209.024 329.315 Z\" fill=\"#000000\" fill-rule=\"nonzero\" fill-opacity=\"1\" /><path clip-path=\"url(#clip440)\" d=\"M222.153 309.01 L237.068 309.01 L237.068 312.207 L225.632 312.207 L225.632 319.091 Q226.46 318.809 227.287 318.677 Q228.115 318.527 228.943 318.527 Q233.645 318.527 236.39 321.103 Q239.136 323.68 239.136 328.081 Q239.136 332.614 236.315 335.134 Q233.494 337.635 228.36 337.635 Q226.592 337.635 224.748 337.334 Q222.924 337.033 220.968 336.432 L220.968 332.614 Q222.661 333.535 224.466 333.987 Q226.272 334.438 228.284 334.438 Q231.538 334.438 233.438 332.726 Q235.337 331.015 235.337 328.081 Q235.337 325.147 233.438 323.435 Q231.538 321.724 228.284 321.724 Q226.761 321.724 225.237 322.062 Q223.733 322.401 222.153 323.116 L222.153 309.01 Z\" fill=\"#000000\" fill-rule=\"nonzero\" fill-opacity=\"1\" /><path clip-path=\"url(#clip440)\" d=\"M64.3254 124.368 Q61.1773 124.368 59.3254 126.521 Q57.4967 128.674 57.4967 132.424 Q57.4967 136.151 59.3254 138.326 Q61.1773 140.479 64.3254 140.479 Q67.4735 140.479 69.3022 138.326 Q71.1541 136.151 71.1541 132.424 Q71.1541 128.674 69.3022 126.521 Q67.4735 124.368 64.3254 124.368 M73.6077 109.716 L73.6077 113.975 Q71.8485 113.141 70.0429 112.702 Q68.2606 112.262 66.5013 112.262 Q61.8717 112.262 59.418 115.387 Q56.9875 118.512 56.6402 124.831 Q58.006 122.817 60.0662 121.752 Q62.1263 120.665 64.6032 120.665 Q69.8115 120.665 72.8207 123.836 Q75.8531 126.984 75.8531 132.424 Q75.8531 137.748 72.705 140.965 Q69.5568 144.183 64.3254 144.183 Q58.33 144.183 55.1588 139.6 Q51.9875 134.993 51.9875 126.266 Q51.9875 118.072 55.8764 113.211 Q59.7652 108.327 66.3161 108.327 Q68.0754 108.327 69.8578 108.674 Q71.6633 109.021 73.6077 109.716 Z\" fill=\"#000000\" fill-rule=\"nonzero\" fill-opacity=\"1\" /><path clip-path=\"url(#clip440)\" d=\"M83.9086 137.632 L88.7928 137.632 L88.7928 143.512 L83.9086 143.512 L83.9086 137.632 Z\" fill=\"#000000\" fill-rule=\"nonzero\" fill-opacity=\"1\" /><path clip-path=\"url(#clip440)\" d=\"M108.978 112.03 Q105.367 112.03 103.538 115.595 Q101.733 119.137 101.733 126.266 Q101.733 133.373 103.538 136.938 Q105.367 140.479 108.978 140.479 Q112.612 140.479 114.418 136.938 Q116.246 133.373 116.246 126.266 Q116.246 119.137 114.418 115.595 Q112.612 112.03 108.978 112.03 M108.978 108.327 Q114.788 108.327 117.844 112.933 Q120.922 117.516 120.922 126.266 Q120.922 134.993 117.844 139.6 Q114.788 144.183 108.978 144.183 Q103.168 144.183 100.089 139.6 Q97.0335 134.993 97.0335 126.266 Q97.0335 117.516 100.089 112.933 Q103.168 108.327 108.978 108.327 Z\" fill=\"#000000\" fill-rule=\"nonzero\" fill-opacity=\"1\" /><path clip-path=\"url(#clip440)\" d=\"M157.311 118.049 L146.732 128.674 L157.311 139.252 L154.556 142.053 L143.931 131.428 L133.306 142.053 L130.575 139.252 L141.131 128.674 L130.575 118.049 L133.306 115.248 L143.931 125.873 L154.556 115.248 L157.311 118.049 Z\" fill=\"#000000\" fill-rule=\"nonzero\" fill-opacity=\"1\" /><path clip-path=\"url(#clip440)\" d=\"M169.672 139.576 L177.311 139.576 L177.311 113.211 L169.001 114.878 L169.001 110.618 L177.265 108.952 L181.94 108.952 L181.94 139.576 L189.579 139.576 L189.579 143.512 L169.672 143.512 L169.672 139.576 Z\" fill=\"#000000\" fill-rule=\"nonzero\" fill-opacity=\"1\" /><path clip-path=\"url(#clip440)\" d=\"M209.024 112.03 Q205.413 112.03 203.584 115.595 Q201.778 119.137 201.778 126.266 Q201.778 133.373 203.584 136.938 Q205.413 140.479 209.024 140.479 Q212.658 140.479 214.463 136.938 Q216.292 133.373 216.292 126.266 Q216.292 119.137 214.463 115.595 Q212.658 112.03 209.024 112.03 M209.024 108.327 Q214.834 108.327 217.889 112.933 Q220.968 117.516 220.968 126.266 Q220.968 134.993 217.889 139.6 Q214.834 144.183 209.024 144.183 Q203.214 144.183 200.135 139.6 Q197.079 134.993 197.079 126.266 Q197.079 117.516 200.135 112.933 Q203.214 108.327 209.024 108.327 Z\" fill=\"#000000\" fill-rule=\"nonzero\" fill-opacity=\"1\" /><path clip-path=\"url(#clip440)\" d=\"M222.153 88.0212 L237.068 88.0212 L237.068 91.2185 L225.632 91.2185 L225.632 98.1022 Q226.46 97.8201 227.287 97.6884 Q228.115 97.538 228.943 97.538 Q233.645 97.538 236.39 100.115 Q239.136 102.691 239.136 107.092 Q239.136 111.625 236.315 114.145 Q233.494 116.647 228.36 116.647 Q226.592 116.647 224.748 116.346 Q222.924 116.045 220.968 115.443 L220.968 111.625 Q222.661 112.547 224.466 112.998 Q226.272 113.449 228.284 113.449 Q231.538 113.449 233.438 111.738 Q235.337 110.026 235.337 107.092 Q235.337 104.158 233.438 102.447 Q231.538 100.735 228.284 100.735 Q226.761 100.735 225.237 101.074 Q223.733 101.412 222.153 102.127 L222.153 88.0212 Z\" fill=\"#000000\" fill-rule=\"nonzero\" fill-opacity=\"1\" /><polyline clip-path=\"url(#clip442)\" style=\"stroke:#009af9; stroke-linecap:round; stroke-linejoin:round; stroke-width:4; stroke-opacity:1; fill:none\" points=\"333.937,1445.72 353.735,1445.72 373.533,1445.72 393.331,1445.72 413.13,1445.72 432.928,1445.72 452.726,1445.72 472.524,1445.72 492.322,1445.72 512.12,1445.72 531.919,1445.72 551.717,1445.72 571.515,1445.72 591.313,1445.72 611.111,1445.72 630.909,1445.72 650.708,1445.72 670.506,1445.72 690.304,1445.72 710.102,1445.72 729.9,1445.72 749.698,1445.72 769.497,1445.72 789.295,1445.72 809.093,1445.72 828.891,1445.72 848.689,1445.72 868.487,1445.72 888.286,1445.71 908.084,1445.71 927.882,1445.71 947.68,1445.71 967.478,1445.71 987.276,1445.71 1007.07,1445.7 1026.87,1444.16 1046.67,1441.03 1066.47,1437.81 1086.27,1432.88 1106.07,1425.09 1125.86,1413.17 1145.66,1395.82 1165.46,1371.95 1185.26,1340.67 1205.06,1299.76 1224.85,1236.69 1244.65,1150.72 1264.45,1137.78 1284.25,1124.82 1304.05,1111.21 1323.85,1097.69 1343.64,1083.51 1363.44,1069.45 1383.24,1054.73 1403.04,1040.12 1422.84,1024.87 1442.63,1009.7 1462.43,993.893 1482.23,978.178 1502.03,961.814 1521.83,945.549 1541.63,928.666 1561.42,911.853 1581.22,894.416 1601.02,877.041 1620.82,859 1640.62,841.086 1660.41,822.533 1680.21,804.069 1700.01,785.006 1719.81,765.993 1739.61,746.403 1759.4,726.841 1779.2,706.561 1799,686.448 1818.8,665.576 1838.6,644.911 1858.4,623.522 1878.19,602.305 1897.99,580.396 1917.79,558.628 1937.59,536.104 1957.39,513.781 1977.18,490.604 1996.98,467.727 2016.78,444.012 2036.58,420.581 2056.38,396.347 2076.18,372.362 2095.97,347.605 2115.77,323.067 2135.57,297.798 2155.37,272.707 2175.17,246.935 2194.96,221.293 2214.76,195.007 2234.56,168.815 2254.36,142.016 2274.16,115.275 2293.96,87.9763 \"/>\n",
       "<path clip-path=\"url(#clip440)\" d=\"M344.39 198.898 L604.583 198.898 L604.583 95.2176 L344.39 95.2176  Z\" fill=\"#ffffff\" fill-rule=\"evenodd\" fill-opacity=\"1\"/>\n",
       "<polyline clip-path=\"url(#clip440)\" style=\"stroke:#000000; stroke-linecap:round; stroke-linejoin:round; stroke-width:4; stroke-opacity:1; fill:none\" points=\"344.39,198.898 604.583,198.898 604.583,95.2176 344.39,95.2176 344.39,198.898 \"/>\n",
       "<polyline clip-path=\"url(#clip440)\" style=\"stroke:#009af9; stroke-linecap:round; stroke-linejoin:round; stroke-width:4; stroke-opacity:1; fill:none\" points=\"367.475,147.058 505.983,147.058 \"/>\n",
       "<path clip-path=\"url(#clip440)\" d=\"M542.91 166.745 Q541.105 171.375 539.392 172.787 Q537.679 174.199 534.808 174.199 L531.406 174.199 L531.406 170.634 L533.906 170.634 Q535.665 170.634 536.637 169.8 Q537.609 168.967 538.79 165.865 L539.554 163.921 L529.068 138.412 L533.582 138.412 L541.683 158.689 L549.785 138.412 L554.299 138.412 L542.91 166.745 Z\" fill=\"#000000\" fill-rule=\"nonzero\" fill-opacity=\"1\" /><path clip-path=\"url(#clip440)\" d=\"M561.591 160.402 L569.229 160.402 L569.229 134.037 L560.919 135.703 L560.919 131.444 L569.183 129.778 L573.859 129.778 L573.859 160.402 L581.498 160.402 L581.498 164.338 L561.591 164.338 L561.591 160.402 Z\" fill=\"#000000\" fill-rule=\"nonzero\" fill-opacity=\"1\" /></svg>\n"
      ]
     },
     "execution_count": 37,
     "metadata": {},
     "output_type": "execute_result"
    }
   ],
   "source": [
    "plot(Displacement,Energy_Mech)"
   ]
  },
  {
   "cell_type": "code",
   "execution_count": 38,
   "id": "bf1083c4",
   "metadata": {},
   "outputs": [
    {
     "data": {
      "image/svg+xml": [
       "<?xml version=\"1.0\" encoding=\"utf-8\"?>\n",
       "<svg xmlns=\"http://www.w3.org/2000/svg\" xmlns:xlink=\"http://www.w3.org/1999/xlink\" width=\"600\" height=\"400\" viewBox=\"0 0 2400 1600\">\n",
       "<defs>\n",
       "  <clipPath id=\"clip480\">\n",
       "    <rect x=\"0\" y=\"0\" width=\"2400\" height=\"1600\"/>\n",
       "  </clipPath>\n",
       "</defs>\n",
       "<path clip-path=\"url(#clip480)\" d=\"M0 1600 L2400 1600 L2400 0 L0 0  Z\" fill=\"#ffffff\" fill-rule=\"evenodd\" fill-opacity=\"1\"/>\n",
       "<defs>\n",
       "  <clipPath id=\"clip481\">\n",
       "    <rect x=\"480\" y=\"0\" width=\"1681\" height=\"1600\"/>\n",
       "  </clipPath>\n",
       "</defs>\n",
       "<path clip-path=\"url(#clip480)\" d=\"M277.431 1486.45 L2352.76 1486.45 L2352.76 47.2441 L277.431 47.2441  Z\" fill=\"#ffffff\" fill-rule=\"evenodd\" fill-opacity=\"1\"/>\n",
       "<defs>\n",
       "  <clipPath id=\"clip482\">\n",
       "    <rect x=\"277\" y=\"47\" width=\"2076\" height=\"1440\"/>\n",
       "  </clipPath>\n",
       "</defs>\n",
       "<polyline clip-path=\"url(#clip482)\" style=\"stroke:#000000; stroke-linecap:round; stroke-linejoin:round; stroke-width:2; stroke-opacity:0.1; fill:none\" points=\"316.39,1486.45 316.39,47.2441 \"/>\n",
       "<polyline clip-path=\"url(#clip482)\" style=\"stroke:#000000; stroke-linecap:round; stroke-linejoin:round; stroke-width:2; stroke-opacity:0.1; fill:none\" points=\"810.798,1486.45 810.798,47.2441 \"/>\n",
       "<polyline clip-path=\"url(#clip482)\" style=\"stroke:#000000; stroke-linecap:round; stroke-linejoin:round; stroke-width:2; stroke-opacity:0.1; fill:none\" points=\"1305.21,1486.45 1305.21,47.2441 \"/>\n",
       "<polyline clip-path=\"url(#clip482)\" style=\"stroke:#000000; stroke-linecap:round; stroke-linejoin:round; stroke-width:2; stroke-opacity:0.1; fill:none\" points=\"1799.61,1486.45 1799.61,47.2441 \"/>\n",
       "<polyline clip-path=\"url(#clip482)\" style=\"stroke:#000000; stroke-linecap:round; stroke-linejoin:round; stroke-width:2; stroke-opacity:0.1; fill:none\" points=\"2294.02,1486.45 2294.02,47.2441 \"/>\n",
       "<polyline clip-path=\"url(#clip480)\" style=\"stroke:#000000; stroke-linecap:round; stroke-linejoin:round; stroke-width:4; stroke-opacity:1; fill:none\" points=\"277.431,1486.45 2352.76,1486.45 \"/>\n",
       "<polyline clip-path=\"url(#clip480)\" style=\"stroke:#000000; stroke-linecap:round; stroke-linejoin:round; stroke-width:4; stroke-opacity:1; fill:none\" points=\"316.39,1486.45 316.39,1467.55 \"/>\n",
       "<polyline clip-path=\"url(#clip480)\" style=\"stroke:#000000; stroke-linecap:round; stroke-linejoin:round; stroke-width:4; stroke-opacity:1; fill:none\" points=\"810.798,1486.45 810.798,1467.55 \"/>\n",
       "<polyline clip-path=\"url(#clip480)\" style=\"stroke:#000000; stroke-linecap:round; stroke-linejoin:round; stroke-width:4; stroke-opacity:1; fill:none\" points=\"1305.21,1486.45 1305.21,1467.55 \"/>\n",
       "<polyline clip-path=\"url(#clip480)\" style=\"stroke:#000000; stroke-linecap:round; stroke-linejoin:round; stroke-width:4; stroke-opacity:1; fill:none\" points=\"1799.61,1486.45 1799.61,1467.55 \"/>\n",
       "<polyline clip-path=\"url(#clip480)\" style=\"stroke:#000000; stroke-linecap:round; stroke-linejoin:round; stroke-width:4; stroke-opacity:1; fill:none\" points=\"2294.02,1486.45 2294.02,1467.55 \"/>\n",
       "<path clip-path=\"url(#clip480)\" d=\"M263.613 1517.37 Q260.002 1517.37 258.173 1520.93 Q256.367 1524.47 256.367 1531.6 Q256.367 1538.71 258.173 1542.27 Q260.002 1545.82 263.613 1545.82 Q267.247 1545.82 269.053 1542.27 Q270.881 1538.71 270.881 1531.6 Q270.881 1524.47 269.053 1520.93 Q267.247 1517.37 263.613 1517.37 M263.613 1513.66 Q269.423 1513.66 272.478 1518.27 Q275.557 1522.85 275.557 1531.6 Q275.557 1540.33 272.478 1544.94 Q269.423 1549.52 263.613 1549.52 Q257.803 1549.52 254.724 1544.94 Q251.668 1540.33 251.668 1531.6 Q251.668 1522.85 254.724 1518.27 Q257.803 1513.66 263.613 1513.66 Z\" fill=\"#000000\" fill-rule=\"nonzero\" fill-opacity=\"1\" /><path clip-path=\"url(#clip480)\" d=\"M283.775 1542.97 L288.659 1542.97 L288.659 1548.85 L283.775 1548.85 L283.775 1542.97 Z\" fill=\"#000000\" fill-rule=\"nonzero\" fill-opacity=\"1\" /><path clip-path=\"url(#clip480)\" d=\"M308.844 1517.37 Q305.233 1517.37 303.404 1520.93 Q301.599 1524.47 301.599 1531.6 Q301.599 1538.71 303.404 1542.27 Q305.233 1545.82 308.844 1545.82 Q312.478 1545.82 314.284 1542.27 Q316.112 1538.71 316.112 1531.6 Q316.112 1524.47 314.284 1520.93 Q312.478 1517.37 308.844 1517.37 M308.844 1513.66 Q314.654 1513.66 317.71 1518.27 Q320.788 1522.85 320.788 1531.6 Q320.788 1540.33 317.71 1544.94 Q314.654 1549.52 308.844 1549.52 Q303.034 1549.52 299.955 1544.94 Q296.9 1540.33 296.9 1531.6 Q296.9 1522.85 299.955 1518.27 Q303.034 1513.66 308.844 1513.66 Z\" fill=\"#000000\" fill-rule=\"nonzero\" fill-opacity=\"1\" /><path clip-path=\"url(#clip480)\" d=\"M339.006 1517.37 Q335.395 1517.37 333.566 1520.93 Q331.761 1524.47 331.761 1531.6 Q331.761 1538.71 333.566 1542.27 Q335.395 1545.82 339.006 1545.82 Q342.64 1545.82 344.446 1542.27 Q346.274 1538.71 346.274 1531.6 Q346.274 1524.47 344.446 1520.93 Q342.64 1517.37 339.006 1517.37 M339.006 1513.66 Q344.816 1513.66 347.872 1518.27 Q350.95 1522.85 350.95 1531.6 Q350.95 1540.33 347.872 1544.94 Q344.816 1549.52 339.006 1549.52 Q333.196 1549.52 330.117 1544.94 Q327.061 1540.33 327.061 1531.6 Q327.061 1522.85 330.117 1518.27 Q333.196 1513.66 339.006 1513.66 Z\" fill=\"#000000\" fill-rule=\"nonzero\" fill-opacity=\"1\" /><path clip-path=\"url(#clip480)\" d=\"M369.168 1517.37 Q365.557 1517.37 363.728 1520.93 Q361.922 1524.47 361.922 1531.6 Q361.922 1538.71 363.728 1542.27 Q365.557 1545.82 369.168 1545.82 Q372.802 1545.82 374.608 1542.27 Q376.436 1538.71 376.436 1531.6 Q376.436 1524.47 374.608 1520.93 Q372.802 1517.37 369.168 1517.37 M369.168 1513.66 Q374.978 1513.66 378.033 1518.27 Q381.112 1522.85 381.112 1531.6 Q381.112 1540.33 378.033 1544.94 Q374.978 1549.52 369.168 1549.52 Q363.358 1549.52 360.279 1544.94 Q357.223 1540.33 357.223 1531.6 Q357.223 1522.85 360.279 1518.27 Q363.358 1513.66 369.168 1513.66 Z\" fill=\"#000000\" fill-rule=\"nonzero\" fill-opacity=\"1\" /><path clip-path=\"url(#clip480)\" d=\"M758.518 1517.37 Q754.907 1517.37 753.078 1520.93 Q751.273 1524.47 751.273 1531.6 Q751.273 1538.71 753.078 1542.27 Q754.907 1545.82 758.518 1545.82 Q762.152 1545.82 763.958 1542.27 Q765.786 1538.71 765.786 1531.6 Q765.786 1524.47 763.958 1520.93 Q762.152 1517.37 758.518 1517.37 M758.518 1513.66 Q764.328 1513.66 767.384 1518.27 Q770.462 1522.85 770.462 1531.6 Q770.462 1540.33 767.384 1544.94 Q764.328 1549.52 758.518 1549.52 Q752.708 1549.52 749.629 1544.94 Q746.574 1540.33 746.574 1531.6 Q746.574 1522.85 749.629 1518.27 Q752.708 1513.66 758.518 1513.66 Z\" fill=\"#000000\" fill-rule=\"nonzero\" fill-opacity=\"1\" /><path clip-path=\"url(#clip480)\" d=\"M778.68 1542.97 L783.564 1542.97 L783.564 1548.85 L778.68 1548.85 L778.68 1542.97 Z\" fill=\"#000000\" fill-rule=\"nonzero\" fill-opacity=\"1\" /><path clip-path=\"url(#clip480)\" d=\"M803.749 1517.37 Q800.138 1517.37 798.309 1520.93 Q796.504 1524.47 796.504 1531.6 Q796.504 1538.71 798.309 1542.27 Q800.138 1545.82 803.749 1545.82 Q807.383 1545.82 809.189 1542.27 Q811.018 1538.71 811.018 1531.6 Q811.018 1524.47 809.189 1520.93 Q807.383 1517.37 803.749 1517.37 M803.749 1513.66 Q809.559 1513.66 812.615 1518.27 Q815.694 1522.85 815.694 1531.6 Q815.694 1540.33 812.615 1544.94 Q809.559 1549.52 803.749 1549.52 Q797.939 1549.52 794.86 1544.94 Q791.805 1540.33 791.805 1531.6 Q791.805 1522.85 794.86 1518.27 Q797.939 1513.66 803.749 1513.66 Z\" fill=\"#000000\" fill-rule=\"nonzero\" fill-opacity=\"1\" /><path clip-path=\"url(#clip480)\" d=\"M827.939 1544.91 L844.258 1544.91 L844.258 1548.85 L822.314 1548.85 L822.314 1544.91 Q824.976 1542.16 829.559 1537.53 Q834.166 1532.88 835.346 1531.53 Q837.592 1529.01 838.471 1527.27 Q839.374 1525.51 839.374 1523.82 Q839.374 1521.07 837.43 1519.33 Q835.508 1517.6 832.406 1517.6 Q830.207 1517.6 827.754 1518.36 Q825.323 1519.13 822.545 1520.68 L822.545 1515.95 Q825.369 1514.82 827.823 1514.24 Q830.277 1513.66 832.314 1513.66 Q837.684 1513.66 840.879 1516.35 Q844.073 1519.03 844.073 1523.52 Q844.073 1525.65 843.263 1527.57 Q842.476 1529.47 840.369 1532.07 Q839.791 1532.74 836.689 1535.95 Q833.587 1539.15 827.939 1544.91 Z\" fill=\"#000000\" fill-rule=\"nonzero\" fill-opacity=\"1\" /><path clip-path=\"url(#clip480)\" d=\"M854.119 1514.29 L872.476 1514.29 L872.476 1518.22 L858.402 1518.22 L858.402 1526.7 Q859.42 1526.35 860.439 1526.19 Q861.457 1526 862.476 1526 Q868.263 1526 871.642 1529.17 Q875.022 1532.34 875.022 1537.76 Q875.022 1543.34 871.55 1546.44 Q868.078 1549.52 861.758 1549.52 Q859.582 1549.52 857.314 1549.15 Q855.068 1548.78 852.661 1548.04 L852.661 1543.34 Q854.744 1544.47 856.966 1545.03 Q859.189 1545.58 861.666 1545.58 Q865.67 1545.58 868.008 1543.48 Q870.346 1541.37 870.346 1537.76 Q870.346 1534.15 868.008 1532.04 Q865.67 1529.94 861.666 1529.94 Q859.791 1529.94 857.916 1530.35 Q856.064 1530.77 854.119 1531.65 L854.119 1514.29 Z\" fill=\"#000000\" fill-rule=\"nonzero\" fill-opacity=\"1\" /><path clip-path=\"url(#clip480)\" d=\"M1252.43 1517.37 Q1248.82 1517.37 1246.99 1520.93 Q1245.18 1524.47 1245.18 1531.6 Q1245.18 1538.71 1246.99 1542.27 Q1248.82 1545.82 1252.43 1545.82 Q1256.06 1545.82 1257.87 1542.27 Q1259.7 1538.71 1259.7 1531.6 Q1259.7 1524.47 1257.87 1520.93 Q1256.06 1517.37 1252.43 1517.37 M1252.43 1513.66 Q1258.24 1513.66 1261.29 1518.27 Q1264.37 1522.85 1264.37 1531.6 Q1264.37 1540.33 1261.29 1544.94 Q1258.24 1549.52 1252.43 1549.52 Q1246.62 1549.52 1243.54 1544.94 Q1240.48 1540.33 1240.48 1531.6 Q1240.48 1522.85 1243.54 1518.27 Q1246.62 1513.66 1252.43 1513.66 Z\" fill=\"#000000\" fill-rule=\"nonzero\" fill-opacity=\"1\" /><path clip-path=\"url(#clip480)\" d=\"M1272.59 1542.97 L1277.47 1542.97 L1277.47 1548.85 L1272.59 1548.85 L1272.59 1542.97 Z\" fill=\"#000000\" fill-rule=\"nonzero\" fill-opacity=\"1\" /><path clip-path=\"url(#clip480)\" d=\"M1297.66 1517.37 Q1294.05 1517.37 1292.22 1520.93 Q1290.41 1524.47 1290.41 1531.6 Q1290.41 1538.71 1292.22 1542.27 Q1294.05 1545.82 1297.66 1545.82 Q1301.29 1545.82 1303.1 1542.27 Q1304.93 1538.71 1304.93 1531.6 Q1304.93 1524.47 1303.1 1520.93 Q1301.29 1517.37 1297.66 1517.37 M1297.66 1513.66 Q1303.47 1513.66 1306.52 1518.27 Q1309.6 1522.85 1309.6 1531.6 Q1309.6 1540.33 1306.52 1544.94 Q1303.47 1549.52 1297.66 1549.52 Q1291.85 1549.52 1288.77 1544.94 Q1285.71 1540.33 1285.71 1531.6 Q1285.71 1522.85 1288.77 1518.27 Q1291.85 1513.66 1297.66 1513.66 Z\" fill=\"#000000\" fill-rule=\"nonzero\" fill-opacity=\"1\" /><path clip-path=\"url(#clip480)\" d=\"M1317.87 1514.29 L1336.22 1514.29 L1336.22 1518.22 L1322.15 1518.22 L1322.15 1526.7 Q1323.17 1526.35 1324.19 1526.19 Q1325.21 1526 1326.22 1526 Q1332.01 1526 1335.39 1529.17 Q1338.77 1532.34 1338.77 1537.76 Q1338.77 1543.34 1335.3 1546.44 Q1331.83 1549.52 1325.51 1549.52 Q1323.33 1549.52 1321.06 1549.15 Q1318.82 1548.78 1316.41 1548.04 L1316.41 1543.34 Q1318.49 1544.47 1320.71 1545.03 Q1322.94 1545.58 1325.41 1545.58 Q1329.42 1545.58 1331.76 1543.48 Q1334.09 1541.37 1334.09 1537.76 Q1334.09 1534.15 1331.76 1532.04 Q1329.42 1529.94 1325.41 1529.94 Q1323.54 1529.94 1321.66 1530.35 Q1319.81 1530.77 1317.87 1531.65 L1317.87 1514.29 Z\" fill=\"#000000\" fill-rule=\"nonzero\" fill-opacity=\"1\" /><path clip-path=\"url(#clip480)\" d=\"M1357.98 1517.37 Q1354.37 1517.37 1352.54 1520.93 Q1350.74 1524.47 1350.74 1531.6 Q1350.74 1538.71 1352.54 1542.27 Q1354.37 1545.82 1357.98 1545.82 Q1361.62 1545.82 1363.42 1542.27 Q1365.25 1538.71 1365.25 1531.6 Q1365.25 1524.47 1363.42 1520.93 Q1361.62 1517.37 1357.98 1517.37 M1357.98 1513.66 Q1363.79 1513.66 1366.85 1518.27 Q1369.93 1522.85 1369.93 1531.6 Q1369.93 1540.33 1366.85 1544.94 Q1363.79 1549.52 1357.98 1549.52 Q1352.17 1549.52 1349.09 1544.94 Q1346.04 1540.33 1346.04 1531.6 Q1346.04 1522.85 1349.09 1518.27 Q1352.17 1513.66 1357.98 1513.66 Z\" fill=\"#000000\" fill-rule=\"nonzero\" fill-opacity=\"1\" /><path clip-path=\"url(#clip480)\" d=\"M1747.33 1517.37 Q1743.72 1517.37 1741.89 1520.93 Q1740.09 1524.47 1740.09 1531.6 Q1740.09 1538.71 1741.89 1542.27 Q1743.72 1545.82 1747.33 1545.82 Q1750.97 1545.82 1752.77 1542.27 Q1754.6 1538.71 1754.6 1531.6 Q1754.6 1524.47 1752.77 1520.93 Q1750.97 1517.37 1747.33 1517.37 M1747.33 1513.66 Q1753.14 1513.66 1756.2 1518.27 Q1759.28 1522.85 1759.28 1531.6 Q1759.28 1540.33 1756.2 1544.94 Q1753.14 1549.52 1747.33 1549.52 Q1741.52 1549.52 1738.44 1544.94 Q1735.39 1540.33 1735.39 1531.6 Q1735.39 1522.85 1738.44 1518.27 Q1741.52 1513.66 1747.33 1513.66 Z\" fill=\"#000000\" fill-rule=\"nonzero\" fill-opacity=\"1\" /><path clip-path=\"url(#clip480)\" d=\"M1767.49 1542.97 L1772.38 1542.97 L1772.38 1548.85 L1767.49 1548.85 L1767.49 1542.97 Z\" fill=\"#000000\" fill-rule=\"nonzero\" fill-opacity=\"1\" /><path clip-path=\"url(#clip480)\" d=\"M1792.56 1517.37 Q1788.95 1517.37 1787.12 1520.93 Q1785.32 1524.47 1785.32 1531.6 Q1785.32 1538.71 1787.12 1542.27 Q1788.95 1545.82 1792.56 1545.82 Q1796.2 1545.82 1798 1542.27 Q1799.83 1538.71 1799.83 1531.6 Q1799.83 1524.47 1798 1520.93 Q1796.2 1517.37 1792.56 1517.37 M1792.56 1513.66 Q1798.37 1513.66 1801.43 1518.27 Q1804.51 1522.85 1804.51 1531.6 Q1804.51 1540.33 1801.43 1544.94 Q1798.37 1549.52 1792.56 1549.52 Q1786.75 1549.52 1783.68 1544.94 Q1780.62 1540.33 1780.62 1531.6 Q1780.62 1522.85 1783.68 1518.27 Q1786.75 1513.66 1792.56 1513.66 Z\" fill=\"#000000\" fill-rule=\"nonzero\" fill-opacity=\"1\" /><path clip-path=\"url(#clip480)\" d=\"M1811.55 1514.29 L1833.77 1514.29 L1833.77 1516.28 L1821.22 1548.85 L1816.34 1548.85 L1828.14 1518.22 L1811.55 1518.22 L1811.55 1514.29 Z\" fill=\"#000000\" fill-rule=\"nonzero\" fill-opacity=\"1\" /><path clip-path=\"url(#clip480)\" d=\"M1842.93 1514.29 L1861.29 1514.29 L1861.29 1518.22 L1847.22 1518.22 L1847.22 1526.7 Q1848.24 1526.35 1849.25 1526.19 Q1850.27 1526 1851.29 1526 Q1857.08 1526 1860.46 1529.17 Q1863.84 1532.34 1863.84 1537.76 Q1863.84 1543.34 1860.36 1546.44 Q1856.89 1549.52 1850.57 1549.52 Q1848.4 1549.52 1846.13 1549.15 Q1843.88 1548.78 1841.48 1548.04 L1841.48 1543.34 Q1843.56 1544.47 1845.78 1545.03 Q1848 1545.58 1850.48 1545.58 Q1854.49 1545.58 1856.82 1543.48 Q1859.16 1541.37 1859.16 1537.76 Q1859.16 1534.15 1856.82 1532.04 Q1854.49 1529.94 1850.48 1529.94 Q1848.61 1529.94 1846.73 1530.35 Q1844.88 1530.77 1842.93 1531.65 L1842.93 1514.29 Z\" fill=\"#000000\" fill-rule=\"nonzero\" fill-opacity=\"1\" /><path clip-path=\"url(#clip480)\" d=\"M2241.24 1517.37 Q2237.63 1517.37 2235.8 1520.93 Q2234 1524.47 2234 1531.6 Q2234 1538.71 2235.8 1542.27 Q2237.63 1545.82 2241.24 1545.82 Q2244.88 1545.82 2246.68 1542.27 Q2248.51 1538.71 2248.51 1531.6 Q2248.51 1524.47 2246.68 1520.93 Q2244.88 1517.37 2241.24 1517.37 M2241.24 1513.66 Q2247.05 1513.66 2250.11 1518.27 Q2253.19 1522.85 2253.19 1531.6 Q2253.19 1540.33 2250.11 1544.94 Q2247.05 1549.52 2241.24 1549.52 Q2235.43 1549.52 2232.35 1544.94 Q2229.3 1540.33 2229.3 1531.6 Q2229.3 1522.85 2232.35 1518.27 Q2235.43 1513.66 2241.24 1513.66 Z\" fill=\"#000000\" fill-rule=\"nonzero\" fill-opacity=\"1\" /><path clip-path=\"url(#clip480)\" d=\"M2261.4 1542.97 L2266.29 1542.97 L2266.29 1548.85 L2261.4 1548.85 L2261.4 1542.97 Z\" fill=\"#000000\" fill-rule=\"nonzero\" fill-opacity=\"1\" /><path clip-path=\"url(#clip480)\" d=\"M2277.28 1544.91 L2284.92 1544.91 L2284.92 1518.55 L2276.61 1520.21 L2276.61 1515.95 L2284.88 1514.29 L2289.55 1514.29 L2289.55 1544.91 L2297.19 1544.91 L2297.19 1548.85 L2277.28 1548.85 L2277.28 1544.91 Z\" fill=\"#000000\" fill-rule=\"nonzero\" fill-opacity=\"1\" /><path clip-path=\"url(#clip480)\" d=\"M2316.64 1517.37 Q2313.02 1517.37 2311.2 1520.93 Q2309.39 1524.47 2309.39 1531.6 Q2309.39 1538.71 2311.2 1542.27 Q2313.02 1545.82 2316.64 1545.82 Q2320.27 1545.82 2322.08 1542.27 Q2323.9 1538.71 2323.9 1531.6 Q2323.9 1524.47 2322.08 1520.93 Q2320.27 1517.37 2316.64 1517.37 M2316.64 1513.66 Q2322.45 1513.66 2325.5 1518.27 Q2328.58 1522.85 2328.58 1531.6 Q2328.58 1540.33 2325.5 1544.94 Q2322.45 1549.52 2316.64 1549.52 Q2310.83 1549.52 2307.75 1544.94 Q2304.69 1540.33 2304.69 1531.6 Q2304.69 1522.85 2307.75 1518.27 Q2310.83 1513.66 2316.64 1513.66 Z\" fill=\"#000000\" fill-rule=\"nonzero\" fill-opacity=\"1\" /><path clip-path=\"url(#clip480)\" d=\"M2346.8 1517.37 Q2343.19 1517.37 2341.36 1520.93 Q2339.55 1524.47 2339.55 1531.6 Q2339.55 1538.71 2341.36 1542.27 Q2343.19 1545.82 2346.8 1545.82 Q2350.43 1545.82 2352.24 1542.27 Q2354.07 1538.71 2354.07 1531.6 Q2354.07 1524.47 2352.24 1520.93 Q2350.43 1517.37 2346.8 1517.37 M2346.8 1513.66 Q2352.61 1513.66 2355.66 1518.27 Q2358.74 1522.85 2358.74 1531.6 Q2358.74 1540.33 2355.66 1544.94 Q2352.61 1549.52 2346.8 1549.52 Q2340.99 1549.52 2337.91 1544.94 Q2334.85 1540.33 2334.85 1531.6 Q2334.85 1522.85 2337.91 1518.27 Q2340.99 1513.66 2346.8 1513.66 Z\" fill=\"#000000\" fill-rule=\"nonzero\" fill-opacity=\"1\" /><polyline clip-path=\"url(#clip482)\" style=\"stroke:#000000; stroke-linecap:round; stroke-linejoin:round; stroke-width:2; stroke-opacity:0.1; fill:none\" points=\"277.431,1445.72 2352.76,1445.72 \"/>\n",
       "<polyline clip-path=\"url(#clip482)\" style=\"stroke:#000000; stroke-linecap:round; stroke-linejoin:round; stroke-width:2; stroke-opacity:0.1; fill:none\" points=\"277.431,1241.11 2352.76,1241.11 \"/>\n",
       "<polyline clip-path=\"url(#clip482)\" style=\"stroke:#000000; stroke-linecap:round; stroke-linejoin:round; stroke-width:2; stroke-opacity:0.1; fill:none\" points=\"277.431,1036.5 2352.76,1036.5 \"/>\n",
       "<polyline clip-path=\"url(#clip482)\" style=\"stroke:#000000; stroke-linecap:round; stroke-linejoin:round; stroke-width:2; stroke-opacity:0.1; fill:none\" points=\"277.431,831.89 2352.76,831.89 \"/>\n",
       "<polyline clip-path=\"url(#clip482)\" style=\"stroke:#000000; stroke-linecap:round; stroke-linejoin:round; stroke-width:2; stroke-opacity:0.1; fill:none\" points=\"277.431,627.282 2352.76,627.282 \"/>\n",
       "<polyline clip-path=\"url(#clip482)\" style=\"stroke:#000000; stroke-linecap:round; stroke-linejoin:round; stroke-width:2; stroke-opacity:0.1; fill:none\" points=\"277.431,422.673 2352.76,422.673 \"/>\n",
       "<polyline clip-path=\"url(#clip482)\" style=\"stroke:#000000; stroke-linecap:round; stroke-linejoin:round; stroke-width:2; stroke-opacity:0.1; fill:none\" points=\"277.431,218.065 2352.76,218.065 \"/>\n",
       "<polyline clip-path=\"url(#clip480)\" style=\"stroke:#000000; stroke-linecap:round; stroke-linejoin:round; stroke-width:4; stroke-opacity:1; fill:none\" points=\"277.431,1486.45 277.431,47.2441 \"/>\n",
       "<polyline clip-path=\"url(#clip480)\" style=\"stroke:#000000; stroke-linecap:round; stroke-linejoin:round; stroke-width:4; stroke-opacity:1; fill:none\" points=\"277.431,1445.72 296.329,1445.72 \"/>\n",
       "<polyline clip-path=\"url(#clip480)\" style=\"stroke:#000000; stroke-linecap:round; stroke-linejoin:round; stroke-width:4; stroke-opacity:1; fill:none\" points=\"277.431,1241.11 296.329,1241.11 \"/>\n",
       "<polyline clip-path=\"url(#clip480)\" style=\"stroke:#000000; stroke-linecap:round; stroke-linejoin:round; stroke-width:4; stroke-opacity:1; fill:none\" points=\"277.431,1036.5 296.329,1036.5 \"/>\n",
       "<polyline clip-path=\"url(#clip480)\" style=\"stroke:#000000; stroke-linecap:round; stroke-linejoin:round; stroke-width:4; stroke-opacity:1; fill:none\" points=\"277.431,831.89 296.329,831.89 \"/>\n",
       "<polyline clip-path=\"url(#clip480)\" style=\"stroke:#000000; stroke-linecap:round; stroke-linejoin:round; stroke-width:4; stroke-opacity:1; fill:none\" points=\"277.431,627.282 296.329,627.282 \"/>\n",
       "<polyline clip-path=\"url(#clip480)\" style=\"stroke:#000000; stroke-linecap:round; stroke-linejoin:round; stroke-width:4; stroke-opacity:1; fill:none\" points=\"277.431,422.673 296.329,422.673 \"/>\n",
       "<polyline clip-path=\"url(#clip480)\" style=\"stroke:#000000; stroke-linecap:round; stroke-linejoin:round; stroke-width:4; stroke-opacity:1; fill:none\" points=\"277.431,218.065 296.329,218.065 \"/>\n",
       "<path clip-path=\"url(#clip480)\" d=\"M229.487 1431.51 Q225.875 1431.51 224.047 1435.08 Q222.241 1438.62 222.241 1445.75 Q222.241 1452.86 224.047 1456.42 Q225.875 1459.96 229.487 1459.96 Q233.121 1459.96 234.926 1456.42 Q236.755 1452.86 236.755 1445.75 Q236.755 1438.62 234.926 1435.08 Q233.121 1431.51 229.487 1431.51 M229.487 1427.81 Q235.297 1427.81 238.352 1432.42 Q241.431 1437 241.431 1445.75 Q241.431 1454.48 238.352 1459.08 Q235.297 1463.67 229.487 1463.67 Q223.676 1463.67 220.598 1459.08 Q217.542 1454.48 217.542 1445.75 Q217.542 1437 220.598 1432.42 Q223.676 1427.81 229.487 1427.81 Z\" fill=\"#000000\" fill-rule=\"nonzero\" fill-opacity=\"1\" /><path clip-path=\"url(#clip480)\" d=\"M54.5569 1260.9 L62.1958 1260.9 L62.1958 1234.53 L53.8856 1236.2 L53.8856 1231.94 L62.1495 1230.27 L66.8254 1230.27 L66.8254 1260.9 L74.4642 1260.9 L74.4642 1264.83 L54.5569 1264.83 L54.5569 1260.9 Z\" fill=\"#000000\" fill-rule=\"nonzero\" fill-opacity=\"1\" /><path clip-path=\"url(#clip480)\" d=\"M83.9086 1258.96 L88.7928 1258.96 L88.7928 1264.83 L83.9086 1264.83 L83.9086 1258.96 Z\" fill=\"#000000\" fill-rule=\"nonzero\" fill-opacity=\"1\" /><path clip-path=\"url(#clip480)\" d=\"M108.978 1233.35 Q105.367 1233.35 103.538 1236.92 Q101.733 1240.46 101.733 1247.59 Q101.733 1254.7 103.538 1258.26 Q105.367 1261.8 108.978 1261.8 Q112.612 1261.8 114.418 1258.26 Q116.246 1254.7 116.246 1247.59 Q116.246 1240.46 114.418 1236.92 Q112.612 1233.35 108.978 1233.35 M108.978 1229.65 Q114.788 1229.65 117.844 1234.26 Q120.922 1238.84 120.922 1247.59 Q120.922 1256.32 117.844 1260.92 Q114.788 1265.51 108.978 1265.51 Q103.168 1265.51 100.089 1260.92 Q97.0335 1256.32 97.0335 1247.59 Q97.0335 1238.84 100.089 1234.26 Q103.168 1229.65 108.978 1229.65 Z\" fill=\"#000000\" fill-rule=\"nonzero\" fill-opacity=\"1\" /><path clip-path=\"url(#clip480)\" d=\"M157.311 1239.37 L146.732 1250 L157.311 1260.58 L154.556 1263.38 L143.931 1252.75 L133.306 1263.38 L130.575 1260.58 L141.131 1250 L130.575 1239.37 L133.306 1236.57 L143.931 1247.2 L154.556 1236.57 L157.311 1239.37 Z\" fill=\"#000000\" fill-rule=\"nonzero\" fill-opacity=\"1\" /><path clip-path=\"url(#clip480)\" d=\"M169.672 1260.9 L177.311 1260.9 L177.311 1234.53 L169.001 1236.2 L169.001 1231.94 L177.265 1230.27 L181.94 1230.27 L181.94 1260.9 L189.579 1260.9 L189.579 1264.83 L169.672 1264.83 L169.672 1260.9 Z\" fill=\"#000000\" fill-rule=\"nonzero\" fill-opacity=\"1\" /><path clip-path=\"url(#clip480)\" d=\"M209.024 1233.35 Q205.413 1233.35 203.584 1236.92 Q201.778 1240.46 201.778 1247.59 Q201.778 1254.7 203.584 1258.26 Q205.413 1261.8 209.024 1261.8 Q212.658 1261.8 214.463 1258.26 Q216.292 1254.7 216.292 1247.59 Q216.292 1240.46 214.463 1236.92 Q212.658 1233.35 209.024 1233.35 M209.024 1229.65 Q214.834 1229.65 217.889 1234.26 Q220.968 1238.84 220.968 1247.59 Q220.968 1256.32 217.889 1260.92 Q214.834 1265.51 209.024 1265.51 Q203.214 1265.51 200.135 1260.92 Q197.079 1256.32 197.079 1247.59 Q197.079 1238.84 200.135 1234.26 Q203.214 1229.65 209.024 1229.65 Z\" fill=\"#000000\" fill-rule=\"nonzero\" fill-opacity=\"1\" /><path clip-path=\"url(#clip480)\" d=\"M233.645 1212.65 L224.053 1227.64 L233.645 1227.64 L233.645 1212.65 M232.648 1209.34 L237.425 1209.34 L237.425 1227.64 L241.431 1227.64 L241.431 1230.8 L237.425 1230.8 L237.425 1237.42 L233.645 1237.42 L233.645 1230.8 L220.968 1230.8 L220.968 1227.14 L232.648 1209.34 Z\" fill=\"#000000\" fill-rule=\"nonzero\" fill-opacity=\"1\" /><path clip-path=\"url(#clip480)\" d=\"M57.7745 1056.29 L74.0939 1056.29 L74.0939 1060.23 L52.1495 1060.23 L52.1495 1056.29 Q54.8115 1053.54 59.3949 1048.91 Q64.0013 1044.25 65.1819 1042.91 Q67.4272 1040.39 68.3068 1038.65 Q69.2096 1036.89 69.2096 1035.2 Q69.2096 1032.45 67.2652 1030.71 Q65.3439 1028.98 62.2421 1028.98 Q60.043 1028.98 57.5893 1029.74 Q55.1588 1030.5 52.381 1032.06 L52.381 1027.33 Q55.2051 1026.2 57.6588 1025.62 Q60.1124 1025.04 62.1495 1025.04 Q67.5198 1025.04 70.7142 1027.73 Q73.9087 1030.41 73.9087 1034.9 Q73.9087 1037.03 73.0985 1038.95 Q72.3115 1040.85 70.205 1043.44 Q69.6263 1044.12 66.5245 1047.33 Q63.4226 1050.53 57.7745 1056.29 Z\" fill=\"#000000\" fill-rule=\"nonzero\" fill-opacity=\"1\" /><path clip-path=\"url(#clip480)\" d=\"M83.9086 1054.35 L88.7928 1054.35 L88.7928 1060.23 L83.9086 1060.23 L83.9086 1054.35 Z\" fill=\"#000000\" fill-rule=\"nonzero\" fill-opacity=\"1\" /><path clip-path=\"url(#clip480)\" d=\"M108.978 1028.75 Q105.367 1028.75 103.538 1032.31 Q101.733 1035.85 101.733 1042.98 Q101.733 1050.09 103.538 1053.65 Q105.367 1057.19 108.978 1057.19 Q112.612 1057.19 114.418 1053.65 Q116.246 1050.09 116.246 1042.98 Q116.246 1035.85 114.418 1032.31 Q112.612 1028.75 108.978 1028.75 M108.978 1025.04 Q114.788 1025.04 117.844 1029.65 Q120.922 1034.23 120.922 1042.98 Q120.922 1051.71 117.844 1056.31 Q114.788 1060.9 108.978 1060.9 Q103.168 1060.9 100.089 1056.31 Q97.0335 1051.71 97.0335 1042.98 Q97.0335 1034.23 100.089 1029.65 Q103.168 1025.04 108.978 1025.04 Z\" fill=\"#000000\" fill-rule=\"nonzero\" fill-opacity=\"1\" /><path clip-path=\"url(#clip480)\" d=\"M157.311 1034.76 L146.732 1045.39 L157.311 1055.97 L154.556 1058.77 L143.931 1048.14 L133.306 1058.77 L130.575 1055.97 L141.131 1045.39 L130.575 1034.76 L133.306 1031.96 L143.931 1042.59 L154.556 1031.96 L157.311 1034.76 Z\" fill=\"#000000\" fill-rule=\"nonzero\" fill-opacity=\"1\" /><path clip-path=\"url(#clip480)\" d=\"M169.672 1056.29 L177.311 1056.29 L177.311 1029.93 L169.001 1031.59 L169.001 1027.33 L177.265 1025.67 L181.94 1025.67 L181.94 1056.29 L189.579 1056.29 L189.579 1060.23 L169.672 1060.23 L169.672 1056.29 Z\" fill=\"#000000\" fill-rule=\"nonzero\" fill-opacity=\"1\" /><path clip-path=\"url(#clip480)\" d=\"M209.024 1028.75 Q205.413 1028.75 203.584 1032.31 Q201.778 1035.85 201.778 1042.98 Q201.778 1050.09 203.584 1053.65 Q205.413 1057.19 209.024 1057.19 Q212.658 1057.19 214.463 1053.65 Q216.292 1050.09 216.292 1042.98 Q216.292 1035.85 214.463 1032.31 Q212.658 1028.75 209.024 1028.75 M209.024 1025.04 Q214.834 1025.04 217.889 1029.65 Q220.968 1034.23 220.968 1042.98 Q220.968 1051.71 217.889 1056.31 Q214.834 1060.9 209.024 1060.9 Q203.214 1060.9 200.135 1056.31 Q197.079 1051.71 197.079 1042.98 Q197.079 1034.23 200.135 1029.65 Q203.214 1025.04 209.024 1025.04 Z\" fill=\"#000000\" fill-rule=\"nonzero\" fill-opacity=\"1\" /><path clip-path=\"url(#clip480)\" d=\"M233.645 1008.05 L224.053 1023.04 L233.645 1023.04 L233.645 1008.05 M232.648 1004.74 L237.425 1004.74 L237.425 1023.04 L241.431 1023.04 L241.431 1026.2 L237.425 1026.2 L237.425 1032.82 L233.645 1032.82 L233.645 1026.2 L220.968 1026.2 L220.968 1022.53 L232.648 1004.74 Z\" fill=\"#000000\" fill-rule=\"nonzero\" fill-opacity=\"1\" /><path clip-path=\"url(#clip480)\" d=\"M67.9133 836.984 Q71.2698 837.701 73.1448 839.97 Q75.0429 842.238 75.0429 845.572 Q75.0429 850.687 71.5244 853.488 Q68.0059 856.289 61.5245 856.289 Q59.3486 856.289 57.0338 855.849 Q54.7421 855.433 52.2884 854.576 L52.2884 850.062 Q54.2328 851.197 56.5477 851.775 Q58.8625 852.354 61.3856 852.354 Q65.7837 852.354 68.0754 850.618 Q70.3902 848.882 70.3902 845.572 Q70.3902 842.516 68.2374 840.803 Q66.1078 839.067 62.2884 839.067 L58.2606 839.067 L58.2606 835.224 L62.4735 835.224 Q65.9226 835.224 67.7513 833.859 Q69.58 832.47 69.58 829.877 Q69.58 827.215 67.6819 825.803 Q65.8069 824.368 62.2884 824.368 Q60.3671 824.368 58.168 824.785 Q55.969 825.201 53.3301 826.081 L53.3301 821.914 Q55.9921 821.174 58.3069 820.803 Q60.6449 820.433 62.705 820.433 Q68.0291 820.433 71.1309 822.863 Q74.2327 825.271 74.2327 829.391 Q74.2327 832.261 72.5892 834.252 Q70.9457 836.22 67.9133 836.984 Z\" fill=\"#000000\" fill-rule=\"nonzero\" fill-opacity=\"1\" /><path clip-path=\"url(#clip480)\" d=\"M83.9086 849.738 L88.7928 849.738 L88.7928 855.618 L83.9086 855.618 L83.9086 849.738 Z\" fill=\"#000000\" fill-rule=\"nonzero\" fill-opacity=\"1\" /><path clip-path=\"url(#clip480)\" d=\"M108.978 824.137 Q105.367 824.137 103.538 827.701 Q101.733 831.243 101.733 838.373 Q101.733 845.479 103.538 849.044 Q105.367 852.585 108.978 852.585 Q112.612 852.585 114.418 849.044 Q116.246 845.479 116.246 838.373 Q116.246 831.243 114.418 827.701 Q112.612 824.137 108.978 824.137 M108.978 820.433 Q114.788 820.433 117.844 825.039 Q120.922 829.623 120.922 838.373 Q120.922 847.099 117.844 851.706 Q114.788 856.289 108.978 856.289 Q103.168 856.289 100.089 851.706 Q97.0335 847.099 97.0335 838.373 Q97.0335 829.623 100.089 825.039 Q103.168 820.433 108.978 820.433 Z\" fill=\"#000000\" fill-rule=\"nonzero\" fill-opacity=\"1\" /><path clip-path=\"url(#clip480)\" d=\"M157.311 830.155 L146.732 840.78 L157.311 851.359 L154.556 854.16 L143.931 843.535 L133.306 854.16 L130.575 851.359 L141.131 840.78 L130.575 830.155 L133.306 827.354 L143.931 837.979 L154.556 827.354 L157.311 830.155 Z\" fill=\"#000000\" fill-rule=\"nonzero\" fill-opacity=\"1\" /><path clip-path=\"url(#clip480)\" d=\"M169.672 851.683 L177.311 851.683 L177.311 825.317 L169.001 826.984 L169.001 822.725 L177.265 821.058 L181.94 821.058 L181.94 851.683 L189.579 851.683 L189.579 855.618 L169.672 855.618 L169.672 851.683 Z\" fill=\"#000000\" fill-rule=\"nonzero\" fill-opacity=\"1\" /><path clip-path=\"url(#clip480)\" d=\"M209.024 824.137 Q205.413 824.137 203.584 827.701 Q201.778 831.243 201.778 838.373 Q201.778 845.479 203.584 849.044 Q205.413 852.585 209.024 852.585 Q212.658 852.585 214.463 849.044 Q216.292 845.479 216.292 838.373 Q216.292 831.243 214.463 827.701 Q212.658 824.137 209.024 824.137 M209.024 820.433 Q214.834 820.433 217.889 825.039 Q220.968 829.623 220.968 838.373 Q220.968 847.099 217.889 851.706 Q214.834 856.289 209.024 856.289 Q203.214 856.289 200.135 851.706 Q197.079 847.099 197.079 838.373 Q197.079 829.623 200.135 825.039 Q203.214 820.433 209.024 820.433 Z\" fill=\"#000000\" fill-rule=\"nonzero\" fill-opacity=\"1\" /><path clip-path=\"url(#clip480)\" d=\"M233.645 803.438 L224.053 818.427 L233.645 818.427 L233.645 803.438 M232.648 800.127 L237.425 800.127 L237.425 818.427 L241.431 818.427 L241.431 821.587 L237.425 821.587 L237.425 828.207 L233.645 828.207 L233.645 821.587 L220.968 821.587 L220.968 817.92 L232.648 800.127 Z\" fill=\"#000000\" fill-rule=\"nonzero\" fill-opacity=\"1\" /><path clip-path=\"url(#clip480)\" d=\"M66.5939 620.523 L54.7884 638.972 L66.5939 638.972 L66.5939 620.523 M65.367 616.449 L71.2466 616.449 L71.2466 638.972 L76.1772 638.972 L76.1772 642.861 L71.2466 642.861 L71.2466 651.009 L66.5939 651.009 L66.5939 642.861 L50.9921 642.861 L50.9921 638.347 L65.367 616.449 Z\" fill=\"#000000\" fill-rule=\"nonzero\" fill-opacity=\"1\" /><path clip-path=\"url(#clip480)\" d=\"M83.9086 645.13 L88.7928 645.13 L88.7928 651.009 L83.9086 651.009 L83.9086 645.13 Z\" fill=\"#000000\" fill-rule=\"nonzero\" fill-opacity=\"1\" /><path clip-path=\"url(#clip480)\" d=\"M108.978 619.528 Q105.367 619.528 103.538 623.093 Q101.733 626.635 101.733 633.764 Q101.733 640.871 103.538 644.435 Q105.367 647.977 108.978 647.977 Q112.612 647.977 114.418 644.435 Q116.246 640.871 116.246 633.764 Q116.246 626.635 114.418 623.093 Q112.612 619.528 108.978 619.528 M108.978 615.824 Q114.788 615.824 117.844 620.431 Q120.922 625.014 120.922 633.764 Q120.922 642.491 117.844 647.097 Q114.788 651.681 108.978 651.681 Q103.168 651.681 100.089 647.097 Q97.0335 642.491 97.0335 633.764 Q97.0335 625.014 100.089 620.431 Q103.168 615.824 108.978 615.824 Z\" fill=\"#000000\" fill-rule=\"nonzero\" fill-opacity=\"1\" /><path clip-path=\"url(#clip480)\" d=\"M157.311 625.547 L146.732 636.171 L157.311 646.75 L154.556 649.551 L143.931 638.926 L133.306 649.551 L130.575 646.75 L141.131 636.171 L130.575 625.547 L133.306 622.746 L143.931 633.371 L154.556 622.746 L157.311 625.547 Z\" fill=\"#000000\" fill-rule=\"nonzero\" fill-opacity=\"1\" /><path clip-path=\"url(#clip480)\" d=\"M169.672 647.074 L177.311 647.074 L177.311 620.709 L169.001 622.375 L169.001 618.116 L177.265 616.449 L181.94 616.449 L181.94 647.074 L189.579 647.074 L189.579 651.009 L169.672 651.009 L169.672 647.074 Z\" fill=\"#000000\" fill-rule=\"nonzero\" fill-opacity=\"1\" /><path clip-path=\"url(#clip480)\" d=\"M209.024 619.528 Q205.413 619.528 203.584 623.093 Q201.778 626.635 201.778 633.764 Q201.778 640.871 203.584 644.435 Q205.413 647.977 209.024 647.977 Q212.658 647.977 214.463 644.435 Q216.292 640.871 216.292 633.764 Q216.292 626.635 214.463 623.093 Q212.658 619.528 209.024 619.528 M209.024 615.824 Q214.834 615.824 217.889 620.431 Q220.968 625.014 220.968 633.764 Q220.968 642.491 217.889 647.097 Q214.834 651.681 209.024 651.681 Q203.214 651.681 200.135 647.097 Q197.079 642.491 197.079 633.764 Q197.079 625.014 200.135 620.431 Q203.214 615.824 209.024 615.824 Z\" fill=\"#000000\" fill-rule=\"nonzero\" fill-opacity=\"1\" /><path clip-path=\"url(#clip480)\" d=\"M233.645 598.829 L224.053 613.819 L233.645 613.819 L233.645 598.829 M232.648 595.519 L237.425 595.519 L237.425 613.819 L241.431 613.819 L241.431 616.979 L237.425 616.979 L237.425 623.599 L233.645 623.599 L233.645 616.979 L220.968 616.979 L220.968 613.311 L232.648 595.519 Z\" fill=\"#000000\" fill-rule=\"nonzero\" fill-opacity=\"1\" /><path clip-path=\"url(#clip480)\" d=\"M53.793 411.841 L72.1494 411.841 L72.1494 415.776 L58.0754 415.776 L58.0754 424.248 Q59.0939 423.901 60.1124 423.739 Q61.131 423.554 62.1495 423.554 Q67.9365 423.554 71.3161 426.725 Q74.6957 429.896 74.6957 435.313 Q74.6957 440.892 71.2235 443.994 Q67.7513 447.072 61.4319 447.072 Q59.256 447.072 56.9875 446.702 Q54.7421 446.331 52.3347 445.591 L52.3347 440.892 Q54.418 442.026 56.6402 442.581 Q58.8625 443.137 61.3393 443.137 Q65.3439 443.137 67.6819 441.031 Q70.0198 438.924 70.0198 435.313 Q70.0198 431.702 67.6819 429.595 Q65.3439 427.489 61.3393 427.489 Q59.4643 427.489 57.5893 427.906 Q55.7375 428.322 53.793 429.202 L53.793 411.841 Z\" fill=\"#000000\" fill-rule=\"nonzero\" fill-opacity=\"1\" /><path clip-path=\"url(#clip480)\" d=\"M83.9086 440.521 L88.7928 440.521 L88.7928 446.401 L83.9086 446.401 L83.9086 440.521 Z\" fill=\"#000000\" fill-rule=\"nonzero\" fill-opacity=\"1\" /><path clip-path=\"url(#clip480)\" d=\"M108.978 414.92 Q105.367 414.92 103.538 418.484 Q101.733 422.026 101.733 429.156 Q101.733 436.262 103.538 439.827 Q105.367 443.369 108.978 443.369 Q112.612 443.369 114.418 439.827 Q116.246 436.262 116.246 429.156 Q116.246 422.026 114.418 418.484 Q112.612 414.92 108.978 414.92 M108.978 411.216 Q114.788 411.216 117.844 415.822 Q120.922 420.406 120.922 429.156 Q120.922 437.882 117.844 442.489 Q114.788 447.072 108.978 447.072 Q103.168 447.072 100.089 442.489 Q97.0335 437.882 97.0335 429.156 Q97.0335 420.406 100.089 415.822 Q103.168 411.216 108.978 411.216 Z\" fill=\"#000000\" fill-rule=\"nonzero\" fill-opacity=\"1\" /><path clip-path=\"url(#clip480)\" d=\"M157.311 420.938 L146.732 431.563 L157.311 442.142 L154.556 444.943 L143.931 434.318 L133.306 444.943 L130.575 442.142 L141.131 431.563 L130.575 420.938 L133.306 418.137 L143.931 428.762 L154.556 418.137 L157.311 420.938 Z\" fill=\"#000000\" fill-rule=\"nonzero\" fill-opacity=\"1\" /><path clip-path=\"url(#clip480)\" d=\"M169.672 442.466 L177.311 442.466 L177.311 416.1 L169.001 417.767 L169.001 413.508 L177.265 411.841 L181.94 411.841 L181.94 442.466 L189.579 442.466 L189.579 446.401 L169.672 446.401 L169.672 442.466 Z\" fill=\"#000000\" fill-rule=\"nonzero\" fill-opacity=\"1\" /><path clip-path=\"url(#clip480)\" d=\"M209.024 414.92 Q205.413 414.92 203.584 418.484 Q201.778 422.026 201.778 429.156 Q201.778 436.262 203.584 439.827 Q205.413 443.369 209.024 443.369 Q212.658 443.369 214.463 439.827 Q216.292 436.262 216.292 429.156 Q216.292 422.026 214.463 418.484 Q212.658 414.92 209.024 414.92 M209.024 411.216 Q214.834 411.216 217.889 415.822 Q220.968 420.406 220.968 429.156 Q220.968 437.882 217.889 442.489 Q214.834 447.072 209.024 447.072 Q203.214 447.072 200.135 442.489 Q197.079 437.882 197.079 429.156 Q197.079 420.406 200.135 415.822 Q203.214 411.216 209.024 411.216 Z\" fill=\"#000000\" fill-rule=\"nonzero\" fill-opacity=\"1\" /><path clip-path=\"url(#clip480)\" d=\"M233.645 394.221 L224.053 409.21 L233.645 409.21 L233.645 394.221 M232.648 390.91 L237.425 390.91 L237.425 409.21 L241.431 409.21 L241.431 412.37 L237.425 412.37 L237.425 418.99 L233.645 418.99 L233.645 412.37 L220.968 412.37 L220.968 408.703 L232.648 390.91 Z\" fill=\"#000000\" fill-rule=\"nonzero\" fill-opacity=\"1\" /><path clip-path=\"url(#clip480)\" d=\"M64.3254 222.649 Q61.1773 222.649 59.3254 224.802 Q57.4967 226.955 57.4967 230.705 Q57.4967 234.431 59.3254 236.607 Q61.1773 238.76 64.3254 238.76 Q67.4735 238.76 69.3022 236.607 Q71.1541 234.431 71.1541 230.705 Q71.1541 226.955 69.3022 224.802 Q67.4735 222.649 64.3254 222.649 M73.6077 207.996 L73.6077 212.256 Q71.8485 211.422 70.0429 210.982 Q68.2606 210.543 66.5013 210.543 Q61.8717 210.543 59.418 213.668 Q56.9875 216.793 56.6402 223.112 Q58.006 221.098 60.0662 220.033 Q62.1263 218.945 64.6032 218.945 Q69.8115 218.945 72.8207 222.117 Q75.8531 225.265 75.8531 230.705 Q75.8531 236.029 72.705 239.246 Q69.5568 242.464 64.3254 242.464 Q58.33 242.464 55.1588 237.88 Q51.9875 233.274 51.9875 224.547 Q51.9875 216.353 55.8764 211.492 Q59.7652 206.607 66.3161 206.607 Q68.0754 206.607 69.8578 206.955 Q71.6633 207.302 73.6077 207.996 Z\" fill=\"#000000\" fill-rule=\"nonzero\" fill-opacity=\"1\" /><path clip-path=\"url(#clip480)\" d=\"M83.9086 235.913 L88.7928 235.913 L88.7928 241.792 L83.9086 241.792 L83.9086 235.913 Z\" fill=\"#000000\" fill-rule=\"nonzero\" fill-opacity=\"1\" /><path clip-path=\"url(#clip480)\" d=\"M108.978 210.311 Q105.367 210.311 103.538 213.876 Q101.733 217.418 101.733 224.547 Q101.733 231.654 103.538 235.218 Q105.367 238.76 108.978 238.76 Q112.612 238.76 114.418 235.218 Q116.246 231.654 116.246 224.547 Q116.246 217.418 114.418 213.876 Q112.612 210.311 108.978 210.311 M108.978 206.607 Q114.788 206.607 117.844 211.214 Q120.922 215.797 120.922 224.547 Q120.922 233.274 117.844 237.88 Q114.788 242.464 108.978 242.464 Q103.168 242.464 100.089 237.88 Q97.0335 233.274 97.0335 224.547 Q97.0335 215.797 100.089 211.214 Q103.168 206.607 108.978 206.607 Z\" fill=\"#000000\" fill-rule=\"nonzero\" fill-opacity=\"1\" /><path clip-path=\"url(#clip480)\" d=\"M157.311 216.33 L146.732 226.955 L157.311 237.533 L154.556 240.334 L143.931 229.709 L133.306 240.334 L130.575 237.533 L141.131 226.955 L130.575 216.33 L133.306 213.529 L143.931 224.154 L154.556 213.529 L157.311 216.33 Z\" fill=\"#000000\" fill-rule=\"nonzero\" fill-opacity=\"1\" /><path clip-path=\"url(#clip480)\" d=\"M169.672 237.857 L177.311 237.857 L177.311 211.492 L169.001 213.158 L169.001 208.899 L177.265 207.232 L181.94 207.232 L181.94 237.857 L189.579 237.857 L189.579 241.792 L169.672 241.792 L169.672 237.857 Z\" fill=\"#000000\" fill-rule=\"nonzero\" fill-opacity=\"1\" /><path clip-path=\"url(#clip480)\" d=\"M209.024 210.311 Q205.413 210.311 203.584 213.876 Q201.778 217.418 201.778 224.547 Q201.778 231.654 203.584 235.218 Q205.413 238.76 209.024 238.76 Q212.658 238.76 214.463 235.218 Q216.292 231.654 216.292 224.547 Q216.292 217.418 214.463 213.876 Q212.658 210.311 209.024 210.311 M209.024 206.607 Q214.834 206.607 217.889 211.214 Q220.968 215.797 220.968 224.547 Q220.968 233.274 217.889 237.88 Q214.834 242.464 209.024 242.464 Q203.214 242.464 200.135 237.88 Q197.079 233.274 197.079 224.547 Q197.079 215.797 200.135 211.214 Q203.214 206.607 209.024 206.607 Z\" fill=\"#000000\" fill-rule=\"nonzero\" fill-opacity=\"1\" /><path clip-path=\"url(#clip480)\" d=\"M233.645 189.612 L224.053 204.602 L233.645 204.602 L233.645 189.612 M232.648 186.302 L237.425 186.302 L237.425 204.602 L241.431 204.602 L241.431 207.762 L237.425 207.762 L237.425 214.382 L233.645 214.382 L233.645 207.762 L220.968 207.762 L220.968 204.094 L232.648 186.302 Z\" fill=\"#000000\" fill-rule=\"nonzero\" fill-opacity=\"1\" /><polyline clip-path=\"url(#clip482)\" style=\"stroke:#009af9; stroke-linecap:round; stroke-linejoin:round; stroke-width:4; stroke-opacity:1; fill:none\" points=\"336.167,1445.72 355.943,1445.72 375.719,1445.72 395.495,1445.72 415.272,1445.72 435.048,1445.72 454.824,1445.72 474.601,1445.72 494.377,1445.72 514.153,1445.72 533.93,1445.72 553.706,1445.72 573.482,1445.72 593.258,1445.72 613.035,1445.72 632.811,1445.72 652.587,1445.72 672.364,1445.72 692.14,1445.72 711.916,1445.72 731.693,1445.71 751.469,1445.71 771.245,1445.71 791.021,1445.71 810.798,1445.71 830.574,1445.71 850.35,1445.71 870.127,1445.71 889.903,1445.71 909.679,1445.71 929.456,1445.71 949.232,1445.71 969.008,1445.71 988.784,1445.7 1008.56,1445.66 1028.34,1443.41 1048.11,1440.62 1067.89,1437.53 1087.67,1432.7 1107.44,1424.97 1127.22,1413.1 1146.99,1395.74 1166.77,1371.83 1186.55,1340.49 1206.32,1299.53 1226.1,1236.52 1245.88,1150.7 1265.65,1137.76 1285.43,1124.8 1305.21,1111.19 1324.98,1097.67 1344.76,1083.49 1364.53,1069.43 1384.31,1054.71 1404.09,1040.1 1423.86,1024.85 1443.64,1009.68 1463.42,993.877 1483.19,978.162 1502.97,961.798 1522.74,945.533 1542.52,928.651 1562.3,911.837 1582.07,894.402 1601.85,877.027 1621.63,858.987 1641.4,841.072 1661.18,822.518 1680.95,804.054 1700.73,784.99 1720.51,765.977 1740.28,746.386 1760.06,726.824 1779.84,706.543 1799.61,686.43 1819.39,665.558 1839.17,644.892 1858.94,623.502 1878.72,602.285 1898.49,580.374 1918.27,558.605 1938.05,536.08 1957.82,513.757 1977.6,490.578 1997.38,467.701 2017.15,443.984 2036.93,420.552 2056.7,396.313 2076.48,372.328 2096.26,347.575 2116.03,323.036 2135.81,297.769 2155.59,272.678 2175.36,246.914 2195.14,221.272 2214.92,194.996 2234.69,168.804 2254.47,142.013 2274.24,115.271 2294.02,87.9763 \"/>\n",
       "<path clip-path=\"url(#clip480)\" d=\"M346.608 198.898 L606.571 198.898 L606.571 95.2176 L346.608 95.2176  Z\" fill=\"#ffffff\" fill-rule=\"evenodd\" fill-opacity=\"1\"/>\n",
       "<polyline clip-path=\"url(#clip480)\" style=\"stroke:#000000; stroke-linecap:round; stroke-linejoin:round; stroke-width:4; stroke-opacity:1; fill:none\" points=\"346.608,198.898 606.571,198.898 606.571,95.2176 346.608,95.2176 346.608,198.898 \"/>\n",
       "<polyline clip-path=\"url(#clip480)\" style=\"stroke:#009af9; stroke-linecap:round; stroke-linejoin:round; stroke-width:4; stroke-opacity:1; fill:none\" points=\"369.668,147.058 508.023,147.058 \"/>\n",
       "<path clip-path=\"url(#clip480)\" d=\"M544.924 166.745 Q543.119 171.375 541.406 172.787 Q539.693 174.199 536.822 174.199 L533.42 174.199 L533.42 170.634 L535.92 170.634 Q537.679 170.634 538.651 169.8 Q539.623 168.967 540.804 165.865 L541.568 163.921 L531.082 138.412 L535.596 138.412 L543.697 158.689 L551.799 138.412 L556.313 138.412 L544.924 166.745 Z\" fill=\"#000000\" fill-rule=\"nonzero\" fill-opacity=\"1\" /><path clip-path=\"url(#clip480)\" d=\"M563.605 160.402 L571.244 160.402 L571.244 134.037 L562.933 135.703 L562.933 131.444 L571.197 129.778 L575.873 129.778 L575.873 160.402 L583.512 160.402 L583.512 164.338 L563.605 164.338 L563.605 160.402 Z\" fill=\"#000000\" fill-rule=\"nonzero\" fill-opacity=\"1\" /></svg>\n"
      ]
     },
     "execution_count": 38,
     "metadata": {},
     "output_type": "execute_result"
    }
   ],
   "source": [
    "plot(Displacement,Energy_Coup)"
   ]
  },
  {
   "cell_type": "code",
   "execution_count": 39,
   "id": "aa9d0e68",
   "metadata": {},
   "outputs": [
    {
     "data": {
      "image/svg+xml": [
       "<?xml version=\"1.0\" encoding=\"utf-8\"?>\n",
       "<svg xmlns=\"http://www.w3.org/2000/svg\" xmlns:xlink=\"http://www.w3.org/1999/xlink\" width=\"600\" height=\"400\" viewBox=\"0 0 2400 1600\">\n",
       "<defs>\n",
       "  <clipPath id=\"clip520\">\n",
       "    <rect x=\"0\" y=\"0\" width=\"2400\" height=\"1600\"/>\n",
       "  </clipPath>\n",
       "</defs>\n",
       "<path clip-path=\"url(#clip520)\" d=\"M0 1600 L2400 1600 L2400 0 L0 0  Z\" fill=\"#ffffff\" fill-rule=\"evenodd\" fill-opacity=\"1\"/>\n",
       "<defs>\n",
       "  <clipPath id=\"clip521\">\n",
       "    <rect x=\"480\" y=\"0\" width=\"1681\" height=\"1600\"/>\n",
       "  </clipPath>\n",
       "</defs>\n",
       "<path clip-path=\"url(#clip520)\" d=\"M336.597 1486.45 L2352.76 1486.45 L2352.76 47.2441 L336.597 47.2441  Z\" fill=\"#ffffff\" fill-rule=\"evenodd\" fill-opacity=\"1\"/>\n",
       "<defs>\n",
       "  <clipPath id=\"clip522\">\n",
       "    <rect x=\"336\" y=\"47\" width=\"2017\" height=\"1440\"/>\n",
       "  </clipPath>\n",
       "</defs>\n",
       "<polyline clip-path=\"url(#clip522)\" style=\"stroke:#000000; stroke-linecap:round; stroke-linejoin:round; stroke-width:2; stroke-opacity:0.1; fill:none\" points=\"374.446,1486.45 374.446,47.2441 \"/>\n",
       "<polyline clip-path=\"url(#clip522)\" style=\"stroke:#000000; stroke-linecap:round; stroke-linejoin:round; stroke-width:2; stroke-opacity:0.1; fill:none\" points=\"854.758,1486.45 854.758,47.2441 \"/>\n",
       "<polyline clip-path=\"url(#clip522)\" style=\"stroke:#000000; stroke-linecap:round; stroke-linejoin:round; stroke-width:2; stroke-opacity:0.1; fill:none\" points=\"1335.07,1486.45 1335.07,47.2441 \"/>\n",
       "<polyline clip-path=\"url(#clip522)\" style=\"stroke:#000000; stroke-linecap:round; stroke-linejoin:round; stroke-width:2; stroke-opacity:0.1; fill:none\" points=\"1815.38,1486.45 1815.38,47.2441 \"/>\n",
       "<polyline clip-path=\"url(#clip522)\" style=\"stroke:#000000; stroke-linecap:round; stroke-linejoin:round; stroke-width:2; stroke-opacity:0.1; fill:none\" points=\"2295.69,1486.45 2295.69,47.2441 \"/>\n",
       "<polyline clip-path=\"url(#clip520)\" style=\"stroke:#000000; stroke-linecap:round; stroke-linejoin:round; stroke-width:4; stroke-opacity:1; fill:none\" points=\"336.597,1486.45 2352.76,1486.45 \"/>\n",
       "<polyline clip-path=\"url(#clip520)\" style=\"stroke:#000000; stroke-linecap:round; stroke-linejoin:round; stroke-width:4; stroke-opacity:1; fill:none\" points=\"374.446,1486.45 374.446,1467.55 \"/>\n",
       "<polyline clip-path=\"url(#clip520)\" style=\"stroke:#000000; stroke-linecap:round; stroke-linejoin:round; stroke-width:4; stroke-opacity:1; fill:none\" points=\"854.758,1486.45 854.758,1467.55 \"/>\n",
       "<polyline clip-path=\"url(#clip520)\" style=\"stroke:#000000; stroke-linecap:round; stroke-linejoin:round; stroke-width:4; stroke-opacity:1; fill:none\" points=\"1335.07,1486.45 1335.07,1467.55 \"/>\n",
       "<polyline clip-path=\"url(#clip520)\" style=\"stroke:#000000; stroke-linecap:round; stroke-linejoin:round; stroke-width:4; stroke-opacity:1; fill:none\" points=\"1815.38,1486.45 1815.38,1467.55 \"/>\n",
       "<polyline clip-path=\"url(#clip520)\" style=\"stroke:#000000; stroke-linecap:round; stroke-linejoin:round; stroke-width:4; stroke-opacity:1; fill:none\" points=\"2295.69,1486.45 2295.69,1467.55 \"/>\n",
       "<path clip-path=\"url(#clip520)\" d=\"M321.668 1517.37 Q318.057 1517.37 316.229 1520.93 Q314.423 1524.47 314.423 1531.6 Q314.423 1538.71 316.229 1542.27 Q318.057 1545.82 321.668 1545.82 Q325.303 1545.82 327.108 1542.27 Q328.937 1538.71 328.937 1531.6 Q328.937 1524.47 327.108 1520.93 Q325.303 1517.37 321.668 1517.37 M321.668 1513.66 Q327.479 1513.66 330.534 1518.27 Q333.613 1522.85 333.613 1531.6 Q333.613 1540.33 330.534 1544.94 Q327.479 1549.52 321.668 1549.52 Q315.858 1549.52 312.78 1544.94 Q309.724 1540.33 309.724 1531.6 Q309.724 1522.85 312.78 1518.27 Q315.858 1513.66 321.668 1513.66 Z\" fill=\"#000000\" fill-rule=\"nonzero\" fill-opacity=\"1\" /><path clip-path=\"url(#clip520)\" d=\"M341.83 1542.97 L346.715 1542.97 L346.715 1548.85 L341.83 1548.85 L341.83 1542.97 Z\" fill=\"#000000\" fill-rule=\"nonzero\" fill-opacity=\"1\" /><path clip-path=\"url(#clip520)\" d=\"M366.9 1517.37 Q363.289 1517.37 361.46 1520.93 Q359.654 1524.47 359.654 1531.6 Q359.654 1538.71 361.46 1542.27 Q363.289 1545.82 366.9 1545.82 Q370.534 1545.82 372.339 1542.27 Q374.168 1538.71 374.168 1531.6 Q374.168 1524.47 372.339 1520.93 Q370.534 1517.37 366.9 1517.37 M366.9 1513.66 Q372.71 1513.66 375.765 1518.27 Q378.844 1522.85 378.844 1531.6 Q378.844 1540.33 375.765 1544.94 Q372.71 1549.52 366.9 1549.52 Q361.089 1549.52 358.011 1544.94 Q354.955 1540.33 354.955 1531.6 Q354.955 1522.85 358.011 1518.27 Q361.089 1513.66 366.9 1513.66 Z\" fill=\"#000000\" fill-rule=\"nonzero\" fill-opacity=\"1\" /><path clip-path=\"url(#clip520)\" d=\"M397.061 1517.37 Q393.45 1517.37 391.622 1520.93 Q389.816 1524.47 389.816 1531.6 Q389.816 1538.71 391.622 1542.27 Q393.45 1545.82 397.061 1545.82 Q400.696 1545.82 402.501 1542.27 Q404.33 1538.71 404.33 1531.6 Q404.33 1524.47 402.501 1520.93 Q400.696 1517.37 397.061 1517.37 M397.061 1513.66 Q402.872 1513.66 405.927 1518.27 Q409.006 1522.85 409.006 1531.6 Q409.006 1540.33 405.927 1544.94 Q402.872 1549.52 397.061 1549.52 Q391.251 1549.52 388.173 1544.94 Q385.117 1540.33 385.117 1531.6 Q385.117 1522.85 388.173 1518.27 Q391.251 1513.66 397.061 1513.66 Z\" fill=\"#000000\" fill-rule=\"nonzero\" fill-opacity=\"1\" /><path clip-path=\"url(#clip520)\" d=\"M427.223 1517.37 Q423.612 1517.37 421.784 1520.93 Q419.978 1524.47 419.978 1531.6 Q419.978 1538.71 421.784 1542.27 Q423.612 1545.82 427.223 1545.82 Q430.858 1545.82 432.663 1542.27 Q434.492 1538.71 434.492 1531.6 Q434.492 1524.47 432.663 1520.93 Q430.858 1517.37 427.223 1517.37 M427.223 1513.66 Q433.034 1513.66 436.089 1518.27 Q439.168 1522.85 439.168 1531.6 Q439.168 1540.33 436.089 1544.94 Q433.034 1549.52 427.223 1549.52 Q421.413 1549.52 418.335 1544.94 Q415.279 1540.33 415.279 1531.6 Q415.279 1522.85 418.335 1518.27 Q421.413 1513.66 427.223 1513.66 Z\" fill=\"#000000\" fill-rule=\"nonzero\" fill-opacity=\"1\" /><path clip-path=\"url(#clip520)\" d=\"M802.478 1517.37 Q798.867 1517.37 797.039 1520.93 Q795.233 1524.47 795.233 1531.6 Q795.233 1538.71 797.039 1542.27 Q798.867 1545.82 802.478 1545.82 Q806.113 1545.82 807.918 1542.27 Q809.747 1538.71 809.747 1531.6 Q809.747 1524.47 807.918 1520.93 Q806.113 1517.37 802.478 1517.37 M802.478 1513.66 Q808.288 1513.66 811.344 1518.27 Q814.423 1522.85 814.423 1531.6 Q814.423 1540.33 811.344 1544.94 Q808.288 1549.52 802.478 1549.52 Q796.668 1549.52 793.589 1544.94 Q790.534 1540.33 790.534 1531.6 Q790.534 1522.85 793.589 1518.27 Q796.668 1513.66 802.478 1513.66 Z\" fill=\"#000000\" fill-rule=\"nonzero\" fill-opacity=\"1\" /><path clip-path=\"url(#clip520)\" d=\"M822.64 1542.97 L827.524 1542.97 L827.524 1548.85 L822.64 1548.85 L822.64 1542.97 Z\" fill=\"#000000\" fill-rule=\"nonzero\" fill-opacity=\"1\" /><path clip-path=\"url(#clip520)\" d=\"M847.71 1517.37 Q844.098 1517.37 842.27 1520.93 Q840.464 1524.47 840.464 1531.6 Q840.464 1538.71 842.27 1542.27 Q844.098 1545.82 847.71 1545.82 Q851.344 1545.82 853.149 1542.27 Q854.978 1538.71 854.978 1531.6 Q854.978 1524.47 853.149 1520.93 Q851.344 1517.37 847.71 1517.37 M847.71 1513.66 Q853.52 1513.66 856.575 1518.27 Q859.654 1522.85 859.654 1531.6 Q859.654 1540.33 856.575 1544.94 Q853.52 1549.52 847.71 1549.52 Q841.899 1549.52 838.821 1544.94 Q835.765 1540.33 835.765 1531.6 Q835.765 1522.85 838.821 1518.27 Q841.899 1513.66 847.71 1513.66 Z\" fill=\"#000000\" fill-rule=\"nonzero\" fill-opacity=\"1\" /><path clip-path=\"url(#clip520)\" d=\"M871.899 1544.91 L888.219 1544.91 L888.219 1548.85 L866.274 1548.85 L866.274 1544.91 Q868.936 1542.16 873.52 1537.53 Q878.126 1532.88 879.307 1531.53 Q881.552 1529.01 882.432 1527.27 Q883.334 1525.51 883.334 1523.82 Q883.334 1521.07 881.39 1519.33 Q879.469 1517.6 876.367 1517.6 Q874.168 1517.6 871.714 1518.36 Q869.283 1519.13 866.506 1520.68 L866.506 1515.95 Q869.33 1514.82 871.783 1514.24 Q874.237 1513.66 876.274 1513.66 Q881.645 1513.66 884.839 1516.35 Q888.033 1519.03 888.033 1523.52 Q888.033 1525.65 887.223 1527.57 Q886.436 1529.47 884.33 1532.07 Q883.751 1532.74 880.649 1535.95 Q877.547 1539.15 871.899 1544.91 Z\" fill=\"#000000\" fill-rule=\"nonzero\" fill-opacity=\"1\" /><path clip-path=\"url(#clip520)\" d=\"M898.08 1514.29 L916.436 1514.29 L916.436 1518.22 L902.362 1518.22 L902.362 1526.7 Q903.381 1526.35 904.399 1526.19 Q905.418 1526 906.436 1526 Q912.223 1526 915.603 1529.17 Q918.982 1532.34 918.982 1537.76 Q918.982 1543.34 915.51 1546.44 Q912.038 1549.52 905.718 1549.52 Q903.543 1549.52 901.274 1549.15 Q899.029 1548.78 896.621 1548.04 L896.621 1543.34 Q898.705 1544.47 900.927 1545.03 Q903.149 1545.58 905.626 1545.58 Q909.63 1545.58 911.968 1543.48 Q914.306 1541.37 914.306 1537.76 Q914.306 1534.15 911.968 1532.04 Q909.63 1529.94 905.626 1529.94 Q903.751 1529.94 901.876 1530.35 Q900.024 1530.77 898.08 1531.65 L898.08 1514.29 Z\" fill=\"#000000\" fill-rule=\"nonzero\" fill-opacity=\"1\" /><path clip-path=\"url(#clip520)\" d=\"M1282.29 1517.37 Q1278.68 1517.37 1276.85 1520.93 Q1275.05 1524.47 1275.05 1531.6 Q1275.05 1538.71 1276.85 1542.27 Q1278.68 1545.82 1282.29 1545.82 Q1285.93 1545.82 1287.73 1542.27 Q1289.56 1538.71 1289.56 1531.6 Q1289.56 1524.47 1287.73 1520.93 Q1285.93 1517.37 1282.29 1517.37 M1282.29 1513.66 Q1288.1 1513.66 1291.16 1518.27 Q1294.24 1522.85 1294.24 1531.6 Q1294.24 1540.33 1291.16 1544.94 Q1288.1 1549.52 1282.29 1549.52 Q1276.48 1549.52 1273.4 1544.94 Q1270.35 1540.33 1270.35 1531.6 Q1270.35 1522.85 1273.4 1518.27 Q1276.48 1513.66 1282.29 1513.66 Z\" fill=\"#000000\" fill-rule=\"nonzero\" fill-opacity=\"1\" /><path clip-path=\"url(#clip520)\" d=\"M1302.45 1542.97 L1307.34 1542.97 L1307.34 1548.85 L1302.45 1548.85 L1302.45 1542.97 Z\" fill=\"#000000\" fill-rule=\"nonzero\" fill-opacity=\"1\" /><path clip-path=\"url(#clip520)\" d=\"M1327.52 1517.37 Q1323.91 1517.37 1322.08 1520.93 Q1320.28 1524.47 1320.28 1531.6 Q1320.28 1538.71 1322.08 1542.27 Q1323.91 1545.82 1327.52 1545.82 Q1331.16 1545.82 1332.96 1542.27 Q1334.79 1538.71 1334.79 1531.6 Q1334.79 1524.47 1332.96 1520.93 Q1331.16 1517.37 1327.52 1517.37 M1327.52 1513.66 Q1333.33 1513.66 1336.39 1518.27 Q1339.47 1522.85 1339.47 1531.6 Q1339.47 1540.33 1336.39 1544.94 Q1333.33 1549.52 1327.52 1549.52 Q1321.71 1549.52 1318.64 1544.94 Q1315.58 1540.33 1315.58 1531.6 Q1315.58 1522.85 1318.64 1518.27 Q1321.71 1513.66 1327.52 1513.66 Z\" fill=\"#000000\" fill-rule=\"nonzero\" fill-opacity=\"1\" /><path clip-path=\"url(#clip520)\" d=\"M1347.73 1514.29 L1366.09 1514.29 L1366.09 1518.22 L1352.01 1518.22 L1352.01 1526.7 Q1353.03 1526.35 1354.05 1526.19 Q1355.07 1526 1356.09 1526 Q1361.88 1526 1365.26 1529.17 Q1368.63 1532.34 1368.63 1537.76 Q1368.63 1543.34 1365.16 1546.44 Q1361.69 1549.52 1355.37 1549.52 Q1353.2 1549.52 1350.93 1549.15 Q1348.68 1548.78 1346.27 1548.04 L1346.27 1543.34 Q1348.36 1544.47 1350.58 1545.03 Q1352.8 1545.58 1355.28 1545.58 Q1359.28 1545.58 1361.62 1543.48 Q1363.96 1541.37 1363.96 1537.76 Q1363.96 1534.15 1361.62 1532.04 Q1359.28 1529.94 1355.28 1529.94 Q1353.4 1529.94 1351.53 1530.35 Q1349.68 1530.77 1347.73 1531.65 L1347.73 1514.29 Z\" fill=\"#000000\" fill-rule=\"nonzero\" fill-opacity=\"1\" /><path clip-path=\"url(#clip520)\" d=\"M1387.85 1517.37 Q1384.24 1517.37 1382.41 1520.93 Q1380.6 1524.47 1380.6 1531.6 Q1380.6 1538.71 1382.41 1542.27 Q1384.24 1545.82 1387.85 1545.82 Q1391.48 1545.82 1393.29 1542.27 Q1395.12 1538.71 1395.12 1531.6 Q1395.12 1524.47 1393.29 1520.93 Q1391.48 1517.37 1387.85 1517.37 M1387.85 1513.66 Q1393.66 1513.66 1396.71 1518.27 Q1399.79 1522.85 1399.79 1531.6 Q1399.79 1540.33 1396.71 1544.94 Q1393.66 1549.52 1387.85 1549.52 Q1382.04 1549.52 1378.96 1544.94 Q1375.9 1540.33 1375.9 1531.6 Q1375.9 1522.85 1378.96 1518.27 Q1382.04 1513.66 1387.85 1513.66 Z\" fill=\"#000000\" fill-rule=\"nonzero\" fill-opacity=\"1\" /><path clip-path=\"url(#clip520)\" d=\"M1763.1 1517.37 Q1759.49 1517.37 1757.66 1520.93 Q1755.86 1524.47 1755.86 1531.6 Q1755.86 1538.71 1757.66 1542.27 Q1759.49 1545.82 1763.1 1545.82 Q1766.74 1545.82 1768.54 1542.27 Q1770.37 1538.71 1770.37 1531.6 Q1770.37 1524.47 1768.54 1520.93 Q1766.74 1517.37 1763.1 1517.37 M1763.1 1513.66 Q1768.91 1513.66 1771.97 1518.27 Q1775.05 1522.85 1775.05 1531.6 Q1775.05 1540.33 1771.97 1544.94 Q1768.91 1549.52 1763.1 1549.52 Q1757.29 1549.52 1754.21 1544.94 Q1751.16 1540.33 1751.16 1531.6 Q1751.16 1522.85 1754.21 1518.27 Q1757.29 1513.66 1763.1 1513.66 Z\" fill=\"#000000\" fill-rule=\"nonzero\" fill-opacity=\"1\" /><path clip-path=\"url(#clip520)\" d=\"M1783.26 1542.97 L1788.15 1542.97 L1788.15 1548.85 L1783.26 1548.85 L1783.26 1542.97 Z\" fill=\"#000000\" fill-rule=\"nonzero\" fill-opacity=\"1\" /><path clip-path=\"url(#clip520)\" d=\"M1808.33 1517.37 Q1804.72 1517.37 1802.89 1520.93 Q1801.09 1524.47 1801.09 1531.6 Q1801.09 1538.71 1802.89 1542.27 Q1804.72 1545.82 1808.33 1545.82 Q1811.97 1545.82 1813.77 1542.27 Q1815.6 1538.71 1815.6 1531.6 Q1815.6 1524.47 1813.77 1520.93 Q1811.97 1517.37 1808.33 1517.37 M1808.33 1513.66 Q1814.14 1513.66 1817.2 1518.27 Q1820.28 1522.85 1820.28 1531.6 Q1820.28 1540.33 1817.2 1544.94 Q1814.14 1549.52 1808.33 1549.52 Q1802.52 1549.52 1799.45 1544.94 Q1796.39 1540.33 1796.39 1531.6 Q1796.39 1522.85 1799.45 1518.27 Q1802.52 1513.66 1808.33 1513.66 Z\" fill=\"#000000\" fill-rule=\"nonzero\" fill-opacity=\"1\" /><path clip-path=\"url(#clip520)\" d=\"M1827.32 1514.29 L1849.54 1514.29 L1849.54 1516.28 L1836.99 1548.85 L1832.11 1548.85 L1843.91 1518.22 L1827.32 1518.22 L1827.32 1514.29 Z\" fill=\"#000000\" fill-rule=\"nonzero\" fill-opacity=\"1\" /><path clip-path=\"url(#clip520)\" d=\"M1858.7 1514.29 L1877.06 1514.29 L1877.06 1518.22 L1862.99 1518.22 L1862.99 1526.7 Q1864.01 1526.35 1865.02 1526.19 Q1866.04 1526 1867.06 1526 Q1872.85 1526 1876.23 1529.17 Q1879.61 1532.34 1879.61 1537.76 Q1879.61 1543.34 1876.13 1546.44 Q1872.66 1549.52 1866.34 1549.52 Q1864.17 1549.52 1861.9 1549.15 Q1859.65 1548.78 1857.25 1548.04 L1857.25 1543.34 Q1859.33 1544.47 1861.55 1545.03 Q1863.77 1545.58 1866.25 1545.58 Q1870.25 1545.58 1872.59 1543.48 Q1874.93 1541.37 1874.93 1537.76 Q1874.93 1534.15 1872.59 1532.04 Q1870.25 1529.94 1866.25 1529.94 Q1864.38 1529.94 1862.5 1530.35 Q1860.65 1530.77 1858.7 1531.65 L1858.7 1514.29 Z\" fill=\"#000000\" fill-rule=\"nonzero\" fill-opacity=\"1\" /><path clip-path=\"url(#clip520)\" d=\"M2242.92 1517.37 Q2239.31 1517.37 2237.48 1520.93 Q2235.67 1524.47 2235.67 1531.6 Q2235.67 1538.71 2237.48 1542.27 Q2239.31 1545.82 2242.92 1545.82 Q2246.55 1545.82 2248.36 1542.27 Q2250.19 1538.71 2250.19 1531.6 Q2250.19 1524.47 2248.36 1520.93 Q2246.55 1517.37 2242.92 1517.37 M2242.92 1513.66 Q2248.73 1513.66 2251.78 1518.27 Q2254.86 1522.85 2254.86 1531.6 Q2254.86 1540.33 2251.78 1544.94 Q2248.73 1549.52 2242.92 1549.52 Q2237.11 1549.52 2234.03 1544.94 Q2230.97 1540.33 2230.97 1531.6 Q2230.97 1522.85 2234.03 1518.27 Q2237.11 1513.66 2242.92 1513.66 Z\" fill=\"#000000\" fill-rule=\"nonzero\" fill-opacity=\"1\" /><path clip-path=\"url(#clip520)\" d=\"M2263.08 1542.97 L2267.96 1542.97 L2267.96 1548.85 L2263.08 1548.85 L2263.08 1542.97 Z\" fill=\"#000000\" fill-rule=\"nonzero\" fill-opacity=\"1\" /><path clip-path=\"url(#clip520)\" d=\"M2278.96 1544.91 L2286.6 1544.91 L2286.6 1518.55 L2278.29 1520.21 L2278.29 1515.95 L2286.55 1514.29 L2291.23 1514.29 L2291.23 1544.91 L2298.87 1544.91 L2298.87 1548.85 L2278.96 1548.85 L2278.96 1544.91 Z\" fill=\"#000000\" fill-rule=\"nonzero\" fill-opacity=\"1\" /><path clip-path=\"url(#clip520)\" d=\"M2318.31 1517.37 Q2314.7 1517.37 2312.87 1520.93 Q2311.07 1524.47 2311.07 1531.6 Q2311.07 1538.71 2312.87 1542.27 Q2314.7 1545.82 2318.31 1545.82 Q2321.94 1545.82 2323.75 1542.27 Q2325.58 1538.71 2325.58 1531.6 Q2325.58 1524.47 2323.75 1520.93 Q2321.94 1517.37 2318.31 1517.37 M2318.31 1513.66 Q2324.12 1513.66 2327.18 1518.27 Q2330.25 1522.85 2330.25 1531.6 Q2330.25 1540.33 2327.18 1544.94 Q2324.12 1549.52 2318.31 1549.52 Q2312.5 1549.52 2309.42 1544.94 Q2306.37 1540.33 2306.37 1531.6 Q2306.37 1522.85 2309.42 1518.27 Q2312.5 1513.66 2318.31 1513.66 Z\" fill=\"#000000\" fill-rule=\"nonzero\" fill-opacity=\"1\" /><path clip-path=\"url(#clip520)\" d=\"M2348.47 1517.37 Q2344.86 1517.37 2343.03 1520.93 Q2341.23 1524.47 2341.23 1531.6 Q2341.23 1538.71 2343.03 1542.27 Q2344.86 1545.82 2348.47 1545.82 Q2352.11 1545.82 2353.91 1542.27 Q2355.74 1538.71 2355.74 1531.6 Q2355.74 1524.47 2353.91 1520.93 Q2352.11 1517.37 2348.47 1517.37 M2348.47 1513.66 Q2354.28 1513.66 2357.34 1518.27 Q2360.42 1522.85 2360.42 1531.6 Q2360.42 1540.33 2357.34 1544.94 Q2354.28 1549.52 2348.47 1549.52 Q2342.66 1549.52 2339.58 1544.94 Q2336.53 1540.33 2336.53 1531.6 Q2336.53 1522.85 2339.58 1518.27 Q2342.66 1513.66 2348.47 1513.66 Z\" fill=\"#000000\" fill-rule=\"nonzero\" fill-opacity=\"1\" /><polyline clip-path=\"url(#clip522)\" style=\"stroke:#000000; stroke-linecap:round; stroke-linejoin:round; stroke-width:2; stroke-opacity:0.1; fill:none\" points=\"336.597,1445.72 2352.76,1445.72 \"/>\n",
       "<polyline clip-path=\"url(#clip522)\" style=\"stroke:#000000; stroke-linecap:round; stroke-linejoin:round; stroke-width:2; stroke-opacity:0.1; fill:none\" points=\"336.597,1200.17 2352.76,1200.17 \"/>\n",
       "<polyline clip-path=\"url(#clip522)\" style=\"stroke:#000000; stroke-linecap:round; stroke-linejoin:round; stroke-width:2; stroke-opacity:0.1; fill:none\" points=\"336.597,954.626 2352.76,954.626 \"/>\n",
       "<polyline clip-path=\"url(#clip522)\" style=\"stroke:#000000; stroke-linecap:round; stroke-linejoin:round; stroke-width:2; stroke-opacity:0.1; fill:none\" points=\"336.597,709.08 2352.76,709.08 \"/>\n",
       "<polyline clip-path=\"url(#clip522)\" style=\"stroke:#000000; stroke-linecap:round; stroke-linejoin:round; stroke-width:2; stroke-opacity:0.1; fill:none\" points=\"336.597,463.535 2352.76,463.535 \"/>\n",
       "<polyline clip-path=\"url(#clip522)\" style=\"stroke:#000000; stroke-linecap:round; stroke-linejoin:round; stroke-width:2; stroke-opacity:0.1; fill:none\" points=\"336.597,217.99 2352.76,217.99 \"/>\n",
       "<polyline clip-path=\"url(#clip520)\" style=\"stroke:#000000; stroke-linecap:round; stroke-linejoin:round; stroke-width:4; stroke-opacity:1; fill:none\" points=\"336.597,1486.45 336.597,47.2441 \"/>\n",
       "<polyline clip-path=\"url(#clip520)\" style=\"stroke:#000000; stroke-linecap:round; stroke-linejoin:round; stroke-width:4; stroke-opacity:1; fill:none\" points=\"336.597,1445.72 355.495,1445.72 \"/>\n",
       "<polyline clip-path=\"url(#clip520)\" style=\"stroke:#000000; stroke-linecap:round; stroke-linejoin:round; stroke-width:4; stroke-opacity:1; fill:none\" points=\"336.597,1200.17 355.495,1200.17 \"/>\n",
       "<polyline clip-path=\"url(#clip520)\" style=\"stroke:#000000; stroke-linecap:round; stroke-linejoin:round; stroke-width:4; stroke-opacity:1; fill:none\" points=\"336.597,954.626 355.495,954.626 \"/>\n",
       "<polyline clip-path=\"url(#clip520)\" style=\"stroke:#000000; stroke-linecap:round; stroke-linejoin:round; stroke-width:4; stroke-opacity:1; fill:none\" points=\"336.597,709.08 355.495,709.08 \"/>\n",
       "<polyline clip-path=\"url(#clip520)\" style=\"stroke:#000000; stroke-linecap:round; stroke-linejoin:round; stroke-width:4; stroke-opacity:1; fill:none\" points=\"336.597,463.535 355.495,463.535 \"/>\n",
       "<polyline clip-path=\"url(#clip520)\" style=\"stroke:#000000; stroke-linecap:round; stroke-linejoin:round; stroke-width:4; stroke-opacity:1; fill:none\" points=\"336.597,217.99 355.495,217.99 \"/>\n",
       "<path clip-path=\"url(#clip520)\" d=\"M288.653 1431.51 Q285.042 1431.51 283.213 1435.08 Q281.408 1438.62 281.408 1445.75 Q281.408 1452.86 283.213 1456.42 Q285.042 1459.96 288.653 1459.96 Q292.287 1459.96 294.093 1456.42 Q295.921 1452.86 295.921 1445.75 Q295.921 1438.62 294.093 1435.08 Q292.287 1431.51 288.653 1431.51 M288.653 1427.81 Q294.463 1427.81 297.519 1432.42 Q300.597 1437 300.597 1445.75 Q300.597 1454.48 297.519 1459.08 Q294.463 1463.67 288.653 1463.67 Q282.843 1463.67 279.764 1459.08 Q276.709 1454.48 276.709 1445.75 Q276.709 1437 279.764 1432.42 Q282.843 1427.81 288.653 1427.81 Z\" fill=\"#000000\" fill-rule=\"nonzero\" fill-opacity=\"1\" /><path clip-path=\"url(#clip520)\" d=\"M56.6171 1219.96 L72.9365 1219.96 L72.9365 1223.9 L50.9921 1223.9 L50.9921 1219.96 Q53.6541 1217.21 58.2375 1212.58 Q62.8439 1207.93 64.0245 1206.58 Q66.2698 1204.06 67.1494 1202.32 Q68.0522 1200.57 68.0522 1198.88 Q68.0522 1196.12 66.1078 1194.38 Q64.1865 1192.65 61.0847 1192.65 Q58.8856 1192.65 56.4319 1193.41 Q54.0014 1194.18 51.2236 1195.73 L51.2236 1191 Q54.0477 1189.87 56.5014 1189.29 Q58.955 1188.71 60.9921 1188.71 Q66.3624 1188.71 69.5568 1191.4 Q72.7513 1194.08 72.7513 1198.57 Q72.7513 1200.7 71.9411 1202.63 Q71.1541 1204.52 69.0476 1207.12 Q68.4689 1207.79 65.367 1211 Q62.2652 1214.2 56.6171 1219.96 Z\" fill=\"#000000\" fill-rule=\"nonzero\" fill-opacity=\"1\" /><path clip-path=\"url(#clip520)\" d=\"M82.7512 1218.02 L87.6354 1218.02 L87.6354 1223.9 L82.7512 1223.9 L82.7512 1218.02 Z\" fill=\"#000000\" fill-rule=\"nonzero\" fill-opacity=\"1\" /><path clip-path=\"url(#clip520)\" d=\"M97.8669 1189.34 L116.223 1189.34 L116.223 1193.27 L102.149 1193.27 L102.149 1201.75 Q103.168 1201.4 104.186 1201.24 Q105.205 1201.05 106.223 1201.05 Q112.01 1201.05 115.39 1204.22 Q118.77 1207.39 118.77 1212.81 Q118.77 1218.39 115.297 1221.49 Q111.825 1224.57 105.506 1224.57 Q103.33 1224.57 101.061 1224.2 Q98.8159 1223.83 96.4085 1223.09 L96.4085 1218.39 Q98.4919 1219.52 100.714 1220.08 Q102.936 1220.63 105.413 1220.63 Q109.418 1220.63 111.756 1218.53 Q114.094 1216.42 114.094 1212.81 Q114.094 1209.2 111.756 1207.09 Q109.418 1204.99 105.413 1204.99 Q103.538 1204.99 101.663 1205.4 Q99.8113 1205.82 97.8669 1206.7 L97.8669 1189.34 Z\" fill=\"#000000\" fill-rule=\"nonzero\" fill-opacity=\"1\" /><path clip-path=\"url(#clip520)\" d=\"M137.982 1192.42 Q134.371 1192.42 132.543 1195.98 Q130.737 1199.52 130.737 1206.65 Q130.737 1213.76 132.543 1217.32 Q134.371 1220.87 137.982 1220.87 Q141.617 1220.87 143.422 1217.32 Q145.251 1213.76 145.251 1206.65 Q145.251 1199.52 143.422 1195.98 Q141.617 1192.42 137.982 1192.42 M137.982 1188.71 Q143.793 1188.71 146.848 1193.32 Q149.927 1197.9 149.927 1206.65 Q149.927 1215.38 146.848 1219.99 Q143.793 1224.57 137.982 1224.57 Q132.172 1224.57 129.094 1219.99 Q126.038 1215.38 126.038 1206.65 Q126.038 1197.9 129.094 1193.32 Q132.172 1188.71 137.982 1188.71 Z\" fill=\"#000000\" fill-rule=\"nonzero\" fill-opacity=\"1\" /><path clip-path=\"url(#clip520)\" d=\"M168.144 1192.42 Q164.533 1192.42 162.704 1195.98 Q160.899 1199.52 160.899 1206.65 Q160.899 1213.76 162.704 1217.32 Q164.533 1220.87 168.144 1220.87 Q171.779 1220.87 173.584 1217.32 Q175.413 1213.76 175.413 1206.65 Q175.413 1199.52 173.584 1195.98 Q171.779 1192.42 168.144 1192.42 M168.144 1188.71 Q173.954 1188.71 177.01 1193.32 Q180.089 1197.9 180.089 1206.65 Q180.089 1215.38 177.01 1219.99 Q173.954 1224.57 168.144 1224.57 Q162.334 1224.57 159.255 1219.99 Q156.2 1215.38 156.2 1206.65 Q156.2 1197.9 159.255 1193.32 Q162.334 1188.71 168.144 1188.71 Z\" fill=\"#000000\" fill-rule=\"nonzero\" fill-opacity=\"1\" /><path clip-path=\"url(#clip520)\" d=\"M216.477 1198.44 L205.899 1209.06 L216.477 1219.64 L213.723 1222.44 L203.098 1211.81 L192.473 1222.44 L189.741 1219.64 L200.297 1209.06 L189.741 1198.44 L192.473 1195.63 L203.098 1206.26 L213.723 1195.63 L216.477 1198.44 Z\" fill=\"#000000\" fill-rule=\"nonzero\" fill-opacity=\"1\" /><path clip-path=\"url(#clip520)\" d=\"M228.838 1219.96 L236.477 1219.96 L236.477 1193.6 L228.167 1195.26 L228.167 1191 L236.431 1189.34 L241.107 1189.34 L241.107 1219.96 L248.746 1219.96 L248.746 1223.9 L228.838 1223.9 L228.838 1219.96 Z\" fill=\"#000000\" fill-rule=\"nonzero\" fill-opacity=\"1\" /><path clip-path=\"url(#clip520)\" d=\"M268.19 1192.42 Q264.579 1192.42 262.75 1195.98 Q260.945 1199.52 260.945 1206.65 Q260.945 1213.76 262.75 1217.32 Q264.579 1220.87 268.19 1220.87 Q271.824 1220.87 273.63 1217.32 Q275.459 1213.76 275.459 1206.65 Q275.459 1199.52 273.63 1195.98 Q271.824 1192.42 268.19 1192.42 M268.19 1188.71 Q274 1188.71 277.056 1193.32 Q280.134 1197.9 280.134 1206.65 Q280.134 1215.38 277.056 1219.99 Q274 1224.57 268.19 1224.57 Q262.38 1224.57 259.301 1219.99 Q256.246 1215.38 256.246 1206.65 Q256.246 1197.9 259.301 1193.32 Q262.38 1188.71 268.19 1188.71 Z\" fill=\"#000000\" fill-rule=\"nonzero\" fill-opacity=\"1\" /><path clip-path=\"url(#clip520)\" d=\"M292.811 1171.72 L283.219 1186.71 L292.811 1186.71 L292.811 1171.72 M291.814 1168.41 L296.591 1168.41 L296.591 1186.71 L300.597 1186.71 L300.597 1189.87 L296.591 1189.87 L296.591 1196.49 L292.811 1196.49 L292.811 1189.87 L280.134 1189.87 L280.134 1186.2 L291.814 1168.41 Z\" fill=\"#000000\" fill-rule=\"nonzero\" fill-opacity=\"1\" /><path clip-path=\"url(#clip520)\" d=\"M52.6356 943.793 L70.992 943.793 L70.992 947.728 L56.918 947.728 L56.918 956.2 Q57.9365 955.853 58.955 955.691 Q59.9736 955.506 60.9921 955.506 Q66.7791 955.506 70.1587 958.677 Q73.5383 961.849 73.5383 967.265 Q73.5383 972.844 70.0661 975.946 Q66.5939 979.024 60.2745 979.024 Q58.0986 979.024 55.8301 978.654 Q53.5847 978.284 51.1773 977.543 L51.1773 972.844 Q53.2606 973.978 55.4828 974.534 Q57.7051 975.089 60.1819 975.089 Q64.1865 975.089 66.5245 972.983 Q68.8624 970.876 68.8624 967.265 Q68.8624 963.654 66.5245 961.548 Q64.1865 959.441 60.1819 959.441 Q58.3069 959.441 56.4319 959.858 Q54.5801 960.275 52.6356 961.154 L52.6356 943.793 Z\" fill=\"#000000\" fill-rule=\"nonzero\" fill-opacity=\"1\" /><path clip-path=\"url(#clip520)\" d=\"M82.7512 972.474 L87.6354 972.474 L87.6354 978.353 L82.7512 978.353 L82.7512 972.474 Z\" fill=\"#000000\" fill-rule=\"nonzero\" fill-opacity=\"1\" /><path clip-path=\"url(#clip520)\" d=\"M107.821 946.872 Q104.209 946.872 102.381 950.437 Q100.575 953.978 100.575 961.108 Q100.575 968.214 102.381 971.779 Q104.209 975.321 107.821 975.321 Q111.455 975.321 113.26 971.779 Q115.089 968.214 115.089 961.108 Q115.089 953.978 113.26 950.437 Q111.455 946.872 107.821 946.872 M107.821 943.168 Q113.631 943.168 116.686 947.775 Q119.765 952.358 119.765 961.108 Q119.765 969.835 116.686 974.441 Q113.631 979.024 107.821 979.024 Q102.01 979.024 98.9317 974.441 Q95.8761 969.835 95.8761 961.108 Q95.8761 952.358 98.9317 947.775 Q102.01 943.168 107.821 943.168 Z\" fill=\"#000000\" fill-rule=\"nonzero\" fill-opacity=\"1\" /><path clip-path=\"url(#clip520)\" d=\"M137.982 946.872 Q134.371 946.872 132.543 950.437 Q130.737 953.978 130.737 961.108 Q130.737 968.214 132.543 971.779 Q134.371 975.321 137.982 975.321 Q141.617 975.321 143.422 971.779 Q145.251 968.214 145.251 961.108 Q145.251 953.978 143.422 950.437 Q141.617 946.872 137.982 946.872 M137.982 943.168 Q143.793 943.168 146.848 947.775 Q149.927 952.358 149.927 961.108 Q149.927 969.835 146.848 974.441 Q143.793 979.024 137.982 979.024 Q132.172 979.024 129.094 974.441 Q126.038 969.835 126.038 961.108 Q126.038 952.358 129.094 947.775 Q132.172 943.168 137.982 943.168 Z\" fill=\"#000000\" fill-rule=\"nonzero\" fill-opacity=\"1\" /><path clip-path=\"url(#clip520)\" d=\"M168.144 946.872 Q164.533 946.872 162.704 950.437 Q160.899 953.978 160.899 961.108 Q160.899 968.214 162.704 971.779 Q164.533 975.321 168.144 975.321 Q171.779 975.321 173.584 971.779 Q175.413 968.214 175.413 961.108 Q175.413 953.978 173.584 950.437 Q171.779 946.872 168.144 946.872 M168.144 943.168 Q173.954 943.168 177.01 947.775 Q180.089 952.358 180.089 961.108 Q180.089 969.835 177.01 974.441 Q173.954 979.024 168.144 979.024 Q162.334 979.024 159.255 974.441 Q156.2 969.835 156.2 961.108 Q156.2 952.358 159.255 947.775 Q162.334 943.168 168.144 943.168 Z\" fill=\"#000000\" fill-rule=\"nonzero\" fill-opacity=\"1\" /><path clip-path=\"url(#clip520)\" d=\"M216.477 952.89 L205.899 963.515 L216.477 974.094 L213.723 976.895 L203.098 966.27 L192.473 976.895 L189.741 974.094 L200.297 963.515 L189.741 952.89 L192.473 950.089 L203.098 960.714 L213.723 950.089 L216.477 952.89 Z\" fill=\"#000000\" fill-rule=\"nonzero\" fill-opacity=\"1\" /><path clip-path=\"url(#clip520)\" d=\"M228.838 974.418 L236.477 974.418 L236.477 948.052 L228.167 949.719 L228.167 945.46 L236.431 943.793 L241.107 943.793 L241.107 974.418 L248.746 974.418 L248.746 978.353 L228.838 978.353 L228.838 974.418 Z\" fill=\"#000000\" fill-rule=\"nonzero\" fill-opacity=\"1\" /><path clip-path=\"url(#clip520)\" d=\"M268.19 946.872 Q264.579 946.872 262.75 950.437 Q260.945 953.978 260.945 961.108 Q260.945 968.214 262.75 971.779 Q264.579 975.321 268.19 975.321 Q271.824 975.321 273.63 971.779 Q275.459 968.214 275.459 961.108 Q275.459 953.978 273.63 950.437 Q271.824 946.872 268.19 946.872 M268.19 943.168 Q274 943.168 277.056 947.775 Q280.134 952.358 280.134 961.108 Q280.134 969.835 277.056 974.441 Q274 979.024 268.19 979.024 Q262.38 979.024 259.301 974.441 Q256.246 969.835 256.246 961.108 Q256.246 952.358 259.301 947.775 Q262.38 943.168 268.19 943.168 Z\" fill=\"#000000\" fill-rule=\"nonzero\" fill-opacity=\"1\" /><path clip-path=\"url(#clip520)\" d=\"M292.811 926.173 L283.219 941.163 L292.811 941.163 L292.811 926.173 M291.814 922.863 L296.591 922.863 L296.591 941.163 L300.597 941.163 L300.597 944.322 L296.591 944.322 L296.591 950.943 L292.811 950.943 L292.811 944.322 L280.134 944.322 L280.134 940.655 L291.814 922.863 Z\" fill=\"#000000\" fill-rule=\"nonzero\" fill-opacity=\"1\" /><path clip-path=\"url(#clip520)\" d=\"M51.4088 698.248 L73.6309 698.248 L73.6309 700.239 L61.0847 732.808 L56.2004 732.808 L68.0059 702.183 L51.4088 702.183 L51.4088 698.248 Z\" fill=\"#000000\" fill-rule=\"nonzero\" fill-opacity=\"1\" /><path clip-path=\"url(#clip520)\" d=\"M82.7512 726.928 L87.6354 726.928 L87.6354 732.808 L82.7512 732.808 L82.7512 726.928 Z\" fill=\"#000000\" fill-rule=\"nonzero\" fill-opacity=\"1\" /><path clip-path=\"url(#clip520)\" d=\"M97.8669 698.248 L116.223 698.248 L116.223 702.183 L102.149 702.183 L102.149 710.655 Q103.168 710.308 104.186 710.146 Q105.205 709.961 106.223 709.961 Q112.01 709.961 115.39 713.132 Q118.77 716.304 118.77 721.72 Q118.77 727.299 115.297 730.401 Q111.825 733.479 105.506 733.479 Q103.33 733.479 101.061 733.109 Q98.8159 732.739 96.4085 731.998 L96.4085 727.299 Q98.4919 728.433 100.714 728.989 Q102.936 729.544 105.413 729.544 Q109.418 729.544 111.756 727.438 Q114.094 725.331 114.094 721.72 Q114.094 718.109 111.756 716.003 Q109.418 713.896 105.413 713.896 Q103.538 713.896 101.663 714.313 Q99.8113 714.729 97.8669 715.609 L97.8669 698.248 Z\" fill=\"#000000\" fill-rule=\"nonzero\" fill-opacity=\"1\" /><path clip-path=\"url(#clip520)\" d=\"M137.982 701.327 Q134.371 701.327 132.543 704.892 Q130.737 708.433 130.737 715.563 Q130.737 722.669 132.543 726.234 Q134.371 729.776 137.982 729.776 Q141.617 729.776 143.422 726.234 Q145.251 722.669 145.251 715.563 Q145.251 708.433 143.422 704.892 Q141.617 701.327 137.982 701.327 M137.982 697.623 Q143.793 697.623 146.848 702.23 Q149.927 706.813 149.927 715.563 Q149.927 724.29 146.848 728.896 Q143.793 733.479 137.982 733.479 Q132.172 733.479 129.094 728.896 Q126.038 724.29 126.038 715.563 Q126.038 706.813 129.094 702.23 Q132.172 697.623 137.982 697.623 Z\" fill=\"#000000\" fill-rule=\"nonzero\" fill-opacity=\"1\" /><path clip-path=\"url(#clip520)\" d=\"M168.144 701.327 Q164.533 701.327 162.704 704.892 Q160.899 708.433 160.899 715.563 Q160.899 722.669 162.704 726.234 Q164.533 729.776 168.144 729.776 Q171.779 729.776 173.584 726.234 Q175.413 722.669 175.413 715.563 Q175.413 708.433 173.584 704.892 Q171.779 701.327 168.144 701.327 M168.144 697.623 Q173.954 697.623 177.01 702.23 Q180.089 706.813 180.089 715.563 Q180.089 724.29 177.01 728.896 Q173.954 733.479 168.144 733.479 Q162.334 733.479 159.255 728.896 Q156.2 724.29 156.2 715.563 Q156.2 706.813 159.255 702.23 Q162.334 697.623 168.144 697.623 Z\" fill=\"#000000\" fill-rule=\"nonzero\" fill-opacity=\"1\" /><path clip-path=\"url(#clip520)\" d=\"M216.477 707.345 L205.899 717.97 L216.477 728.549 L213.723 731.35 L203.098 720.725 L192.473 731.35 L189.741 728.549 L200.297 717.97 L189.741 707.345 L192.473 704.544 L203.098 715.169 L213.723 704.544 L216.477 707.345 Z\" fill=\"#000000\" fill-rule=\"nonzero\" fill-opacity=\"1\" /><path clip-path=\"url(#clip520)\" d=\"M228.838 728.873 L236.477 728.873 L236.477 702.507 L228.167 704.174 L228.167 699.915 L236.431 698.248 L241.107 698.248 L241.107 728.873 L248.746 728.873 L248.746 732.808 L228.838 732.808 L228.838 728.873 Z\" fill=\"#000000\" fill-rule=\"nonzero\" fill-opacity=\"1\" /><path clip-path=\"url(#clip520)\" d=\"M268.19 701.327 Q264.579 701.327 262.75 704.892 Q260.945 708.433 260.945 715.563 Q260.945 722.669 262.75 726.234 Q264.579 729.776 268.19 729.776 Q271.824 729.776 273.63 726.234 Q275.459 722.669 275.459 715.563 Q275.459 708.433 273.63 704.892 Q271.824 701.327 268.19 701.327 M268.19 697.623 Q274 697.623 277.056 702.23 Q280.134 706.813 280.134 715.563 Q280.134 724.29 277.056 728.896 Q274 733.479 268.19 733.479 Q262.38 733.479 259.301 728.896 Q256.246 724.29 256.246 715.563 Q256.246 706.813 259.301 702.23 Q262.38 697.623 268.19 697.623 Z\" fill=\"#000000\" fill-rule=\"nonzero\" fill-opacity=\"1\" /><path clip-path=\"url(#clip520)\" d=\"M292.811 680.628 L283.219 695.618 L292.811 695.618 L292.811 680.628 M291.814 677.318 L296.591 677.318 L296.591 695.618 L300.597 695.618 L300.597 698.777 L296.591 698.777 L296.591 705.398 L292.811 705.398 L292.811 698.777 L280.134 698.777 L280.134 695.11 L291.814 677.318 Z\" fill=\"#000000\" fill-rule=\"nonzero\" fill-opacity=\"1\" /><path clip-path=\"url(#clip520)\" d=\"M55.6941 483.328 L63.3329 483.328 L63.3329 456.962 L55.0228 458.629 L55.0228 454.37 L63.2866 452.703 L67.9625 452.703 L67.9625 483.328 L75.6014 483.328 L75.6014 487.263 L55.6941 487.263 L55.6941 483.328 Z\" fill=\"#000000\" fill-rule=\"nonzero\" fill-opacity=\"1\" /><path clip-path=\"url(#clip520)\" d=\"M85.0458 481.383 L89.93 481.383 L89.93 487.263 L85.0458 487.263 L85.0458 481.383 Z\" fill=\"#000000\" fill-rule=\"nonzero\" fill-opacity=\"1\" /><path clip-path=\"url(#clip520)\" d=\"M110.115 455.782 Q106.504 455.782 104.675 459.346 Q102.87 462.888 102.87 470.018 Q102.87 477.124 104.675 480.689 Q106.504 484.231 110.115 484.231 Q113.749 484.231 115.555 480.689 Q117.384 477.124 117.384 470.018 Q117.384 462.888 115.555 459.346 Q113.749 455.782 110.115 455.782 M110.115 452.078 Q115.925 452.078 118.981 456.684 Q122.059 461.268 122.059 470.018 Q122.059 478.745 118.981 483.351 Q115.925 487.934 110.115 487.934 Q104.305 487.934 101.226 483.351 Q98.1707 478.745 98.1707 470.018 Q98.1707 461.268 101.226 456.684 Q104.305 452.078 110.115 452.078 Z\" fill=\"#000000\" fill-rule=\"nonzero\" fill-opacity=\"1\" /><path clip-path=\"url(#clip520)\" d=\"M140.277 455.782 Q136.666 455.782 134.837 459.346 Q133.032 462.888 133.032 470.018 Q133.032 477.124 134.837 480.689 Q136.666 484.231 140.277 484.231 Q143.911 484.231 145.717 480.689 Q147.545 477.124 147.545 470.018 Q147.545 462.888 145.717 459.346 Q143.911 455.782 140.277 455.782 M140.277 452.078 Q146.087 452.078 149.143 456.684 Q152.221 461.268 152.221 470.018 Q152.221 478.745 149.143 483.351 Q146.087 487.934 140.277 487.934 Q134.467 487.934 131.388 483.351 Q128.333 478.745 128.333 470.018 Q128.333 461.268 131.388 456.684 Q134.467 452.078 140.277 452.078 Z\" fill=\"#000000\" fill-rule=\"nonzero\" fill-opacity=\"1\" /><path clip-path=\"url(#clip520)\" d=\"M170.439 455.782 Q166.828 455.782 164.999 459.346 Q163.193 462.888 163.193 470.018 Q163.193 477.124 164.999 480.689 Q166.828 484.231 170.439 484.231 Q174.073 484.231 175.879 480.689 Q177.707 477.124 177.707 470.018 Q177.707 462.888 175.879 459.346 Q174.073 455.782 170.439 455.782 M170.439 452.078 Q176.249 452.078 179.305 456.684 Q182.383 461.268 182.383 470.018 Q182.383 478.745 179.305 483.351 Q176.249 487.934 170.439 487.934 Q164.629 487.934 161.55 483.351 Q158.494 478.745 158.494 470.018 Q158.494 461.268 161.55 456.684 Q164.629 452.078 170.439 452.078 Z\" fill=\"#000000\" fill-rule=\"nonzero\" fill-opacity=\"1\" /><path clip-path=\"url(#clip520)\" d=\"M218.772 461.8 L208.193 472.425 L218.772 483.004 L216.017 485.805 L205.392 475.18 L194.767 485.805 L192.036 483.004 L202.591 472.425 L192.036 461.8 L194.767 458.999 L205.392 469.624 L216.017 458.999 L218.772 461.8 Z\" fill=\"#000000\" fill-rule=\"nonzero\" fill-opacity=\"1\" /><path clip-path=\"url(#clip520)\" d=\"M231.133 483.328 L238.772 483.328 L238.772 456.962 L230.462 458.629 L230.462 454.37 L238.725 452.703 L243.401 452.703 L243.401 483.328 L251.04 483.328 L251.04 487.263 L231.133 487.263 L231.133 483.328 Z\" fill=\"#000000\" fill-rule=\"nonzero\" fill-opacity=\"1\" /><path clip-path=\"url(#clip520)\" d=\"M270.485 455.782 Q266.873 455.782 265.045 459.346 Q263.239 462.888 263.239 470.018 Q263.239 477.124 265.045 480.689 Q266.873 484.231 270.485 484.231 Q274.119 484.231 275.924 480.689 Q277.753 477.124 277.753 470.018 Q277.753 462.888 275.924 459.346 Q274.119 455.782 270.485 455.782 M270.485 452.078 Q276.295 452.078 279.35 456.684 Q282.429 461.268 282.429 470.018 Q282.429 478.745 279.35 483.351 Q276.295 487.934 270.485 487.934 Q264.674 487.934 261.596 483.351 Q258.54 478.745 258.54 470.018 Q258.54 461.268 261.596 456.684 Q264.674 452.078 270.485 452.078 Z\" fill=\"#000000\" fill-rule=\"nonzero\" fill-opacity=\"1\" /><path clip-path=\"url(#clip520)\" d=\"M283.614 431.773 L298.528 431.773 L298.528 434.97 L287.093 434.97 L287.093 441.854 Q287.921 441.571 288.748 441.44 Q289.576 441.289 290.403 441.289 Q295.105 441.289 297.851 443.866 Q300.597 446.443 300.597 450.844 Q300.597 455.376 297.776 457.897 Q294.955 460.398 289.82 460.398 Q288.052 460.398 286.209 460.097 Q284.385 459.796 282.429 459.194 L282.429 455.376 Q284.122 456.298 285.927 456.749 Q287.733 457.201 289.745 457.201 Q292.999 457.201 294.899 455.489 Q296.798 453.778 296.798 450.844 Q296.798 447.91 294.899 446.198 Q292.999 444.487 289.745 444.487 Q288.222 444.487 286.698 444.825 Q285.194 445.164 283.614 445.878 L283.614 431.773 Z\" fill=\"#000000\" fill-rule=\"nonzero\" fill-opacity=\"1\" /><path clip-path=\"url(#clip520)\" d=\"M55.6941 237.783 L63.3329 237.783 L63.3329 211.417 L55.0228 213.084 L55.0228 208.825 L63.2866 207.158 L67.9625 207.158 L67.9625 237.783 L75.6014 237.783 L75.6014 241.718 L55.6941 241.718 L55.6941 237.783 Z\" fill=\"#000000\" fill-rule=\"nonzero\" fill-opacity=\"1\" /><path clip-path=\"url(#clip520)\" d=\"M85.0458 235.838 L89.93 235.838 L89.93 241.718 L85.0458 241.718 L85.0458 235.838 Z\" fill=\"#000000\" fill-rule=\"nonzero\" fill-opacity=\"1\" /><path clip-path=\"url(#clip520)\" d=\"M104.143 237.783 L120.462 237.783 L120.462 241.718 L98.5179 241.718 L98.5179 237.783 Q101.18 235.028 105.763 230.399 Q110.37 225.746 111.55 224.403 Q113.796 221.88 114.675 220.144 Q115.578 218.385 115.578 216.695 Q115.578 213.94 113.634 212.204 Q111.712 210.468 108.61 210.468 Q106.411 210.468 103.958 211.232 Q101.527 211.996 98.7494 213.547 L98.7494 208.825 Q101.573 207.69 104.027 207.112 Q106.481 206.533 108.518 206.533 Q113.888 206.533 117.083 209.218 Q120.277 211.903 120.277 216.394 Q120.277 218.524 119.467 220.445 Q118.68 222.343 116.573 224.936 Q115.995 225.607 112.893 228.824 Q109.791 232.019 104.143 237.783 Z\" fill=\"#000000\" fill-rule=\"nonzero\" fill-opacity=\"1\" /><path clip-path=\"url(#clip520)\" d=\"M130.323 207.158 L148.68 207.158 L148.68 211.093 L134.606 211.093 L134.606 219.565 Q135.624 219.218 136.643 219.056 Q137.661 218.871 138.68 218.871 Q144.467 218.871 147.846 222.042 Q151.226 225.213 151.226 230.63 Q151.226 236.209 147.754 239.311 Q144.282 242.389 137.962 242.389 Q135.786 242.389 133.518 242.019 Q131.272 241.648 128.865 240.908 L128.865 236.209 Q130.948 237.343 133.171 237.898 Q135.393 238.454 137.87 238.454 Q141.874 238.454 144.212 236.348 Q146.55 234.241 146.55 230.63 Q146.55 227.019 144.212 224.912 Q141.874 222.806 137.87 222.806 Q135.995 222.806 134.12 223.223 Q132.268 223.639 130.323 224.519 L130.323 207.158 Z\" fill=\"#000000\" fill-rule=\"nonzero\" fill-opacity=\"1\" /><path clip-path=\"url(#clip520)\" d=\"M170.439 210.237 Q166.828 210.237 164.999 213.801 Q163.193 217.343 163.193 224.473 Q163.193 231.579 164.999 235.144 Q166.828 238.686 170.439 238.686 Q174.073 238.686 175.879 235.144 Q177.707 231.579 177.707 224.473 Q177.707 217.343 175.879 213.801 Q174.073 210.237 170.439 210.237 M170.439 206.533 Q176.249 206.533 179.305 211.139 Q182.383 215.723 182.383 224.473 Q182.383 233.199 179.305 237.806 Q176.249 242.389 170.439 242.389 Q164.629 242.389 161.55 237.806 Q158.494 233.199 158.494 224.473 Q158.494 215.723 161.55 211.139 Q164.629 206.533 170.439 206.533 Z\" fill=\"#000000\" fill-rule=\"nonzero\" fill-opacity=\"1\" /><path clip-path=\"url(#clip520)\" d=\"M218.772 216.255 L208.193 226.88 L218.772 237.459 L216.017 240.26 L205.392 229.635 L194.767 240.26 L192.036 237.459 L202.591 226.88 L192.036 216.255 L194.767 213.454 L205.392 224.079 L216.017 213.454 L218.772 216.255 Z\" fill=\"#000000\" fill-rule=\"nonzero\" fill-opacity=\"1\" /><path clip-path=\"url(#clip520)\" d=\"M231.133 237.783 L238.772 237.783 L238.772 211.417 L230.462 213.084 L230.462 208.825 L238.725 207.158 L243.401 207.158 L243.401 237.783 L251.04 237.783 L251.04 241.718 L231.133 241.718 L231.133 237.783 Z\" fill=\"#000000\" fill-rule=\"nonzero\" fill-opacity=\"1\" /><path clip-path=\"url(#clip520)\" d=\"M270.485 210.237 Q266.873 210.237 265.045 213.801 Q263.239 217.343 263.239 224.473 Q263.239 231.579 265.045 235.144 Q266.873 238.686 270.485 238.686 Q274.119 238.686 275.924 235.144 Q277.753 231.579 277.753 224.473 Q277.753 217.343 275.924 213.801 Q274.119 210.237 270.485 210.237 M270.485 206.533 Q276.295 206.533 279.35 211.139 Q282.429 215.723 282.429 224.473 Q282.429 233.199 279.35 237.806 Q276.295 242.389 270.485 242.389 Q264.674 242.389 261.596 237.806 Q258.54 233.199 258.54 224.473 Q258.54 215.723 261.596 211.139 Q264.674 206.533 270.485 206.533 Z\" fill=\"#000000\" fill-rule=\"nonzero\" fill-opacity=\"1\" /><path clip-path=\"url(#clip520)\" d=\"M283.614 186.228 L298.528 186.228 L298.528 189.425 L287.093 189.425 L287.093 196.308 Q287.921 196.026 288.748 195.895 Q289.576 195.744 290.403 195.744 Q295.105 195.744 297.851 198.321 Q300.597 200.898 300.597 205.299 Q300.597 209.831 297.776 212.351 Q294.955 214.853 289.82 214.853 Q288.052 214.853 286.209 214.552 Q284.385 214.251 282.429 213.649 L282.429 209.831 Q284.122 210.753 285.927 211.204 Q287.733 211.656 289.745 211.656 Q292.999 211.656 294.899 209.944 Q296.798 208.233 296.798 205.299 Q296.798 202.365 294.899 200.653 Q292.999 198.942 289.745 198.942 Q288.222 198.942 286.698 199.28 Q285.194 199.619 283.614 200.333 L283.614 186.228 Z\" fill=\"#000000\" fill-rule=\"nonzero\" fill-opacity=\"1\" /><polyline clip-path=\"url(#clip522)\" style=\"stroke:#009af9; stroke-linecap:round; stroke-linejoin:round; stroke-width:4; stroke-opacity:1; fill:none\" points=\"393.658,1445.72 412.871,1445.72 432.083,1445.72 451.296,1445.72 470.508,1445.72 489.721,1445.72 508.933,1445.72 528.146,1445.72 547.358,1445.72 566.571,1445.72 585.783,1445.72 604.996,1445.72 624.208,1445.72 643.421,1445.72 662.633,1445.72 681.846,1445.72 701.058,1445.72 720.271,1445.71 739.483,1445.71 758.696,1445.71 777.908,1445.71 797.121,1445.71 816.333,1445.71 835.546,1445.71 854.758,1445.71 873.971,1445.71 893.183,1445.71 912.396,1445.71 931.608,1445.71 950.821,1445.71 970.033,1445.71 989.246,1445.71 1008.46,1445.71 1027.67,1445.7 1046.88,1445.63 1066.1,1439.2 1085.31,1429.09 1104.52,1419.99 1123.73,1407.7 1142.95,1390.8 1162.16,1368.87 1181.37,1342.29 1200.58,1312.31 1219.8,1280.29 1239.01,1246.33 1258.22,1204.34 1277.43,1145.85 1296.65,1132.95 1315.86,1119.78 1335.07,1106.33 1354.28,1092.62 1373.5,1078.63 1392.71,1064.37 1411.92,1049.84 1431.13,1035.04 1450.35,1019.96 1469.56,1004.62 1488.77,989.004 1507.98,973.119 1527.2,956.958 1546.41,940.53 1565.62,923.826 1584.83,906.855 1604.05,889.608 1623.26,872.094 1642.47,854.305 1661.68,836.248 1680.9,817.917 1700.11,799.317 1719.32,780.444 1738.53,761.3 1757.75,741.885 1776.96,722.198 1796.17,702.24 1815.38,682.01 1834.6,661.509 1853.81,640.736 1873.02,619.693 1892.23,598.377 1911.45,576.791 1930.66,554.932 1949.87,532.804 1969.08,510.402 1988.29,487.731 2007.51,464.786 2026.72,441.573 2045.93,418.085 2065.14,394.33 2084.36,370.299 2103.57,346.001 2122.78,321.427 2141.99,296.583 2161.21,271.466 2180.42,246.07 2199.63,220.41 2218.84,194.466 2238.06,168.263 2257.27,141.769 2276.48,115.022 2295.69,87.9763 \"/>\n",
       "<path clip-path=\"url(#clip520)\" d=\"M403.803 198.898 L657.849 198.898 L657.849 95.2176 L403.803 95.2176  Z\" fill=\"#ffffff\" fill-rule=\"evenodd\" fill-opacity=\"1\"/>\n",
       "<polyline clip-path=\"url(#clip520)\" style=\"stroke:#000000; stroke-linecap:round; stroke-linejoin:round; stroke-width:4; stroke-opacity:1; fill:none\" points=\"403.803,198.898 657.849,198.898 657.849,95.2176 403.803,95.2176 403.803,198.898 \"/>\n",
       "<polyline clip-path=\"url(#clip520)\" style=\"stroke:#009af9; stroke-linecap:round; stroke-linejoin:round; stroke-width:4; stroke-opacity:1; fill:none\" points=\"426.204,147.058 560.615,147.058 \"/>\n",
       "<path clip-path=\"url(#clip520)\" d=\"M596.859 166.745 Q595.054 171.375 593.341 172.787 Q591.628 174.199 588.757 174.199 L585.355 174.199 L585.355 170.634 L587.855 170.634 Q589.614 170.634 590.586 169.8 Q591.558 168.967 592.739 165.865 L593.503 163.921 L583.017 138.412 L587.531 138.412 L595.632 158.689 L603.734 138.412 L608.248 138.412 L596.859 166.745 Z\" fill=\"#000000\" fill-rule=\"nonzero\" fill-opacity=\"1\" /><path clip-path=\"url(#clip520)\" d=\"M615.54 160.402 L623.178 160.402 L623.178 134.037 L614.868 135.703 L614.868 131.444 L623.132 129.778 L627.808 129.778 L627.808 160.402 L635.447 160.402 L635.447 164.338 L615.54 164.338 L615.54 160.402 Z\" fill=\"#000000\" fill-rule=\"nonzero\" fill-opacity=\"1\" /></svg>\n"
      ]
     },
     "execution_count": 39,
     "metadata": {},
     "output_type": "execute_result"
    }
   ],
   "source": [
    "plot(Displacement,Energy_Rot)"
   ]
  },
  {
   "cell_type": "code",
   "execution_count": 40,
   "id": "fb9175f5",
   "metadata": {},
   "outputs": [],
   "source": [
    "cd(\"../DispLoadData_THreePointBending_Vol-Dev\")"
   ]
  },
  {
   "cell_type": "code",
   "execution_count": 41,
   "id": "f567a89a",
   "metadata": {},
   "outputs": [],
   "source": [
    "using DelimitedFiles\n",
    "Disp = writedlm( \"DispDataNotchedBeam_Vol-Dev_N0.5_l0.5.csv\",  Displacement, ',')\n",
    "Force = writedlm(\"LoadDataNotchedBeam_Vol-Dev_N0.5_l0.5.csv\",  Load, ',')\n",
    "Energy = writedlm(\"EnergyDataNotchedBeam_Vol-Dev_N0.5_l0.5.csv\",  Energy, ',')\n",
    "Energy_Mech = writedlm(\"EnergyMechDataNotchedBeam_Vol-Dev_N0.5_l0.5.csv\",  Energy_Mech, ',')\n",
    "Energy_Coup = writedlm(\"EnergyCoupDataNotchedBeam_Vol-Dev_N0.5_l0.5.csv\",  Energy_Coup, ',')\n",
    "Energy_Rot = writedlm(\"EnergyRotDataNotchedBeam_Vol-Dev_N0.5_l0.5.csv\",  Energy_Rot, ',')"
   ]
  }
 ],
 "metadata": {
  "@webio": {
   "lastCommId": null,
   "lastKernelId": null
  },
  "kernelspec": {
   "display_name": "Julia 1.8.1",
   "language": "julia",
   "name": "julia-1.8"
  },
  "language_info": {
   "file_extension": ".jl",
   "mimetype": "application/julia",
   "name": "julia",
   "version": "1.8.1"
  }
 },
 "nbformat": 4,
 "nbformat_minor": 5
}
