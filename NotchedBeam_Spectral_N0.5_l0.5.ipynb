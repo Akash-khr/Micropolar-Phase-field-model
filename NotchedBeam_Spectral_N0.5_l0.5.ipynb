{
 "cells": [
  {
   "cell_type": "code",
   "execution_count": 1,
   "id": "ab7198fc",
   "metadata": {},
   "outputs": [],
   "source": [
    "using Gmsh: gmsh\n",
    "using Gridap\n",
    "using GridapGmsh\n",
    "using Gridap.TensorValues\n",
    "using Plots\n",
    "using LinearAlgebra"
   ]
  },
  {
   "cell_type": "code",
   "execution_count": 2,
   "id": "ed672b17",
   "metadata": {},
   "outputs": [
    {
     "data": {
      "text/plain": [
       "SymFourthOrderTensorValue{2, Float64, 9}(0.5, 0.0, -0.5, 0.0, 0.5, 0.0, -0.5, 0.0, 0.5)"
      ]
     },
     "execution_count": 2,
     "metadata": {},
     "output_type": "execute_result"
    }
   ],
   "source": [
    "I2 = SymTensorValue{2,Float64}(1.0 ,0.0 ,1.0)\n",
    "I4 = I2⊗I2\n",
    "I4_sym = one(SymFourthOrderTensorValue{2,Float64})\n",
    "I4_vol = (1.0/2)*I4\n",
    "I4_dev = I4_sym  - I4_vol"
   ]
  },
  {
   "cell_type": "code",
   "execution_count": 3,
   "id": "interim-caution",
   "metadata": {
    "scrolled": true
   },
   "outputs": [
    {
     "name": "stdout",
     "output_type": "stream",
     "text": [
      "Info    : Meshing 1D...\n",
      "Info    : [  0%] Meshing curve 1 (Line)\n",
      "Info    : [ 20%] Meshing curve 2 (Line)\n",
      "Info    : [ 30%] Meshing curve 3 (Line)\n",
      "Info    : [ 40%] Meshing curve 4 (Line)\n",
      "Info    : [ 50%] Meshing curve 5 (Line)\n",
      "Info    : [ 60%] Meshing curve 6 (Line)\n",
      "Info    : [ 70%] Meshing curve 7 (Line)\n",
      "Info    : [ 80%] Meshing curve 8 (Line)\n",
      "Info    : [ 90%] Meshing curve 9 (Line)\n",
      "Info    : Done meshing 1D (Wall 0.0219543s, CPU 0.021956s)\n",
      "Info    : Meshing 2D...\n",
      "Info    : Meshing surface 1 (Plane, Frontal-Delaunay)\n",
      "Info    : Done meshing 2D (Wall 0.224052s, CPU 0.224036s)\n",
      "Info    : 7693 nodes 15393 elements\n",
      "Info    : Writing 'BeamWithNotchSymThreePtBending.msh'...\n",
      "Info    : Done writing 'BeamWithNotchSymThreePtBending.msh'\n"
     ]
    },
    {
     "name": "stderr",
     "output_type": "stream",
     "text": [
      "Warning : Unknown entity of dimension 2 and tag 1 in physical group 1\n",
      "Warning : Unknown entity of dimension 1 and tag 4 in physical group 1\n",
      "Warning : Unknown entity of dimension 1 and tag 8 in physical group 11\n",
      "Warning : Unknown entity of dimension 1 and tag 9 in physical group 11\n",
      "Warning : Unknown entity of dimension 0 and tag 7 in physical group 2\n",
      "Warning : Unknown entity of dimension 0 and tag 2 in physical group 3\n"
     ]
    }
   ],
   "source": [
    "using  Gmsh: gmsh\n",
    "const  L = 8.0\n",
    "const  LL = 0.475.*L\n",
    "const  LR = 0.525.*L\n",
    "const  H = 2.0\n",
    "const  CH = 0.4 #Crack  height\n",
    "const  CW = 0.2 #Crack  Width\n",
    "const  lsp = 0.03\n",
    "const  hfc = lsp/100 #Mesh  size  parameter\n",
    "const  hf = lsp/2.1 #Mesh  size  parameter\n",
    "const  h = 30*hf #Mesh  size  parameter\n",
    "gmsh.initialize()\n",
    "gmsh.option.setNumber(\"General.Terminal\", 1)\n",
    "gmsh.model.geo.addPoint((L/2)+(CW/2), 0.0 , 0.0, hf ,1)\n",
    "gmsh.model.geo.addPoint(L, 0.0, 0.0, h, 2)\n",
    "gmsh.model.geo.addPoint(L, H, 0.0, h, 3)\n",
    "gmsh.model.geo.addPoint(LR , H, 0.0, hf, 4)\n",
    "gmsh.model.geo.addPoint(LL , H, 0.0, hf, 5)\n",
    "gmsh.model.geo.addPoint(0.0, H, 0.0, h, 6)\n",
    "gmsh.model.geo.addPoint(0.0, 0.0, 0.0, h, 7)\n",
    "gmsh.model.geo.addPoint((L/2) -(CW/2), 0.0 , 0.0, hf ,8)\n",
    "gmsh.model.geo.addPoint((L/2), CH , 0.0, hfc , 9)\n",
    "gmsh.model.geo.addLine(1, 2, 1)\n",
    "gmsh.model.geo.addLine(2, 3, 2)\n",
    "gmsh.model.geo.addLine(3, 4, 3)\n",
    "gmsh.model.geo.addLine(4, 5, 4)\n",
    "gmsh.model.geo.addLine(5, 6, 5)\n",
    "gmsh.model.geo.addLine(6, 7, 6)\n",
    "gmsh.model.geo.addLine(7, 8, 7)\n",
    "gmsh.model.geo.addLine(8, 9, 8)\n",
    "gmsh.model.geo.addLine(9, 1, 9)\n",
    "\n",
    "gmsh.model.geo.addCurveLoop([1,2,3,4,5,6,7,8,9],1)\n",
    "gmsh.model.geo.addPlaneSurface([1], 1)\n",
    "gmsh.model.addPhysicalGroup(2, [1],1)\n",
    "gmsh.model.addPhysicalGroup(1, [4],1)\n",
    "gmsh.model.addPhysicalGroup(1, [8,9],11)\n",
    "gmsh.model.addPhysicalGroup(0, [7],2)\n",
    "gmsh.model.addPhysicalGroup(0, [2],3)\n",
    "gmsh.model.setPhysicalName(2, 1, \"Domain\")\n",
    "gmsh.model.setPhysicalName(1, 1, \"LoadLine\")\n",
    "gmsh.model.setPhysicalName(1, 11, \"EnergyLine\")\n",
    "gmsh.model.setPhysicalName(0, 2, \"LeftSupport\")\n",
    "gmsh.model.setPhysicalName(0, 3, \"RightSupport\")\n",
    "gmsh.model.mesh.field.add(\"Box\", 10)\n",
    "gmsh.model.mesh.field.setNumber(10, \"VIn\", hf)\n",
    "gmsh.model.mesh.field.setNumber(10, \"VOut\", h)\n",
    "gmsh.model.mesh.field.setNumber(10, \"XMin\", (L/2)-CW)\n",
    "gmsh.model.mesh.field.setNumber(10, \"XMax\", (L/2)+CW)\n",
    "gmsh.model.mesh.field.setNumber(10, \"YMin\", 0)\n",
    "gmsh.model.mesh.field.setNumber(10, \"YMax\", H)\n",
    "gmsh.model.mesh.field.setAsBackgroundMesh(10)\n",
    "gmsh.model.geo.synchronize()\n",
    "gmsh.model.mesh.generate(2)\n",
    "gmsh.write(\"BeamWithNotchSymThreePtBending.msh\")\n",
    "gmsh.finalize()"
   ]
  },
  {
   "cell_type": "code",
   "execution_count": 4,
   "id": "1746091a",
   "metadata": {},
   "outputs": [
    {
     "name": "stdout",
     "output_type": "stream",
     "text": [
      "Info    : Reading 'BeamWithNotchSymThreePtBending.msh'...\n",
      "Info    : 19 entities\n",
      "Info    : 7693 nodes\n",
      "Info    : 15242 elements\n",
      "Info    : Done reading 'BeamWithNotchSymThreePtBending.msh'\n"
     ]
    },
    {
     "data": {
      "text/plain": [
       "3-element Vector{Vector{String}}:\n",
       " [\"BeamWithNotchSymThreePtBending_0.vtu\"]\n",
       " [\"BeamWithNotchSymThreePtBending_1.vtu\"]\n",
       " [\"BeamWithNotchSymThreePtBending_2.vtu\"]"
      ]
     },
     "execution_count": 4,
     "metadata": {},
     "output_type": "execute_result"
    }
   ],
   "source": [
    "model = GmshDiscreteModel(\"BeamWithNotchSymThreePtBending.msh\")\n",
    "writevtk(model,\"BeamWithNotchSymThreePtBending\")"
   ]
  },
  {
   "cell_type": "code",
   "execution_count": 5,
   "id": "41326f7b",
   "metadata": {},
   "outputs": [
    {
     "data": {
      "text/plain": [
       "14984-element Vector{Int8}:\n",
       " 5\n",
       " 5\n",
       " 5\n",
       " 5\n",
       " 5\n",
       " 5\n",
       " 5\n",
       " 5\n",
       " 5\n",
       " 5\n",
       " 5\n",
       " 5\n",
       " 5\n",
       " ⋮\n",
       " 5\n",
       " 5\n",
       " 5\n",
       " 5\n",
       " 5\n",
       " 5\n",
       " 5\n",
       " 5\n",
       " 5\n",
       " 5\n",
       " 5\n",
       " 5"
      ]
     },
     "execution_count": 5,
     "metadata": {},
     "output_type": "execute_result"
    }
   ],
   "source": [
    "using Gridap.Geometry\n",
    "labels = get_face_labeling(model)\n",
    "dimension = 2\n",
    "mat_tags = get_face_tag(labels,dimension)"
   ]
  },
  {
   "cell_type": "code",
   "execution_count": 6,
   "id": "6e1500bb",
   "metadata": {},
   "outputs": [
    {
     "data": {
      "text/plain": [
       "1.0e-15"
      ]
     },
     "execution_count": 6,
     "metadata": {},
     "output_type": "execute_result"
    }
   ],
   "source": [
    "const E = 20.8\n",
    "const ν = 0.3\n",
    "const Gc = 5e-4\n",
    "G = E/(2*(1+ν))\n",
    "l = 0.5\n",
    "N = 0.5\n",
    "const η = 1e-15"
   ]
  },
  {
   "cell_type": "code",
   "execution_count": 7,
   "id": "65dede89",
   "metadata": {},
   "outputs": [
    {
     "data": {
      "text/plain": [
       "10.0"
      ]
     },
     "execution_count": 7,
     "metadata": {},
     "output_type": "execute_result"
    }
   ],
   "source": [
    "ψ_crit = 10.0"
   ]
  },
  {
   "cell_type": "code",
   "execution_count": 8,
   "id": "5bf828a6",
   "metadata": {},
   "outputs": [
    {
     "data": {
      "text/plain": [
       "7.999999999999996"
      ]
     },
     "execution_count": 8,
     "metadata": {},
     "output_type": "execute_result"
    }
   ],
   "source": [
    "μ = 5.33333333333333\n",
    "κ = 5.33333333333333\n",
    "λ = 11.999999999999993\n",
    "γ = 7.999999999999996"
   ]
  },
  {
   "cell_type": "code",
   "execution_count": 9,
   "id": "handed-nomination",
   "metadata": {},
   "outputs": [
    {
     "data": {
      "text/plain": [
       "Eigen (generic function with 1 method)"
      ]
     },
     "execution_count": 9,
     "metadata": {},
     "output_type": "execute_result"
    }
   ],
   "source": [
    "function Eigen(ε)\n",
    "    εArray = get_array(ε)\n",
    "    Λ, P = eigen(εArray)\n",
    "    ε1 = Λ[1]\n",
    "    ε2 = Λ[2]\n",
    "    if ε1 >= 0 &&  ε2 >= 0\n",
    "        Λpos = [ε1 0; 0 ε2]\n",
    "        Λneg = [0 0; 0 0]\n",
    "    elseif ε1 >= 0 &&  ε2 < 0\n",
    "        Λpos = [ε1 0; 0 0]\n",
    "        Λneg = [0 0; 0 ε2]\n",
    "    elseif ε1 < 0 &&  ε2 >= 0\n",
    "        Λpos = [0 0; 0 ε2]\n",
    "        Λneg = [ε1 0; 0 0]\n",
    "    elseif ε1 < 0 &&  ε2 < 0\n",
    "        Λpos = [0 0; 0 0]\n",
    "        Λneg = [ε1 0; 0 ε2]\n",
    "    end \n",
    "    εPos = TensorValue(P*Λpos*P')\n",
    "    εNeg = TensorValue(P*Λneg*P')\n",
    "    return εPos, εNeg\n",
    "end"
   ]
  },
  {
   "cell_type": "code",
   "execution_count": 10,
   "id": "dental-mouse",
   "metadata": {},
   "outputs": [
    {
     "data": {
      "text/plain": [
       "σ_Bmod (generic function with 1 method)"
      ]
     },
     "execution_count": 10,
     "metadata": {},
     "output_type": "execute_result"
    }
   ],
   "source": [
    "function σ_Bmod(ε_sym, s_in)\n",
    "    σM = (s_in^2 + η)*(λ*tr(ε_sym)*I2 + (2*μ + κ)*(ε_sym))\n",
    "    return σM\n",
    "end"
   ]
  },
  {
   "cell_type": "code",
   "execution_count": 11,
   "id": "5d043cc5",
   "metadata": {},
   "outputs": [
    {
     "data": {
      "text/plain": [
       "TensorValue{2, 2, Int64, 4}(0, 1, -1, 0)"
      ]
     },
     "execution_count": 11,
     "metadata": {},
     "output_type": "execute_result"
    }
   ],
   "source": [
    "E_Matrx = TensorValue(0,1,-1,0)"
   ]
  },
  {
   "cell_type": "code",
   "execution_count": 12,
   "id": "9f8f69b4",
   "metadata": {},
   "outputs": [
    {
     "data": {
      "text/plain": [
       "ε_Skw (generic function with 1 method)"
      ]
     },
     "execution_count": 12,
     "metadata": {},
     "output_type": "execute_result"
    }
   ],
   "source": [
    "function ε_Skw(∇,θ)\n",
    "    ∇ᵀ = transpose(∇)\n",
    "    w = (0.5*(∇ᵀ - ∇)) - (E_Matrx*θ)\n",
    "    return w\n",
    "end"
   ]
  },
  {
   "cell_type": "code",
   "execution_count": 13,
   "id": "b7ab7a3c",
   "metadata": {},
   "outputs": [
    {
     "data": {
      "text/plain": [
       "σ_Cmod (generic function with 1 method)"
      ]
     },
     "execution_count": 13,
     "metadata": {},
     "output_type": "execute_result"
    }
   ],
   "source": [
    "function σ_Cmod(ϵ_skew, s_in)\n",
    "    σM = (s_in^2 + η)*(κ*ϵ_skew)\n",
    "    return σM\n",
    "end"
   ]
  },
  {
   "cell_type": "code",
   "execution_count": 14,
   "id": "9fb6f0fe",
   "metadata": {},
   "outputs": [
    {
     "data": {
      "text/plain": [
       "M_mod (generic function with 1 method)"
      ]
     },
     "execution_count": 14,
     "metadata": {},
     "output_type": "execute_result"
    }
   ],
   "source": [
    "function M_mod(∇, s_in)\n",
    "    M = (s_in^2 + η)*(γ*∇)\n",
    "    return M\n",
    "end"
   ]
  },
  {
   "cell_type": "code",
   "execution_count": 15,
   "id": "f2202328",
   "metadata": {},
   "outputs": [
    {
     "data": {
      "text/plain": [
       "ψRot (generic function with 1 method)"
      ]
     },
     "execution_count": 15,
     "metadata": {},
     "output_type": "execute_result"
    }
   ],
   "source": [
    "function ψPos(ε_in,∇_uh,θ, ∇_th)\n",
    "    ∇_uhᵀ = transpose(∇_uh)\n",
    "    ϵ_skew = 0.5*(∇_uhᵀ - ∇_uh) - E_Matrx*θ\n",
    "    εPos, εNeg = Eigen(ε_in)\n",
    "    \n",
    "    if tr(ε_in) >= 0\n",
    "        ψPos = 0.5*(λ*(tr(ε_in))^2 + (2*μ+κ)*(εPos ⊙ εPos)) + 0.5*(κ*(ϵ_skew ⊙ ϵ_skew)) + 0.5*γ*(∇_th ⋅ ∇_th)\n",
    "    else\n",
    "        ψPos = 0.5*((2*μ+κ)*(εPos ⊙ εPos)) + 0.5*(κ*(ϵ_skew ⊙ ϵ_skew)) + 0.5*γ*(∇_th ⋅ ∇_th)\n",
    "    end\n",
    "    \n",
    "    return ψPos \n",
    "end\n",
    "function ψMech(ε_in,∇_uh,θ, ∇_th)\n",
    "    ∇_uhᵀ = transpose(∇_uh)\n",
    "    ϵ_skew = 0.5*(∇_uhᵀ - ∇_uh) - E_Matrx*θ\n",
    "    εPos, εNeg = Eigen(ε_in)\n",
    "    if tr(ε_in) >= 0\n",
    "        ψPos = 0.5*(λ*(tr(ε_in))^2 + (2*μ+κ)*(εPos ⊙ εPos))\n",
    "    else\n",
    "        ψPos = 0.5*((2*μ+κ)*(εPos ⊙ εPos))\n",
    "    end\n",
    "    return ψPos \n",
    "end\n",
    "\n",
    "function ψCoup(ε_in,∇_uh,θ, ∇_th)\n",
    "    ∇_uhᵀ = transpose(∇_uh)\n",
    "    ϵ_skew = 0.5*(∇_uhᵀ - ∇_uh) - E_Matrx*θ\n",
    "    ψPos = 0.5*(κ*(ϵ_skew ⊙ ϵ_skew))\n",
    "    return ψPos \n",
    "end\n",
    "\n",
    "function ψRot(ε_in,∇_uh,θ, ∇_th)\n",
    "        ψPos = 0.5*γ*(∇_th ⋅ ∇_th)\n",
    "    return ψPos \n",
    "end"
   ]
  },
  {
   "cell_type": "code",
   "execution_count": 16,
   "id": "local-freeware",
   "metadata": {},
   "outputs": [
    {
     "data": {
      "text/plain": [
       "new_EnergyState (generic function with 1 method)"
      ]
     },
     "execution_count": 16,
     "metadata": {},
     "output_type": "execute_result"
    }
   ],
   "source": [
    "function new_EnergyState(ψPlusPrev_in,ψhPos_in)\n",
    "    ψPlus_in = ψhPos_in\n",
    "    if ψPlus_in >= ψPlusPrev_in\n",
    "        ψPlus_out = ψPlus_in\n",
    "    else\n",
    "        ψPlus_out = ψPlusPrev_in\n",
    "    end\n",
    "    true,ψPlus_out\n",
    "end"
   ]
  },
  {
   "cell_type": "code",
   "execution_count": 17,
   "id": "3bf5a3ce",
   "metadata": {},
   "outputs": [
    {
     "data": {
      "text/plain": [
       "project (generic function with 1 method)"
      ]
     },
     "execution_count": 17,
     "metadata": {},
     "output_type": "execute_result"
    }
   ],
   "source": [
    "function project(q,model,dΩ,order)\n",
    "  reffe = ReferenceFE(lagrangian,Float64,order)\n",
    "  V = FESpace(model,reffe,conformity=:L2)\n",
    "  a(u,v) = ∫( u*v )*dΩ\n",
    "  l(v) = ∫( v*q )*dΩ\n",
    "  op = AffineFEOperator(a,l,V,V)\n",
    "  qh = solve(op)\n",
    "  qh\n",
    "end"
   ]
  },
  {
   "cell_type": "code",
   "execution_count": 18,
   "id": "3f46de93",
   "metadata": {},
   "outputs": [
    {
     "data": {
      "text/plain": [
       "2"
      ]
     },
     "execution_count": 18,
     "metadata": {},
     "output_type": "execute_result"
    }
   ],
   "source": [
    "order = 1\n",
    "degree = 2*order"
   ]
  },
  {
   "cell_type": "code",
   "execution_count": 19,
   "id": "86f3f2bf",
   "metadata": {},
   "outputs": [
    {
     "data": {
      "text/plain": [
       "GenericMeasure()"
      ]
     },
     "execution_count": 19,
     "metadata": {},
     "output_type": "execute_result"
    }
   ],
   "source": [
    "Ω = Triangulation(model)\n",
    "dΩ = Measure(Ω,degree)"
   ]
  },
  {
   "cell_type": "code",
   "execution_count": 20,
   "id": "absolute-workplace",
   "metadata": {},
   "outputs": [
    {
     "data": {
      "text/plain": [
       "SingleFieldFEFunction():\n",
       " num_cells: 14984\n",
       " DomainStyle: ReferenceDomain()\n",
       " Triangulation: BodyFittedTriangulation()\n",
       " Triangulation id: 8453056611551485030"
      ]
     },
     "execution_count": 20,
     "metadata": {},
     "output_type": "execute_result"
    }
   ],
   "source": [
    "sId = CellState(1.0,dΩ)\n",
    "shId = project(sId,model,dΩ,order)"
   ]
  },
  {
   "cell_type": "code",
   "execution_count": 21,
   "id": "700af0f9",
   "metadata": {},
   "outputs": [
    {
     "data": {
      "text/plain": [
       "GenericCellField():\n",
       " num_cells: 28\n",
       " DomainStyle: ReferenceDomain()\n",
       " Triangulation: BoundaryTriangulation()\n",
       " Triangulation id: 4467299854042700533"
      ]
     },
     "execution_count": 21,
     "metadata": {},
     "output_type": "execute_result"
    }
   ],
   "source": [
    "LoadTagId = get_tag_from_name(labels,\"LoadLine\")\n",
    "Γ_Load = BoundaryTriangulation(model,tags = LoadTagId)\n",
    "dΓ_Load = Measure(Γ_Load,degree)\n",
    "n_Γ_Load = get_normal_vector(Γ_Load)"
   ]
  },
  {
   "cell_type": "code",
   "execution_count": 22,
   "id": "3392792b-8aec-4937-a750-8e03ecfa6822",
   "metadata": {},
   "outputs": [
    {
     "data": {
      "text/plain": [
       "GenericMeasure()"
      ]
     },
     "execution_count": 22,
     "metadata": {},
     "output_type": "execute_result"
    }
   ],
   "source": [
    "EnergyTagId = get_tag_from_name(labels,\"EnergyLine\")\n",
    "E_Load = BoundaryTriangulation(model,tags = EnergyTagId)\n",
    "dE_Load = Measure(E_Load,degree)"
   ]
  },
  {
   "cell_type": "code",
   "execution_count": 23,
   "id": "950f5dcd",
   "metadata": {},
   "outputs": [
    {
     "data": {
      "text/plain": [
       "SingleFieldFEFunction():\n",
       " num_cells: 14984\n",
       " DomainStyle: ReferenceDomain()\n",
       " Triangulation: BodyFittedTriangulation()\n",
       " Triangulation id: 8453056611551485030"
      ]
     },
     "execution_count": 23,
     "metadata": {},
     "output_type": "execute_result"
    }
   ],
   "source": [
    "reffe_PF = ReferenceFE(lagrangian,Float64,order)\n",
    "V0_PF = TestFESpace(model,reffe_PF;conformity=:H1)\n",
    "sh = zero(V0_PF)"
   ]
  },
  {
   "cell_type": "code",
   "execution_count": 24,
   "id": "14340b87",
   "metadata": {},
   "outputs": [
    {
     "data": {
      "text/plain": [
       "SingleFieldFEFunction():\n",
       " num_cells: 14984\n",
       " DomainStyle: ReferenceDomain()\n",
       " Triangulation: BodyFittedTriangulation()\n",
       " Triangulation id: 8453056611551485030"
      ]
     },
     "execution_count": 24,
     "metadata": {},
     "output_type": "execute_result"
    }
   ],
   "source": [
    "reffe_theta = ReferenceFE(lagrangian,Float64,order)\n",
    "V0_theta  = TestFESpace(model,reffe_theta;\n",
    "  conformity=:H1)\n",
    "θh = zero(V0_theta)"
   ]
  },
  {
   "cell_type": "code",
   "execution_count": 25,
   "id": "1942f3e1",
   "metadata": {},
   "outputs": [
    {
     "data": {
      "text/plain": [
       "SingleFieldFEFunction():\n",
       " num_cells: 14984\n",
       " DomainStyle: ReferenceDomain()\n",
       " Triangulation: BodyFittedTriangulation()\n",
       " Triangulation id: 8453056611551485030"
      ]
     },
     "execution_count": 25,
     "metadata": {},
     "output_type": "execute_result"
    }
   ],
   "source": [
    "reffe_Disp = ReferenceFE(lagrangian,VectorValue{2,Float64},order)\n",
    "        V0_Disp = TestFESpace(model,reffe_Disp;\n",
    "          conformity=:H1,\n",
    "          dirichlet_tags=[\"LeftSupport\",\"RightSupport\",\"LoadLine\"],\n",
    "          dirichlet_masks=[(false, true), (true, true), (false, true)])\n",
    "\n",
    "uh = zero(V0_Disp)"
   ]
  },
  {
   "cell_type": "code",
   "execution_count": 26,
   "id": "e2183bf7",
   "metadata": {},
   "outputs": [
    {
     "data": {
      "text/plain": [
       "MultiFieldFESpace()"
      ]
     },
     "execution_count": 26,
     "metadata": {},
     "output_type": "execute_result"
    }
   ],
   "source": [
    "V0 = MultiFieldFESpace([V0_Disp,V0_theta])"
   ]
  },
  {
   "cell_type": "code",
   "execution_count": 27,
   "id": "3e5674ef",
   "metadata": {},
   "outputs": [
    {
     "data": {
      "text/plain": [
       "stepPhaseField (generic function with 1 method)"
      ]
     },
     "execution_count": 27,
     "metadata": {},
     "output_type": "execute_result"
    }
   ],
   "source": [
    "function  stepPhaseField(uh_in,ψPlusPrev_in)\n",
    "    U_PF = TrialFESpace(V0_PF)\n",
    "        a_PF(s,ϕ) = ∫( (Gc*lsp*∇(ϕ)⋅ ∇(s)) + (2*ψPlusPrev_in*s*ϕ)  + ((Gc/lsp)*s*ϕ) )*dΩ\n",
    "        b_PF(ϕ) = ∫( (Gc/lsp)*ϕ )*dΩ\n",
    "        op_PF = AffineFEOperator(a_PF,b_PF,U_PF,V0_PF)\n",
    "        sh_out = solve(op_PF)\n",
    "    return sh_out\n",
    "end"
   ]
  },
  {
   "cell_type": "code",
   "execution_count": 28,
   "id": "839eb039",
   "metadata": {},
   "outputs": [
    {
     "data": {
      "text/plain": [
       "Skw (generic function with 1 method)"
      ]
     },
     "execution_count": 28,
     "metadata": {},
     "output_type": "execute_result"
    }
   ],
   "source": [
    "function Skw(u,θ)\n",
    "    ∇ᵀ = transpose(∇(u))\n",
    "    w = (0.5*(∇ᵀ - ∇(u)) - (E_Matrx*θ))\n",
    "    return w\n",
    "end"
   ]
  },
  {
   "cell_type": "code",
   "execution_count": 29,
   "id": "9eab4a9c",
   "metadata": {},
   "outputs": [
    {
     "data": {
      "text/plain": [
       "stepDisp (generic function with 1 method)"
      ]
     },
     "execution_count": 29,
     "metadata": {},
     "output_type": "execute_result"
    }
   ],
   "source": [
    "function   stepDisp(uh_in,θ_in,sh_in,uApp)\n",
    "        uApp1(x) = VectorValue(0.0,0.0)\n",
    "        uApp2(x) = VectorValue(0.0,0.0)\n",
    "        uApp3(x) = VectorValue(0.0,-uApp)\n",
    "        U_Disp = TrialFESpace(V0_Disp,[uApp1,uApp2,uApp3])\n",
    "        \n",
    "        U_theta = TrialFESpace(V0_theta)\n",
    "        U = MultiFieldFESpace([U_Disp,U_theta ])\n",
    "\n",
    "        a((u,θ),(w,v))  = ∫( (ε(w) ⊙ (σ_Bmod∘(ε(u),sh_in)) ) + ((Skw(w,v)) ⊙ (σ_Cmod∘(ε_Skw∘(∇(u),θ), sh_in)) ) + ((∇(v))⋅ (M_mod∘(∇(θ),sh_in))) - (v*((E_Matrx) ⊙ (σ_Cmod∘(ε_Skw∘(∇(u),θ),sh_in))) ))*dΩ\n",
    "        b((w,v))= 0\n",
    "        op_Disp = AffineFEOperator(a,b,U,V0)\n",
    "        uh_out = solve(op_Disp)\n",
    "        uh_out,phih_out = uh_out\n",
    "    return uh_out, phih_out\n",
    "end"
   ]
  },
  {
   "cell_type": "code",
   "execution_count": 30,
   "id": "d92bcca5",
   "metadata": {},
   "outputs": [],
   "source": [
    "cd(\"Results_N0.5_l0.5\")"
   ]
  },
  {
   "cell_type": "code",
   "execution_count": 31,
   "id": "8a4b863f",
   "metadata": {},
   "outputs": [
    {
     "name": "stdout",
     "output_type": "stream",
     "text": [
      "\n",
      " Entering displacemtent step1 :0.001\n",
      " Relative error = 5.194886154290165e-17\n",
      " Entering displacemtent step2 :0.002\n",
      " Relative error = 5.071333000749492e-6\n",
      " Relative error = 1.5213815694528244e-5\n",
      " Relative error = 1.8604826585796714e-9\n",
      " Entering displacemtent step3 :0.003\n",
      " Relative error = 2.1973603172136144e-12\n",
      " Entering displacemtent step4 :0.004\n",
      " Relative error = 2.535385914359444e-5\n",
      " Relative error = 3.549673443841212e-5\n",
      " Relative error = 1.740965451018428e-8\n",
      " Relative error = 8.248061663582514e-11\n",
      " Entering displacemtent step5 :0.005\n",
      " Relative error = 5.289944215416021e-13\n",
      " Entering displacemtent step6 :0.006\n",
      " Relative error = 4.561907461511988e-5\n",
      " Relative error = 5.577481426886021e-5\n",
      " Relative error = 6.194229061583624e-8\n",
      " Relative error = 6.639829817905623e-10\n",
      " Entering displacemtent step7 :0.007\n",
      " Relative error = 9.628181902796385e-12\n",
      " Entering displacemtent step8 :0.008\n",
      " Relative error = 6.584893369016519e-5\n",
      " Relative error = 7.604552440333224e-5\n",
      " Relative error = 1.516693219793857e-7\n",
      " Relative error = 2.9145998098195245e-9\n",
      " Entering displacemtent step9 :0.009000000000000001\n",
      " Relative error = 7.566280252681349e-11\n",
      " Entering displacemtent step10 :0.010000000000000002\n",
      " Relative error = 8.6024139853636e-5\n",
      " Relative error = 9.630635199730893e-5\n",
      " Relative error = 3.043400150166264e-7\n",
      " Relative error = 9.241153904112002e-9\n",
      " Entering displacemtent step11 :0.011000000000000003\n",
      " Relative error = 3.783226807397624e-10\n",
      " Entering displacemtent step12 :0.012000000000000004\n",
      " Relative error = 0.00010612328151572661\n",
      " Relative error = 0.00011655482004725532\n",
      " Relative error = 5.399744157408142e-7\n",
      " Relative error = 2.3945995098611476e-8\n",
      " Relative error = 1.428112321200052e-9\n",
      " Entering displacemtent step13 :0.013000000000000005\n",
      " Relative error = 9.027068587548044e-11\n",
      " Entering displacemtent step14 :0.014000000000000005\n",
      " Relative error = 0.0001261216146277905\n",
      " Relative error = 0.00013678850283859524\n",
      " Relative error = 8.817580788183178e-7\n",
      " Relative error = 5.414556118298402e-8\n",
      " Relative error = 4.457649037905045e-9\n",
      " Entering displacemtent step15 :0.015000000000000006\n",
      " Relative error = 3.886633591402314e-10\n",
      " Entering displacemtent step16 :0.016000000000000007\n",
      " Relative error = 0.0001459895833124703\n",
      " Relative error = 0.0001570050423246077\n",
      " Relative error = 1.3571777188655234e-6\n",
      " Relative error = 1.1109539554280477e-7\n",
      " Relative error = 1.2148636324740057e-8\n",
      " Relative error = 1.4058028816766211e-9\n",
      " Entering displacemtent step17 :0.017000000000000008\n",
      " Relative error = 1.6504883104171406e-10\n",
      " Entering displacemtent step18 :0.01800000000000001\n",
      " Relative error = 0.00016569012603112506\n",
      " Relative error = 0.00017720214817960447\n",
      " Relative error = 1.99961766568709e-6\n",
      " Relative error = 2.121591019074291e-7\n",
      " Relative error = 2.995273275369573e-8\n",
      " Relative error = 4.470819166515328e-9\n",
      " Entering displacemtent step19 :0.01900000000000001\n",
      " Relative error = 6.769147083035844e-10\n",
      " Entering displacemtent step20 :0.02000000000000001\n",
      " Relative error = 0.00018517514627880083\n",
      " Relative error = 0.00019737759724897826\n",
      " Relative error = 2.8505003765495547e-6\n",
      " Relative error = 3.838460298920988e-7\n",
      " Relative error = 6.847937714504646e-8\n",
      " Relative error = 1.2905156125374866e-8\n",
      " Relative error = 2.466633209236049e-9\n",
      " Entering displacemtent step21 :0.02100000000000001\n",
      " Relative error = 4.734817164173322e-10\n",
      " Entering displacemtent step22 :0.022000000000000013\n",
      " Relative error = 0.0002043784020940403\n",
      " Relative error = 0.0002175291527127863\n",
      " Relative error = 3.962522745789419e-6\n",
      " Relative error = 6.665477747515638e-7\n",
      " Relative error = 1.4785176429419562e-7\n",
      " Relative error = 3.4620123852304514e-8\n",
      " Relative error = 8.221072359233038e-9\n",
      " Entering displacemtent step23 :0.023000000000000013\n",
      " Relative error = 1.9605628863028066e-9\n",
      " Entering displacemtent step24 :0.024000000000000014\n",
      " Relative error = 0.00022320501310600345\n",
      " Relative error = 0.00023765446687287303\n",
      " Relative error = 5.404838160341872e-6\n",
      " Relative error = 1.122375634804422e-6\n",
      " Relative error = 3.058762257836857e-7\n",
      " Relative error = 8.795025005228545e-8\n",
      " Relative error = 2.5650402000581353e-8\n",
      " Relative error = 7.513778464454884e-9\n",
      " Entering displacemtent step25 :0.025000000000000015\n",
      " Relative error = 2.20419262123584e-9\n",
      " Entering displacemtent step26 :0.026000000000000016\n",
      " Relative error = 0.00024150668456920945\n",
      " Relative error = 0.0002577505382516981\n",
      " Relative error = 7.2709563738639714e-6\n",
      " Relative error = 1.848963418835635e-6\n",
      " Relative error = 6.13924907423032e-7\n",
      " Relative error = 2.1506108558959866e-7\n",
      " Relative error = 7.645863717259694e-8\n",
      " Relative error = 2.731229383774615e-8\n",
      " Relative error = 9.772232197901077e-9\n",
      " Entering displacemtent step27 :0.027000000000000017\n",
      " Relative error = 3.498447756602241e-9\n",
      " Entering displacemtent step28 :0.028000000000000018\n",
      " Relative error = 0.00025903633200995846\n",
      " Relative error = 0.00027781276464023595\n",
      " Relative error = 9.69313405793465e-6\n",
      " Relative error = 3.0048844755038486e-6\n",
      " Relative error = 1.209812754753059e-6\n",
      " Relative error = 5.142842224249547e-7\n",
      " Relative error = 2.2214610467321884e-7\n",
      " Relative error = 9.649317537463046e-8\n",
      " Relative error = 4.20009475984354e-8\n",
      " Relative error = 1.8296800495713523e-8\n",
      " Entering displacemtent step29 :0.02900000000000002\n",
      " Relative error = 7.973199365645858e-9\n",
      " Entering displacemtent step30 :0.03000000000000002\n",
      " Relative error = 0.0002753293439118503\n",
      " Relative error = 0.00029783170574797447\n",
      " Relative error = 1.2872523279953146e-5\n",
      " Relative error = 4.861708110208359e-6\n",
      " Relative error = 2.371784084387632e-6\n",
      " Relative error = 1.2238606895733882e-6\n",
      " Relative error = 6.432835555584053e-7\n",
      " Relative error = 3.406436632963632e-7\n",
      " Relative error = 1.8098348027755866e-7\n",
      " Relative error = 9.630778849238886e-8\n",
      " Entering displacemtent step31 :0.03100000000000002\n",
      " Relative error = 5.1288776446518777e-8\n",
      " Relative error = 0.00028937880482633987\n",
      " Relative error = 1.1188564225966428e-5\n",
      " Relative error = 4.442556908804973e-6\n",
      " Relative error = 2.382269168702081e-6\n",
      " Relative error = 1.3617638645263918e-6\n",
      " Relative error = 7.943238556469539e-7\n",
      " Relative error = 4.671245544989496e-7\n",
      " Relative error = 2.75744403288198e-7\n",
      " Relative error = 1.6308385271824024e-7\n",
      " Entering displacemtent step32 :0.03200000000000002\n",
      " Relative error = 9.655188564338177e-8\n",
      " Relative error = 0.0002998536608003843\n",
      " Relative error = 1.2679432989953931e-5\n",
      " Relative error = 5.571633984179445e-6\n",
      " Relative error = 3.313562856604387e-6\n",
      " Relative error = 2.104470483365679e-6\n",
      " Relative error = 1.366507653567439e-6\n",
      " Relative error = 8.960733068696297e-7\n",
      " Relative error = 5.906235247993198e-7\n",
      " Relative error = 3.9046978805174657e-7\n",
      " Entering displacemtent step33 :0.03300000000000002\n",
      " Relative error = 2.586289124708242e-7\n",
      " Relative error = 0.0003053643661863773\n",
      " Relative error = 1.434609055521107e-5\n",
      " Relative error = 7.083697758197243e-6\n",
      " Relative error = 4.71373989482612e-6\n",
      " Relative error = 3.351812112740564e-6\n",
      " Relative error = 2.442209168519288e-6\n",
      " Relative error = 1.8015453252558035e-6\n",
      " Relative error = 1.3389879329890673e-6\n",
      " Relative error = 1.0002421463253847e-6\n",
      " Entering displacemtent step34 :0.03400000000000002\n",
      " Relative error = 7.499295625088462e-7\n",
      " Relative error = 0.0003083734267507304\n",
      " Relative error = 1.6420971588688242e-5\n",
      " Relative error = 9.307544506850466e-6\n",
      " Relative error = 7.032040659790201e-6\n",
      " Relative error = 5.673873572660154e-6\n",
      " Relative error = 4.704512675727506e-6\n",
      " Relative error = 3.964250024055546e-6\n",
      " Relative error = 3.3795713178497026e-6\n",
      " Relative error = 2.9079167334967816e-6\n",
      " Entering displacemtent step35 :0.035000000000000024\n",
      " Relative error = 2.521338570802674e-6\n",
      " Relative error = 0.00030664672585069996\n",
      " Relative error = 2.010356365409594e-5\n",
      " Relative error = 1.3624447253859892e-5\n",
      " Relative error = 1.2012584416643003e-5\n",
      " Relative error = 1.1281497777617663e-5\n",
      " Relative error = 1.091948766924306e-5\n",
      " Relative error = 1.0795820693472576e-5\n",
      " Relative error = 1.0865482145175396e-5\n",
      " Relative error = 1.111235580836616e-5\n",
      " Entering displacemtent step36 :0.036000000000000025\n",
      " Relative error = 1.1534258717985913e-5\n",
      " Relative error = 0.00029319309715703174\n",
      " Relative error = 3.455303591796321e-5\n",
      " Relative error = 3.0514325206420786e-5\n",
      " Relative error = 3.212038324677766e-5\n",
      " Relative error = 3.479527323649191e-5\n",
      " Relative error = 3.7535954828956616e-5\n",
      " Relative error = 3.957829527423062e-5\n",
      " Relative error = 4.0305266922807114e-5\n",
      " Relative error = 3.965838948309646e-5\n",
      " Entering displacemtent step37 :0.037000000000000026\n",
      " Relative error = 3.822354005431634e-5\n",
      " Relative error = 0.0002459803066614805\n",
      " Relative error = 6.037512209928875e-5\n",
      " Relative error = 5.080519769337542e-5\n",
      " Relative error = 4.770487321720986e-5\n",
      " Relative error = 4.574137765881432e-5\n",
      " Relative error = 4.42539317278187e-5\n",
      " Relative error = 4.3104046848893335e-5\n",
      " Relative error = 4.232693309493078e-5\n",
      " Relative error = 4.177136348154687e-5\n",
      " Entering displacemtent step38 :0.03800000000000003\n",
      " Relative error = 4.117203709984136e-5\n",
      " Relative error = 0.0002415654901913848\n",
      " Relative error = 6.847194690772063e-5\n",
      " Relative error = 5.926394703025613e-5\n",
      " Relative error = 5.716215124584309e-5\n",
      " Relative error = 5.6284997720697806e-5\n",
      " Relative error = 5.554508870443042e-5\n",
      " Relative error = 5.469143244623354e-5\n",
      " Relative error = 5.404484130694255e-5\n",
      " Relative error = 5.393717075085682e-5\n",
      " Entering displacemtent step39 :0.03900000000000003\n",
      " Relative error = 5.411091007932399e-5\n",
      " Relative error = 0.00025555223947143637\n",
      " Relative error = 8.740332672415911e-5\n",
      " Relative error = 7.896041364642309e-5\n",
      " Relative error = 7.808653513293732e-5\n",
      " Relative error = 7.836990902107294e-5\n",
      " Relative error = 7.92805609434466e-5\n",
      " Relative error = 8.039359638906166e-5\n",
      " Relative error = 8.092647825304416e-5\n",
      " Relative error = 8.130951484485162e-5\n",
      " Entering displacemtent step40 :0.04000000000000003\n",
      " Relative error = 8.195143677970957e-5\n",
      " Relative error = 0.000282559017137205\n",
      " Relative error = 0.00012052347740134239\n",
      " Relative error = 0.00011258721225092975\n",
      " Relative error = 0.0001116135130963627\n",
      " Relative error = 0.00011169747933512563\n",
      " Relative error = 0.00011216985959476344\n",
      " Relative error = 0.00011224384179319211\n",
      " Relative error = 0.00011281138880837267\n",
      " Relative error = 0.00011325826896984654\n",
      " Entering displacemtent step41 :0.04100000000000003\n",
      " Relative error = 0.00011351289668569378\n",
      " Relative error = 0.0003141309136416992\n",
      " Relative error = 0.0001582801463513416\n",
      " Relative error = 0.00014833956318152617\n",
      " Relative error = 0.00014668310001637506\n",
      " Relative error = 0.00014594162374341983\n",
      " Relative error = 0.0001449648575081037\n",
      " Relative error = 0.00014430185975307513\n",
      " Relative error = 0.0001438525547426721\n",
      " Relative error = 0.00014445183746086279\n",
      " Entering displacemtent step42 :0.04200000000000003\n",
      " Relative error = 0.00014592942475515465\n",
      " Relative error = 0.00034308826783725933\n",
      " Relative error = 0.00019313733612473286\n",
      " Relative error = 0.00018034666594991393\n",
      " Relative error = 0.00017690971635142715\n",
      " Relative error = 0.00017602298768959788\n",
      " Relative error = 0.00017561899621549757\n",
      " Relative error = 0.00017443111783974988\n",
      " Relative error = 0.00017283438986907433\n",
      " Relative error = 0.00017113773366338823\n",
      " Entering displacemtent step43 :0.04300000000000003\n",
      " Relative error = 0.00016989463763523552\n",
      " Relative error = 0.0003577838967912088\n",
      " Relative error = 0.00021980708347186723\n",
      " Relative error = 0.00020569379244318142\n",
      " Relative error = 0.0002006578607500984\n",
      " Relative error = 0.00019692433087733412\n",
      " Relative error = 0.00019481736054847586\n",
      " Relative error = 0.00019299960440084506\n",
      " Relative error = 0.0001907947794463579\n",
      " Relative error = 0.00018828764178455753\n",
      " Entering displacemtent step44 :0.04400000000000003\n",
      " Relative error = 0.00018607035437768463\n",
      " Relative error = 0.0003570060748343615\n",
      " Relative error = 0.00023598049515934883\n",
      " Relative error = 0.00022032610214663934\n",
      " Relative error = 0.00021360352479849352\n",
      " Relative error = 0.00020954132579392625\n",
      " Relative error = 0.0002068999137409891\n",
      " Relative error = 0.00020393747610715027\n",
      " Relative error = 0.0002009471683027665\n",
      " Relative error = 0.00019797649003909358\n",
      " Entering displacemtent step45 :0.04500000000000003\n",
      " Relative error = 0.00019666750864541112\n",
      " Relative error = 0.0003435108560272496\n",
      " Relative error = 0.0002462235481926989\n",
      " Relative error = 0.00023080366489842968\n",
      " Relative error = 0.00022484427417257416\n",
      " Relative error = 0.00022172424180959456\n",
      " Relative error = 0.00021911809681446925\n",
      " Relative error = 0.00021673980515990947\n",
      " Relative error = 0.0002151001382420935\n",
      " Relative error = 0.00021526293927031647\n",
      " Entering displacemtent step46 :0.046000000000000034\n",
      " Relative error = 0.00021536875621526222\n",
      " Relative error = 0.0003314114123042831\n",
      " Relative error = 0.0002698575610859011\n",
      " Relative error = 0.0002611825001532344\n",
      " Relative error = 0.0002601061863499423\n",
      " Relative error = 0.00026148521949626594\n",
      " Relative error = 0.00026625805694409154\n",
      " Relative error = 0.0002744510822652792\n",
      " Relative error = 0.0002853424767170949\n",
      " Relative error = 0.0003003818695474613\n",
      " Entering displacemtent step47 :0.047000000000000035\n",
      " Relative error = 0.0003240282229134447\n",
      " Relative error = 0.000423445452201229\n",
      " Relative error = 0.00045589050382265094\n",
      " Relative error = 0.0005124878974246048\n",
      " Relative error = 0.0005284051887285966\n",
      " Relative error = 0.0002926254003077977\n",
      " Relative error = 2.469832544941904e-5\n",
      " Relative error = 1.109922388678942e-6\n",
      " Relative error = 2.00224240238465e-7\n",
      " Relative error = 5.835939462795616e-8\n",
      " Entering displacemtent step48 :0.048000000000000036\n",
      " Relative error = 1.7578951595532747e-8\n",
      " Relative error = 3.092446883027539e-8\n",
      " Relative error = 6.002014086799621e-9\n",
      " Entering displacemtent step49 :0.04900000000000004\n",
      " Relative error = 1.644822300943225e-9\n",
      " Entering displacemtent step50 :0.05000000000000004\n",
      " Relative error = 2.6333948890525048e-8\n",
      " Relative error = 3.1335296578543465e-8\n",
      " Relative error = 4.352136888372038e-9\n",
      " Entering displacemtent step51 :0.05100000000000004\n",
      " Relative error = 9.79397244403202e-10\n",
      " Entering displacemtent step52 :0.05200000000000004\n",
      " Relative error = 2.9001159432155026e-8\n",
      " Relative error = 3.3788397965685986e-8\n",
      " Relative error = 3.4462027087480566e-9\n",
      " Entering displacemtent step53 :0.05300000000000004\n",
      " Relative error = 6.30734530685262e-10\n",
      " Entering displacemtent step54 :0.05400000000000004\n",
      " Relative error = 3.366210673640145e-8\n",
      " Relative error = 3.667835829394099e-8\n",
      " Relative error = 2.813013786476021e-9\n",
      " Entering displacemtent step55 :0.05500000000000004\n",
      " Relative error = 4.1926439746246937e-10\n",
      " Entering displacemtent step56 :0.05600000000000004\n",
      " Relative error = 3.459575972646669e-8\n",
      " Relative error = 3.896944288201371e-8\n",
      " Relative error = 2.3229825360356806e-9\n",
      " Entering displacemtent step57 :0.057000000000000044\n",
      " Relative error = 2.860856363220096e-10\n",
      " Entering displacemtent step58 :0.058000000000000045\n",
      " Relative error = 3.659230655078513e-8\n",
      " Relative error = 3.8844044539812404e-8\n",
      " Relative error = 1.889392560408239e-9\n",
      " Entering displacemtent step59 :0.059000000000000045\n",
      " Relative error = 1.9899818329433576e-10\n",
      " Entering displacemtent step60 :0.060000000000000046\n",
      " Relative error = 3.717029426985315e-8\n",
      " Relative error = 3.9124214476455e-8\n",
      " Relative error = 1.5920659202970626e-9\n",
      " Entering displacemtent step61 :0.06100000000000005\n",
      " Relative error = 1.4257515139849388e-10\n",
      " Entering displacemtent step62 :0.06200000000000005\n",
      " Relative error = 3.788914523078606e-8\n",
      " Relative error = 3.875499612030822e-8\n",
      " Relative error = 1.3224758519887497e-9\n",
      " Entering displacemtent step63 :0.06300000000000004\n",
      " Relative error = 1.0369789610895799e-10\n",
      " Entering displacemtent step64 :0.06400000000000004\n",
      " Relative error = 3.7142115135470826e-8\n",
      " Relative error = 3.8763114790155344e-8\n",
      " Relative error = 1.106217062963137e-9\n",
      " Entering displacemtent step65 :0.06500000000000004\n",
      " Relative error = 7.667149863039169e-11\n",
      " Entering displacemtent step66 :0.06600000000000004\n",
      " Relative error = 3.793422670387415e-8\n",
      " Relative error = 3.870360508343379e-8\n",
      " Relative error = 9.542473026528204e-10\n",
      " Entering displacemtent step67 :0.06700000000000005\n",
      " Relative error = 5.801833126775162e-11\n",
      " Entering displacemtent step68 :0.06800000000000005\n",
      " Relative error = 3.816207380711813e-8\n",
      " Relative error = 4.0321913115523234e-8\n",
      " Relative error = 8.006633335026133e-10\n",
      " Entering displacemtent step69 :0.06900000000000005\n",
      " Relative error = 4.375789635827205e-11\n",
      " Entering displacemtent step70 :0.07000000000000005\n",
      " Relative error = 3.97245082083924e-8\n",
      " Relative error = 4.048701991008285e-8\n",
      " Relative error = 6.731582220668332e-10\n",
      " Entering displacemtent step71 :0.07100000000000005\n",
      " Relative error = 3.35227157772156e-11\n",
      " Entering displacemtent step72 :0.07200000000000005\n",
      " Relative error = 3.933169859672395e-8\n",
      " Relative error = 4.045393513141188e-8\n",
      " Relative error = 5.660810340883036e-10\n",
      " Entering displacemtent step73 :0.07300000000000005\n",
      " Relative error = 2.5871619699460176e-11\n",
      " Entering displacemtent step74 :0.07400000000000005\n",
      " Relative error = 4.0239963608674177e-8\n",
      " Relative error = 4.1182273209480534e-8\n",
      " Relative error = 4.693300781730541e-10\n",
      " Entering displacemtent step75 :0.07500000000000005\n",
      " Relative error = 1.98391364883491e-11\n",
      " Entering displacemtent step76 :0.07600000000000005\n",
      " Relative error = 4.143399037937355e-8\n",
      " Relative error = 4.326821266368704e-8\n",
      " Relative error = 3.7546849524828443e-10\n",
      " Entering displacemtent step77 :0.07700000000000005\n",
      " Relative error = 1.475660123641348e-11\n",
      " Entering displacemtent step78 :0.07800000000000006\n",
      " Relative error = 4.580535350993579e-8\n",
      " Relative error = 4.881184574301972e-8\n",
      " Relative error = 2.6740022105804856e-10\n",
      " Entering displacemtent step79 :0.07900000000000006\n",
      " Relative error = 9.65576255696979e-12\n",
      " Entering displacemtent step80 :0.08000000000000006\n",
      " Relative error = 4.816185976186012e-8\n",
      " Relative error = 4.753940665480151e-8\n",
      " Relative error = 2.3432108483134004e-10\n",
      " Entering displacemtent step81 :0.08100000000000006\n",
      " Relative error = 6.998014525835411e-12\n",
      " Entering displacemtent step82 :0.08200000000000006\n",
      " Relative error = 4.567134664947827e-8\n",
      " Relative error = 4.452098474815292e-8\n",
      " Relative error = 2.5763340691831817e-10\n",
      " Entering displacemtent step83 :0.08300000000000006\n",
      " Relative error = 5.010289411885636e-12\n",
      " Entering displacemtent step84 :0.08400000000000006\n",
      " Relative error = 4.259444671605857e-8\n",
      " Relative error = 4.145641852261954e-8\n",
      " Relative error = 2.419106069857676e-10\n",
      " Entering displacemtent step85 :0.08500000000000006\n",
      " Relative error = 3.763654701792932e-12\n",
      " Entering displacemtent step86 :0.08600000000000006\n",
      " Relative error = 3.9685959299884735e-8\n",
      " Relative error = 3.862451929401265e-8\n",
      " Relative error = 2.117488993407076e-10\n",
      " Entering displacemtent step87 :0.08700000000000006\n",
      " Relative error = 2.9402089149717496e-12\n",
      " Entering displacemtent step88 :0.08800000000000006\n",
      " Relative error = 3.702719463779971e-8\n",
      " Relative error = 3.6041898855068875e-8\n",
      " Relative error = 1.849432875328553e-10\n",
      " Entering displacemtent step89 :0.08900000000000007\n",
      " Relative error = 2.315063207425356e-12\n",
      " Entering displacemtent step90 :0.09000000000000007\n",
      " Relative error = 3.4598972674399575e-8\n",
      " Relative error = 3.368439661889297e-8\n",
      " Relative error = 1.6202594304448968e-10\n",
      " Entering displacemtent step91 :0.09100000000000007\n",
      " Relative error = 1.8309159434037537e-12\n",
      " Entering displacemtent step92 :0.09200000000000007\n",
      " Relative error = 3.2377473874531694e-8\n",
      " Relative error = 3.152816173072429e-8\n",
      " Relative error = 1.4241805072925833e-10\n",
      " Entering displacemtent step93 :0.09300000000000007\n",
      " Relative error = 1.4532605818352024e-12\n",
      " Entering displacemtent step94 :0.09400000000000007\n",
      " Relative error = 3.034130491555167e-8\n",
      " Relative error = 2.9552146541721115e-8\n",
      " Relative error = 1.2558476468448677e-10\n",
      " Entering displacemtent step95 :0.09500000000000007\n",
      " Relative error = 1.1569599176654977e-12\n",
      " Entering displacemtent step96 :0.09600000000000007\n",
      " Relative error = 3.687299585405941e-8\n",
      " Relative error = 9.24258897023081e-8\n",
      " Relative error = 5.316020225865417e-9\n",
      " Entering displacemtent step97 :0.09700000000000007\n",
      " Relative error = 5.237908256419949e-10\n",
      " Entering displacemtent step98 :0.09800000000000007\n",
      " Relative error = 1.7154171956642973e-7\n",
      " Relative error = 2.57680710781742e-7\n",
      " Relative error = 1.708523461738317e-8\n",
      " Relative error = 1.908351310890382e-9\n",
      " Entering displacemtent step99 :0.09900000000000007\n",
      " Relative error = 2.2851312715599432e-10\n",
      " Entering displacemtent step100 :0.10000000000000007\n",
      " Relative error = 3.5737996181526604e-7\n",
      " Relative error = 4.406387749996288e-7\n",
      " Relative error = 3.118745563160857e-8\n",
      " Relative error = 3.888095858610322e-9"
     ]
    }
   ],
   "source": [
    "uApp = 0\n",
    "delu = 1e-3\n",
    "uAppMax = 0.1\n",
    "innerMax = 10\n",
    "count = 0\n",
    "Load = Float64[]\n",
    "Displacement = Float64[]\n",
    "Energy = Float64[]\n",
    "Energy_Mech = Float64[]\n",
    "Energy_Coup = Float64[]\n",
    "Energy_Rot = Float64[]\n",
    "\n",
    "sPrev = CellState(1.0,dΩ)\n",
    "sh = project(sPrev,model,dΩ,order)\n",
    "ψPlusPrev = CellState(0.0,dΩ)\n",
    "ψhPos = CellState(0.0,dΩ)\n",
    "ψhPos_in = project(ψhPos,model,dΩ,order)\n",
    "\n",
    "while uApp .< uAppMax \n",
    "        \n",
    "    uApp = uApp .+ delu\n",
    "    count = count .+ 1\n",
    "    if uApp >= 3e-2\n",
    "        delv = 1e-4\n",
    "    end\n",
    "   \n",
    "    print(\"\\n Entering displacemtent step$count :\", float(uApp))\n",
    "    \n",
    "   for inner = 1:innerMax\n",
    "        \n",
    "        ψhPlusPrev = project(ψPlusPrev,model,dΩ,order)\n",
    "        \n",
    "        err = abs(sum(∫( Gc*lsp*∇(sh)⋅ ∇(sh) + 2*ψhPlusPrev*sh*sh  + (Gc/lsp)*sh*sh)*dΩ - ∫( (Gc/lsp)*sh)*dΩ))/abs(sum(∫( (Gc/lsp)*sh)*dΩ))\n",
    "        print(\"\\n Relative error = \",float(err))\n",
    "        \n",
    "        sh = stepPhaseField(uh,ψhPlusPrev) \n",
    "        uh,θh = stepDisp(uh,θh,sh,uApp)\n",
    "        \n",
    "        ψhPos_in = ψPos∘(ε(uh),∇(uh),θh,∇(θh))      \n",
    "        \n",
    "        update_state!(new_EnergyState,ψPlusPrev,ψhPos_in)\n",
    "        \n",
    "        if err < 1e-8\n",
    "            break \n",
    "        end\n",
    "    end\n",
    "    \n",
    "    Node_Force = sum(∫( n_Γ_Load ⋅ (σ_Bmod∘(ε(uh),sh)) ) *dΓ_Load + ∫( n_Γ_Load ⋅ (σ_Cmod∘(ε_Skw∘(∇(uh),θh),sh) ) )  *dΓ_Load)\n",
    "\n",
    "    p = get_cell_points(dE_Load)\n",
    "    A = evaluate(ψPos∘(ε(uh),∇(uh),θh, ∇(θh)),p)\n",
    "    B = [A[i][j] for i in 1:size(A,1), j in 1:2]\n",
    "    PosEn = maximum(B)\n",
    "    \n",
    "    A = evaluate(ψMech∘(ε(uh),∇(uh),θh, ∇(θh)),p)\n",
    "    B = [A[i][j] for i in 1:size(A,1), j in 1:2]\n",
    "    Psi_Mech = maximum(B)\n",
    "    \n",
    "    A = evaluate(ψCoup∘(ε(uh),∇(uh),θh, ∇(θh)),p)\n",
    "    B = [A[i][j] for i in 1:size(A,1), j in 1:2]\n",
    "    Psi_Coup = maximum(B)\n",
    "    \n",
    "    A = evaluate(ψRot∘(ε(uh),∇(uh),θh, ∇(θh)),p)\n",
    "    B = [A[i][j] for i in 1:size(A,1), j in 1:2]\n",
    "    Psi_Rot = maximum(B)\n",
    "    \n",
    "    push!(Energy, PosEn)\n",
    "    push!(Energy_Mech, Psi_Mech)\n",
    "    push!(Energy_Coup, Psi_Coup)\n",
    "    push!(Energy_Rot, Psi_Rot)\n",
    "    push!(Load, Node_Force[2])\n",
    "    push!(Displacement, uApp)\n",
    "    if mod(count,10) == 0\n",
    "         writevtk(Ω,\"results_PhaseFieldNotchedBeam_Spectral$count\",cellfields=\n",
    "        [\"uh\"=>uh,\"s\"=>sh ,\"θ\" => θh, \"epsi\"=>ε(uh)])\n",
    "    end\n",
    "end"
   ]
  },
  {
   "cell_type": "code",
   "execution_count": 32,
   "id": "cf4184cd",
   "metadata": {},
   "outputs": [
    {
     "data": {
      "text/plain": [
       "([\"results_PhaseFieldNotchedBeam_Spectral100.vtu\"],)"
      ]
     },
     "execution_count": 32,
     "metadata": {},
     "output_type": "execute_result"
    }
   ],
   "source": [
    "writevtk(Ω,\"results_PhaseFieldNotchedBeam_Spectral$count\",cellfields=\n",
    "        [\"uh\"=>uh,\"s\"=>sh ,\"θ\" => θh, \"epsi\"=>ε(uh)])"
   ]
  },
  {
   "cell_type": "code",
   "execution_count": 33,
   "id": "emerging-negative",
   "metadata": {},
   "outputs": [
    {
     "data": {
      "image/svg+xml": [
       "<?xml version=\"1.0\" encoding=\"utf-8\"?>\n",
       "<svg xmlns=\"http://www.w3.org/2000/svg\" xmlns:xlink=\"http://www.w3.org/1999/xlink\" width=\"600\" height=\"400\" viewBox=\"0 0 2400 1600\">\n",
       "<defs>\n",
       "  <clipPath id=\"clip370\">\n",
       "    <rect x=\"0\" y=\"0\" width=\"2400\" height=\"1600\"/>\n",
       "  </clipPath>\n",
       "</defs>\n",
       "<path clip-path=\"url(#clip370)\" d=\"M0 1600 L2400 1600 L2400 0 L0 0  Z\" fill=\"#ffffff\" fill-rule=\"evenodd\" fill-opacity=\"1\"/>\n",
       "<defs>\n",
       "  <clipPath id=\"clip371\">\n",
       "    <rect x=\"480\" y=\"0\" width=\"1681\" height=\"1600\"/>\n",
       "  </clipPath>\n",
       "</defs>\n",
       "<path clip-path=\"url(#clip370)\" d=\"M186.76 1486.45 L2352.76 1486.45 L2352.76 47.2441 L186.76 47.2441  Z\" fill=\"#ffffff\" fill-rule=\"evenodd\" fill-opacity=\"1\"/>\n",
       "<defs>\n",
       "  <clipPath id=\"clip372\">\n",
       "    <rect x=\"186\" y=\"47\" width=\"2167\" height=\"1440\"/>\n",
       "  </clipPath>\n",
       "</defs>\n",
       "<polyline clip-path=\"url(#clip372)\" style=\"stroke:#000000; stroke-linecap:round; stroke-linejoin:round; stroke-width:2; stroke-opacity:0.1; fill:none\" points=\"227.422,1486.45 227.422,47.2441 \"/>\n",
       "<polyline clip-path=\"url(#clip372)\" style=\"stroke:#000000; stroke-linecap:round; stroke-linejoin:round; stroke-width:2; stroke-opacity:0.1; fill:none\" points=\"743.43,1486.45 743.43,47.2441 \"/>\n",
       "<polyline clip-path=\"url(#clip372)\" style=\"stroke:#000000; stroke-linecap:round; stroke-linejoin:round; stroke-width:2; stroke-opacity:0.1; fill:none\" points=\"1259.44,1486.45 1259.44,47.2441 \"/>\n",
       "<polyline clip-path=\"url(#clip372)\" style=\"stroke:#000000; stroke-linecap:round; stroke-linejoin:round; stroke-width:2; stroke-opacity:0.1; fill:none\" points=\"1775.45,1486.45 1775.45,47.2441 \"/>\n",
       "<polyline clip-path=\"url(#clip372)\" style=\"stroke:#000000; stroke-linecap:round; stroke-linejoin:round; stroke-width:2; stroke-opacity:0.1; fill:none\" points=\"2291.45,1486.45 2291.45,47.2441 \"/>\n",
       "<polyline clip-path=\"url(#clip370)\" style=\"stroke:#000000; stroke-linecap:round; stroke-linejoin:round; stroke-width:4; stroke-opacity:1; fill:none\" points=\"186.76,1486.45 2352.76,1486.45 \"/>\n",
       "<polyline clip-path=\"url(#clip370)\" style=\"stroke:#000000; stroke-linecap:round; stroke-linejoin:round; stroke-width:4; stroke-opacity:1; fill:none\" points=\"227.422,1486.45 227.422,1467.55 \"/>\n",
       "<polyline clip-path=\"url(#clip370)\" style=\"stroke:#000000; stroke-linecap:round; stroke-linejoin:round; stroke-width:4; stroke-opacity:1; fill:none\" points=\"743.43,1486.45 743.43,1467.55 \"/>\n",
       "<polyline clip-path=\"url(#clip370)\" style=\"stroke:#000000; stroke-linecap:round; stroke-linejoin:round; stroke-width:4; stroke-opacity:1; fill:none\" points=\"1259.44,1486.45 1259.44,1467.55 \"/>\n",
       "<polyline clip-path=\"url(#clip370)\" style=\"stroke:#000000; stroke-linecap:round; stroke-linejoin:round; stroke-width:4; stroke-opacity:1; fill:none\" points=\"1775.45,1486.45 1775.45,1467.55 \"/>\n",
       "<polyline clip-path=\"url(#clip370)\" style=\"stroke:#000000; stroke-linecap:round; stroke-linejoin:round; stroke-width:4; stroke-opacity:1; fill:none\" points=\"2291.45,1486.45 2291.45,1467.55 \"/>\n",
       "<path clip-path=\"url(#clip370)\" d=\"M174.644 1517.37 Q171.033 1517.37 169.204 1520.93 Q167.399 1524.47 167.399 1531.6 Q167.399 1538.71 169.204 1542.27 Q171.033 1545.82 174.644 1545.82 Q178.278 1545.82 180.084 1542.27 Q181.913 1538.71 181.913 1531.6 Q181.913 1524.47 180.084 1520.93 Q178.278 1517.37 174.644 1517.37 M174.644 1513.66 Q180.454 1513.66 183.51 1518.27 Q186.588 1522.85 186.588 1531.6 Q186.588 1540.33 183.51 1544.94 Q180.454 1549.52 174.644 1549.52 Q168.834 1549.52 165.755 1544.94 Q162.7 1540.33 162.7 1531.6 Q162.7 1522.85 165.755 1518.27 Q168.834 1513.66 174.644 1513.66 Z\" fill=\"#000000\" fill-rule=\"nonzero\" fill-opacity=\"1\" /><path clip-path=\"url(#clip370)\" d=\"M194.806 1542.97 L199.69 1542.97 L199.69 1548.85 L194.806 1548.85 L194.806 1542.97 Z\" fill=\"#000000\" fill-rule=\"nonzero\" fill-opacity=\"1\" /><path clip-path=\"url(#clip370)\" d=\"M219.875 1517.37 Q216.264 1517.37 214.436 1520.93 Q212.63 1524.47 212.63 1531.6 Q212.63 1538.71 214.436 1542.27 Q216.264 1545.82 219.875 1545.82 Q223.51 1545.82 225.315 1542.27 Q227.144 1538.71 227.144 1531.6 Q227.144 1524.47 225.315 1520.93 Q223.51 1517.37 219.875 1517.37 M219.875 1513.66 Q225.685 1513.66 228.741 1518.27 Q231.82 1522.85 231.82 1531.6 Q231.82 1540.33 228.741 1544.94 Q225.685 1549.52 219.875 1549.52 Q214.065 1549.52 210.986 1544.94 Q207.931 1540.33 207.931 1531.6 Q207.931 1522.85 210.986 1518.27 Q214.065 1513.66 219.875 1513.66 Z\" fill=\"#000000\" fill-rule=\"nonzero\" fill-opacity=\"1\" /><path clip-path=\"url(#clip370)\" d=\"M250.037 1517.37 Q246.426 1517.37 244.597 1520.93 Q242.792 1524.47 242.792 1531.6 Q242.792 1538.71 244.597 1542.27 Q246.426 1545.82 250.037 1545.82 Q253.671 1545.82 255.477 1542.27 Q257.306 1538.71 257.306 1531.6 Q257.306 1524.47 255.477 1520.93 Q253.671 1517.37 250.037 1517.37 M250.037 1513.66 Q255.847 1513.66 258.903 1518.27 Q261.982 1522.85 261.982 1531.6 Q261.982 1540.33 258.903 1544.94 Q255.847 1549.52 250.037 1549.52 Q244.227 1549.52 241.148 1544.94 Q238.093 1540.33 238.093 1531.6 Q238.093 1522.85 241.148 1518.27 Q244.227 1513.66 250.037 1513.66 Z\" fill=\"#000000\" fill-rule=\"nonzero\" fill-opacity=\"1\" /><path clip-path=\"url(#clip370)\" d=\"M280.199 1517.37 Q276.588 1517.37 274.759 1520.93 Q272.954 1524.47 272.954 1531.6 Q272.954 1538.71 274.759 1542.27 Q276.588 1545.82 280.199 1545.82 Q283.833 1545.82 285.639 1542.27 Q287.468 1538.71 287.468 1531.6 Q287.468 1524.47 285.639 1520.93 Q283.833 1517.37 280.199 1517.37 M280.199 1513.66 Q286.009 1513.66 289.065 1518.27 Q292.143 1522.85 292.143 1531.6 Q292.143 1540.33 289.065 1544.94 Q286.009 1549.52 280.199 1549.52 Q274.389 1549.52 271.31 1544.94 Q268.255 1540.33 268.255 1531.6 Q268.255 1522.85 271.31 1518.27 Q274.389 1513.66 280.199 1513.66 Z\" fill=\"#000000\" fill-rule=\"nonzero\" fill-opacity=\"1\" /><path clip-path=\"url(#clip370)\" d=\"M691.15 1517.37 Q687.539 1517.37 685.71 1520.93 Q683.905 1524.47 683.905 1531.6 Q683.905 1538.71 685.71 1542.27 Q687.539 1545.82 691.15 1545.82 Q694.784 1545.82 696.59 1542.27 Q698.418 1538.71 698.418 1531.6 Q698.418 1524.47 696.59 1520.93 Q694.784 1517.37 691.15 1517.37 M691.15 1513.66 Q696.96 1513.66 700.016 1518.27 Q703.094 1522.85 703.094 1531.6 Q703.094 1540.33 700.016 1544.94 Q696.96 1549.52 691.15 1549.52 Q685.34 1549.52 682.261 1544.94 Q679.206 1540.33 679.206 1531.6 Q679.206 1522.85 682.261 1518.27 Q685.34 1513.66 691.15 1513.66 Z\" fill=\"#000000\" fill-rule=\"nonzero\" fill-opacity=\"1\" /><path clip-path=\"url(#clip370)\" d=\"M711.312 1542.97 L716.196 1542.97 L716.196 1548.85 L711.312 1548.85 L711.312 1542.97 Z\" fill=\"#000000\" fill-rule=\"nonzero\" fill-opacity=\"1\" /><path clip-path=\"url(#clip370)\" d=\"M736.381 1517.37 Q732.77 1517.37 730.941 1520.93 Q729.136 1524.47 729.136 1531.6 Q729.136 1538.71 730.941 1542.27 Q732.77 1545.82 736.381 1545.82 Q740.015 1545.82 741.821 1542.27 Q743.65 1538.71 743.65 1531.6 Q743.65 1524.47 741.821 1520.93 Q740.015 1517.37 736.381 1517.37 M736.381 1513.66 Q742.191 1513.66 745.247 1518.27 Q748.326 1522.85 748.326 1531.6 Q748.326 1540.33 745.247 1544.94 Q742.191 1549.52 736.381 1549.52 Q730.571 1549.52 727.492 1544.94 Q724.437 1540.33 724.437 1531.6 Q724.437 1522.85 727.492 1518.27 Q730.571 1513.66 736.381 1513.66 Z\" fill=\"#000000\" fill-rule=\"nonzero\" fill-opacity=\"1\" /><path clip-path=\"url(#clip370)\" d=\"M760.571 1544.91 L776.89 1544.91 L776.89 1548.85 L754.946 1548.85 L754.946 1544.91 Q757.608 1542.16 762.191 1537.53 Q766.798 1532.88 767.978 1531.53 Q770.224 1529.01 771.103 1527.27 Q772.006 1525.51 772.006 1523.82 Q772.006 1521.07 770.062 1519.33 Q768.14 1517.6 765.038 1517.6 Q762.839 1517.6 760.386 1518.36 Q757.955 1519.13 755.177 1520.68 L755.177 1515.95 Q758.001 1514.82 760.455 1514.24 Q762.909 1513.66 764.946 1513.66 Q770.316 1513.66 773.511 1516.35 Q776.705 1519.03 776.705 1523.52 Q776.705 1525.65 775.895 1527.57 Q775.108 1529.47 773.001 1532.07 Q772.423 1532.74 769.321 1535.95 Q766.219 1539.15 760.571 1544.91 Z\" fill=\"#000000\" fill-rule=\"nonzero\" fill-opacity=\"1\" /><path clip-path=\"url(#clip370)\" d=\"M786.751 1514.29 L805.108 1514.29 L805.108 1518.22 L791.034 1518.22 L791.034 1526.7 Q792.052 1526.35 793.071 1526.19 Q794.089 1526 795.108 1526 Q800.895 1526 804.274 1529.17 Q807.654 1532.34 807.654 1537.76 Q807.654 1543.34 804.182 1546.44 Q800.709 1549.52 794.39 1549.52 Q792.214 1549.52 789.946 1549.15 Q787.7 1548.78 785.293 1548.04 L785.293 1543.34 Q787.376 1544.47 789.598 1545.03 Q791.821 1545.58 794.297 1545.58 Q798.302 1545.58 800.64 1543.48 Q802.978 1541.37 802.978 1537.76 Q802.978 1534.15 800.64 1532.04 Q798.302 1529.94 794.297 1529.94 Q792.422 1529.94 790.548 1530.35 Q788.696 1530.77 786.751 1531.65 L786.751 1514.29 Z\" fill=\"#000000\" fill-rule=\"nonzero\" fill-opacity=\"1\" /><path clip-path=\"url(#clip370)\" d=\"M1206.66 1517.37 Q1203.05 1517.37 1201.22 1520.93 Q1199.42 1524.47 1199.42 1531.6 Q1199.42 1538.71 1201.22 1542.27 Q1203.05 1545.82 1206.66 1545.82 Q1210.29 1545.82 1212.1 1542.27 Q1213.93 1538.71 1213.93 1531.6 Q1213.93 1524.47 1212.1 1520.93 Q1210.29 1517.37 1206.66 1517.37 M1206.66 1513.66 Q1212.47 1513.66 1215.53 1518.27 Q1218.6 1522.85 1218.6 1531.6 Q1218.6 1540.33 1215.53 1544.94 Q1212.47 1549.52 1206.66 1549.52 Q1200.85 1549.52 1197.77 1544.94 Q1194.72 1540.33 1194.72 1531.6 Q1194.72 1522.85 1197.77 1518.27 Q1200.85 1513.66 1206.66 1513.66 Z\" fill=\"#000000\" fill-rule=\"nonzero\" fill-opacity=\"1\" /><path clip-path=\"url(#clip370)\" d=\"M1226.82 1542.97 L1231.71 1542.97 L1231.71 1548.85 L1226.82 1548.85 L1226.82 1542.97 Z\" fill=\"#000000\" fill-rule=\"nonzero\" fill-opacity=\"1\" /><path clip-path=\"url(#clip370)\" d=\"M1251.89 1517.37 Q1248.28 1517.37 1246.45 1520.93 Q1244.65 1524.47 1244.65 1531.6 Q1244.65 1538.71 1246.45 1542.27 Q1248.28 1545.82 1251.89 1545.82 Q1255.53 1545.82 1257.33 1542.27 Q1259.16 1538.71 1259.16 1531.6 Q1259.16 1524.47 1257.33 1520.93 Q1255.53 1517.37 1251.89 1517.37 M1251.89 1513.66 Q1257.7 1513.66 1260.76 1518.27 Q1263.84 1522.85 1263.84 1531.6 Q1263.84 1540.33 1260.76 1544.94 Q1257.7 1549.52 1251.89 1549.52 Q1246.08 1549.52 1243 1544.94 Q1239.95 1540.33 1239.95 1531.6 Q1239.95 1522.85 1243 1518.27 Q1246.08 1513.66 1251.89 1513.66 Z\" fill=\"#000000\" fill-rule=\"nonzero\" fill-opacity=\"1\" /><path clip-path=\"url(#clip370)\" d=\"M1272.1 1514.29 L1290.46 1514.29 L1290.46 1518.22 L1276.38 1518.22 L1276.38 1526.7 Q1277.4 1526.35 1278.42 1526.19 Q1279.44 1526 1280.46 1526 Q1286.24 1526 1289.62 1529.17 Q1293 1532.34 1293 1537.76 Q1293 1543.34 1289.53 1546.44 Q1286.06 1549.52 1279.74 1549.52 Q1277.56 1549.52 1275.29 1549.15 Q1273.05 1548.78 1270.64 1548.04 L1270.64 1543.34 Q1272.72 1544.47 1274.95 1545.03 Q1277.17 1545.58 1279.65 1545.58 Q1283.65 1545.58 1285.99 1543.48 Q1288.33 1541.37 1288.33 1537.76 Q1288.33 1534.15 1285.99 1532.04 Q1283.65 1529.94 1279.65 1529.94 Q1277.77 1529.94 1275.9 1530.35 Q1274.04 1530.77 1272.1 1531.65 L1272.1 1514.29 Z\" fill=\"#000000\" fill-rule=\"nonzero\" fill-opacity=\"1\" /><path clip-path=\"url(#clip370)\" d=\"M1312.22 1517.37 Q1308.6 1517.37 1306.78 1520.93 Q1304.97 1524.47 1304.97 1531.6 Q1304.97 1538.71 1306.78 1542.27 Q1308.6 1545.82 1312.22 1545.82 Q1315.85 1545.82 1317.66 1542.27 Q1319.48 1538.71 1319.48 1531.6 Q1319.48 1524.47 1317.66 1520.93 Q1315.85 1517.37 1312.22 1517.37 M1312.22 1513.66 Q1318.03 1513.66 1321.08 1518.27 Q1324.16 1522.85 1324.16 1531.6 Q1324.16 1540.33 1321.08 1544.94 Q1318.03 1549.52 1312.22 1549.52 Q1306.41 1549.52 1303.33 1544.94 Q1300.27 1540.33 1300.27 1531.6 Q1300.27 1522.85 1303.33 1518.27 Q1306.41 1513.66 1312.22 1513.66 Z\" fill=\"#000000\" fill-rule=\"nonzero\" fill-opacity=\"1\" /><path clip-path=\"url(#clip370)\" d=\"M1723.17 1517.37 Q1719.56 1517.37 1717.73 1520.93 Q1715.92 1524.47 1715.92 1531.6 Q1715.92 1538.71 1717.73 1542.27 Q1719.56 1545.82 1723.17 1545.82 Q1726.8 1545.82 1728.61 1542.27 Q1730.43 1538.71 1730.43 1531.6 Q1730.43 1524.47 1728.61 1520.93 Q1726.8 1517.37 1723.17 1517.37 M1723.17 1513.66 Q1728.98 1513.66 1732.03 1518.27 Q1735.11 1522.85 1735.11 1531.6 Q1735.11 1540.33 1732.03 1544.94 Q1728.98 1549.52 1723.17 1549.52 Q1717.36 1549.52 1714.28 1544.94 Q1711.22 1540.33 1711.22 1531.6 Q1711.22 1522.85 1714.28 1518.27 Q1717.36 1513.66 1723.17 1513.66 Z\" fill=\"#000000\" fill-rule=\"nonzero\" fill-opacity=\"1\" /><path clip-path=\"url(#clip370)\" d=\"M1743.33 1542.97 L1748.21 1542.97 L1748.21 1548.85 L1743.33 1548.85 L1743.33 1542.97 Z\" fill=\"#000000\" fill-rule=\"nonzero\" fill-opacity=\"1\" /><path clip-path=\"url(#clip370)\" d=\"M1768.4 1517.37 Q1764.79 1517.37 1762.96 1520.93 Q1761.15 1524.47 1761.15 1531.6 Q1761.15 1538.71 1762.96 1542.27 Q1764.79 1545.82 1768.4 1545.82 Q1772.03 1545.82 1773.84 1542.27 Q1775.67 1538.71 1775.67 1531.6 Q1775.67 1524.47 1773.84 1520.93 Q1772.03 1517.37 1768.4 1517.37 M1768.4 1513.66 Q1774.21 1513.66 1777.26 1518.27 Q1780.34 1522.85 1780.34 1531.6 Q1780.34 1540.33 1777.26 1544.94 Q1774.21 1549.52 1768.4 1549.52 Q1762.59 1549.52 1759.51 1544.94 Q1756.45 1540.33 1756.45 1531.6 Q1756.45 1522.85 1759.51 1518.27 Q1762.59 1513.66 1768.4 1513.66 Z\" fill=\"#000000\" fill-rule=\"nonzero\" fill-opacity=\"1\" /><path clip-path=\"url(#clip370)\" d=\"M1787.38 1514.29 L1809.6 1514.29 L1809.6 1516.28 L1797.05 1548.85 L1792.17 1548.85 L1803.98 1518.22 L1787.38 1518.22 L1787.38 1514.29 Z\" fill=\"#000000\" fill-rule=\"nonzero\" fill-opacity=\"1\" /><path clip-path=\"url(#clip370)\" d=\"M1818.77 1514.29 L1837.12 1514.29 L1837.12 1518.22 L1823.05 1518.22 L1823.05 1526.7 Q1824.07 1526.35 1825.09 1526.19 Q1826.11 1526 1827.12 1526 Q1832.91 1526 1836.29 1529.17 Q1839.67 1532.34 1839.67 1537.76 Q1839.67 1543.34 1836.2 1546.44 Q1832.73 1549.52 1826.41 1549.52 Q1824.23 1549.52 1821.96 1549.15 Q1819.72 1548.78 1817.31 1548.04 L1817.31 1543.34 Q1819.39 1544.47 1821.61 1545.03 Q1823.84 1545.58 1826.31 1545.58 Q1830.32 1545.58 1832.66 1543.48 Q1834.99 1541.37 1834.99 1537.76 Q1834.99 1534.15 1832.66 1532.04 Q1830.32 1529.94 1826.31 1529.94 Q1824.44 1529.94 1822.56 1530.35 Q1820.71 1530.77 1818.77 1531.65 L1818.77 1514.29 Z\" fill=\"#000000\" fill-rule=\"nonzero\" fill-opacity=\"1\" /><path clip-path=\"url(#clip370)\" d=\"M2238.68 1517.37 Q2235.07 1517.37 2233.24 1520.93 Q2231.43 1524.47 2231.43 1531.6 Q2231.43 1538.71 2233.24 1542.27 Q2235.07 1545.82 2238.68 1545.82 Q2242.31 1545.82 2244.12 1542.27 Q2245.95 1538.71 2245.95 1531.6 Q2245.95 1524.47 2244.12 1520.93 Q2242.31 1517.37 2238.68 1517.37 M2238.68 1513.66 Q2244.49 1513.66 2247.54 1518.27 Q2250.62 1522.85 2250.62 1531.6 Q2250.62 1540.33 2247.54 1544.94 Q2244.49 1549.52 2238.68 1549.52 Q2232.87 1549.52 2229.79 1544.94 Q2226.73 1540.33 2226.73 1531.6 Q2226.73 1522.85 2229.79 1518.27 Q2232.87 1513.66 2238.68 1513.66 Z\" fill=\"#000000\" fill-rule=\"nonzero\" fill-opacity=\"1\" /><path clip-path=\"url(#clip370)\" d=\"M2258.84 1542.97 L2263.72 1542.97 L2263.72 1548.85 L2258.84 1548.85 L2258.84 1542.97 Z\" fill=\"#000000\" fill-rule=\"nonzero\" fill-opacity=\"1\" /><path clip-path=\"url(#clip370)\" d=\"M2274.72 1544.91 L2282.36 1544.91 L2282.36 1518.55 L2274.05 1520.21 L2274.05 1515.95 L2282.31 1514.29 L2286.99 1514.29 L2286.99 1544.91 L2294.63 1544.91 L2294.63 1548.85 L2274.72 1548.85 L2274.72 1544.91 Z\" fill=\"#000000\" fill-rule=\"nonzero\" fill-opacity=\"1\" /><path clip-path=\"url(#clip370)\" d=\"M2314.07 1517.37 Q2310.46 1517.37 2308.63 1520.93 Q2306.82 1524.47 2306.82 1531.6 Q2306.82 1538.71 2308.63 1542.27 Q2310.46 1545.82 2314.07 1545.82 Q2317.7 1545.82 2319.51 1542.27 Q2321.34 1538.71 2321.34 1531.6 Q2321.34 1524.47 2319.51 1520.93 Q2317.7 1517.37 2314.07 1517.37 M2314.07 1513.66 Q2319.88 1513.66 2322.94 1518.27 Q2326.01 1522.85 2326.01 1531.6 Q2326.01 1540.33 2322.94 1544.94 Q2319.88 1549.52 2314.07 1549.52 Q2308.26 1549.52 2305.18 1544.94 Q2302.13 1540.33 2302.13 1531.6 Q2302.13 1522.85 2305.18 1518.27 Q2308.26 1513.66 2314.07 1513.66 Z\" fill=\"#000000\" fill-rule=\"nonzero\" fill-opacity=\"1\" /><path clip-path=\"url(#clip370)\" d=\"M2344.23 1517.37 Q2340.62 1517.37 2338.79 1520.93 Q2336.99 1524.47 2336.99 1531.6 Q2336.99 1538.71 2338.79 1542.27 Q2340.62 1545.82 2344.23 1545.82 Q2347.87 1545.82 2349.67 1542.27 Q2351.5 1538.71 2351.5 1531.6 Q2351.5 1524.47 2349.67 1520.93 Q2347.87 1517.37 2344.23 1517.37 M2344.23 1513.66 Q2350.04 1513.66 2353.1 1518.27 Q2356.18 1522.85 2356.18 1531.6 Q2356.18 1540.33 2353.1 1544.94 Q2350.04 1549.52 2344.23 1549.52 Q2338.42 1549.52 2335.34 1544.94 Q2332.29 1540.33 2332.29 1531.6 Q2332.29 1522.85 2335.34 1518.27 Q2338.42 1513.66 2344.23 1513.66 Z\" fill=\"#000000\" fill-rule=\"nonzero\" fill-opacity=\"1\" /><polyline clip-path=\"url(#clip372)\" style=\"stroke:#000000; stroke-linecap:round; stroke-linejoin:round; stroke-width:2; stroke-opacity:0.1; fill:none\" points=\"186.76,1388.12 2352.76,1388.12 \"/>\n",
       "<polyline clip-path=\"url(#clip372)\" style=\"stroke:#000000; stroke-linecap:round; stroke-linejoin:round; stroke-width:2; stroke-opacity:0.1; fill:none\" points=\"186.76,1110.26 2352.76,1110.26 \"/>\n",
       "<polyline clip-path=\"url(#clip372)\" style=\"stroke:#000000; stroke-linecap:round; stroke-linejoin:round; stroke-width:2; stroke-opacity:0.1; fill:none\" points=\"186.76,832.398 2352.76,832.398 \"/>\n",
       "<polyline clip-path=\"url(#clip372)\" style=\"stroke:#000000; stroke-linecap:round; stroke-linejoin:round; stroke-width:2; stroke-opacity:0.1; fill:none\" points=\"186.76,554.539 2352.76,554.539 \"/>\n",
       "<polyline clip-path=\"url(#clip372)\" style=\"stroke:#000000; stroke-linecap:round; stroke-linejoin:round; stroke-width:2; stroke-opacity:0.1; fill:none\" points=\"186.76,276.679 2352.76,276.679 \"/>\n",
       "<polyline clip-path=\"url(#clip370)\" style=\"stroke:#000000; stroke-linecap:round; stroke-linejoin:round; stroke-width:4; stroke-opacity:1; fill:none\" points=\"186.76,1486.45 186.76,47.2441 \"/>\n",
       "<polyline clip-path=\"url(#clip370)\" style=\"stroke:#000000; stroke-linecap:round; stroke-linejoin:round; stroke-width:4; stroke-opacity:1; fill:none\" points=\"186.76,1388.12 205.658,1388.12 \"/>\n",
       "<polyline clip-path=\"url(#clip370)\" style=\"stroke:#000000; stroke-linecap:round; stroke-linejoin:round; stroke-width:4; stroke-opacity:1; fill:none\" points=\"186.76,1110.26 205.658,1110.26 \"/>\n",
       "<polyline clip-path=\"url(#clip370)\" style=\"stroke:#000000; stroke-linecap:round; stroke-linejoin:round; stroke-width:4; stroke-opacity:1; fill:none\" points=\"186.76,832.398 205.658,832.398 \"/>\n",
       "<polyline clip-path=\"url(#clip370)\" style=\"stroke:#000000; stroke-linecap:round; stroke-linejoin:round; stroke-width:4; stroke-opacity:1; fill:none\" points=\"186.76,554.539 205.658,554.539 \"/>\n",
       "<polyline clip-path=\"url(#clip370)\" style=\"stroke:#000000; stroke-linecap:round; stroke-linejoin:round; stroke-width:4; stroke-opacity:1; fill:none\" points=\"186.76,276.679 205.658,276.679 \"/>\n",
       "<path clip-path=\"url(#clip370)\" d=\"M63.4226 1373.92 Q59.8115 1373.92 57.9828 1377.48 Q56.1773 1381.02 56.1773 1388.15 Q56.1773 1395.26 57.9828 1398.82 Q59.8115 1402.37 63.4226 1402.37 Q67.0569 1402.37 68.8624 1398.82 Q70.6911 1395.26 70.6911 1388.15 Q70.6911 1381.02 68.8624 1377.48 Q67.0569 1373.92 63.4226 1373.92 M63.4226 1370.21 Q69.2328 1370.21 72.2883 1374.82 Q75.367 1379.4 75.367 1388.15 Q75.367 1396.88 72.2883 1401.49 Q69.2328 1406.07 63.4226 1406.07 Q57.6125 1406.07 54.5338 1401.49 Q51.4782 1396.88 51.4782 1388.15 Q51.4782 1379.4 54.5338 1374.82 Q57.6125 1370.21 63.4226 1370.21 Z\" fill=\"#000000\" fill-rule=\"nonzero\" fill-opacity=\"1\" /><path clip-path=\"url(#clip370)\" d=\"M83.5845 1399.52 L88.4688 1399.52 L88.4688 1405.4 L83.5845 1405.4 L83.5845 1399.52 Z\" fill=\"#000000\" fill-rule=\"nonzero\" fill-opacity=\"1\" /><path clip-path=\"url(#clip370)\" d=\"M108.654 1373.92 Q105.043 1373.92 103.214 1377.48 Q101.409 1381.02 101.409 1388.15 Q101.409 1395.26 103.214 1398.82 Q105.043 1402.37 108.654 1402.37 Q112.288 1402.37 114.094 1398.82 Q115.922 1395.26 115.922 1388.15 Q115.922 1381.02 114.094 1377.48 Q112.288 1373.92 108.654 1373.92 M108.654 1370.21 Q114.464 1370.21 117.52 1374.82 Q120.598 1379.4 120.598 1388.15 Q120.598 1396.88 117.52 1401.49 Q114.464 1406.07 108.654 1406.07 Q102.844 1406.07 99.765 1401.49 Q96.7095 1396.88 96.7095 1388.15 Q96.7095 1379.4 99.765 1374.82 Q102.844 1370.21 108.654 1370.21 Z\" fill=\"#000000\" fill-rule=\"nonzero\" fill-opacity=\"1\" /><path clip-path=\"url(#clip370)\" d=\"M138.816 1373.92 Q135.205 1373.92 133.376 1377.48 Q131.57 1381.02 131.57 1388.15 Q131.57 1395.26 133.376 1398.82 Q135.205 1402.37 138.816 1402.37 Q142.45 1402.37 144.256 1398.82 Q146.084 1395.26 146.084 1388.15 Q146.084 1381.02 144.256 1377.48 Q142.45 1373.92 138.816 1373.92 M138.816 1370.21 Q144.626 1370.21 147.681 1374.82 Q150.76 1379.4 150.76 1388.15 Q150.76 1396.88 147.681 1401.49 Q144.626 1406.07 138.816 1406.07 Q133.006 1406.07 129.927 1401.49 Q126.871 1396.88 126.871 1388.15 Q126.871 1379.4 129.927 1374.82 Q133.006 1370.21 138.816 1370.21 Z\" fill=\"#000000\" fill-rule=\"nonzero\" fill-opacity=\"1\" /><path clip-path=\"url(#clip370)\" d=\"M64.6495 1096.06 Q61.0384 1096.06 59.2097 1099.62 Q57.4041 1103.16 57.4041 1110.29 Q57.4041 1117.4 59.2097 1120.96 Q61.0384 1124.51 64.6495 1124.51 Q68.2837 1124.51 70.0892 1120.96 Q71.9179 1117.4 71.9179 1110.29 Q71.9179 1103.16 70.0892 1099.62 Q68.2837 1096.06 64.6495 1096.06 M64.6495 1092.35 Q70.4596 1092.35 73.5152 1096.96 Q76.5938 1101.54 76.5938 1110.29 Q76.5938 1119.02 73.5152 1123.63 Q70.4596 1128.21 64.6495 1128.21 Q58.8393 1128.21 55.7606 1123.63 Q52.7051 1119.02 52.7051 1110.29 Q52.7051 1101.54 55.7606 1096.96 Q58.8393 1092.35 64.6495 1092.35 Z\" fill=\"#000000\" fill-rule=\"nonzero\" fill-opacity=\"1\" /><path clip-path=\"url(#clip370)\" d=\"M84.8114 1121.66 L89.6956 1121.66 L89.6956 1127.54 L84.8114 1127.54 L84.8114 1121.66 Z\" fill=\"#000000\" fill-rule=\"nonzero\" fill-opacity=\"1\" /><path clip-path=\"url(#clip370)\" d=\"M109.881 1096.06 Q106.27 1096.06 104.441 1099.62 Q102.635 1103.16 102.635 1110.29 Q102.635 1117.4 104.441 1120.96 Q106.27 1124.51 109.881 1124.51 Q113.515 1124.51 115.32 1120.96 Q117.149 1117.4 117.149 1110.29 Q117.149 1103.16 115.32 1099.62 Q113.515 1096.06 109.881 1096.06 M109.881 1092.35 Q115.691 1092.35 118.746 1096.96 Q121.825 1101.54 121.825 1110.29 Q121.825 1119.02 118.746 1123.63 Q115.691 1128.21 109.881 1128.21 Q104.071 1128.21 100.992 1123.63 Q97.9363 1119.02 97.9363 1110.29 Q97.9363 1101.54 100.992 1096.96 Q104.071 1092.35 109.881 1092.35 Z\" fill=\"#000000\" fill-rule=\"nonzero\" fill-opacity=\"1\" /><path clip-path=\"url(#clip370)\" d=\"M130.853 1123.6 L138.492 1123.6 L138.492 1097.24 L130.182 1098.9 L130.182 1094.64 L138.445 1092.98 L143.121 1092.98 L143.121 1123.6 L150.76 1123.6 L150.76 1127.54 L130.853 1127.54 L130.853 1123.6 Z\" fill=\"#000000\" fill-rule=\"nonzero\" fill-opacity=\"1\" /><path clip-path=\"url(#clip370)\" d=\"M65.0198 818.197 Q61.4087 818.197 59.58 821.762 Q57.7745 825.304 57.7745 832.433 Q57.7745 839.54 59.58 843.104 Q61.4087 846.646 65.0198 846.646 Q68.6541 846.646 70.4596 843.104 Q72.2883 839.54 72.2883 832.433 Q72.2883 825.304 70.4596 821.762 Q68.6541 818.197 65.0198 818.197 M65.0198 814.493 Q70.83 814.493 73.8855 819.1 Q76.9642 823.683 76.9642 832.433 Q76.9642 841.16 73.8855 845.766 Q70.83 850.35 65.0198 850.35 Q59.2097 850.35 56.131 845.766 Q53.0754 841.16 53.0754 832.433 Q53.0754 823.683 56.131 819.1 Q59.2097 814.493 65.0198 814.493 Z\" fill=\"#000000\" fill-rule=\"nonzero\" fill-opacity=\"1\" /><path clip-path=\"url(#clip370)\" d=\"M85.1818 843.799 L90.066 843.799 L90.066 849.678 L85.1818 849.678 L85.1818 843.799 Z\" fill=\"#000000\" fill-rule=\"nonzero\" fill-opacity=\"1\" /><path clip-path=\"url(#clip370)\" d=\"M110.251 818.197 Q106.64 818.197 104.811 821.762 Q103.006 825.304 103.006 832.433 Q103.006 839.54 104.811 843.104 Q106.64 846.646 110.251 846.646 Q113.885 846.646 115.691 843.104 Q117.52 839.54 117.52 832.433 Q117.52 825.304 115.691 821.762 Q113.885 818.197 110.251 818.197 M110.251 814.493 Q116.061 814.493 119.117 819.1 Q122.195 823.683 122.195 832.433 Q122.195 841.16 119.117 845.766 Q116.061 850.35 110.251 850.35 Q104.441 850.35 101.362 845.766 Q98.3067 841.16 98.3067 832.433 Q98.3067 823.683 101.362 819.1 Q104.441 814.493 110.251 814.493 Z\" fill=\"#000000\" fill-rule=\"nonzero\" fill-opacity=\"1\" /><path clip-path=\"url(#clip370)\" d=\"M134.441 845.743 L150.76 845.743 L150.76 849.678 L128.816 849.678 L128.816 845.743 Q131.478 842.989 136.061 838.359 Q140.668 833.706 141.848 832.364 Q144.093 829.841 144.973 828.104 Q145.876 826.345 145.876 824.655 Q145.876 821.901 143.931 820.165 Q142.01 818.429 138.908 818.429 Q136.709 818.429 134.256 819.192 Q131.825 819.956 129.047 821.507 L129.047 816.785 Q131.871 815.651 134.325 815.072 Q136.779 814.493 138.816 814.493 Q144.186 814.493 147.38 817.179 Q150.575 819.864 150.575 824.354 Q150.575 826.484 149.765 828.405 Q148.978 830.303 146.871 832.896 Q146.293 833.567 143.191 836.785 Q140.089 839.979 134.441 845.743 Z\" fill=\"#000000\" fill-rule=\"nonzero\" fill-opacity=\"1\" /><path clip-path=\"url(#clip370)\" d=\"M64.0708 540.337 Q60.4597 540.337 58.631 543.902 Q56.8254 547.444 56.8254 554.573 Q56.8254 561.68 58.631 565.245 Q60.4597 568.786 64.0708 568.786 Q67.705 568.786 69.5105 565.245 Q71.3392 561.68 71.3392 554.573 Q71.3392 547.444 69.5105 543.902 Q67.705 540.337 64.0708 540.337 M64.0708 536.634 Q69.8809 536.634 72.9365 541.24 Q76.0151 545.823 76.0151 554.573 Q76.0151 563.3 72.9365 567.907 Q69.8809 572.49 64.0708 572.49 Q58.2606 572.49 55.1819 567.907 Q52.1264 563.3 52.1264 554.573 Q52.1264 545.823 55.1819 541.24 Q58.2606 536.634 64.0708 536.634 Z\" fill=\"#000000\" fill-rule=\"nonzero\" fill-opacity=\"1\" /><path clip-path=\"url(#clip370)\" d=\"M84.2327 565.939 L89.1169 565.939 L89.1169 571.819 L84.2327 571.819 L84.2327 565.939 Z\" fill=\"#000000\" fill-rule=\"nonzero\" fill-opacity=\"1\" /><path clip-path=\"url(#clip370)\" d=\"M109.302 540.337 Q105.691 540.337 103.862 543.902 Q102.057 547.444 102.057 554.573 Q102.057 561.68 103.862 565.245 Q105.691 568.786 109.302 568.786 Q112.936 568.786 114.742 565.245 Q116.57 561.68 116.57 554.573 Q116.57 547.444 114.742 543.902 Q112.936 540.337 109.302 540.337 M109.302 536.634 Q115.112 536.634 118.168 541.24 Q121.246 545.823 121.246 554.573 Q121.246 563.3 118.168 567.907 Q115.112 572.49 109.302 572.49 Q103.492 572.49 100.413 567.907 Q97.3576 563.3 97.3576 554.573 Q97.3576 545.823 100.413 541.24 Q103.492 536.634 109.302 536.634 Z\" fill=\"#000000\" fill-rule=\"nonzero\" fill-opacity=\"1\" /><path clip-path=\"url(#clip370)\" d=\"M143.631 553.185 Q146.987 553.902 148.862 556.171 Q150.76 558.439 150.76 561.772 Q150.76 566.888 147.242 569.689 Q143.723 572.49 137.242 572.49 Q135.066 572.49 132.751 572.05 Q130.459 571.634 128.006 570.777 L128.006 566.263 Q129.95 567.397 132.265 567.976 Q134.58 568.555 137.103 568.555 Q141.501 568.555 143.793 566.819 Q146.107 565.083 146.107 561.772 Q146.107 558.717 143.955 557.004 Q141.825 555.268 138.006 555.268 L133.978 555.268 L133.978 551.425 L138.191 551.425 Q141.64 551.425 143.468 550.06 Q145.297 548.671 145.297 546.078 Q145.297 543.416 143.399 542.004 Q141.524 540.569 138.006 540.569 Q136.084 540.569 133.885 540.986 Q131.686 541.402 129.047 542.282 L129.047 538.115 Q131.709 537.374 134.024 537.004 Q136.362 536.634 138.422 536.634 Q143.746 536.634 146.848 539.064 Q149.95 541.472 149.95 545.592 Q149.95 548.462 148.306 550.453 Q146.663 552.421 143.631 553.185 Z\" fill=\"#000000\" fill-rule=\"nonzero\" fill-opacity=\"1\" /><path clip-path=\"url(#clip370)\" d=\"M62.9365 262.478 Q59.3254 262.478 57.4967 266.042 Q55.6912 269.584 55.6912 276.714 Q55.6912 283.82 57.4967 287.385 Q59.3254 290.927 62.9365 290.927 Q66.5707 290.927 68.3763 287.385 Q70.205 283.82 70.205 276.714 Q70.205 269.584 68.3763 266.042 Q66.5707 262.478 62.9365 262.478 M62.9365 258.774 Q68.7467 258.774 71.8022 263.38 Q74.8809 267.964 74.8809 276.714 Q74.8809 285.441 71.8022 290.047 Q68.7467 294.63 62.9365 294.63 Q57.1264 294.63 54.0477 290.047 Q50.9921 285.441 50.9921 276.714 Q50.9921 267.964 54.0477 263.38 Q57.1264 258.774 62.9365 258.774 Z\" fill=\"#000000\" fill-rule=\"nonzero\" fill-opacity=\"1\" /><path clip-path=\"url(#clip370)\" d=\"M83.0984 288.079 L87.9827 288.079 L87.9827 293.959 L83.0984 293.959 L83.0984 288.079 Z\" fill=\"#000000\" fill-rule=\"nonzero\" fill-opacity=\"1\" /><path clip-path=\"url(#clip370)\" d=\"M108.168 262.478 Q104.557 262.478 102.728 266.042 Q100.922 269.584 100.922 276.714 Q100.922 283.82 102.728 287.385 Q104.557 290.927 108.168 290.927 Q111.802 290.927 113.608 287.385 Q115.436 283.82 115.436 276.714 Q115.436 269.584 113.608 266.042 Q111.802 262.478 108.168 262.478 M108.168 258.774 Q113.978 258.774 117.033 263.38 Q120.112 267.964 120.112 276.714 Q120.112 285.441 117.033 290.047 Q113.978 294.63 108.168 294.63 Q102.358 294.63 99.2789 290.047 Q96.2234 285.441 96.2234 276.714 Q96.2234 267.964 99.2789 263.38 Q102.358 258.774 108.168 258.774 Z\" fill=\"#000000\" fill-rule=\"nonzero\" fill-opacity=\"1\" /><path clip-path=\"url(#clip370)\" d=\"M141.177 263.473 L129.371 281.922 L141.177 281.922 L141.177 263.473 M139.95 259.399 L145.83 259.399 L145.83 281.922 L150.76 281.922 L150.76 285.811 L145.83 285.811 L145.83 293.959 L141.177 293.959 L141.177 285.811 L125.575 285.811 L125.575 281.297 L139.95 259.399 Z\" fill=\"#000000\" fill-rule=\"nonzero\" fill-opacity=\"1\" /><polyline clip-path=\"url(#clip372)\" style=\"stroke:#009af9; stroke-linecap:round; stroke-linejoin:round; stroke-width:4; stroke-opacity:1; fill:none\" points=\"248.062,1349.34 268.702,1310.56 289.343,1271.78 309.983,1233.05 330.623,1194.28 351.264,1155.64 371.904,1116.89 392.544,1078.37 413.184,1039.65 433.825,1001.3 454.465,962.619 475.105,924.478 495.746,885.841 516.386,847.959 537.026,809.376 557.667,771.802 578.307,733.282 598.947,696.07 619.588,657.623 640.228,620.836 660.868,582.472 681.509,546.181 702.149,507.911 722.789,472.206 743.43,434.043 764.07,399.039 784.71,360.998 805.351,326.868 825.991,288.966 846.631,255.996 867.272,221.193 887.912,187.03 908.552,153.791 929.193,122.248 949.833,95.4943 970.473,87.9763 991.114,90.9242 1011.75,102.948 1032.39,135.346 1053.03,197.187 1073.67,290.684 1094.32,413.43 1114.96,556.865 1135.6,712.056 1156.24,878.062 1176.88,1091.13 1197.52,1415.33 1218.16,1415.92 1238.8,1416.5 1259.44,1417.09 1280.08,1417.67 1300.72,1418.27 1321.36,1418.85 1342,1419.44 1362.64,1420.02 1383.28,1420.62 1403.92,1421.2 1424.56,1421.79 1445.2,1422.37 1465.84,1422.96 1486.48,1423.55 1507.12,1424.14 1527.76,1424.72 1548.4,1425.31 1569.04,1425.89 1589.68,1426.49 1610.32,1427.07 1630.96,1427.66 1651.6,1428.24 1672.24,1428.84 1692.88,1429.42 1713.53,1430.01 1734.17,1430.59 1754.81,1431.19 1775.45,1431.77 1796.09,1432.36 1816.73,1432.95 1837.37,1433.54 1858.01,1434.12 1878.65,1434.72 1899.29,1435.3 1919.93,1435.89 1940.57,1436.47 1961.21,1437.07 1981.85,1437.65 2002.49,1438.24 2023.13,1438.82 2043.77,1439.42 2064.41,1440 2085.05,1440.59 2105.69,1441.17 2126.33,1441.76 2146.97,1442.35 2167.61,1442.93 2188.25,1443.52 2208.89,1444.05 2229.53,1444.63 2250.17,1444.99 2270.81,1445.57 2291.45,1445.72 \"/>\n",
       "<path clip-path=\"url(#clip370)\" d=\"M2011.53 198.898 L2280.56 198.898 L2280.56 95.2176 L2011.53 95.2176  Z\" fill=\"#ffffff\" fill-rule=\"evenodd\" fill-opacity=\"1\"/>\n",
       "<polyline clip-path=\"url(#clip370)\" style=\"stroke:#000000; stroke-linecap:round; stroke-linejoin:round; stroke-width:4; stroke-opacity:1; fill:none\" points=\"2011.53,198.898 2280.56,198.898 2280.56,95.2176 2011.53,95.2176 2011.53,198.898 \"/>\n",
       "<polyline clip-path=\"url(#clip370)\" style=\"stroke:#009af9; stroke-linecap:round; stroke-linejoin:round; stroke-width:4; stroke-opacity:1; fill:none\" points=\"2035.59,147.058 2179.99,147.058 \"/>\n",
       "<path clip-path=\"url(#clip370)\" d=\"M2217.9 166.745 Q2216.1 171.375 2214.38 172.787 Q2212.67 174.199 2209.8 174.199 L2206.4 174.199 L2206.4 170.634 L2208.9 170.634 Q2210.66 170.634 2211.63 169.8 Q2212.6 168.967 2213.78 165.865 L2214.55 163.921 L2204.06 138.412 L2208.57 138.412 L2216.67 158.689 L2224.78 138.412 L2229.29 138.412 L2217.9 166.745 Z\" fill=\"#000000\" fill-rule=\"nonzero\" fill-opacity=\"1\" /><path clip-path=\"url(#clip370)\" d=\"M2236.58 160.402 L2244.22 160.402 L2244.22 134.037 L2235.91 135.703 L2235.91 131.444 L2244.17 129.778 L2248.85 129.778 L2248.85 160.402 L2256.49 160.402 L2256.49 164.338 L2236.58 164.338 L2236.58 160.402 Z\" fill=\"#000000\" fill-rule=\"nonzero\" fill-opacity=\"1\" /></svg>\n"
      ]
     },
     "execution_count": 33,
     "metadata": {},
     "output_type": "execute_result"
    }
   ],
   "source": [
    "plot(Displacement,-Load)\n",
    "#plot(Displacement,Energy)\n",
    "#plot(Displacement,Energy_Mech)\n",
    "#plot(Displacement,Energy_Coup)\n",
    "#plot(Displacement,Energy_Rot)"
   ]
  },
  {
   "cell_type": "code",
   "execution_count": 34,
   "id": "fb9175f5",
   "metadata": {},
   "outputs": [],
   "source": [
    "cd(\"../DispLoadData_THreePointBending_Spectral\")"
   ]
  },
  {
   "cell_type": "code",
   "execution_count": 35,
   "id": "f567a89a",
   "metadata": {},
   "outputs": [],
   "source": [
    "using DelimitedFiles\n",
    "Disp = writedlm( \"DispDataNotchedBeam_SpectralN0.5_l0.5.csv\",  Displacement, ',')\n",
    "Force = writedlm(\"LoadDataNotchedBeam_SpectralN0.5_l0.5.csv\",  Load, ',')\n",
    "Energy = writedlm(\"EnergyDataNotchedBeam_Spectral_N0.5_l0.5.csv\",  Energy, ',')\n",
    "Energy_Mech = writedlm(\"EnergyMechDataNotchedBeam_Spectral_N0.5_l0.5.csv\",  Energy_Mech, ',')\n",
    "Energy_Coup = writedlm(\"EnergyCoupDataNotchedBeam_Spectral_N0.5_l0.5.csv\",  Energy_Coup, ',')\n",
    "Energy_Rot = writedlm(\"EnergyRotDataNotchedBeam_Spectral_N0.5_l0.5.csv\",  Energy_Rot, ',')"
   ]
  }
 ],
 "metadata": {
  "@webio": {
   "lastCommId": null,
   "lastKernelId": null
  },
  "kernelspec": {
   "display_name": "Julia 1.8.1",
   "language": "julia",
   "name": "julia-1.8"
  },
  "language_info": {
   "file_extension": ".jl",
   "mimetype": "application/julia",
   "name": "julia",
   "version": "1.8.1"
  }
 },
 "nbformat": 4,
 "nbformat_minor": 5
}
